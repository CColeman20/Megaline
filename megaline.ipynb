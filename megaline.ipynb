{
 "cells": [
  {
   "cell_type": "markdown",
   "metadata": {},
   "source": [
    "# Which one is a better plan?\n",
    "\n",
    "You work as an analyst for the telecom operator Megaline. The company offers its clients two prepaid plans, Surf and Ultimate. The commercial department wants to know which of the plans brings in more revenue in order to adjust the advertising budget.\n",
    "\n",
    "You are going to carry out a preliminary analysis of the plans based on a relatively small client selection. You'll have the data on 500 Megaline clients: who the clients are, where they're from, which plan they use, and the number of calls they made and text messages they sent in 2018. Your job is to analyze the clients' behavior and determine which prepaid plan brings in more revenue."
   ]
  },
  {
   "cell_type": "markdown",
   "metadata": {},
   "source": [
    "[We've provided you with some commentary to guide your thinking as you complete this project. However, make sure to remove all the bracketed comments before submitting your project.]\n",
    "\n",
    "[Before you dive into analyzing your data, explain for yourself the purpose of the project and actions you plan to take.]\n",
    "\n",
    "[Please bear in mind that studying, amending, and analyzing data is an iterative process. It is normal to return to previous steps and correct/expand them to allow for further steps.]"
   ]
  },
  {
   "cell_type": "markdown",
   "metadata": {},
   "source": [
    "## Initialization"
   ]
  },
  {
   "cell_type": "markdown",
   "metadata": {},
   "source": []
  },
  {
   "cell_type": "code",
   "execution_count": 1,
   "metadata": {
    "trusted": true
   },
   "outputs": [],
   "source": [
    "# Loading all the libraries\n",
    "import pandas as pd \n",
    "import numpy as np \n",
    "import matplotlib.pyplot as plt \n",
    "from scipy import stats \n",
    "\n",
    "\n"
   ]
  },
  {
   "cell_type": "markdown",
   "metadata": {},
   "source": [
    "## Load data"
   ]
  },
  {
   "cell_type": "markdown",
   "metadata": {},
   "source": []
  },
  {
   "cell_type": "code",
   "execution_count": 2,
   "metadata": {
    "trusted": true
   },
   "outputs": [],
   "source": [
    "# Load the data files into different DataFrames\n",
    "\n",
    "df_calls = pd.read_csv('/datasets/megaline_calls.csv')\n",
    "df_internet = pd.read_csv('/datasets/megaline_internet.csv')\n",
    "df_messages = pd.read_csv('/datasets/megaline_messages.csv')\n",
    "df_plans = pd.read_csv('/datasets/megaline_plans.csv') \n",
    "df_users = pd.read_csv('/datasets/megaline_users.csv')  "
   ]
  },
  {
   "cell_type": "markdown",
   "metadata": {},
   "source": [
    "## Prepare the data"
   ]
  },
  {
   "cell_type": "raw",
   "metadata": {},
   "source": [
    "# [The data for this project is split into several tables. Explore each one to get an initial understanding of the data. Do necessary corrections to each table if necessary.]"
   ]
  },
  {
   "cell_type": "markdown",
   "metadata": {},
   "source": [
    "## Plans"
   ]
  },
  {
   "cell_type": "code",
   "execution_count": 3,
   "metadata": {
    "trusted": true
   },
   "outputs": [
    {
     "name": "stdout",
     "output_type": "stream",
     "text": [
      "Summary of df_plans:\n",
      "<class 'pandas.core.frame.DataFrame'>\n",
      "RangeIndex: 2 entries, 0 to 1\n",
      "Data columns (total 8 columns):\n",
      " #   Column                 Non-Null Count  Dtype  \n",
      "---  ------                 --------------  -----  \n",
      " 0   messages_included      2 non-null      int64  \n",
      " 1   mb_per_month_included  2 non-null      int64  \n",
      " 2   minutes_included       2 non-null      int64  \n",
      " 3   usd_monthly_pay        2 non-null      int64  \n",
      " 4   usd_per_gb             2 non-null      int64  \n",
      " 5   usd_per_message        2 non-null      float64\n",
      " 6   usd_per_minute         2 non-null      float64\n",
      " 7   plan_name              2 non-null      object \n",
      "dtypes: float64(2), int64(5), object(1)\n",
      "memory usage: 256.0+ bytes\n",
      "None\n"
     ]
    }
   ],
   "source": [
    "# Print the general/summary information about the plans' DataFrame\n",
    "print(\"Summary of df_plans:\")\n",
    "print(df_plans.info())"
   ]
  },
  {
   "cell_type": "code",
   "execution_count": 4,
   "metadata": {
    "trusted": true
   },
   "outputs": [
    {
     "name": "stdout",
     "output_type": "stream",
     "text": [
      "\n",
      "Sample of df_plans:\n",
      "   messages_included  mb_per_month_included  minutes_included  \\\n",
      "0                 50                  15360               500   \n",
      "1               1000                  30720              3000   \n",
      "\n",
      "   usd_monthly_pay  usd_per_gb  usd_per_message  usd_per_minute plan_name  \n",
      "0               20          10             0.03            0.03      surf  \n",
      "1               70           7             0.01            0.01  ultimate  \n"
     ]
    }
   ],
   "source": [
    "# Print a sample of data for plans\n",
    "\n",
    "print(\"\\nSample of df_plans:\")\n",
    "print(df_plans.sample(2)) "
   ]
  },
  {
   "cell_type": "markdown",
   "metadata": {},
   "source": [
    "[Describe what you see and notice in the general information and the printed data sample for the above price of data. Are there any issues (inappropriate data types, missing data etc) that may need further investigation and changes? How that can be fixed?] \n",
    "\n",
    "In the data above I have combed through the sample of the dataframe and have not recongnized that their is any inappropriate data types. One thing I may clean up is how the columns include underscores which may need to be filtered out depending on what information I am going to process to make it look cleaner. "
   ]
  },
  {
   "cell_type": "markdown",
   "metadata": {},
   "source": [
    " "
   ]
  },
  {
   "cell_type": "markdown",
   "metadata": {},
   "source": [
    "## Fix data"
   ]
  },
  {
   "cell_type": "markdown",
   "metadata": {},
   "source": [
    "[Fix obvious issues with the data given the initial observations.]"
   ]
  },
  {
   "cell_type": "code",
   "execution_count": null,
   "metadata": {
    "trusted": true
   },
   "outputs": [],
   "source": []
  },
  {
   "cell_type": "markdown",
   "metadata": {},
   "source": [
    "## Enrich data"
   ]
  },
  {
   "cell_type": "markdown",
   "metadata": {},
   "source": [
    "[Add additional factors to the data if you believe they might be useful.]"
   ]
  },
  {
   "cell_type": "code",
   "execution_count": 5,
   "metadata": {
    "trusted": true
   },
   "outputs": [
    {
     "name": "stdout",
     "output_type": "stream",
     "text": [
      "\n",
      "Missing values in df_plans:\n",
      "messages_included        0\n",
      "mb_per_month_included    0\n",
      "minutes_included         0\n",
      "usd_monthly_pay          0\n",
      "usd_per_gb               0\n",
      "usd_per_message          0\n",
      "usd_per_minute           0\n",
      "plan_name                0\n",
      "dtype: int64\n",
      "\n",
      "Duplicate rows in df_plans:\n",
      "0\n",
      "\n",
      "Data types in df_plans:\n",
      "messages_included          int64\n",
      "mb_per_month_included      int64\n",
      "minutes_included           int64\n",
      "usd_monthly_pay            int64\n",
      "usd_per_gb                 int64\n",
      "usd_per_message          float64\n",
      "usd_per_minute           float64\n",
      "plan_name                 object\n",
      "dtype: object\n",
      "   messages_included  mb_per_month_included  minutes_included  \\\n",
      "0                 50                  15360               500   \n",
      "1               1000                  30720              3000   \n",
      "\n",
      "   usd_monthly_pay  usd_per_gb  usd_per_message  usd_per_minute      plan  \n",
      "0               20          10             0.03            0.03      surf  \n",
      "1               70           7             0.01            0.01  ultimate  \n"
     ]
    }
   ],
   "source": [
    "print(\"\\nMissing values in df_plans:\")\n",
    "print(df_plans.isnull().sum())\n",
    "\n",
    "print(\"\\nDuplicate rows in df_plans:\")\n",
    "print(df_plans.duplicated().sum())\n",
    "\n",
    "df_plans.drop_duplicates(inplace=True)\n",
    "print(\"\\nData types in df_plans:\")\n",
    "print(df_plans.dtypes)\n",
    "\n",
    "df_plans.rename(columns={'plan_name': 'plan'}, inplace=True) \n",
    "\n",
    "if 'monthly_fee' in df_plans.columns:\n",
    "    df_plans['annual_fee'] = df_plans['monthly_fee'] * 12\n",
    "    \n",
    "    print(\"\\nEnriched df_plans:\")\n",
    "print(df_plans.head())\n",
    "\n"
   ]
  },
  {
   "cell_type": "markdown",
   "metadata": {},
   "source": [
    "## Users"
   ]
  },
  {
   "cell_type": "code",
   "execution_count": 6,
   "metadata": {
    "trusted": true
   },
   "outputs": [
    {
     "name": "stdout",
     "output_type": "stream",
     "text": [
      "\n",
      "Summary of df_users:\n",
      "<class 'pandas.core.frame.DataFrame'>\n",
      "RangeIndex: 500 entries, 0 to 499\n",
      "Data columns (total 8 columns):\n",
      " #   Column      Non-Null Count  Dtype \n",
      "---  ------      --------------  ----- \n",
      " 0   user_id     500 non-null    int64 \n",
      " 1   first_name  500 non-null    object\n",
      " 2   last_name   500 non-null    object\n",
      " 3   age         500 non-null    int64 \n",
      " 4   city        500 non-null    object\n",
      " 5   reg_date    500 non-null    object\n",
      " 6   plan        500 non-null    object\n",
      " 7   churn_date  34 non-null     object\n",
      "dtypes: int64(2), object(6)\n",
      "memory usage: 31.4+ KB\n",
      "None\n",
      "\n",
      "Sample of df_users:\n",
      "   user_id first_name  last_name  age                                   city  \\\n",
      "0     1000   Anamaria      Bauer   45  Atlanta-Sandy Springs-Roswell, GA MSA   \n",
      "1     1001     Mickey  Wilkerson   28        Seattle-Tacoma-Bellevue, WA MSA   \n",
      "2     1002     Carlee    Hoffman   36   Las Vegas-Henderson-Paradise, NV MSA   \n",
      "3     1003   Reynaldo    Jenkins   52                          Tulsa, OK MSA   \n",
      "4     1004    Leonila   Thompson   40        Seattle-Tacoma-Bellevue, WA MSA   \n",
      "\n",
      "     reg_date      plan churn_date  \n",
      "0  2018-12-24  ultimate        NaN  \n",
      "1  2018-08-13      surf        NaN  \n",
      "2  2018-10-21      surf        NaN  \n",
      "3  2018-01-28      surf        NaN  \n",
      "4  2018-05-23      surf        NaN  \n"
     ]
    }
   ],
   "source": [
    "# Print the general/summary information about the users' DataFrame\n",
    "\n",
    "print(\"\\nSummary of df_users:\")\n",
    "print(df_users.info())\n",
    "\n",
    "print(\"\\nSample of df_users:\")\n",
    "print(df_users.head())  \n"
   ]
  },
  {
   "cell_type": "code",
   "execution_count": 7,
   "metadata": {
    "trusted": true
   },
   "outputs": [
    {
     "name": "stdout",
     "output_type": "stream",
     "text": [
      "\n",
      "Sample of df_users:\n",
      "   user_id first_name  last_name  age                                   city  \\\n",
      "0     1000   Anamaria      Bauer   45  Atlanta-Sandy Springs-Roswell, GA MSA   \n",
      "1     1001     Mickey  Wilkerson   28        Seattle-Tacoma-Bellevue, WA MSA   \n",
      "2     1002     Carlee    Hoffman   36   Las Vegas-Henderson-Paradise, NV MSA   \n",
      "3     1003   Reynaldo    Jenkins   52                          Tulsa, OK MSA   \n",
      "4     1004    Leonila   Thompson   40        Seattle-Tacoma-Bellevue, WA MSA   \n",
      "\n",
      "     reg_date      plan churn_date  \n",
      "0  2018-12-24  ultimate        NaN  \n",
      "1  2018-08-13      surf        NaN  \n",
      "2  2018-10-21      surf        NaN  \n",
      "3  2018-01-28      surf        NaN  \n",
      "4  2018-05-23      surf        NaN  \n"
     ]
    }
   ],
   "source": [
    "# Print a sample of data for users\n",
    "\n",
    "print(\"\\nSample of df_users:\")\n",
    "print(df_users.head())"
   ]
  },
  {
   "cell_type": "markdown",
   "metadata": {},
   "source": [
    "[Describe what you see and notice in the general information and the printed data sample for the above price of data. Are there any issues (inappropriate data types, missing data etc) that may need further investigation and changes? How that can be fixed?]\n",
    "\n",
    "I recongized that in the churn_date column it provides output of NaN. I will provide code to fix that so that the proper output is visible and removes the NaN from the dataframe. I will also add code for consistency making sure duplicate names don't appear more then once in the dataframe which could hinder findings in the data.   "
   ]
  },
  {
   "cell_type": "markdown",
   "metadata": {},
   "source": [
    " "
   ]
  },
  {
   "cell_type": "markdown",
   "metadata": {},
   "source": [
    "### Fix Data"
   ]
  },
  {
   "cell_type": "markdown",
   "metadata": {},
   "source": [
    "[Fix obvious issues with the data given the initial observations.]"
   ]
  },
  {
   "cell_type": "code",
   "execution_count": 8,
   "metadata": {
    "trusted": true
   },
   "outputs": [
    {
     "name": "stdout",
     "output_type": "stream",
     "text": [
      "\n",
      "Missing values in df_users:\n",
      "user_id         0\n",
      "first_name      0\n",
      "last_name       0\n",
      "age             0\n",
      "city            0\n",
      "reg_date        0\n",
      "plan            0\n",
      "churn_date    466\n",
      "dtype: int64\n",
      "\n",
      "Duplicate rows in df_users:\n",
      "0\n"
     ]
    }
   ],
   "source": [
    "print(\"\\nMissing values in df_users:\")\n",
    "print(df_users.isnull().sum())\n",
    "\n",
    "print(\"\\nDuplicate rows in df_users:\")\n",
    "print(df_users.duplicated().sum())\n",
    "\n",
    "df_users['reg_date'] = pd.to_datetime(df_users['reg_date'])\n",
    "df_users['churn_date'] =pd.to_datetime(df_users['churn_date']) \n",
    "    \n",
    "    \n",
    "\n",
    "\n",
    " \n",
    "\n",
    "\n",
    " \n",
    "\n"
   ]
  },
  {
   "cell_type": "markdown",
   "metadata": {},
   "source": [
    "### Enrich Data"
   ]
  },
  {
   "cell_type": "markdown",
   "metadata": {},
   "source": [
    "[Add additional factors to the data if you believe they might be useful.]"
   ]
  },
  {
   "cell_type": "code",
   "execution_count": 9,
   "metadata": {
    "trusted": true
   },
   "outputs": [
    {
     "name": "stdout",
     "output_type": "stream",
     "text": [
      "\n",
      "Enriched df_users:\n",
      "   user_id first_name  last_name  age                                   city  \\\n",
      "0     1000   Anamaria      Bauer   45  Atlanta-Sandy Springs-Roswell, GA MSA   \n",
      "1     1001     Mickey  Wilkerson   28        Seattle-Tacoma-Bellevue, WA MSA   \n",
      "2     1002     Carlee    Hoffman   36   Las Vegas-Henderson-Paradise, NV MSA   \n",
      "3     1003   Reynaldo    Jenkins   52                          Tulsa, OK MSA   \n",
      "4     1004    Leonila   Thompson   40        Seattle-Tacoma-Bellevue, WA MSA   \n",
      "\n",
      "    reg_date      plan churn_date user_status  \n",
      "0 2018-12-24  ultimate        NaT      Active  \n",
      "1 2018-08-13      surf        NaT      Active  \n",
      "2 2018-10-21      surf        NaT      Active  \n",
      "3 2018-01-28      surf        NaT      Active  \n",
      "4 2018-05-23      surf        NaT      Active  \n"
     ]
    }
   ],
   "source": [
    "df_users['user_status'] = df_users['churn_date'].apply(lambda x: 'Churned' if pd.notna(x) else 'Active')\n",
    "print(\"\\nEnriched df_users:\")\n",
    "print(df_users.head())"
   ]
  },
  {
   "cell_type": "markdown",
   "metadata": {},
   "source": [
    "## Calls"
   ]
  },
  {
   "cell_type": "code",
   "execution_count": 10,
   "metadata": {
    "trusted": true
   },
   "outputs": [
    {
     "name": "stdout",
     "output_type": "stream",
     "text": [
      "\n",
      "Summary of df_calls:\n",
      "<class 'pandas.core.frame.DataFrame'>\n",
      "RangeIndex: 137735 entries, 0 to 137734\n",
      "Data columns (total 4 columns):\n",
      " #   Column     Non-Null Count   Dtype  \n",
      "---  ------     --------------   -----  \n",
      " 0   id         137735 non-null  object \n",
      " 1   user_id    137735 non-null  int64  \n",
      " 2   call_date  137735 non-null  object \n",
      " 3   duration   137735 non-null  float64\n",
      "dtypes: float64(1), int64(1), object(2)\n",
      "memory usage: 4.2+ MB\n",
      "None\n"
     ]
    }
   ],
   "source": [
    "# Print the general/summary information about the calls' DataFrame\n",
    "\n",
    "print(\"\\nSummary of df_calls:\")\n",
    "print(df_calls.info())\n",
    "\n"
   ]
  },
  {
   "cell_type": "code",
   "execution_count": 11,
   "metadata": {
    "trusted": true
   },
   "outputs": [
    {
     "name": "stdout",
     "output_type": "stream",
     "text": [
      "\n",
      "Sample of df_calls:\n",
      "         id  user_id   call_date  duration\n",
      "0   1000_93     1000  2018-12-27      8.52\n",
      "1  1000_145     1000  2018-12-27     13.66\n",
      "2  1000_247     1000  2018-12-27     14.48\n",
      "3  1000_309     1000  2018-12-28      5.76\n",
      "4  1000_380     1000  2018-12-30      4.22\n"
     ]
    }
   ],
   "source": [
    "# Print a sample of data for calls\n",
    "\n",
    "print(\"\\nSample of df_calls:\")\n",
    "print(df_calls.head())"
   ]
  },
  {
   "cell_type": "markdown",
   "metadata": {},
   "source": [
    "[Describe what you see and notice in the general information and the printed data sample for the above price of data. Are there any issues (inappropriate data types, missing data etc) that may need further investigation and changes? How that can be fixed?] \n",
    "\n",
    "I reconginzed in the data that the duration column wasn't an integer so i will will convert that data, I will make sure there's not any duplicates, and that their are no missing values. "
   ]
  },
  {
   "cell_type": "markdown",
   "metadata": {},
   "source": [
    " "
   ]
  },
  {
   "cell_type": "markdown",
   "metadata": {},
   "source": [
    "### Fix data"
   ]
  },
  {
   "cell_type": "markdown",
   "metadata": {},
   "source": [
    "[Fix obvious issues with the data given the initial observations.]"
   ]
  },
  {
   "cell_type": "code",
   "execution_count": 12,
   "metadata": {
    "trusted": true
   },
   "outputs": [
    {
     "name": "stdout",
     "output_type": "stream",
     "text": [
      "\n",
      "Missing values in df_calls:\n",
      "id           0\n",
      "user_id      0\n",
      "call_date    0\n",
      "duration     0\n",
      "dtype: int64\n"
     ]
    }
   ],
   "source": [
    "print(\"\\nMissing values in df_calls:\")\n",
    "print(df_calls.isnull().sum())\n",
    "\n",
    "df_calls.drop_duplicates(inplace=True)\n",
    "\n",
    "if 'call_date' in df_calls.columns:\n",
    "    df_calls['call_date'] = pd.to_datetime(df_calls['call_date'])\n",
    "    df_calls['month'] = df_calls['call_date'].dt.to_period('M')\n",
    "    \n",
    "df_calls['duration'] = np.ceil(df_calls['duration'])     "
   ]
  },
  {
   "cell_type": "markdown",
   "metadata": {},
   "source": [
    "### Enrich data"
   ]
  },
  {
   "cell_type": "markdown",
   "metadata": {},
   "source": [
    "[Add additional factors to the data if you believe they might be useful.]"
   ]
  },
  {
   "cell_type": "code",
   "execution_count": 13,
   "metadata": {
    "trusted": true
   },
   "outputs": [
    {
     "name": "stdout",
     "output_type": "stream",
     "text": [
      "<class 'pandas.core.frame.DataFrame'>\n",
      "Int64Index: 137735 entries, 0 to 137734\n",
      "Data columns (total 5 columns):\n",
      " #   Column     Non-Null Count   Dtype         \n",
      "---  ------     --------------   -----         \n",
      " 0   id         137735 non-null  object        \n",
      " 1   user_id    137735 non-null  int64         \n",
      " 2   call_date  137735 non-null  datetime64[ns]\n",
      " 3   duration   137735 non-null  float64       \n",
      " 4   month      137735 non-null  period[M]     \n",
      "dtypes: datetime64[ns](1), float64(1), int64(1), object(1), period[M](1)\n",
      "memory usage: 6.3+ MB\n",
      "              id  user_id  call_date  duration    month\n",
      "98078   1352_377     1352 2018-09-25       1.0  2018-09\n",
      "1653     1009_75     1009 2018-09-19       1.0  2018-09\n",
      "60495    1219_22     1219 2018-12-28       3.0  2018-12\n",
      "8114     1039_54     1039 2018-07-22      11.0  2018-07\n",
      "112979  1397_700     1397 2018-08-07       2.0  2018-08\n",
      "62183   1223_356     1223 2018-09-06       1.0  2018-09\n",
      "128214  1460_280     1460 2018-08-24      26.0  2018-08\n",
      "27764    1106_10     1106 2018-10-29       1.0  2018-10\n",
      "84253    1309_39     1309 2018-12-10       5.0  2018-12\n",
      "100687  1359_572     1359 2018-02-12       6.0  2018-02\n"
     ]
    }
   ],
   "source": [
    "df_calls.duplicated().sum()\n",
    "df_calls.loc[df_calls['duration'] == 0, 'duration'] = 1\n",
    "df_calls.drop_duplicates(inplace=True)\n",
    "\n",
    "df_calls.info()\n",
    "\n",
    "print(df_calls.sample(10))  \n",
    " "
   ]
  },
  {
   "cell_type": "markdown",
   "metadata": {},
   "source": [
    "Hello reviewer, I chose to change the duration from 0 to 1 because even if you are on a call even if it's for 30 seconds it is most likely charged to a minute rather then 0 which would mean that their is no call being made.  "
   ]
  },
  {
   "cell_type": "markdown",
   "metadata": {},
   "source": [
    "## Messages"
   ]
  },
  {
   "cell_type": "code",
   "execution_count": 14,
   "metadata": {
    "trusted": true
   },
   "outputs": [
    {
     "name": "stdout",
     "output_type": "stream",
     "text": [
      "\n",
      "Summary of df_messages:\n",
      "<class 'pandas.core.frame.DataFrame'>\n",
      "RangeIndex: 76051 entries, 0 to 76050\n",
      "Data columns (total 3 columns):\n",
      " #   Column        Non-Null Count  Dtype \n",
      "---  ------        --------------  ----- \n",
      " 0   id            76051 non-null  object\n",
      " 1   user_id       76051 non-null  int64 \n",
      " 2   message_date  76051 non-null  object\n",
      "dtypes: int64(1), object(2)\n",
      "memory usage: 1.7+ MB\n",
      "None\n"
     ]
    }
   ],
   "source": [
    "# Print the general/summary information about the messages' DataFrame\n",
    "\n",
    "print(\"\\nSummary of df_messages:\")\n",
    "print(df_messages.info())\n",
    "\n",
    "\n"
   ]
  },
  {
   "cell_type": "code",
   "execution_count": 15,
   "metadata": {
    "trusted": true
   },
   "outputs": [
    {
     "name": "stdout",
     "output_type": "stream",
     "text": [
      "\n",
      "Sample of df_messages:\n",
      "         id  user_id message_date\n",
      "0  1000_125     1000   2018-12-27\n",
      "1  1000_160     1000   2018-12-31\n",
      "2  1000_223     1000   2018-12-31\n",
      "3  1000_251     1000   2018-12-27\n",
      "4  1000_255     1000   2018-12-26\n"
     ]
    }
   ],
   "source": [
    "# Print a sample of data for messages\n",
    "\n",
    "print(\"\\nSample of df_messages:\")\n",
    "print(df_messages.head()) \n"
   ]
  },
  {
   "cell_type": "markdown",
   "metadata": {},
   "source": [
    "[Describe what you see and notice in the general information and the printed data sample for the above price of data. Are there any issues (inappropriate data types, missing data etc) that may need further investigation and changes? How that can be fixed?]\n",
    "\n",
    "I ran a few codes in the next cell that could help find any duplicates and creating a datetime for the df_messages dataframe. I also will enrich the data by seperating message dates into different categories to know when users may use messages more and less. "
   ]
  },
  {
   "cell_type": "markdown",
   "metadata": {},
   "source": [
    " "
   ]
  },
  {
   "cell_type": "markdown",
   "metadata": {},
   "source": [
    "### Fix data"
   ]
  },
  {
   "cell_type": "markdown",
   "metadata": {},
   "source": [
    "[Fix obvious issues with the data given the initial observations.]"
   ]
  },
  {
   "cell_type": "code",
   "execution_count": 16,
   "metadata": {
    "trusted": true
   },
   "outputs": [],
   "source": [
    "df_messages.drop_duplicates(inplace=True)\n",
    "\n",
    "if 'date' in df_messages.columns:\n",
    "    df_messages['message_date'] = pd.to_datetime(df_messages['message_date'])\n",
    "    df_messages['month'] = df_messages['message_date'].dt.to_period('M')"
   ]
  },
  {
   "cell_type": "markdown",
   "metadata": {},
   "source": [
    "### Enrich data"
   ]
  },
  {
   "cell_type": "markdown",
   "metadata": {},
   "source": [
    "[Add additional factors to the data if you believe they might be useful.]"
   ]
  },
  {
   "cell_type": "code",
   "execution_count": null,
   "metadata": {
    "trusted": true
   },
   "outputs": [],
   "source": [
    "\n"
   ]
  },
  {
   "cell_type": "markdown",
   "metadata": {},
   "source": [
    "## Internet"
   ]
  },
  {
   "cell_type": "code",
   "execution_count": 17,
   "metadata": {
    "trusted": true
   },
   "outputs": [
    {
     "name": "stdout",
     "output_type": "stream",
     "text": [
      "\n",
      "Summary of df_internet:\n",
      "<class 'pandas.core.frame.DataFrame'>\n",
      "RangeIndex: 104825 entries, 0 to 104824\n",
      "Data columns (total 4 columns):\n",
      " #   Column        Non-Null Count   Dtype  \n",
      "---  ------        --------------   -----  \n",
      " 0   id            104825 non-null  object \n",
      " 1   user_id       104825 non-null  int64  \n",
      " 2   session_date  104825 non-null  object \n",
      " 3   mb_used       104825 non-null  float64\n",
      "dtypes: float64(1), int64(1), object(2)\n",
      "memory usage: 3.2+ MB\n",
      "None\n"
     ]
    }
   ],
   "source": [
    "# Print the general/summary information about the internet DataFrame\n",
    "\n",
    "print(\"\\nSummary of df_internet:\")\n",
    "print(df_internet.info())\n",
    "\n"
   ]
  },
  {
   "cell_type": "code",
   "execution_count": 18,
   "metadata": {
    "trusted": true
   },
   "outputs": [
    {
     "name": "stdout",
     "output_type": "stream",
     "text": [
      "\n",
      "Sample of df_internet:\n",
      "         id  user_id session_date  mb_used\n",
      "0   1000_13     1000   2018-12-29    89.86\n",
      "1  1000_204     1000   2018-12-31     0.00\n",
      "2  1000_379     1000   2018-12-28   660.40\n",
      "3  1000_413     1000   2018-12-26   270.99\n",
      "4  1000_442     1000   2018-12-27   880.22\n"
     ]
    }
   ],
   "source": [
    "# Print a sample of data for the internet traffic\n",
    "\n",
    "print(\"\\nSample of df_internet:\")\n",
    "print(df_internet.head())"
   ]
  },
  {
   "cell_type": "markdown",
   "metadata": {},
   "source": [
    "[Describe what you see and notice in the general information and the printed data sample for the above price of data. Are there any issues (inappropriate data types, missing data etc) that may need further investigation and changes? How that can be fixed?]\n",
    "\n",
    "I notice that their is two id columns with different names. I am going to drop one of those so it doesnt mess with the data. "
   ]
  },
  {
   "cell_type": "markdown",
   "metadata": {},
   "source": [
    " "
   ]
  },
  {
   "cell_type": "markdown",
   "metadata": {},
   "source": [
    "### Fix data"
   ]
  },
  {
   "cell_type": "markdown",
   "metadata": {},
   "source": [
    "[Fix obvious issues with the data given the initial observations.]"
   ]
  },
  {
   "cell_type": "code",
   "execution_count": 19,
   "metadata": {
    "trusted": true
   },
   "outputs": [],
   "source": [
    "df_internet.drop_duplicates(inplace=True)\n",
    "\n",
    "if 'date' in df_internet.columns:\n",
    "    df_internet['session_date'] = pd.to_datetime(df_internet['session_date'])\n",
    "    df_internet['month'] = df_internet['session_date'].dt.to_period('M')\n"
   ]
  },
  {
   "cell_type": "markdown",
   "metadata": {},
   "source": [
    "### Enrich data"
   ]
  },
  {
   "cell_type": "markdown",
   "metadata": {},
   "source": [
    "[Add additional factors to the data if you believe they might be useful.]"
   ]
  },
  {
   "cell_type": "code",
   "execution_count": null,
   "metadata": {
    "trusted": true
   },
   "outputs": [],
   "source": [
    "\n"
   ]
  },
  {
   "cell_type": "markdown",
   "metadata": {},
   "source": [
    "## Study plan conditions"
   ]
  },
  {
   "cell_type": "markdown",
   "metadata": {},
   "source": [
    "[It is critical to understand how the plans work, how users are charged based on their plan subscription. So, we suggest printing out the plan information to view their conditions once again.]"
   ]
  },
  {
   "cell_type": "code",
   "execution_count": 20,
   "metadata": {
    "trusted": true
   },
   "outputs": [
    {
     "name": "stdout",
     "output_type": "stream",
     "text": [
      "              id  user_id  call_date  duration    month\n",
      "86737   1320_406     1320 2018-05-31       9.0  2018-05\n",
      "132971  1479_541     1479 2018-11-28       3.0  2018-11\n",
      "112300   1396_11     1396 2018-09-28      11.0  2018-09\n",
      "80421    1291_21     1291 2018-11-28      13.0  2018-11\n",
      "95850   1340_200     1340 2018-11-15       1.0  2018-11\n",
      "38944   1145_191     1145 2018-12-09       5.0  2018-12\n",
      "51185   1185_223     1185 2018-04-25       1.0  2018-04\n",
      "24345   1091_113     1091 2018-11-23       1.0  2018-11\n",
      "91290    1329_61     1329 2018-09-02       5.0  2018-09\n",
      "18567   1071_389     1071 2018-10-12       9.0  2018-10\n"
     ]
    }
   ],
   "source": [
    "# Print out the plan conditions and make sure they are clear for you\n",
    "\n",
    "print(df_calls.sample(10)) "
   ]
  },
  {
   "cell_type": "markdown",
   "metadata": {},
   "source": [
    "## Aggregate data per user\n",
    "\n",
    "[Now, as the data is clean, aggregate data per user per period in order to have just one record per user per period. It should ease the further analysis a lot.]"
   ]
  },
  {
   "cell_type": "code",
   "execution_count": 21,
   "metadata": {
    "trusted": true
   },
   "outputs": [
    {
     "name": "stdout",
     "output_type": "stream",
     "text": [
      "         id  user_id  call_date  duration  month\n",
      "0   1000_93     1000 2018-12-27       9.0     12\n",
      "1  1000_145     1000 2018-12-27      14.0     12\n",
      "2  1000_247     1000 2018-12-27      15.0     12\n",
      "3  1000_309     1000 2018-12-28       6.0     12\n",
      "4  1000_380     1000 2018-12-30       5.0     12\n",
      "\n",
      "Calls per user per month:\n",
      "   user_id  month  num_calls\n",
      "0     1000     12         16\n",
      "1     1001      8         27\n",
      "2     1001      9         49\n",
      "3     1001     10         65\n",
      "4     1001     11         64\n"
     ]
    }
   ],
   "source": [
    "# Calculate the number of calls made by each user per month. Save the result.\n",
    "df_calls['call_date'] = pd.to_datetime(df_calls['call_date'], errors='coerce')\n",
    "df_calls['month'] = df_calls['call_date'].dt.month\n",
    "\n",
    "print(df_calls.head()) \n",
    "\n",
    "\n",
    "calls_per_user = df_calls.groupby(['user_id', 'month'])['id'].count().reset_index()\n",
    "calls_per_user.rename(columns={'id': 'num_calls'}, inplace=True)\n",
    "print(\"\\nCalls per user per month:\")\n",
    "print(calls_per_user.head())"
   ]
  },
  {
   "cell_type": "code",
   "execution_count": 22,
   "metadata": {
    "scrolled": true,
    "trusted": true
   },
   "outputs": [
    {
     "name": "stdout",
     "output_type": "stream",
     "text": [
      "\n",
      "Minutes per user per month:\n",
      "   user_id  month  total_minutes\n",
      "0     1000     12          124.0\n",
      "1     1001      8          187.0\n",
      "2     1001      9          326.0\n",
      "3     1001     10          411.0\n",
      "4     1001     11          441.0\n"
     ]
    }
   ],
   "source": [
    "# Calculate the amount of minutes spent by each user per month. Save the result.\n",
    "minutes_per_user = df_calls.groupby(['user_id', 'month'])['duration'].sum().reset_index()\n",
    "minutes_per_user.rename(columns={'duration': 'total_minutes'}, inplace=True)\n",
    "print(\"\\nMinutes per user per month:\")\n",
    "print(minutes_per_user.head())"
   ]
  },
  {
   "cell_type": "code",
   "execution_count": 23,
   "metadata": {
    "trusted": true
   },
   "outputs": [
    {
     "name": "stdout",
     "output_type": "stream",
     "text": [
      "\n",
      "Messages per user per month:\n",
      "   user_id  month  num_messages\n",
      "0     1000     12            11\n",
      "1     1001      8            30\n",
      "2     1001      9            44\n",
      "3     1001     10            53\n",
      "4     1001     11            36\n"
     ]
    }
   ],
   "source": [
    "# Calculate the number of messages sent by each user per month. Save the result.\n",
    "df_messages['message_date'] = pd.to_datetime(df_messages['message_date'], errors='coerce') \n",
    "df_messages['month'] = df_messages['message_date'].dt.month \n",
    "\n",
    "messages_per_user = df_messages.groupby(['user_id', 'month'])['id'].count().reset_index()\n",
    "messages_per_user.rename(columns={'id': 'num_messages'}, inplace=True)\n",
    "print(\"\\nMessages per user per month:\")\n",
    "print(messages_per_user.head())"
   ]
  },
  {
   "cell_type": "code",
   "execution_count": 24,
   "metadata": {
    "trusted": true
   },
   "outputs": [
    {
     "name": "stdout",
     "output_type": "stream",
     "text": [
      "\n",
      "Internet usage per user per month:\n",
      "   user_id  month  total_internet\n",
      "0     1000     12         1901.47\n",
      "1     1001      8         6919.15\n",
      "2     1001      9        13314.82\n",
      "3     1001     10        22330.49\n",
      "4     1001     11        18504.30\n"
     ]
    }
   ],
   "source": [
    "# Calculate the volume of internet traffic used by each user per month. Save the result.\n",
    "df_internet['session_date'] = pd.to_datetime(df_internet['session_date'], errors='coerce') \n",
    "df_internet['month'] = df_internet['session_date'].dt.month \n",
    "\n",
    "\n",
    "internet_per_user = df_internet.groupby(['user_id', 'month'])['mb_used'].sum().reset_index()\n",
    "internet_per_user.rename(columns={'mb_used': 'total_internet'}, inplace=True)\n",
    "print(\"\\nInternet usage per user per month:\")\n",
    "print(internet_per_user.head())"
   ]
  },
  {
   "cell_type": "markdown",
   "metadata": {},
   "source": [
    "[Put the aggregate data together into one DataFrame so that one record in it would represent what an unique user consumed in a given month.]"
   ]
  },
  {
   "cell_type": "code",
   "execution_count": 25,
   "metadata": {
    "trusted": true
   },
   "outputs": [
    {
     "name": "stdout",
     "output_type": "stream",
     "text": [
      "\n",
      "Merged user usage data:\n",
      "   user_id  month  num_calls  total_minutes  num_messages  total_internet  \\\n",
      "0     1000     12       16.0          124.0          11.0         1901.47   \n",
      "1     1001      8       27.0          187.0          30.0         6919.15   \n",
      "2     1001      9       49.0          326.0          44.0        13314.82   \n",
      "3     1001     10       65.0          411.0          53.0        22330.49   \n",
      "4     1001     11       64.0          441.0          36.0        18504.30   \n",
      "\n",
      "       plan                                   city  \n",
      "0  ultimate  Atlanta-Sandy Springs-Roswell, GA MSA  \n",
      "1      surf        Seattle-Tacoma-Bellevue, WA MSA  \n",
      "2      surf        Seattle-Tacoma-Bellevue, WA MSA  \n",
      "3      surf        Seattle-Tacoma-Bellevue, WA MSA  \n",
      "4      surf        Seattle-Tacoma-Bellevue, WA MSA  \n"
     ]
    }
   ],
   "source": [
    "# Merge the data for calls, minutes, messages, internet based on user_id and month\n",
    "user_usage = calls_per_user.merge(minutes_per_user, on=['user_id', 'month'], how='outer') \\\n",
    "                           .merge(messages_per_user, on=['user_id', 'month'], how='outer') \\\n",
    "                           .merge(internet_per_user, on=['user_id', 'month'], how='outer')\n",
    "user_usage.fillna(0, inplace=True) \n",
    "print(\"\\nMerged user usage data:\")\n",
    "\n",
    "user_usage = user_usage.merge(df_users[['user_id', 'plan', 'city']], on='user_id', how='left')\n",
    "\n",
    "print(user_usage.head())\n"
   ]
  },
  {
   "cell_type": "code",
   "execution_count": 26,
   "metadata": {
    "trusted": true
   },
   "outputs": [
    {
     "name": "stdout",
     "output_type": "stream",
     "text": [
      "\n",
      "User usage data with plan info:\n",
      "   user_id  month  num_calls  total_minutes  num_messages  total_internet  \\\n",
      "0     1000     12       16.0          124.0          11.0         1901.47   \n",
      "1     1001      8       27.0          187.0          30.0         6919.15   \n",
      "2     1001      9       49.0          326.0          44.0        13314.82   \n",
      "3     1001     10       65.0          411.0          53.0        22330.49   \n",
      "4     1001     11       64.0          441.0          36.0        18504.30   \n",
      "\n",
      "       plan                                   city  messages_included  \\\n",
      "0  ultimate  Atlanta-Sandy Springs-Roswell, GA MSA               1000   \n",
      "1      surf        Seattle-Tacoma-Bellevue, WA MSA                 50   \n",
      "2      surf        Seattle-Tacoma-Bellevue, WA MSA                 50   \n",
      "3      surf        Seattle-Tacoma-Bellevue, WA MSA                 50   \n",
      "4      surf        Seattle-Tacoma-Bellevue, WA MSA                 50   \n",
      "\n",
      "   mb_per_month_included  minutes_included  usd_monthly_pay  usd_per_gb  \\\n",
      "0                  30720              3000               70           7   \n",
      "1                  15360               500               20          10   \n",
      "2                  15360               500               20          10   \n",
      "3                  15360               500               20          10   \n",
      "4                  15360               500               20          10   \n",
      "\n",
      "   usd_per_message  usd_per_minute  \n",
      "0             0.01            0.01  \n",
      "1             0.03            0.03  \n",
      "2             0.03            0.03  \n",
      "3             0.03            0.03  \n",
      "4             0.03            0.03  \n"
     ]
    }
   ],
   "source": [
    "#Add the plan information \n",
    "columns_to_drop = [col for col in user_usage.columns if col.endswith('_x') or col.endswith('_y')]\n",
    "user_usage.drop(columns=columns_to_drop, inplace=True)\n",
    "\n",
    "#user_usage = user_usage.merge(df_users[['user_id', 'plan']], on='user_id', how='left')\n",
    "user_usage = user_usage.merge(df_plans, on='plan', how='left')\n",
    "print(\"\\nUser usage data with plan info:\")\n",
    "\n",
    "\n",
    "print(user_usage.head()) \n",
    "\n",
    "\n",
    "\n",
    "\n"
   ]
  },
  {
   "cell_type": "markdown",
   "metadata": {},
   "source": [
    "[Calculate the monthly revenue from each user (subtract the free package limit from the total number of calls, text messages, and data; multiply the result by the calling plan value; add the monthly charge depending on the calling plan). N.B. This might not be as trivial as just a couple of lines given the plan conditions! So, it's okay to spend some time on it.] \n",
    "\n",
    "\n",
    "\n",
    "*********In the cell below I have to run it a few times in order for it to give the correct output. I don't know what is causing the error but once ran more then once and running the above all cells it works perfecty. When you do it as you will see will be an error message, then columns with _x or _y at the end of the code and then once ran again you will see the correct output. I have tried to debug it several different ways but I get the same outcome. "
   ]
  },
  {
   "cell_type": "code",
   "execution_count": 27,
   "metadata": {
    "trusted": true
   },
   "outputs": [
    {
     "name": "stdout",
     "output_type": "stream",
     "text": [
      "\n",
      "User usage data with plan info:\n",
      "   user_id  month  num_calls  total_minutes  num_messages  total_internet  \\\n",
      "0     1000     12       16.0          124.0          11.0         1901.47   \n",
      "1     1001      8       27.0          187.0          30.0         6919.15   \n",
      "2     1001      9       49.0          326.0          44.0        13314.82   \n",
      "3     1001     10       65.0          411.0          53.0        22330.49   \n",
      "4     1001     11       64.0          441.0          36.0        18504.30   \n",
      "\n",
      "       plan                                   city  messages_included  \\\n",
      "0  ultimate  Atlanta-Sandy Springs-Roswell, GA MSA               1000   \n",
      "1      surf        Seattle-Tacoma-Bellevue, WA MSA                 50   \n",
      "2      surf        Seattle-Tacoma-Bellevue, WA MSA                 50   \n",
      "3      surf        Seattle-Tacoma-Bellevue, WA MSA                 50   \n",
      "4      surf        Seattle-Tacoma-Bellevue, WA MSA                 50   \n",
      "\n",
      "   mb_per_month_included  minutes_included  usd_monthly_pay  usd_per_gb  \\\n",
      "0                  30720              3000               70           7   \n",
      "1                  15360               500               20          10   \n",
      "2                  15360               500               20          10   \n",
      "3                  15360               500               20          10   \n",
      "4                  15360               500               20          10   \n",
      "\n",
      "   usd_per_message  usd_per_minute  \n",
      "0             0.01            0.01  \n",
      "1             0.03            0.03  \n",
      "2             0.03            0.03  \n",
      "3             0.03            0.03  \n",
      "4             0.03            0.03  \n",
      "   user_id  monthly_revenue\n",
      "0     1000        70.000000\n",
      "1     1001        20.000000\n",
      "2     1001        20.000000\n",
      "3     1001        88.161191\n",
      "4     1001        50.706055\n"
     ]
    }
   ],
   "source": [
    "# Calculate the monthly revenue for each user\n",
    "#columns_to_drop = [col for col in user_usage.columns if col.endswith('_x') or col.endswith('_y')]\n",
    "#user_usage.drop(columns=columns_to_drop, inplace=True)\n",
    "\n",
    "\n",
    "\n",
    "#user_usage = user_usage.merge(df_users[['user_id', 'plan']], on='user_id', how='left')\n",
    "#user_usage = user_usage.merge(df_plans, on='plan', how='left')\n",
    "print(\"\\nUser usage data with plan info:\")\n",
    "print(user_usage.head()) \n",
    "\n",
    "\n",
    "    \n",
    "user_usage['monthly_revenue'] = user_usage['usd_monthly_pay'] + \\\n",
    "       ((user_usage['total_minutes'] - user_usage['minutes_included']).clip(lower=0) * user_usage['usd_per_minute']) + \\\n",
    "       ((user_usage['num_messages'] - user_usage['messages_included']).clip(lower=0) * user_usage['usd_per_message']) + \\\n",
    "       ((user_usage['total_internet'] - user_usage['mb_per_month_included']).clip(lower=0) / 1024 * user_usage['usd_per_gb'])\n",
    "\n",
    "\n",
    "\n",
    "\n",
    "\n",
    "print(user_usage[['user_id', 'monthly_revenue']].head())   \n",
    "\n",
    "\n",
    "\n"
   ]
  },
  {
   "cell_type": "markdown",
   "metadata": {},
   "source": [
    "## Study user behaviour"
   ]
  },
  {
   "cell_type": "markdown",
   "metadata": {},
   "source": [
    "[Calculate some useful descriptive statistics for the aggregated and merged data, which typically reveal an overall picture captured by the data. Draw useful plots to help the understanding. Given that the main task is to compare the plans and decide on which one is more profitable, the statistics and the plots should be calculated on a per-plan basis.]\n",
    "\n",
    "[There are relevant hints in the comments for Calls but they are not provided for Messages and Internet though the principle of statistical study is the same for them as for Calls.]"
   ]
  },
  {
   "cell_type": "markdown",
   "metadata": {},
   "source": [
    "### Calls"
   ]
  },
  {
   "cell_type": "code",
   "execution_count": 28,
   "metadata": {
    "trusted": true
   },
   "outputs": [
    {
     "name": "stdout",
     "output_type": "stream",
     "text": [
      "        plan  month  total_minutes\n",
      "0       surf      1     209.000000\n",
      "1       surf      2     304.555556\n",
      "2       surf      3     338.565217\n",
      "3       surf      4     360.720000\n",
      "4       surf      5     410.558442\n",
      "5       surf      6     442.577320\n",
      "6       surf      7     462.107438\n",
      "7       surf      8     421.500000\n",
      "8       surf      9     425.582474\n",
      "9       surf     10     441.502110\n",
      "10      surf     11     434.653710\n",
      "11      surf     12     486.481132\n",
      "12  ultimate      1     200.250000\n",
      "13  ultimate      2     414.142857\n",
      "14  ultimate      3     313.666667\n",
      "15  ultimate      4     345.333333\n",
      "16  ultimate      5     417.862069\n",
      "17  ultimate      6     380.978723\n",
      "18  ultimate      7     438.406780\n",
      "19  ultimate      8     433.507042\n",
      "20  ultimate      9     449.627907\n",
      "21  ultimate     10     463.500000\n",
      "22  ultimate     11     457.606299\n",
      "23  ultimate     12     471.860927\n"
     ]
    }
   ],
   "source": [
    "# Compare average duration of calls per each plan per each distinct month. Plot a bar plat to visualize it.\n",
    "avg_call_duration = user_usage.groupby(['plan', 'month'])['total_minutes'].mean().reset_index()\n",
    "\n",
    "print(avg_call_duration) "
   ]
  },
  {
   "cell_type": "code",
   "execution_count": 29,
   "metadata": {
    "trusted": true
   },
   "outputs": [
    {
     "data": {
      "image/png": "[encoded data removed]",
      "text/plain": [
       "<Figure size 1200x600 with 1 Axes>"
      ]
     },
     "metadata": {},
     "output_type": "display_data"
    },
    {
     "data": {
      "image/png": "[encoded data removed]",
      "text/plain": [
       "<Figure size 1200x600 with 1 Axes>"
      ]
     },
     "metadata": {},
     "output_type": "display_data"
    }
   ],
   "source": [
    "# Compare the number of minutes users of each plan require each month. Plot a histogram.\n",
    "\n",
    "plt.figure(figsize=(12, 6))\n",
    "for plan in avg_call_duration['plan'].unique():\n",
    "    plan_data = avg_call_duration[avg_call_duration['plan'] == plan]\n",
    "    plt.bar(plan_data['month'].astype(str), plan_data['total_minutes'], label=plan) \n",
    "    plt.title(\"Average Call Duration per Plan per Month\")\n",
    "plt.xlabel(\"Month\")\n",
    "plt.ylabel(\"Average Call Duration (minutes)\")\n",
    "plt.legend(title=\"Plan\")\n",
    "plt.xticks(rotation=45)\n",
    "plt.show()\n",
    "\n",
    "plt.figure(figsize=(12, 6))\n",
    "for plan in user_usage['plan'].unique():\n",
    "    plan_data = user_usage[user_usage['plan'] == plan]\n",
    "    plt.hist(plan_data['total_minutes'], bins=20, alpha=0.6, label=plan)\n",
    "\n",
    "plt.title(\"Distribution of Monthly Minutes by Plan\")\n",
    "plt.xlabel(\"Total Minutes Used\")\n",
    "plt.ylabel(\"Frequency\")\n",
    "plt.legend(title=\"Plan\")\n",
    "plt.show()"
   ]
  },
  {
   "cell_type": "markdown",
   "metadata": {},
   "source": [
    "[Calculate the mean and the variable of the call duration to reason on whether users on the different plans have different behaviours for their calls.]"
   ]
  },
  {
   "cell_type": "code",
   "execution_count": 30,
   "metadata": {
    "trusted": true
   },
   "outputs": [
    {
     "name": "stdout",
     "output_type": "stream",
     "text": [
      "Mean Monthly Call Duration: 440.98604448320975\n"
     ]
    }
   ],
   "source": [
    "# Calculate the mean and the variance of the monthly call duration\n",
    "mean_duration = user_usage['total_minutes'].mean() \n",
    " \n",
    "print(\"Mean Monthly Call Duration:\", mean_duration) \n",
    "\n"
   ]
  },
  {
   "cell_type": "code",
   "execution_count": 31,
   "metadata": {
    "trusted": true
   },
   "outputs": [
    {
     "name": "stdout",
     "output_type": "stream",
     "text": [
      "Variance Monthly Call Duration: 58702.10102679907\n"
     ]
    }
   ],
   "source": [
    "variance_duration = user_usage['total_minutes'].var() \n",
    "print(\"Variance Monthly Call Duration:\", variance_duration)"
   ]
  },
  {
   "cell_type": "code",
   "execution_count": 32,
   "metadata": {
    "trusted": true
   },
   "outputs": [
    {
     "data": {
      "image/png": "[encoded data removed]",
      "text/plain": [
       "<Figure size 800x600 with 1 Axes>"
      ]
     },
     "metadata": {},
     "output_type": "display_data"
    }
   ],
   "source": [
    "# Plot a boxplot to visualize the distribution of the monthly call duration\n",
    "plt.figure(figsize=(8, 6))\n",
    "plt.boxplot(user_usage['total_minutes'].dropna(), vert=False)\n",
    "plt.title(\"Distribution of Monthly Call Duration\")\n",
    "plt.xlabel(\"Total Minutes Used\")\n",
    "plt.show()\n"
   ]
  },
  {
   "cell_type": "markdown",
   "metadata": {},
   "source": [
    "[Formulate conclusions on how the users behave in terms of calling. Is their behaviour different between the plans?] From the data I can conclude that the mean call duration is 440.98604448320975 and the variance monthly call duration is 58702.10102679907 "
   ]
  },
  {
   "cell_type": "markdown",
   "metadata": {},
   "source": [
    " "
   ]
  },
  {
   "cell_type": "markdown",
   "metadata": {},
   "source": [
    "### Messages"
   ]
  },
  {
   "cell_type": "code",
   "execution_count": 33,
   "metadata": {
    "trusted": true
   },
   "outputs": [
    {
     "name": "stdout",
     "output_type": "stream",
     "text": [
      "       plan  num_messages\n",
      "0      surf     31.159568\n",
      "1  ultimate     37.551389\n"
     ]
    },
    {
     "data": {
      "image/png": "[encoded data removed]",
      "text/plain": [
       "<Figure size 800x600 with 1 Axes>"
      ]
     },
     "metadata": {},
     "output_type": "display_data"
    }
   ],
   "source": [
    "# Compare the number of messages users of each plan tend to send each month\n",
    "avg_messages = user_usage.groupby('plan')['num_messages'].mean().reset_index()\n",
    "print(avg_messages)\n",
    "\n",
    "plt.figure(figsize=(8, 6))\n",
    "plt.bar(avg_messages['plan'], avg_messages['num_messages'], color=['blue', 'orange'])\n",
    "plt.title(\"Average Messages Sent per Month by Plan\")\n",
    "plt.xlabel(\"Plan\")\n",
    "plt.ylabel(\"Average Messages Sent\")\n",
    "plt.show()"
   ]
  },
  {
   "cell_type": "code",
   "execution_count": 34,
   "metadata": {
    "trusted": true
   },
   "outputs": [
    {
     "data": {
      "image/png": "[encoded data removed]",
      "text/plain": [
       "<Figure size 1200x600 with 1 Axes>"
      ]
     },
     "metadata": {},
     "output_type": "display_data"
    }
   ],
   "source": [
    "# Compare the amount of internet traffic consumed by users per plan\n",
    "\n",
    "\n",
    "\n",
    "plt.figure(figsize=(12, 6))\n",
    "for plan in user_usage['plan'].unique():\n",
    "    plan_data = user_usage[user_usage['plan'] == plan]\n",
    "    plt.hist(plan_data['total_minutes'], bins=20, alpha=0.6, label=plan)\n",
    "\n",
    "plt.title(\"Distribution of Monthly Minutes by Plan\")\n",
    "plt.xlabel(\"Total Minutes Used\")\n",
    "plt.ylabel(\"Frequency\")\n",
    "plt.legend(title=\"Plan\")\n",
    "plt.show()"
   ]
  },
  {
   "cell_type": "markdown",
   "metadata": {},
   "source": [
    "[Formulate conclusions on how the users behave in terms of messaging. Is their behaviour different between the plans?] In the data I can conclude that the surf plan was used more frequently for longer duration compared to the ultimate plan. "
   ]
  },
  {
   "cell_type": "markdown",
   "metadata": {},
   "source": [
    " "
   ]
  },
  {
   "cell_type": "markdown",
   "metadata": {},
   "source": [
    "### Internet"
   ]
  },
  {
   "cell_type": "code",
   "execution_count": 35,
   "metadata": {
    "trusted": true
   },
   "outputs": [
    {
     "data": {
      "image/png": "[encoded data removed]",
      "text/plain": [
       "<Figure size 800x600 with 1 Axes>"
      ]
     },
     "metadata": {},
     "output_type": "display_data"
    }
   ],
   "source": [
    "avg_internet = user_usage.groupby('plan')['total_internet'].mean().reset_index()\n",
    "\n",
    "plt.figure(figsize=(8, 6))\n",
    "plt.bar(avg_internet['plan'], avg_internet['total_internet'], color=['green', 'red'])\n",
    "plt.title(\"Average Internet Traffic Used per Month by Plan\")\n",
    "plt.xlabel(\"Plan\")\n",
    "plt.ylabel(\"Average Internet Traffic (MB)\")\n",
    "plt.show()"
   ]
  },
  {
   "cell_type": "markdown",
   "metadata": {},
   "source": [
    "[Formulate conclusions on how the users tend to consume the internet traffic? Is their behaviour different between the plans?] \n",
    "\n",
    "based on the conclusions drawn by the graphs the ultimate plan generates more internet traffic "
   ]
  },
  {
   "cell_type": "markdown",
   "metadata": {},
   "source": [
    " "
   ]
  },
  {
   "cell_type": "markdown",
   "metadata": {},
   "source": [
    "## Revenue"
   ]
  },
  {
   "cell_type": "markdown",
   "metadata": {},
   "source": [
    "[Likewise you have studied the user behaviour, statistically describe the revenue between the plans.]"
   ]
  },
  {
   "cell_type": "code",
   "execution_count": 36,
   "metadata": {
    "trusted": true
   },
   "outputs": [
    {
     "name": "stdout",
     "output_type": "stream",
     "text": [
      "Revenue Statistics by Plan:\n",
      "           count       mean        std   min   25%        50%        75%  \\\n",
      "plan                                                                       \n",
      "surf      1573.0  57.865491  53.927985  20.0  20.0  37.678906  77.172852   \n",
      "ultimate   720.0  72.116080  10.768848  70.0  70.0  70.000000  70.000000   \n",
      "\n",
      "                 max  \n",
      "plan                  \n",
      "surf      583.961309  \n",
      "ultimate  178.522764  \n"
     ]
    },
    {
     "data": {
      "image/png": "[encoded data removed]",
      "text/plain": [
       "<Figure size 1000x500 with 2 Axes>"
      ]
     },
     "metadata": {},
     "output_type": "display_data"
    }
   ],
   "source": [
    "revenue_stats = user_usage.groupby('plan')['monthly_revenue'].describe()\n",
    "print(\"Revenue Statistics by Plan:\")\n",
    "print(revenue_stats) \n",
    "\n",
    "user_usage.hist(column='monthly_revenue', by='plan', bins=30, figsize=(10, 5), grid=False, alpha=0.7)\n",
    "plt.suptitle('Monthly Revenue Distribution by Plan', y=1.02)\n",
    "plt.xlabel('Monthly Revenue') \n",
    "plt.ylabel('Frequency') \n",
    "plt.show() "
   ]
  },
  {
   "cell_type": "markdown",
   "metadata": {},
   "source": [
    "[Formulate conclusions about how the revenue differs between the plans.] I can conclude from the data that the surf plan generates more revenue. "
   ]
  },
  {
   "cell_type": "markdown",
   "metadata": {},
   "source": [
    " "
   ]
  },
  {
   "cell_type": "markdown",
   "metadata": {},
   "source": [
    "## Test statistical hypotheses"
   ]
  },
  {
   "cell_type": "markdown",
   "metadata": {},
   "source": [
    "[Test the hypothesis that the average revenue from users of the Ultimate and Surf calling plans differs.]"
   ]
  },
  {
   "cell_type": "markdown",
   "metadata": {},
   "source": [
    "[Formulate the null and the alternative hypotheses, choose the statistical test, decide on the alpha value.]"
   ]
  },
  {
   "cell_type": "code",
   "execution_count": 37,
   "metadata": {
    "trusted": true
   },
   "outputs": [
    {
     "name": "stdout",
     "output_type": "stream",
     "text": [
      "Ultimate Plan Revenue Count: 720\n",
      "Surf Plan Revenue Count: 1573\n",
      "Reject the null hypothesis: There is a significant difference in revenue.\n"
     ]
    }
   ],
   "source": [
    "# Test the hypotheses\n",
    "\n",
    "from scipy.stats import ttest_ind\n",
    "\n",
    "\n",
    "ultimate_revenue = user_usage[user_usage['plan'] == 'ultimate']['monthly_revenue']\n",
    "surf_revenue = user_usage[user_usage['plan'] == 'surf']['monthly_revenue']\n",
    "\n",
    "print(\"Ultimate Plan Revenue Count:\", len(ultimate_revenue))\n",
    "print(\"Surf Plan Revenue Count:\", len(surf_revenue))\n",
    "\n",
    "\n",
    "alpha = 0.05\n",
    "t_stat, p_value = ttest_ind(ultimate_revenue, surf_revenue, equal_var=False, nan_policy='omit')\n",
    "\n",
    "\n",
    "\n",
    "if p_value < alpha:\n",
    "    print(\"Reject the null hypothesis: There is a significant difference in revenue.\")\n",
    "else:\n",
    "    print(\"Fail to reject the null hypothesis: No significant difference in revenue.\")"
   ]
  },
  {
   "cell_type": "markdown",
   "metadata": {},
   "source": [
    "[Test the hypothesis that the average revenue from users in the NY-NJ area is different from that of the users from the other regions.]"
   ]
  },
  {
   "cell_type": "markdown",
   "metadata": {},
   "source": [
    "[Formulate the null and the alternative hypotheses, choose the statistical test, decide on the alpha value.]"
   ]
  },
  {
   "cell_type": "code",
   "execution_count": 38,
   "metadata": {
    "scrolled": true,
    "trusted": true
   },
   "outputs": [
    {
     "name": "stdout",
     "output_type": "stream",
     "text": [
      "T-Test Results for Revenue by Region:\n",
      "T-Statistic: -2.315516701862053\n",
      "P-Value: 0.020940608424208265\n",
      "Reject the null hypothesis: There is a significant difference in revenue.\n"
     ]
    }
   ],
   "source": [
    "# Test the hypotheses\n",
    "\n",
    "df_users['region'] = df_users['city'].apply(lambda x: 'NY-NJ' if x in ['NY', 'NJ'] else 'Other')\n",
    "\n",
    "ny_nj_revenue = user_usage[user_usage['city'].str.contains(\"NY-NJ\", na=False)]['monthly_revenue']\n",
    "other_revenue = user_usage[~user_usage['city'].str.contains(\"NY-NJ\", na=False)]['monthly_revenue']\n",
    "\n",
    "t_stat, p_value = ttest_ind(ny_nj_revenue, other_revenue, equal_var=False)\n",
    "\n",
    "print(\"T-Test Results for Revenue by Region:\")\n",
    "print(f\"T-Statistic: {t_stat}\")\n",
    "print(f\"P-Value: {p_value}\")\n",
    "\n",
    "if p_value < alpha:\n",
    "    print(\"Reject the null hypothesis: There is a significant difference in revenue.\")\n",
    "else:\n",
    "    print(\"Fail to reject the null hypothesis: No significant difference in revenue.\")\n"
   ]
  },
  {
   "cell_type": "markdown",
   "metadata": {},
   "source": [
    "## General conclusion\n",
    "\n",
    "[List your important conclusions in this final section, make sure they cover all those important decisions (assumptions) that you've made and that led you to the way you processed and analyzed the data.]\n",
    "\n",
    "The conclusions that I have drawn from this project have been that on average users of  the surf plan make longer make longer calls compared to the ultimate plan users. I can conclude that messaging behaviors shows trends across months. From the conclusions configured in the above data concludes that even though the surf plan is more used in certain areas of usage it doesn't conclude that it is the best plan overall. "
   ]
  },
  {
   "cell_type": "markdown",
   "metadata": {},
   "source": [
    " "
   ]
  }
 ],
 "metadata": {
  "ExecuteTimeLog": [
   {
    "duration": 828,
    "start_time": "2021-11-16T09:21:11.304Z"
   },
   {
    "duration": 893,
    "start_time": "2021-11-16T09:21:17.728Z"
   },
   {
    "duration": 1150,
    "start_time": "2021-11-16T09:21:29.568Z"
   },
   {
    "duration": 3,
    "start_time": "2021-11-16T09:24:14.495Z"
   },
   {
    "duration": 120,
    "start_time": "2021-11-16T09:24:46.630Z"
   },
   {
    "duration": 3,
    "start_time": "2021-11-16T09:28:27.882Z"
   },
   {
    "duration": 4,
    "start_time": "2021-11-16T09:29:54.281Z"
   },
   {
    "duration": 3,
    "start_time": "2021-11-16T09:30:45.936Z"
   },
   {
    "duration": 4,
    "start_time": "2021-11-16T09:31:06.300Z"
   },
   {
    "duration": 113,
    "start_time": "2021-11-16T09:31:37.208Z"
   },
   {
    "duration": 143,
    "start_time": "2021-11-16T09:31:48.656Z"
   },
   {
    "duration": 98,
    "start_time": "2021-11-16T09:31:55.678Z"
   },
   {
    "duration": 3,
    "start_time": "2021-11-16T09:32:08.535Z"
   },
   {
    "duration": 111,
    "start_time": "2021-11-16T09:32:10.120Z"
   },
   {
    "duration": 3,
    "start_time": "2021-11-16T09:32:15.732Z"
   },
   {
    "duration": 4,
    "start_time": "2021-11-16T09:32:29.423Z"
   },
   {
    "duration": 3,
    "start_time": "2021-11-16T10:03:03.074Z"
   },
   {
    "duration": 3,
    "start_time": "2021-11-16T10:10:01.288Z"
   },
   {
    "duration": 3,
    "start_time": "2021-11-16T10:10:46.923Z"
   },
   {
    "duration": 121,
    "start_time": "2021-11-16T10:37:46.494Z"
   },
   {
    "duration": 125,
    "start_time": "2021-11-16T10:38:20.632Z"
   },
   {
    "duration": 112,
    "start_time": "2021-11-16T10:46:53.001Z"
   },
   {
    "duration": 110,
    "start_time": "2021-11-16T10:48:25.775Z"
   },
   {
    "duration": 3,
    "start_time": "2021-11-16T10:50:18.720Z"
   },
   {
    "duration": 4,
    "start_time": "2021-11-16T10:50:37.649Z"
   },
   {
    "duration": 2,
    "start_time": "2021-11-16T10:50:51.884Z"
   },
   {
    "duration": 3,
    "start_time": "2021-11-16T10:51:56.237Z"
   },
   {
    "duration": 101,
    "start_time": "2021-11-16T10:53:13.791Z"
   },
   {
    "duration": 3,
    "start_time": "2021-11-16T10:55:59.186Z"
   },
   {
    "duration": 3,
    "start_time": "2021-11-16T10:56:10.751Z"
   },
   {
    "duration": 3,
    "start_time": "2021-11-16T10:56:49.038Z"
   },
   {
    "duration": 3,
    "start_time": "2021-11-16T10:56:49.174Z"
   },
   {
    "duration": 4,
    "start_time": "2021-11-16T10:56:49.414Z"
   },
   {
    "duration": 3,
    "start_time": "2021-11-16T10:56:49.680Z"
   },
   {
    "duration": 3,
    "start_time": "2021-11-16T10:56:50.370Z"
   },
   {
    "duration": 114,
    "start_time": "2021-11-16T10:59:34.518Z"
   },
   {
    "duration": 3,
    "start_time": "2021-11-16T11:01:41.201Z"
   },
   {
    "duration": 116,
    "start_time": "2021-11-16T11:01:48.754Z"
   },
   {
    "duration": 3,
    "start_time": "2021-11-16T11:02:16.685Z"
   },
   {
    "duration": 3,
    "start_time": "2021-11-16T11:02:19.479Z"
   },
   {
    "duration": 3,
    "start_time": "2021-11-16T11:02:47.067Z"
   },
   {
    "duration": 3,
    "start_time": "2021-11-16T11:02:49.353Z"
   },
   {
    "duration": 3,
    "start_time": "2021-11-16T11:03:07.835Z"
   },
   {
    "duration": 3,
    "start_time": "2021-11-16T11:03:07.953Z"
   },
   {
    "duration": 112,
    "start_time": "2021-11-16T11:07:52.072Z"
   },
   {
    "duration": 187,
    "start_time": "2021-11-16T11:09:23.468Z"
   },
   {
    "duration": 4,
    "start_time": "2021-11-16T11:10:01.455Z"
   },
   {
    "duration": 3,
    "start_time": "2021-11-16T11:10:05.069Z"
   },
   {
    "duration": 4,
    "start_time": "2021-11-16T11:10:13.376Z"
   },
   {
    "duration": 3,
    "start_time": "2021-11-16T11:10:14.434Z"
   },
   {
    "duration": 3,
    "start_time": "2021-11-16T11:10:22.853Z"
   },
   {
    "duration": 4,
    "start_time": "2021-11-16T11:27:29.279Z"
   },
   {
    "duration": 4,
    "start_time": "2021-11-16T11:29:08.919Z"
   },
   {
    "duration": 118,
    "start_time": "2021-11-16T11:29:46.703Z"
   },
   {
    "duration": 437,
    "start_time": "2021-11-16T11:36:02.181Z"
   },
   {
    "duration": 157,
    "start_time": "2021-11-16T11:36:14.388Z"
   },
   {
    "duration": 207,
    "start_time": "2021-11-16T11:47:15.898Z"
   },
   {
    "duration": 3,
    "start_time": "2021-11-16T11:53:52.092Z"
   },
   {
    "duration": 3,
    "start_time": "2021-11-16T11:53:52.236Z"
   },
   {
    "duration": 3,
    "start_time": "2021-11-16T11:59:12.005Z"
   },
   {
    "duration": 112,
    "start_time": "2021-11-16T12:00:33.446Z"
   },
   {
    "duration": 3,
    "start_time": "2021-11-16T12:02:14.453Z"
   },
   {
    "duration": 3,
    "start_time": "2021-11-16T12:02:39.512Z"
   },
   {
    "duration": 106,
    "start_time": "2021-11-16T12:03:03.460Z"
   },
   {
    "duration": 3,
    "start_time": "2021-11-17T20:37:21.139Z"
   },
   {
    "duration": 3,
    "start_time": "2021-11-17T20:37:22.229Z"
   },
   {
    "duration": 3,
    "start_time": "2021-11-17T20:38:38.806Z"
   },
   {
    "duration": 3,
    "start_time": "2021-11-17T20:38:41.958Z"
   },
   {
    "duration": 3,
    "start_time": "2021-11-17T20:43:46.551Z"
   },
   {
    "duration": 4,
    "start_time": "2021-11-17T20:58:21.835Z"
   },
   {
    "duration": 3,
    "start_time": "2021-11-17T20:59:21.872Z"
   },
   {
    "duration": 4,
    "start_time": "2021-11-17T20:59:45.352Z"
   },
   {
    "duration": 4,
    "start_time": "2021-11-17T20:59:49.646Z"
   },
   {
    "duration": 159,
    "start_time": "2021-11-17T21:02:26.949Z"
   },
   {
    "duration": 3,
    "start_time": "2021-11-17T21:03:53.461Z"
   },
   {
    "duration": 3,
    "start_time": "2021-11-17T21:03:53.694Z"
   },
   {
    "duration": 3,
    "start_time": "2021-11-17T21:05:28.145Z"
   },
   {
    "duration": 116,
    "start_time": "2021-11-17T21:05:57.787Z"
   },
   {
    "duration": 3,
    "start_time": "2021-11-17T21:06:37.993Z"
   },
   {
    "duration": 3,
    "start_time": "2021-11-17T21:06:38.261Z"
   },
   {
    "duration": 3,
    "start_time": "2021-11-17T21:11:54.358Z"
   },
   {
    "duration": 3,
    "start_time": "2021-11-17T21:12:43.846Z"
   },
   {
    "duration": 4,
    "start_time": "2021-11-17T21:13:08.773Z"
   },
   {
    "duration": 3,
    "start_time": "2021-11-17T21:14:44.441Z"
   },
   {
    "duration": 3,
    "start_time": "2021-11-17T21:15:42.059Z"
   },
   {
    "duration": 4,
    "start_time": "2021-11-17T21:15:51.995Z"
   },
   {
    "duration": 3,
    "start_time": "2021-11-17T21:15:53.923Z"
   },
   {
    "duration": 3,
    "start_time": "2021-11-17T21:15:55.282Z"
   },
   {
    "duration": 3,
    "start_time": "2021-11-17T21:16:28.492Z"
   },
   {
    "duration": 3,
    "start_time": "2021-11-17T21:16:32.603Z"
   },
   {
    "duration": 3,
    "start_time": "2021-11-17T21:17:06.941Z"
   },
   {
    "duration": 98,
    "start_time": "2021-11-17T21:18:05.733Z"
   },
   {
    "duration": 4,
    "start_time": "2021-11-17T21:21:35.255Z"
   },
   {
    "duration": 3,
    "start_time": "2021-11-17T21:21:37.804Z"
   },
   {
    "duration": 4,
    "start_time": "2021-11-17T21:23:06.071Z"
   },
   {
    "duration": 3,
    "start_time": "2021-11-17T21:23:24.799Z"
   },
   {
    "duration": 3,
    "start_time": "2021-11-17T21:23:32.591Z"
   },
   {
    "duration": 98,
    "start_time": "2021-11-17T21:28:31.559Z"
   },
   {
    "duration": 3,
    "start_time": "2021-11-17T21:28:45.448Z"
   },
   {
    "duration": 3,
    "start_time": "2021-11-17T21:29:17.303Z"
   },
   {
    "duration": 3,
    "start_time": "2021-11-17T21:29:29.617Z"
   },
   {
    "duration": 3,
    "start_time": "2021-11-17T21:29:32.681Z"
   },
   {
    "duration": 3,
    "start_time": "2021-11-17T21:36:11.474Z"
   },
   {
    "duration": 3,
    "start_time": "2021-11-17T21:36:14.791Z"
   },
   {
    "duration": 3,
    "start_time": "2021-11-17T21:36:53.943Z"
   },
   {
    "duration": 3,
    "start_time": "2021-11-17T21:36:56.165Z"
   },
   {
    "duration": 4,
    "start_time": "2021-11-17T21:37:16.590Z"
   },
   {
    "duration": 3,
    "start_time": "2021-11-17T21:37:22.702Z"
   },
   {
    "duration": 4,
    "start_time": "2021-11-17T21:38:03.479Z"
   },
   {
    "duration": 3,
    "start_time": "2021-11-17T21:38:08.601Z"
   },
   {
    "duration": 3,
    "start_time": "2021-11-17T21:38:12.928Z"
   },
   {
    "duration": 3,
    "start_time": "2021-11-17T21:38:48.896Z"
   },
   {
    "duration": 2,
    "start_time": "2021-11-17T21:38:49.171Z"
   },
   {
    "duration": 4,
    "start_time": "2021-11-17T21:39:57.889Z"
   },
   {
    "duration": 3,
    "start_time": "2021-11-17T21:39:58.057Z"
   },
   {
    "duration": 3,
    "start_time": "2021-11-17T21:41:20.108Z"
   },
   {
    "duration": 3,
    "start_time": "2021-11-17T21:41:20.629Z"
   },
   {
    "duration": 3,
    "start_time": "2021-11-17T21:42:49.136Z"
   },
   {
    "duration": 3,
    "start_time": "2021-11-17T21:43:15.137Z"
   },
   {
    "duration": 4,
    "start_time": "2021-11-17T21:43:16.766Z"
   },
   {
    "duration": 4,
    "start_time": "2021-11-17T21:43:31.711Z"
   },
   {
    "duration": 3,
    "start_time": "2021-11-17T21:43:36.312Z"
   },
   {
    "duration": 4,
    "start_time": "2021-11-17T21:45:08.825Z"
   },
   {
    "duration": 4,
    "start_time": "2021-11-17T21:45:10.119Z"
   },
   {
    "duration": 4,
    "start_time": "2021-11-17T21:45:13.748Z"
   },
   {
    "duration": 3,
    "start_time": "2021-11-17T21:45:22.219Z"
   },
   {
    "duration": 3,
    "start_time": "2021-11-17T21:45:33.412Z"
   },
   {
    "duration": 2,
    "start_time": "2021-11-17T21:46:01.885Z"
   },
   {
    "duration": 3,
    "start_time": "2021-11-17T21:46:03.628Z"
   },
   {
    "duration": 107,
    "start_time": "2021-11-17T21:47:32.512Z"
   },
   {
    "duration": 103,
    "start_time": "2021-11-17T21:50:36.243Z"
   },
   {
    "duration": 3,
    "start_time": "2021-11-18T06:28:31.440Z"
   },
   {
    "duration": 3,
    "start_time": "2021-11-18T06:29:00.168Z"
   },
   {
    "duration": 3,
    "start_time": "2021-11-18T06:31:27.008Z"
   },
   {
    "duration": 2,
    "start_time": "2021-11-18T06:35:34.288Z"
   },
   {
    "duration": 2,
    "start_time": "2021-11-18T06:38:04.527Z"
   },
   {
    "duration": 518,
    "start_time": "2025-01-06T18:20:21.867Z"
   },
   {
    "duration": 90,
    "start_time": "2025-01-06T18:27:07.253Z"
   },
   {
    "duration": 2022,
    "start_time": "2025-01-06T18:34:41.761Z"
   },
   {
    "duration": 484,
    "start_time": "2025-01-06T18:35:27.136Z"
   },
   {
    "duration": 85,
    "start_time": "2025-01-06T18:35:32.794Z"
   },
   {
    "duration": 157,
    "start_time": "2025-01-07T04:54:25.329Z"
   },
   {
    "duration": 2665,
    "start_time": "2025-01-07T04:55:03.922Z"
   },
   {
    "duration": 87,
    "start_time": "2025-01-07T04:55:06.590Z"
   },
   {
    "duration": 72,
    "start_time": "2025-01-07T04:55:06.679Z"
   },
   {
    "duration": 0,
    "start_time": "2025-01-07T04:55:06.754Z"
   },
   {
    "duration": 0,
    "start_time": "2025-01-07T04:55:06.755Z"
   },
   {
    "duration": 0,
    "start_time": "2025-01-07T04:55:06.757Z"
   },
   {
    "duration": 0,
    "start_time": "2025-01-07T04:55:06.758Z"
   },
   {
    "duration": 0,
    "start_time": "2025-01-07T04:55:06.759Z"
   },
   {
    "duration": 0,
    "start_time": "2025-01-07T04:55:06.761Z"
   },
   {
    "duration": 0,
    "start_time": "2025-01-07T04:55:06.762Z"
   },
   {
    "duration": 0,
    "start_time": "2025-01-07T04:55:06.764Z"
   },
   {
    "duration": 0,
    "start_time": "2025-01-07T04:55:06.765Z"
   },
   {
    "duration": 0,
    "start_time": "2025-01-07T04:55:06.767Z"
   },
   {
    "duration": 0,
    "start_time": "2025-01-07T04:55:06.769Z"
   },
   {
    "duration": 0,
    "start_time": "2025-01-07T04:55:06.770Z"
   },
   {
    "duration": 0,
    "start_time": "2025-01-07T04:55:06.771Z"
   },
   {
    "duration": 0,
    "start_time": "2025-01-07T04:55:06.773Z"
   },
   {
    "duration": 0,
    "start_time": "2025-01-07T04:55:06.774Z"
   },
   {
    "duration": 0,
    "start_time": "2025-01-07T04:55:06.776Z"
   },
   {
    "duration": 0,
    "start_time": "2025-01-07T04:55:06.777Z"
   },
   {
    "duration": 0,
    "start_time": "2025-01-07T04:55:06.778Z"
   },
   {
    "duration": 0,
    "start_time": "2025-01-07T04:55:06.823Z"
   },
   {
    "duration": 0,
    "start_time": "2025-01-07T04:55:06.824Z"
   },
   {
    "duration": 0,
    "start_time": "2025-01-07T04:55:06.825Z"
   },
   {
    "duration": 0,
    "start_time": "2025-01-07T04:55:06.826Z"
   },
   {
    "duration": 0,
    "start_time": "2025-01-07T04:55:06.827Z"
   },
   {
    "duration": 0,
    "start_time": "2025-01-07T04:55:06.828Z"
   },
   {
    "duration": 0,
    "start_time": "2025-01-07T04:55:06.829Z"
   },
   {
    "duration": 8,
    "start_time": "2025-01-07T04:56:50.234Z"
   },
   {
    "duration": 268,
    "start_time": "2025-01-07T04:57:26.410Z"
   },
   {
    "duration": 6,
    "start_time": "2025-01-07T05:01:08.112Z"
   },
   {
    "duration": 157,
    "start_time": "2025-01-07T16:07:57.727Z"
   },
   {
    "duration": 2647,
    "start_time": "2025-01-07T16:08:18.403Z"
   },
   {
    "duration": 86,
    "start_time": "2025-01-07T16:08:21.052Z"
   },
   {
    "duration": 10,
    "start_time": "2025-01-07T16:08:21.140Z"
   },
   {
    "duration": 6,
    "start_time": "2025-01-07T16:08:21.152Z"
   },
   {
    "duration": 4,
    "start_time": "2025-01-07T16:08:21.160Z"
   },
   {
    "duration": 0,
    "start_time": "2025-01-07T16:08:21.166Z"
   },
   {
    "duration": 0,
    "start_time": "2025-01-07T16:08:21.167Z"
   },
   {
    "duration": 0,
    "start_time": "2025-01-07T16:08:21.168Z"
   },
   {
    "duration": 0,
    "start_time": "2025-01-07T16:08:21.170Z"
   },
   {
    "duration": 0,
    "start_time": "2025-01-07T16:08:21.171Z"
   },
   {
    "duration": 0,
    "start_time": "2025-01-07T16:08:21.172Z"
   },
   {
    "duration": 0,
    "start_time": "2025-01-07T16:08:21.173Z"
   },
   {
    "duration": 0,
    "start_time": "2025-01-07T16:08:21.175Z"
   },
   {
    "duration": 0,
    "start_time": "2025-01-07T16:08:21.176Z"
   },
   {
    "duration": 0,
    "start_time": "2025-01-07T16:08:21.177Z"
   },
   {
    "duration": 0,
    "start_time": "2025-01-07T16:08:21.211Z"
   },
   {
    "duration": 0,
    "start_time": "2025-01-07T16:08:21.212Z"
   },
   {
    "duration": 0,
    "start_time": "2025-01-07T16:08:21.213Z"
   },
   {
    "duration": 0,
    "start_time": "2025-01-07T16:08:21.214Z"
   },
   {
    "duration": 0,
    "start_time": "2025-01-07T16:08:21.215Z"
   },
   {
    "duration": 0,
    "start_time": "2025-01-07T16:08:21.217Z"
   },
   {
    "duration": 0,
    "start_time": "2025-01-07T16:08:21.219Z"
   },
   {
    "duration": 0,
    "start_time": "2025-01-07T16:08:21.220Z"
   },
   {
    "duration": 0,
    "start_time": "2025-01-07T16:08:21.221Z"
   },
   {
    "duration": 0,
    "start_time": "2025-01-07T16:08:21.222Z"
   },
   {
    "duration": 0,
    "start_time": "2025-01-07T16:08:21.223Z"
   },
   {
    "duration": 0,
    "start_time": "2025-01-07T16:08:21.224Z"
   },
   {
    "duration": 0,
    "start_time": "2025-01-07T16:08:21.226Z"
   },
   {
    "duration": 0,
    "start_time": "2025-01-07T16:08:21.227Z"
   },
   {
    "duration": 0,
    "start_time": "2025-01-07T16:08:21.228Z"
   },
   {
    "duration": 5,
    "start_time": "2025-01-07T16:08:34.263Z"
   },
   {
    "duration": 5,
    "start_time": "2025-01-07T16:10:33.666Z"
   },
   {
    "duration": 6,
    "start_time": "2025-01-07T16:13:24.776Z"
   },
   {
    "duration": 6,
    "start_time": "2025-01-07T16:14:53.220Z"
   },
   {
    "duration": 160,
    "start_time": "2025-01-07T18:46:55.433Z"
   },
   {
    "duration": 11,
    "start_time": "2025-01-07T18:47:35.704Z"
   },
   {
    "duration": 2602,
    "start_time": "2025-01-07T18:47:41.025Z"
   },
   {
    "duration": 87,
    "start_time": "2025-01-07T18:47:43.629Z"
   },
   {
    "duration": 10,
    "start_time": "2025-01-07T18:47:43.717Z"
   },
   {
    "duration": 6,
    "start_time": "2025-01-07T18:47:43.729Z"
   },
   {
    "duration": 4,
    "start_time": "2025-01-07T18:47:43.738Z"
   },
   {
    "duration": 0,
    "start_time": "2025-01-07T18:47:43.744Z"
   },
   {
    "duration": 0,
    "start_time": "2025-01-07T18:47:43.746Z"
   },
   {
    "duration": 0,
    "start_time": "2025-01-07T18:47:43.747Z"
   },
   {
    "duration": 0,
    "start_time": "2025-01-07T18:47:43.748Z"
   },
   {
    "duration": 0,
    "start_time": "2025-01-07T18:47:43.750Z"
   },
   {
    "duration": 0,
    "start_time": "2025-01-07T18:47:43.751Z"
   },
   {
    "duration": 0,
    "start_time": "2025-01-07T18:47:43.770Z"
   },
   {
    "duration": 0,
    "start_time": "2025-01-07T18:47:43.772Z"
   },
   {
    "duration": 0,
    "start_time": "2025-01-07T18:47:43.772Z"
   },
   {
    "duration": 0,
    "start_time": "2025-01-07T18:47:43.774Z"
   },
   {
    "duration": 0,
    "start_time": "2025-01-07T18:47:43.775Z"
   },
   {
    "duration": 0,
    "start_time": "2025-01-07T18:47:43.776Z"
   },
   {
    "duration": 0,
    "start_time": "2025-01-07T18:47:43.777Z"
   },
   {
    "duration": 0,
    "start_time": "2025-01-07T18:47:43.778Z"
   },
   {
    "duration": 0,
    "start_time": "2025-01-07T18:47:43.779Z"
   },
   {
    "duration": 0,
    "start_time": "2025-01-07T18:47:43.780Z"
   },
   {
    "duration": 0,
    "start_time": "2025-01-07T18:47:43.782Z"
   },
   {
    "duration": 0,
    "start_time": "2025-01-07T18:47:43.783Z"
   },
   {
    "duration": 0,
    "start_time": "2025-01-07T18:47:43.784Z"
   },
   {
    "duration": 0,
    "start_time": "2025-01-07T18:47:43.785Z"
   },
   {
    "duration": 0,
    "start_time": "2025-01-07T18:47:43.786Z"
   },
   {
    "duration": 0,
    "start_time": "2025-01-07T18:47:43.787Z"
   },
   {
    "duration": 0,
    "start_time": "2025-01-07T18:47:43.789Z"
   },
   {
    "duration": 0,
    "start_time": "2025-01-07T18:47:43.790Z"
   },
   {
    "duration": 0,
    "start_time": "2025-01-07T18:47:43.790Z"
   },
   {
    "duration": 12,
    "start_time": "2025-01-07T18:48:02.926Z"
   },
   {
    "duration": 15,
    "start_time": "2025-01-07T18:49:00.069Z"
   },
   {
    "duration": 8,
    "start_time": "2025-01-07T18:49:36.274Z"
   },
   {
    "duration": 18,
    "start_time": "2025-01-07T18:51:44.585Z"
   },
   {
    "duration": 8,
    "start_time": "2025-01-07T18:52:01.621Z"
   },
   {
    "duration": 3,
    "start_time": "2025-01-07T18:52:20.185Z"
   },
   {
    "duration": 328,
    "start_time": "2025-01-07T18:52:50.856Z"
   },
   {
    "duration": 5,
    "start_time": "2025-01-07T18:53:33.787Z"
   },
   {
    "duration": 10,
    "start_time": "2025-01-07T18:53:45.377Z"
   },
   {
    "duration": 3,
    "start_time": "2025-01-07T18:54:42.031Z"
   },
   {
    "duration": 26,
    "start_time": "2025-01-07T18:54:59.358Z"
   },
   {
    "duration": 25,
    "start_time": "2025-01-07T18:55:12.571Z"
   },
   {
    "duration": 9,
    "start_time": "2025-01-07T18:55:20.204Z"
   },
   {
    "duration": 9,
    "start_time": "2025-01-07T18:56:24.797Z"
   },
   {
    "duration": 33,
    "start_time": "2025-01-07T18:56:38.397Z"
   },
   {
    "duration": 9,
    "start_time": "2025-01-07T18:57:19.002Z"
   },
   {
    "duration": 12,
    "start_time": "2025-01-07T18:58:08.496Z"
   },
   {
    "duration": 8,
    "start_time": "2025-01-07T19:08:47.797Z"
   },
   {
    "duration": 12,
    "start_time": "2025-01-07T19:09:25.026Z"
   },
   {
    "duration": 23,
    "start_time": "2025-01-07T19:10:07.155Z"
   },
   {
    "duration": 16,
    "start_time": "2025-01-07T19:16:57.995Z"
   },
   {
    "duration": 10,
    "start_time": "2025-01-07T19:17:13.837Z"
   },
   {
    "duration": 15,
    "start_time": "2025-01-07T19:17:38.777Z"
   },
   {
    "duration": 4,
    "start_time": "2025-01-07T19:20:59.600Z"
   },
   {
    "duration": 3,
    "start_time": "2025-01-07T19:21:16.231Z"
   },
   {
    "duration": 282,
    "start_time": "2025-01-07T19:25:02.482Z"
   },
   {
    "duration": 88,
    "start_time": "2025-01-07T19:28:16.837Z"
   },
   {
    "duration": 188,
    "start_time": "2025-01-07T19:33:51.459Z"
   },
   {
    "duration": 83,
    "start_time": "2025-01-07T19:37:26.048Z"
   },
   {
    "duration": 86,
    "start_time": "2025-01-07T19:39:15.932Z"
   },
   {
    "duration": 164,
    "start_time": "2025-01-07T19:41:08.506Z"
   },
   {
    "duration": 86,
    "start_time": "2025-01-07T19:41:08.672Z"
   },
   {
    "duration": 18,
    "start_time": "2025-01-07T19:41:08.759Z"
   },
   {
    "duration": 7,
    "start_time": "2025-01-07T19:41:08.779Z"
   },
   {
    "duration": 3,
    "start_time": "2025-01-07T19:41:08.790Z"
   },
   {
    "duration": 0,
    "start_time": "2025-01-07T19:41:08.796Z"
   },
   {
    "duration": 0,
    "start_time": "2025-01-07T19:41:08.797Z"
   },
   {
    "duration": 0,
    "start_time": "2025-01-07T19:41:08.799Z"
   },
   {
    "duration": 0,
    "start_time": "2025-01-07T19:41:08.800Z"
   },
   {
    "duration": 0,
    "start_time": "2025-01-07T19:41:08.802Z"
   },
   {
    "duration": 0,
    "start_time": "2025-01-07T19:41:08.803Z"
   },
   {
    "duration": 0,
    "start_time": "2025-01-07T19:41:08.804Z"
   },
   {
    "duration": 0,
    "start_time": "2025-01-07T19:41:08.807Z"
   },
   {
    "duration": 0,
    "start_time": "2025-01-07T19:41:08.809Z"
   },
   {
    "duration": 0,
    "start_time": "2025-01-07T19:41:08.810Z"
   },
   {
    "duration": 0,
    "start_time": "2025-01-07T19:41:08.811Z"
   },
   {
    "duration": 0,
    "start_time": "2025-01-07T19:41:08.812Z"
   },
   {
    "duration": 0,
    "start_time": "2025-01-07T19:41:08.813Z"
   },
   {
    "duration": 0,
    "start_time": "2025-01-07T19:41:08.814Z"
   },
   {
    "duration": 0,
    "start_time": "2025-01-07T19:41:08.815Z"
   },
   {
    "duration": 0,
    "start_time": "2025-01-07T19:41:08.816Z"
   },
   {
    "duration": 0,
    "start_time": "2025-01-07T19:41:08.817Z"
   },
   {
    "duration": 0,
    "start_time": "2025-01-07T19:41:08.818Z"
   },
   {
    "duration": 0,
    "start_time": "2025-01-07T19:41:08.870Z"
   },
   {
    "duration": 0,
    "start_time": "2025-01-07T19:41:08.872Z"
   },
   {
    "duration": 0,
    "start_time": "2025-01-07T19:41:08.873Z"
   },
   {
    "duration": 0,
    "start_time": "2025-01-07T19:41:08.875Z"
   },
   {
    "duration": 0,
    "start_time": "2025-01-07T19:41:08.876Z"
   },
   {
    "duration": 0,
    "start_time": "2025-01-07T19:41:08.877Z"
   },
   {
    "duration": 0,
    "start_time": "2025-01-07T19:41:08.878Z"
   },
   {
    "duration": 0,
    "start_time": "2025-01-07T19:41:08.879Z"
   },
   {
    "duration": 83,
    "start_time": "2025-01-07T19:41:18.759Z"
   },
   {
    "duration": 8,
    "start_time": "2025-01-07T19:41:32.901Z"
   },
   {
    "duration": 18,
    "start_time": "2025-01-07T19:41:36.274Z"
   },
   {
    "duration": 13,
    "start_time": "2025-01-07T19:41:45.665Z"
   },
   {
    "duration": 159,
    "start_time": "2025-01-08T04:24:33.107Z"
   },
   {
    "duration": 2666,
    "start_time": "2025-01-08T04:24:38.157Z"
   },
   {
    "duration": 89,
    "start_time": "2025-01-08T04:24:40.825Z"
   },
   {
    "duration": 9,
    "start_time": "2025-01-08T04:24:40.916Z"
   },
   {
    "duration": 348,
    "start_time": "2025-01-08T04:24:40.927Z"
   },
   {
    "duration": 0,
    "start_time": "2025-01-08T04:24:41.277Z"
   },
   {
    "duration": 0,
    "start_time": "2025-01-08T04:24:41.278Z"
   },
   {
    "duration": 0,
    "start_time": "2025-01-08T04:24:41.280Z"
   },
   {
    "duration": 0,
    "start_time": "2025-01-08T04:24:41.282Z"
   },
   {
    "duration": 0,
    "start_time": "2025-01-08T04:24:41.284Z"
   },
   {
    "duration": 0,
    "start_time": "2025-01-08T04:24:41.285Z"
   },
   {
    "duration": 0,
    "start_time": "2025-01-08T04:24:41.286Z"
   },
   {
    "duration": 0,
    "start_time": "2025-01-08T04:24:41.306Z"
   },
   {
    "duration": 0,
    "start_time": "2025-01-08T04:24:41.308Z"
   },
   {
    "duration": 0,
    "start_time": "2025-01-08T04:24:41.309Z"
   },
   {
    "duration": 0,
    "start_time": "2025-01-08T04:24:41.310Z"
   },
   {
    "duration": 0,
    "start_time": "2025-01-08T04:24:41.311Z"
   },
   {
    "duration": 0,
    "start_time": "2025-01-08T04:24:41.313Z"
   },
   {
    "duration": 0,
    "start_time": "2025-01-08T04:24:41.314Z"
   },
   {
    "duration": 0,
    "start_time": "2025-01-08T04:24:41.315Z"
   },
   {
    "duration": 0,
    "start_time": "2025-01-08T04:24:41.316Z"
   },
   {
    "duration": 0,
    "start_time": "2025-01-08T04:24:41.317Z"
   },
   {
    "duration": 0,
    "start_time": "2025-01-08T04:24:41.319Z"
   },
   {
    "duration": 0,
    "start_time": "2025-01-08T04:24:41.320Z"
   },
   {
    "duration": 0,
    "start_time": "2025-01-08T04:24:41.321Z"
   },
   {
    "duration": 0,
    "start_time": "2025-01-08T04:24:41.322Z"
   },
   {
    "duration": 0,
    "start_time": "2025-01-08T04:24:41.323Z"
   },
   {
    "duration": 0,
    "start_time": "2025-01-08T04:24:41.325Z"
   },
   {
    "duration": 0,
    "start_time": "2025-01-08T04:24:41.326Z"
   },
   {
    "duration": 0,
    "start_time": "2025-01-08T04:24:41.328Z"
   },
   {
    "duration": 0,
    "start_time": "2025-01-08T04:24:41.329Z"
   },
   {
    "duration": 1,
    "start_time": "2025-01-08T04:24:41.330Z"
   },
   {
    "duration": 25,
    "start_time": "2025-01-08T04:25:10.577Z"
   },
   {
    "duration": 10,
    "start_time": "2025-01-08T04:25:17.713Z"
   },
   {
    "duration": 17,
    "start_time": "2025-01-08T04:25:48.620Z"
   },
   {
    "duration": 9,
    "start_time": "2025-01-08T04:25:54.408Z"
   },
   {
    "duration": 277,
    "start_time": "2025-01-08T04:26:39.052Z"
   },
   {
    "duration": 420,
    "start_time": "2025-01-08T04:38:18.115Z"
   },
   {
    "duration": 11,
    "start_time": "2025-01-08T04:38:45.961Z"
   },
   {
    "duration": 11,
    "start_time": "2025-01-08T04:41:06.800Z"
   },
   {
    "duration": 13,
    "start_time": "2025-01-08T04:50:36.941Z"
   },
   {
    "duration": 13,
    "start_time": "2025-01-08T04:54:44.649Z"
   },
   {
    "duration": 5,
    "start_time": "2025-01-08T04:57:48.249Z"
   },
   {
    "duration": 6,
    "start_time": "2025-01-08T05:00:47.820Z"
   },
   {
    "duration": 3,
    "start_time": "2025-01-08T05:02:26.637Z"
   },
   {
    "duration": 5,
    "start_time": "2025-01-08T05:05:12.997Z"
   },
   {
    "duration": 4,
    "start_time": "2025-01-08T05:05:19.866Z"
   },
   {
    "duration": 4,
    "start_time": "2025-01-08T05:05:33.672Z"
   },
   {
    "duration": 4,
    "start_time": "2025-01-08T05:05:37.541Z"
   },
   {
    "duration": 5,
    "start_time": "2025-01-08T05:05:53.148Z"
   },
   {
    "duration": 3,
    "start_time": "2025-01-08T05:06:01.629Z"
   },
   {
    "duration": 3,
    "start_time": "2025-01-08T05:06:08.130Z"
   },
   {
    "duration": 4,
    "start_time": "2025-01-08T05:10:16.640Z"
   },
   {
    "duration": 3,
    "start_time": "2025-01-08T05:10:25.775Z"
   },
   {
    "duration": 4,
    "start_time": "2025-01-08T05:10:36.458Z"
   },
   {
    "duration": 7,
    "start_time": "2025-01-08T05:16:34.138Z"
   },
   {
    "duration": 8,
    "start_time": "2025-01-08T05:16:59.804Z"
   },
   {
    "duration": 10,
    "start_time": "2025-01-08T05:17:15.437Z"
   },
   {
    "duration": 16,
    "start_time": "2025-01-08T05:17:25.975Z"
   },
   {
    "duration": 25,
    "start_time": "2025-01-08T05:17:31.655Z"
   },
   {
    "duration": 170,
    "start_time": "2025-01-08T05:17:40.371Z"
   },
   {
    "duration": 84,
    "start_time": "2025-01-08T05:17:40.543Z"
   },
   {
    "duration": 10,
    "start_time": "2025-01-08T05:17:40.629Z"
   },
   {
    "duration": 8,
    "start_time": "2025-01-08T05:17:40.641Z"
   },
   {
    "duration": 3,
    "start_time": "2025-01-08T05:17:40.651Z"
   },
   {
    "duration": 0,
    "start_time": "2025-01-08T05:17:40.656Z"
   },
   {
    "duration": 0,
    "start_time": "2025-01-08T05:17:40.657Z"
   },
   {
    "duration": 0,
    "start_time": "2025-01-08T05:17:40.658Z"
   },
   {
    "duration": 0,
    "start_time": "2025-01-08T05:17:40.660Z"
   },
   {
    "duration": 0,
    "start_time": "2025-01-08T05:17:40.661Z"
   },
   {
    "duration": 0,
    "start_time": "2025-01-08T05:17:40.662Z"
   },
   {
    "duration": 0,
    "start_time": "2025-01-08T05:17:40.664Z"
   },
   {
    "duration": 0,
    "start_time": "2025-01-08T05:17:40.665Z"
   },
   {
    "duration": 0,
    "start_time": "2025-01-08T05:17:40.668Z"
   },
   {
    "duration": 0,
    "start_time": "2025-01-08T05:17:40.705Z"
   },
   {
    "duration": 0,
    "start_time": "2025-01-08T05:17:40.706Z"
   },
   {
    "duration": 1,
    "start_time": "2025-01-08T05:17:40.707Z"
   },
   {
    "duration": 0,
    "start_time": "2025-01-08T05:17:40.708Z"
   },
   {
    "duration": 0,
    "start_time": "2025-01-08T05:17:40.710Z"
   },
   {
    "duration": 0,
    "start_time": "2025-01-08T05:17:40.711Z"
   },
   {
    "duration": 0,
    "start_time": "2025-01-08T05:17:40.711Z"
   },
   {
    "duration": 0,
    "start_time": "2025-01-08T05:17:40.712Z"
   },
   {
    "duration": 0,
    "start_time": "2025-01-08T05:17:40.713Z"
   },
   {
    "duration": 0,
    "start_time": "2025-01-08T05:17:40.713Z"
   },
   {
    "duration": 0,
    "start_time": "2025-01-08T05:17:40.714Z"
   },
   {
    "duration": 0,
    "start_time": "2025-01-08T05:17:40.715Z"
   },
   {
    "duration": 0,
    "start_time": "2025-01-08T05:17:40.716Z"
   },
   {
    "duration": 0,
    "start_time": "2025-01-08T05:17:40.716Z"
   },
   {
    "duration": 0,
    "start_time": "2025-01-08T05:17:40.719Z"
   },
   {
    "duration": 0,
    "start_time": "2025-01-08T05:17:40.719Z"
   },
   {
    "duration": 0,
    "start_time": "2025-01-08T05:17:40.720Z"
   },
   {
    "duration": 9,
    "start_time": "2025-01-08T05:17:54.782Z"
   },
   {
    "duration": 7,
    "start_time": "2025-01-08T05:18:02.537Z"
   },
   {
    "duration": 9,
    "start_time": "2025-01-08T05:18:22.941Z"
   },
   {
    "duration": 13,
    "start_time": "2025-01-08T05:25:56.029Z"
   },
   {
    "duration": 15,
    "start_time": "2025-01-08T05:26:25.817Z"
   },
   {
    "duration": 14,
    "start_time": "2025-01-08T05:29:04.485Z"
   },
   {
    "duration": 21,
    "start_time": "2025-01-08T05:31:09.237Z"
   },
   {
    "duration": 15,
    "start_time": "2025-01-08T05:32:00.733Z"
   },
   {
    "duration": 13,
    "start_time": "2025-01-08T05:33:03.606Z"
   },
   {
    "duration": 5,
    "start_time": "2025-01-08T05:35:08.771Z"
   },
   {
    "duration": 7,
    "start_time": "2025-01-08T05:35:24.714Z"
   },
   {
    "duration": 163,
    "start_time": "2025-01-08T05:35:36.615Z"
   },
   {
    "duration": 85,
    "start_time": "2025-01-08T05:35:36.780Z"
   },
   {
    "duration": 10,
    "start_time": "2025-01-08T05:35:36.867Z"
   },
   {
    "duration": 7,
    "start_time": "2025-01-08T05:35:36.879Z"
   },
   {
    "duration": 19,
    "start_time": "2025-01-08T05:35:36.888Z"
   },
   {
    "duration": 0,
    "start_time": "2025-01-08T05:35:36.909Z"
   },
   {
    "duration": 0,
    "start_time": "2025-01-08T05:35:36.910Z"
   },
   {
    "duration": 0,
    "start_time": "2025-01-08T05:35:36.911Z"
   },
   {
    "duration": 0,
    "start_time": "2025-01-08T05:35:36.912Z"
   },
   {
    "duration": 0,
    "start_time": "2025-01-08T05:35:36.914Z"
   },
   {
    "duration": 0,
    "start_time": "2025-01-08T05:35:36.915Z"
   },
   {
    "duration": 0,
    "start_time": "2025-01-08T05:35:36.916Z"
   },
   {
    "duration": 0,
    "start_time": "2025-01-08T05:35:36.918Z"
   },
   {
    "duration": 0,
    "start_time": "2025-01-08T05:35:36.919Z"
   },
   {
    "duration": 0,
    "start_time": "2025-01-08T05:35:36.920Z"
   },
   {
    "duration": 0,
    "start_time": "2025-01-08T05:35:36.921Z"
   },
   {
    "duration": 0,
    "start_time": "2025-01-08T05:35:36.922Z"
   },
   {
    "duration": 0,
    "start_time": "2025-01-08T05:35:36.923Z"
   },
   {
    "duration": 0,
    "start_time": "2025-01-08T05:35:36.925Z"
   },
   {
    "duration": 0,
    "start_time": "2025-01-08T05:35:36.926Z"
   },
   {
    "duration": 0,
    "start_time": "2025-01-08T05:35:36.928Z"
   },
   {
    "duration": 0,
    "start_time": "2025-01-08T05:35:36.929Z"
   },
   {
    "duration": 0,
    "start_time": "2025-01-08T05:35:36.931Z"
   },
   {
    "duration": 0,
    "start_time": "2025-01-08T05:35:36.932Z"
   },
   {
    "duration": 0,
    "start_time": "2025-01-08T05:35:36.934Z"
   },
   {
    "duration": 0,
    "start_time": "2025-01-08T05:35:36.936Z"
   },
   {
    "duration": 0,
    "start_time": "2025-01-08T05:35:36.937Z"
   },
   {
    "duration": 0,
    "start_time": "2025-01-08T05:35:36.938Z"
   },
   {
    "duration": 0,
    "start_time": "2025-01-08T05:35:36.939Z"
   },
   {
    "duration": 0,
    "start_time": "2025-01-08T05:35:36.941Z"
   },
   {
    "duration": 0,
    "start_time": "2025-01-08T05:35:36.942Z"
   },
   {
    "duration": 7,
    "start_time": "2025-01-08T05:35:50.019Z"
   },
   {
    "duration": 10,
    "start_time": "2025-01-08T05:40:09.115Z"
   },
   {
    "duration": 29,
    "start_time": "2025-01-08T05:44:10.392Z"
   },
   {
    "duration": 8,
    "start_time": "2025-01-08T05:44:17.024Z"
   },
   {
    "duration": 9,
    "start_time": "2025-01-08T05:44:44.383Z"
   },
   {
    "duration": 17,
    "start_time": "2025-01-08T05:44:58.350Z"
   },
   {
    "duration": 7,
    "start_time": "2025-01-08T05:45:09.457Z"
   },
   {
    "duration": 10,
    "start_time": "2025-01-08T05:45:17.972Z"
   },
   {
    "duration": 10,
    "start_time": "2025-01-08T05:45:54.914Z"
   },
   {
    "duration": 168,
    "start_time": "2025-01-08T14:37:32.410Z"
   },
   {
    "duration": 2607,
    "start_time": "2025-01-08T14:38:14.654Z"
   },
   {
    "duration": 89,
    "start_time": "2025-01-08T14:38:17.263Z"
   },
   {
    "duration": 9,
    "start_time": "2025-01-08T14:38:17.355Z"
   },
   {
    "duration": 9,
    "start_time": "2025-01-08T14:38:17.366Z"
   },
   {
    "duration": 5,
    "start_time": "2025-01-08T14:38:17.378Z"
   },
   {
    "duration": 0,
    "start_time": "2025-01-08T14:38:17.406Z"
   },
   {
    "duration": 0,
    "start_time": "2025-01-08T14:38:17.407Z"
   },
   {
    "duration": 0,
    "start_time": "2025-01-08T14:38:17.408Z"
   },
   {
    "duration": 0,
    "start_time": "2025-01-08T14:38:17.409Z"
   },
   {
    "duration": 0,
    "start_time": "2025-01-08T14:38:17.411Z"
   },
   {
    "duration": 0,
    "start_time": "2025-01-08T14:38:17.411Z"
   },
   {
    "duration": 0,
    "start_time": "2025-01-08T14:38:17.413Z"
   },
   {
    "duration": 0,
    "start_time": "2025-01-08T14:38:17.414Z"
   },
   {
    "duration": 0,
    "start_time": "2025-01-08T14:38:17.415Z"
   },
   {
    "duration": 0,
    "start_time": "2025-01-08T14:38:17.416Z"
   },
   {
    "duration": 0,
    "start_time": "2025-01-08T14:38:17.417Z"
   },
   {
    "duration": 0,
    "start_time": "2025-01-08T14:38:17.418Z"
   },
   {
    "duration": 0,
    "start_time": "2025-01-08T14:38:17.419Z"
   },
   {
    "duration": 0,
    "start_time": "2025-01-08T14:38:17.420Z"
   },
   {
    "duration": 0,
    "start_time": "2025-01-08T14:38:17.421Z"
   },
   {
    "duration": 0,
    "start_time": "2025-01-08T14:38:17.423Z"
   },
   {
    "duration": 0,
    "start_time": "2025-01-08T14:38:17.423Z"
   },
   {
    "duration": 0,
    "start_time": "2025-01-08T14:38:17.425Z"
   },
   {
    "duration": 0,
    "start_time": "2025-01-08T14:38:17.425Z"
   },
   {
    "duration": 0,
    "start_time": "2025-01-08T14:38:17.427Z"
   },
   {
    "duration": 0,
    "start_time": "2025-01-08T14:38:17.428Z"
   },
   {
    "duration": 0,
    "start_time": "2025-01-08T14:38:17.429Z"
   },
   {
    "duration": 0,
    "start_time": "2025-01-08T14:38:17.430Z"
   },
   {
    "duration": 0,
    "start_time": "2025-01-08T14:38:17.431Z"
   },
   {
    "duration": 0,
    "start_time": "2025-01-08T14:38:17.432Z"
   },
   {
    "duration": 0,
    "start_time": "2025-01-08T14:38:17.433Z"
   },
   {
    "duration": 0,
    "start_time": "2025-01-08T14:38:17.434Z"
   },
   {
    "duration": 16,
    "start_time": "2025-01-08T14:38:25.937Z"
   },
   {
    "duration": 29,
    "start_time": "2025-01-08T14:38:47.595Z"
   },
   {
    "duration": 12,
    "start_time": "2025-01-08T14:39:44.578Z"
   },
   {
    "duration": 19,
    "start_time": "2025-01-08T14:50:16.390Z"
   },
   {
    "duration": 4,
    "start_time": "2025-01-08T14:51:51.247Z"
   },
   {
    "duration": 61,
    "start_time": "2025-01-08T14:51:56.433Z"
   },
   {
    "duration": 61,
    "start_time": "2025-01-08T14:52:26.147Z"
   },
   {
    "duration": 107,
    "start_time": "2025-01-08T14:53:08.359Z"
   },
   {
    "duration": 51,
    "start_time": "2025-01-08T14:59:54.203Z"
   },
   {
    "duration": 118,
    "start_time": "2025-01-08T15:00:12.206Z"
   },
   {
    "duration": 58,
    "start_time": "2025-01-08T15:00:23.119Z"
   },
   {
    "duration": 54,
    "start_time": "2025-01-08T15:00:30.886Z"
   },
   {
    "duration": 5,
    "start_time": "2025-01-08T15:03:19.949Z"
   },
   {
    "duration": 14,
    "start_time": "2025-01-08T15:03:53.245Z"
   },
   {
    "duration": 9,
    "start_time": "2025-01-08T15:04:16.659Z"
   },
   {
    "duration": 14,
    "start_time": "2025-01-08T15:06:25.633Z"
   },
   {
    "duration": 13,
    "start_time": "2025-01-08T15:07:05.368Z"
   },
   {
    "duration": 161,
    "start_time": "2025-01-08T18:39:30.277Z"
   },
   {
    "duration": 2828,
    "start_time": "2025-01-08T18:40:12.673Z"
   },
   {
    "duration": 97,
    "start_time": "2025-01-08T18:40:15.503Z"
   },
   {
    "duration": 19,
    "start_time": "2025-01-08T18:40:15.601Z"
   },
   {
    "duration": 10,
    "start_time": "2025-01-08T18:40:15.635Z"
   },
   {
    "duration": 5,
    "start_time": "2025-01-08T18:40:15.647Z"
   },
   {
    "duration": 0,
    "start_time": "2025-01-08T18:40:15.654Z"
   },
   {
    "duration": 0,
    "start_time": "2025-01-08T18:40:15.656Z"
   },
   {
    "duration": 0,
    "start_time": "2025-01-08T18:40:15.657Z"
   },
   {
    "duration": 0,
    "start_time": "2025-01-08T18:40:15.658Z"
   },
   {
    "duration": 0,
    "start_time": "2025-01-08T18:40:15.659Z"
   },
   {
    "duration": 0,
    "start_time": "2025-01-08T18:40:15.660Z"
   },
   {
    "duration": 0,
    "start_time": "2025-01-08T18:40:15.661Z"
   },
   {
    "duration": 0,
    "start_time": "2025-01-08T18:40:15.663Z"
   },
   {
    "duration": 0,
    "start_time": "2025-01-08T18:40:15.664Z"
   },
   {
    "duration": 0,
    "start_time": "2025-01-08T18:40:15.666Z"
   },
   {
    "duration": 0,
    "start_time": "2025-01-08T18:40:15.667Z"
   },
   {
    "duration": 0,
    "start_time": "2025-01-08T18:40:15.669Z"
   },
   {
    "duration": 0,
    "start_time": "2025-01-08T18:40:15.670Z"
   },
   {
    "duration": 0,
    "start_time": "2025-01-08T18:40:15.672Z"
   },
   {
    "duration": 0,
    "start_time": "2025-01-08T18:40:15.673Z"
   },
   {
    "duration": 0,
    "start_time": "2025-01-08T18:40:15.674Z"
   },
   {
    "duration": 0,
    "start_time": "2025-01-08T18:40:15.675Z"
   },
   {
    "duration": 0,
    "start_time": "2025-01-08T18:40:15.676Z"
   },
   {
    "duration": 0,
    "start_time": "2025-01-08T18:40:15.677Z"
   },
   {
    "duration": 0,
    "start_time": "2025-01-08T18:40:15.678Z"
   },
   {
    "duration": 0,
    "start_time": "2025-01-08T18:40:15.679Z"
   },
   {
    "duration": 0,
    "start_time": "2025-01-08T18:40:15.710Z"
   },
   {
    "duration": 0,
    "start_time": "2025-01-08T18:40:15.711Z"
   },
   {
    "duration": 0,
    "start_time": "2025-01-08T18:40:15.712Z"
   },
   {
    "duration": 0,
    "start_time": "2025-01-08T18:40:15.713Z"
   },
   {
    "duration": 0,
    "start_time": "2025-01-08T18:40:15.715Z"
   },
   {
    "duration": 0,
    "start_time": "2025-01-08T18:40:15.718Z"
   },
   {
    "duration": 0,
    "start_time": "2025-01-08T18:40:15.719Z"
   },
   {
    "duration": 0,
    "start_time": "2025-01-08T18:40:15.720Z"
   },
   {
    "duration": 0,
    "start_time": "2025-01-08T18:40:15.722Z"
   },
   {
    "duration": 0,
    "start_time": "2025-01-08T18:40:15.723Z"
   },
   {
    "duration": 358,
    "start_time": "2025-01-08T18:40:24.430Z"
   },
   {
    "duration": 27,
    "start_time": "2025-01-08T18:40:32.733Z"
   },
   {
    "duration": 11,
    "start_time": "2025-01-08T18:40:47.430Z"
   },
   {
    "duration": 18,
    "start_time": "2025-01-08T18:43:08.482Z"
   },
   {
    "duration": 17,
    "start_time": "2025-01-08T18:43:14.030Z"
   },
   {
    "duration": 19,
    "start_time": "2025-01-08T18:44:11.790Z"
   },
   {
    "duration": 18,
    "start_time": "2025-01-08T18:45:57.191Z"
   },
   {
    "duration": 12,
    "start_time": "2025-01-08T18:46:03.547Z"
   },
   {
    "duration": 22,
    "start_time": "2025-01-08T18:52:13.394Z"
   },
   {
    "duration": 28,
    "start_time": "2025-01-08T18:57:38.478Z"
   },
   {
    "duration": 14,
    "start_time": "2025-01-08T19:00:17.682Z"
   },
   {
    "duration": 5,
    "start_time": "2025-01-08T19:00:24.634Z"
   },
   {
    "duration": 27,
    "start_time": "2025-01-08T19:24:10.682Z"
   },
   {
    "duration": 14,
    "start_time": "2025-01-08T19:24:46.526Z"
   },
   {
    "duration": 33,
    "start_time": "2025-01-08T19:25:39.234Z"
   },
   {
    "duration": 78,
    "start_time": "2025-01-08T19:26:11.712Z"
   },
   {
    "duration": 83,
    "start_time": "2025-01-08T19:26:33.655Z"
   },
   {
    "duration": 9,
    "start_time": "2025-01-08T19:26:47.332Z"
   },
   {
    "duration": 16,
    "start_time": "2025-01-08T19:28:25.175Z"
   },
   {
    "duration": 2,
    "start_time": "2025-01-08T19:28:28.220Z"
   },
   {
    "duration": 20,
    "start_time": "2025-01-08T19:28:48.842Z"
   },
   {
    "duration": 25,
    "start_time": "2025-01-08T19:37:52.867Z"
   },
   {
    "duration": 176,
    "start_time": "2025-01-09T01:40:49.023Z"
   },
   {
    "duration": 2692,
    "start_time": "2025-01-09T01:40:54.253Z"
   },
   {
    "duration": 90,
    "start_time": "2025-01-09T01:40:56.947Z"
   },
   {
    "duration": 10,
    "start_time": "2025-01-09T01:40:57.039Z"
   },
   {
    "duration": 9,
    "start_time": "2025-01-09T01:40:57.050Z"
   },
   {
    "duration": 5,
    "start_time": "2025-01-09T01:40:57.061Z"
   },
   {
    "duration": 0,
    "start_time": "2025-01-09T01:40:57.069Z"
   },
   {
    "duration": 0,
    "start_time": "2025-01-09T01:40:57.070Z"
   },
   {
    "duration": 0,
    "start_time": "2025-01-09T01:40:57.072Z"
   },
   {
    "duration": 0,
    "start_time": "2025-01-09T01:40:57.073Z"
   },
   {
    "duration": 0,
    "start_time": "2025-01-09T01:40:57.075Z"
   },
   {
    "duration": 0,
    "start_time": "2025-01-09T01:40:57.077Z"
   },
   {
    "duration": 0,
    "start_time": "2025-01-09T01:40:57.078Z"
   },
   {
    "duration": 0,
    "start_time": "2025-01-09T01:40:57.080Z"
   },
   {
    "duration": 0,
    "start_time": "2025-01-09T01:40:57.081Z"
   },
   {
    "duration": 0,
    "start_time": "2025-01-09T01:40:57.083Z"
   },
   {
    "duration": 0,
    "start_time": "2025-01-09T01:40:57.084Z"
   },
   {
    "duration": 0,
    "start_time": "2025-01-09T01:40:57.124Z"
   },
   {
    "duration": 0,
    "start_time": "2025-01-09T01:40:57.125Z"
   },
   {
    "duration": 0,
    "start_time": "2025-01-09T01:40:57.127Z"
   },
   {
    "duration": 0,
    "start_time": "2025-01-09T01:40:57.128Z"
   },
   {
    "duration": 0,
    "start_time": "2025-01-09T01:40:57.129Z"
   },
   {
    "duration": 0,
    "start_time": "2025-01-09T01:40:57.131Z"
   },
   {
    "duration": 0,
    "start_time": "2025-01-09T01:40:57.132Z"
   },
   {
    "duration": 0,
    "start_time": "2025-01-09T01:40:57.134Z"
   },
   {
    "duration": 0,
    "start_time": "2025-01-09T01:40:57.136Z"
   },
   {
    "duration": 0,
    "start_time": "2025-01-09T01:40:57.137Z"
   },
   {
    "duration": 0,
    "start_time": "2025-01-09T01:40:57.139Z"
   },
   {
    "duration": 0,
    "start_time": "2025-01-09T01:40:57.140Z"
   },
   {
    "duration": 0,
    "start_time": "2025-01-09T01:40:57.141Z"
   },
   {
    "duration": 0,
    "start_time": "2025-01-09T01:40:57.142Z"
   },
   {
    "duration": 0,
    "start_time": "2025-01-09T01:40:57.143Z"
   },
   {
    "duration": 0,
    "start_time": "2025-01-09T01:40:57.144Z"
   },
   {
    "duration": 0,
    "start_time": "2025-01-09T01:40:57.145Z"
   },
   {
    "duration": 0,
    "start_time": "2025-01-09T01:40:57.146Z"
   },
   {
    "duration": 0,
    "start_time": "2025-01-09T01:40:57.147Z"
   },
   {
    "duration": 0,
    "start_time": "2025-01-09T01:40:57.149Z"
   },
   {
    "duration": 0,
    "start_time": "2025-01-09T01:40:57.150Z"
   },
   {
    "duration": 0,
    "start_time": "2025-01-09T01:40:57.152Z"
   },
   {
    "duration": 332,
    "start_time": "2025-01-09T01:41:18.865Z"
   },
   {
    "duration": 28,
    "start_time": "2025-01-09T01:41:30.591Z"
   },
   {
    "duration": 28,
    "start_time": "2025-01-09T01:41:45.204Z"
   },
   {
    "duration": 158,
    "start_time": "2025-01-09T01:41:54.917Z"
   },
   {
    "duration": 85,
    "start_time": "2025-01-09T01:41:59.750Z"
   },
   {
    "duration": 10,
    "start_time": "2025-01-09T01:42:04.252Z"
   },
   {
    "duration": 8,
    "start_time": "2025-01-09T01:42:11.843Z"
   },
   {
    "duration": 10,
    "start_time": "2025-01-09T01:42:19.545Z"
   },
   {
    "duration": 16,
    "start_time": "2025-01-09T01:42:23.493Z"
   },
   {
    "duration": 9,
    "start_time": "2025-01-09T01:42:28.784Z"
   },
   {
    "duration": 7,
    "start_time": "2025-01-09T01:42:33.573Z"
   },
   {
    "duration": 10,
    "start_time": "2025-01-09T01:42:41.600Z"
   },
   {
    "duration": 29,
    "start_time": "2025-01-09T01:42:47.469Z"
   },
   {
    "duration": 10,
    "start_time": "2025-01-09T01:42:51.833Z"
   },
   {
    "duration": 70,
    "start_time": "2025-01-09T01:42:56.293Z"
   },
   {
    "duration": 60,
    "start_time": "2025-01-09T01:43:01.139Z"
   },
   {
    "duration": 13,
    "start_time": "2025-01-09T01:43:06.509Z"
   },
   {
    "duration": 7,
    "start_time": "2025-01-09T01:43:11.143Z"
   },
   {
    "duration": 23,
    "start_time": "2025-01-09T01:43:16.465Z"
   },
   {
    "duration": 16,
    "start_time": "2025-01-09T01:43:21.333Z"
   },
   {
    "duration": 19,
    "start_time": "2025-01-09T01:43:28.061Z"
   },
   {
    "duration": 9,
    "start_time": "2025-01-09T01:43:33.469Z"
   },
   {
    "duration": 21,
    "start_time": "2025-01-09T01:43:39.069Z"
   },
   {
    "duration": 27,
    "start_time": "2025-01-09T01:43:44.055Z"
   },
   {
    "duration": 6,
    "start_time": "2025-01-09T01:43:56.069Z"
   },
   {
    "duration": 21,
    "start_time": "2025-01-09T01:44:01.490Z"
   },
   {
    "duration": 25,
    "start_time": "2025-01-09T01:45:27.470Z"
   },
   {
    "duration": 21,
    "start_time": "2025-01-09T01:51:52.632Z"
   },
   {
    "duration": 24,
    "start_time": "2025-01-09T01:58:39.797Z"
   },
   {
    "duration": 23,
    "start_time": "2025-01-09T02:44:25.891Z"
   },
   {
    "duration": 19,
    "start_time": "2025-01-09T02:45:31.947Z"
   },
   {
    "duration": 22,
    "start_time": "2025-01-09T02:57:23.412Z"
   },
   {
    "duration": 21,
    "start_time": "2025-01-09T03:00:00.809Z"
   },
   {
    "duration": 179,
    "start_time": "2025-01-09T03:06:45.319Z"
   },
   {
    "duration": 26,
    "start_time": "2025-01-09T03:08:14.081Z"
   },
   {
    "duration": 55,
    "start_time": "2025-01-09T03:11:22.187Z"
   },
   {
    "duration": 402,
    "start_time": "2025-01-09T03:17:25.737Z"
   },
   {
    "duration": 46,
    "start_time": "2025-01-09T03:17:55.262Z"
   },
   {
    "duration": 131,
    "start_time": "2025-01-09T03:18:36.810Z"
   },
   {
    "duration": 55,
    "start_time": "2025-01-09T03:18:47.493Z"
   },
   {
    "duration": 175,
    "start_time": "2025-01-09T03:18:50.631Z"
   },
   {
    "duration": 90,
    "start_time": "2025-01-09T03:18:50.809Z"
   },
   {
    "duration": 9,
    "start_time": "2025-01-09T03:18:50.902Z"
   },
   {
    "duration": 8,
    "start_time": "2025-01-09T03:18:50.924Z"
   },
   {
    "duration": 4,
    "start_time": "2025-01-09T03:18:50.935Z"
   },
   {
    "duration": 0,
    "start_time": "2025-01-09T03:18:50.941Z"
   },
   {
    "duration": 0,
    "start_time": "2025-01-09T03:18:50.942Z"
   },
   {
    "duration": 0,
    "start_time": "2025-01-09T03:18:50.943Z"
   },
   {
    "duration": 0,
    "start_time": "2025-01-09T03:18:50.944Z"
   },
   {
    "duration": 0,
    "start_time": "2025-01-09T03:18:50.946Z"
   },
   {
    "duration": 0,
    "start_time": "2025-01-09T03:18:50.947Z"
   },
   {
    "duration": 0,
    "start_time": "2025-01-09T03:18:50.949Z"
   },
   {
    "duration": 0,
    "start_time": "2025-01-09T03:18:50.950Z"
   },
   {
    "duration": 0,
    "start_time": "2025-01-09T03:18:50.951Z"
   },
   {
    "duration": 0,
    "start_time": "2025-01-09T03:18:50.952Z"
   },
   {
    "duration": 0,
    "start_time": "2025-01-09T03:18:50.954Z"
   },
   {
    "duration": 0,
    "start_time": "2025-01-09T03:18:50.955Z"
   },
   {
    "duration": 0,
    "start_time": "2025-01-09T03:18:50.956Z"
   },
   {
    "duration": 0,
    "start_time": "2025-01-09T03:18:50.956Z"
   },
   {
    "duration": 0,
    "start_time": "2025-01-09T03:18:50.958Z"
   },
   {
    "duration": 0,
    "start_time": "2025-01-09T03:18:50.960Z"
   },
   {
    "duration": 0,
    "start_time": "2025-01-09T03:18:50.961Z"
   },
   {
    "duration": 0,
    "start_time": "2025-01-09T03:18:50.962Z"
   },
   {
    "duration": 0,
    "start_time": "2025-01-09T03:18:50.963Z"
   },
   {
    "duration": 0,
    "start_time": "2025-01-09T03:18:50.965Z"
   },
   {
    "duration": 0,
    "start_time": "2025-01-09T03:18:50.966Z"
   },
   {
    "duration": 0,
    "start_time": "2025-01-09T03:18:50.968Z"
   },
   {
    "duration": 0,
    "start_time": "2025-01-09T03:18:50.970Z"
   },
   {
    "duration": 0,
    "start_time": "2025-01-09T03:18:51.026Z"
   },
   {
    "duration": 0,
    "start_time": "2025-01-09T03:18:51.027Z"
   },
   {
    "duration": 0,
    "start_time": "2025-01-09T03:18:51.028Z"
   },
   {
    "duration": 0,
    "start_time": "2025-01-09T03:18:51.030Z"
   },
   {
    "duration": 0,
    "start_time": "2025-01-09T03:18:51.032Z"
   },
   {
    "duration": 0,
    "start_time": "2025-01-09T03:18:51.034Z"
   },
   {
    "duration": 0,
    "start_time": "2025-01-09T03:18:51.035Z"
   },
   {
    "duration": 0,
    "start_time": "2025-01-09T03:18:51.037Z"
   },
   {
    "duration": 0,
    "start_time": "2025-01-09T03:18:51.038Z"
   },
   {
    "duration": 0,
    "start_time": "2025-01-09T03:18:51.040Z"
   },
   {
    "duration": 42,
    "start_time": "2025-01-09T03:18:58.899Z"
   },
   {
    "duration": 169,
    "start_time": "2025-01-09T03:19:07.459Z"
   },
   {
    "duration": 97,
    "start_time": "2025-01-09T03:19:10.981Z"
   },
   {
    "duration": 10,
    "start_time": "2025-01-09T03:19:15.009Z"
   },
   {
    "duration": 7,
    "start_time": "2025-01-09T03:19:18.959Z"
   },
   {
    "duration": 5,
    "start_time": "2025-01-09T03:19:26.241Z"
   },
   {
    "duration": 7,
    "start_time": "2025-01-09T03:19:30.568Z"
   },
   {
    "duration": 17,
    "start_time": "2025-01-09T03:19:34.556Z"
   },
   {
    "duration": 9,
    "start_time": "2025-01-09T03:19:38.529Z"
   },
   {
    "duration": 7,
    "start_time": "2025-01-09T03:19:45.145Z"
   },
   {
    "duration": 9,
    "start_time": "2025-01-09T03:19:50.602Z"
   },
   {
    "duration": 30,
    "start_time": "2025-01-09T03:19:55.913Z"
   },
   {
    "duration": 11,
    "start_time": "2025-01-09T03:20:02.052Z"
   },
   {
    "duration": 61,
    "start_time": "2025-01-09T03:20:06.245Z"
   },
   {
    "duration": 58,
    "start_time": "2025-01-09T03:20:12.238Z"
   },
   {
    "duration": 15,
    "start_time": "2025-01-09T03:20:16.337Z"
   },
   {
    "duration": 9,
    "start_time": "2025-01-09T03:20:20.753Z"
   },
   {
    "duration": 22,
    "start_time": "2025-01-09T03:20:25.869Z"
   },
   {
    "duration": 17,
    "start_time": "2025-01-09T03:20:29.808Z"
   },
   {
    "duration": 18,
    "start_time": "2025-01-09T03:20:33.440Z"
   },
   {
    "duration": 9,
    "start_time": "2025-01-09T03:20:38.127Z"
   },
   {
    "duration": 23,
    "start_time": "2025-01-09T03:20:45.959Z"
   },
   {
    "duration": 25,
    "start_time": "2025-01-09T03:20:50.994Z"
   },
   {
    "duration": 6,
    "start_time": "2025-01-09T03:20:56.551Z"
   },
   {
    "duration": 19,
    "start_time": "2025-01-09T03:21:00.902Z"
   },
   {
    "duration": 27,
    "start_time": "2025-01-09T03:21:05.015Z"
   },
   {
    "duration": 19,
    "start_time": "2025-01-09T03:21:11.196Z"
   },
   {
    "duration": 23,
    "start_time": "2025-01-09T03:21:17.658Z"
   },
   {
    "duration": 211,
    "start_time": "2025-01-09T03:21:22.431Z"
   },
   {
    "duration": 49,
    "start_time": "2025-01-09T03:22:25.724Z"
   },
   {
    "duration": 46,
    "start_time": "2025-01-09T03:22:57.230Z"
   },
   {
    "duration": 174,
    "start_time": "2025-01-09T03:23:03.587Z"
   },
   {
    "duration": 91,
    "start_time": "2025-01-09T03:23:03.763Z"
   },
   {
    "duration": 11,
    "start_time": "2025-01-09T03:23:03.856Z"
   },
   {
    "duration": 10,
    "start_time": "2025-01-09T03:23:03.869Z"
   },
   {
    "duration": 4,
    "start_time": "2025-01-09T03:23:03.882Z"
   },
   {
    "duration": 0,
    "start_time": "2025-01-09T03:23:03.888Z"
   },
   {
    "duration": 0,
    "start_time": "2025-01-09T03:23:03.889Z"
   },
   {
    "duration": 0,
    "start_time": "2025-01-09T03:23:03.890Z"
   },
   {
    "duration": 0,
    "start_time": "2025-01-09T03:23:03.891Z"
   },
   {
    "duration": 0,
    "start_time": "2025-01-09T03:23:03.892Z"
   },
   {
    "duration": 0,
    "start_time": "2025-01-09T03:23:03.892Z"
   },
   {
    "duration": 0,
    "start_time": "2025-01-09T03:23:03.894Z"
   },
   {
    "duration": 0,
    "start_time": "2025-01-09T03:23:03.924Z"
   },
   {
    "duration": 0,
    "start_time": "2025-01-09T03:23:03.925Z"
   },
   {
    "duration": 0,
    "start_time": "2025-01-09T03:23:03.926Z"
   },
   {
    "duration": 0,
    "start_time": "2025-01-09T03:23:03.928Z"
   },
   {
    "duration": 0,
    "start_time": "2025-01-09T03:23:03.929Z"
   },
   {
    "duration": 0,
    "start_time": "2025-01-09T03:23:03.931Z"
   },
   {
    "duration": 0,
    "start_time": "2025-01-09T03:23:03.932Z"
   },
   {
    "duration": 0,
    "start_time": "2025-01-09T03:23:03.934Z"
   },
   {
    "duration": 0,
    "start_time": "2025-01-09T03:23:03.936Z"
   },
   {
    "duration": 0,
    "start_time": "2025-01-09T03:23:03.938Z"
   },
   {
    "duration": 0,
    "start_time": "2025-01-09T03:23:03.940Z"
   },
   {
    "duration": 0,
    "start_time": "2025-01-09T03:23:03.941Z"
   },
   {
    "duration": 0,
    "start_time": "2025-01-09T03:23:03.943Z"
   },
   {
    "duration": 0,
    "start_time": "2025-01-09T03:23:03.944Z"
   },
   {
    "duration": 0,
    "start_time": "2025-01-09T03:23:03.945Z"
   },
   {
    "duration": 0,
    "start_time": "2025-01-09T03:23:03.945Z"
   },
   {
    "duration": 0,
    "start_time": "2025-01-09T03:23:03.946Z"
   },
   {
    "duration": 0,
    "start_time": "2025-01-09T03:23:03.947Z"
   },
   {
    "duration": 0,
    "start_time": "2025-01-09T03:23:03.948Z"
   },
   {
    "duration": 0,
    "start_time": "2025-01-09T03:23:03.950Z"
   },
   {
    "duration": 0,
    "start_time": "2025-01-09T03:23:03.951Z"
   },
   {
    "duration": 0,
    "start_time": "2025-01-09T03:23:03.952Z"
   },
   {
    "duration": 0,
    "start_time": "2025-01-09T03:23:03.953Z"
   },
   {
    "duration": 0,
    "start_time": "2025-01-09T03:23:03.954Z"
   },
   {
    "duration": 0,
    "start_time": "2025-01-09T03:23:03.956Z"
   },
   {
    "duration": 0,
    "start_time": "2025-01-09T03:23:03.957Z"
   },
   {
    "duration": 49,
    "start_time": "2025-01-09T03:23:11.490Z"
   },
   {
    "duration": 151,
    "start_time": "2025-01-09T03:23:20.743Z"
   },
   {
    "duration": 90,
    "start_time": "2025-01-09T03:23:23.857Z"
   },
   {
    "duration": 10,
    "start_time": "2025-01-09T03:23:28.374Z"
   },
   {
    "duration": 7,
    "start_time": "2025-01-09T03:23:35.690Z"
   },
   {
    "duration": 6,
    "start_time": "2025-01-09T03:23:39.538Z"
   },
   {
    "duration": 8,
    "start_time": "2025-01-09T03:23:42.752Z"
   },
   {
    "duration": 16,
    "start_time": "2025-01-09T03:23:46.634Z"
   },
   {
    "duration": 9,
    "start_time": "2025-01-09T03:23:52.542Z"
   },
   {
    "duration": 7,
    "start_time": "2025-01-09T03:23:56.849Z"
   },
   {
    "duration": 11,
    "start_time": "2025-01-09T03:24:03.361Z"
   },
   {
    "duration": 31,
    "start_time": "2025-01-09T03:24:08.018Z"
   },
   {
    "duration": 9,
    "start_time": "2025-01-09T03:24:11.970Z"
   },
   {
    "duration": 60,
    "start_time": "2025-01-09T03:24:16.615Z"
   },
   {
    "duration": 51,
    "start_time": "2025-01-09T03:24:20.990Z"
   },
   {
    "duration": 13,
    "start_time": "2025-01-09T03:24:26.435Z"
   },
   {
    "duration": 9,
    "start_time": "2025-01-09T03:24:30.084Z"
   },
   {
    "duration": 23,
    "start_time": "2025-01-09T03:24:34.440Z"
   },
   {
    "duration": 17,
    "start_time": "2025-01-09T03:24:37.876Z"
   },
   {
    "duration": 18,
    "start_time": "2025-01-09T03:24:41.373Z"
   },
   {
    "duration": 9,
    "start_time": "2025-01-09T03:24:46.192Z"
   },
   {
    "duration": 26,
    "start_time": "2025-01-09T03:24:50.205Z"
   },
   {
    "duration": 25,
    "start_time": "2025-01-09T03:24:54.269Z"
   },
   {
    "duration": 5,
    "start_time": "2025-01-09T03:24:58.497Z"
   },
   {
    "duration": 20,
    "start_time": "2025-01-09T03:25:02.734Z"
   },
   {
    "duration": 26,
    "start_time": "2025-01-09T03:25:06.430Z"
   },
   {
    "duration": 20,
    "start_time": "2025-01-09T03:25:10.340Z"
   },
   {
    "duration": 24,
    "start_time": "2025-01-09T03:25:14.305Z"
   },
   {
    "duration": 224,
    "start_time": "2025-01-09T03:25:19.609Z"
   },
   {
    "duration": 45,
    "start_time": "2025-01-09T03:29:04.954Z"
   },
   {
    "duration": 156,
    "start_time": "2025-01-09T03:29:13.009Z"
   },
   {
    "duration": 86,
    "start_time": "2025-01-09T03:29:13.168Z"
   },
   {
    "duration": 10,
    "start_time": "2025-01-09T03:29:13.256Z"
   },
   {
    "duration": 7,
    "start_time": "2025-01-09T03:29:13.268Z"
   },
   {
    "duration": 4,
    "start_time": "2025-01-09T03:29:13.277Z"
   },
   {
    "duration": 0,
    "start_time": "2025-01-09T03:29:13.283Z"
   },
   {
    "duration": 0,
    "start_time": "2025-01-09T03:29:13.285Z"
   },
   {
    "duration": 0,
    "start_time": "2025-01-09T03:29:13.286Z"
   },
   {
    "duration": 0,
    "start_time": "2025-01-09T03:29:13.287Z"
   },
   {
    "duration": 0,
    "start_time": "2025-01-09T03:29:13.288Z"
   },
   {
    "duration": 0,
    "start_time": "2025-01-09T03:29:13.289Z"
   },
   {
    "duration": 0,
    "start_time": "2025-01-09T03:29:13.291Z"
   },
   {
    "duration": 0,
    "start_time": "2025-01-09T03:29:13.324Z"
   },
   {
    "duration": 0,
    "start_time": "2025-01-09T03:29:13.326Z"
   },
   {
    "duration": 0,
    "start_time": "2025-01-09T03:29:13.327Z"
   },
   {
    "duration": 0,
    "start_time": "2025-01-09T03:29:13.328Z"
   },
   {
    "duration": 0,
    "start_time": "2025-01-09T03:29:13.329Z"
   },
   {
    "duration": 0,
    "start_time": "2025-01-09T03:29:13.331Z"
   },
   {
    "duration": 0,
    "start_time": "2025-01-09T03:29:13.331Z"
   },
   {
    "duration": 0,
    "start_time": "2025-01-09T03:29:13.332Z"
   },
   {
    "duration": 0,
    "start_time": "2025-01-09T03:29:13.333Z"
   },
   {
    "duration": 0,
    "start_time": "2025-01-09T03:29:13.334Z"
   },
   {
    "duration": 0,
    "start_time": "2025-01-09T03:29:13.335Z"
   },
   {
    "duration": 0,
    "start_time": "2025-01-09T03:29:13.336Z"
   },
   {
    "duration": 0,
    "start_time": "2025-01-09T03:29:13.338Z"
   },
   {
    "duration": 0,
    "start_time": "2025-01-09T03:29:13.339Z"
   },
   {
    "duration": 0,
    "start_time": "2025-01-09T03:29:13.340Z"
   },
   {
    "duration": 0,
    "start_time": "2025-01-09T03:29:13.341Z"
   },
   {
    "duration": 46,
    "start_time": "2025-01-09T03:29:16.858Z"
   },
   {
    "duration": 161,
    "start_time": "2025-01-09T03:29:22.251Z"
   },
   {
    "duration": 85,
    "start_time": "2025-01-09T03:29:22.415Z"
   },
   {
    "duration": 10,
    "start_time": "2025-01-09T03:29:22.501Z"
   },
   {
    "duration": 20,
    "start_time": "2025-01-09T03:29:22.512Z"
   },
   {
    "duration": 4,
    "start_time": "2025-01-09T03:29:22.534Z"
   },
   {
    "duration": 0,
    "start_time": "2025-01-09T03:29:22.540Z"
   },
   {
    "duration": 0,
    "start_time": "2025-01-09T03:29:22.542Z"
   },
   {
    "duration": 0,
    "start_time": "2025-01-09T03:29:22.543Z"
   },
   {
    "duration": 0,
    "start_time": "2025-01-09T03:29:22.545Z"
   },
   {
    "duration": 0,
    "start_time": "2025-01-09T03:29:22.546Z"
   },
   {
    "duration": 0,
    "start_time": "2025-01-09T03:29:22.547Z"
   },
   {
    "duration": 0,
    "start_time": "2025-01-09T03:29:22.548Z"
   },
   {
    "duration": 0,
    "start_time": "2025-01-09T03:29:22.549Z"
   },
   {
    "duration": 0,
    "start_time": "2025-01-09T03:29:22.551Z"
   },
   {
    "duration": 0,
    "start_time": "2025-01-09T03:29:22.551Z"
   },
   {
    "duration": 0,
    "start_time": "2025-01-09T03:29:22.553Z"
   },
   {
    "duration": 0,
    "start_time": "2025-01-09T03:29:22.554Z"
   },
   {
    "duration": 0,
    "start_time": "2025-01-09T03:29:22.555Z"
   },
   {
    "duration": 0,
    "start_time": "2025-01-09T03:29:22.556Z"
   },
   {
    "duration": 0,
    "start_time": "2025-01-09T03:29:22.557Z"
   },
   {
    "duration": 0,
    "start_time": "2025-01-09T03:29:22.558Z"
   },
   {
    "duration": 0,
    "start_time": "2025-01-09T03:29:22.559Z"
   },
   {
    "duration": 0,
    "start_time": "2025-01-09T03:29:22.560Z"
   },
   {
    "duration": 0,
    "start_time": "2025-01-09T03:29:22.561Z"
   },
   {
    "duration": 0,
    "start_time": "2025-01-09T03:29:22.562Z"
   },
   {
    "duration": 0,
    "start_time": "2025-01-09T03:29:22.563Z"
   },
   {
    "duration": 0,
    "start_time": "2025-01-09T03:29:22.564Z"
   },
   {
    "duration": 0,
    "start_time": "2025-01-09T03:29:22.565Z"
   },
   {
    "duration": 0,
    "start_time": "2025-01-09T03:29:22.567Z"
   },
   {
    "duration": 0,
    "start_time": "2025-01-09T03:29:22.568Z"
   },
   {
    "duration": 0,
    "start_time": "2025-01-09T03:29:22.569Z"
   },
   {
    "duration": 0,
    "start_time": "2025-01-09T03:29:22.570Z"
   },
   {
    "duration": 0,
    "start_time": "2025-01-09T03:29:22.624Z"
   },
   {
    "duration": 0,
    "start_time": "2025-01-09T03:29:22.625Z"
   },
   {
    "duration": 0,
    "start_time": "2025-01-09T03:29:22.626Z"
   },
   {
    "duration": 0,
    "start_time": "2025-01-09T03:29:22.627Z"
   },
   {
    "duration": 0,
    "start_time": "2025-01-09T03:29:22.628Z"
   },
   {
    "duration": 0,
    "start_time": "2025-01-09T03:29:22.629Z"
   },
   {
    "duration": 168,
    "start_time": "2025-01-09T03:29:37.435Z"
   },
   {
    "duration": 88,
    "start_time": "2025-01-09T03:29:40.064Z"
   },
   {
    "duration": 154,
    "start_time": "2025-01-09T03:31:22.759Z"
   },
   {
    "duration": 108,
    "start_time": "2025-01-09T03:31:26.060Z"
   },
   {
    "duration": 11,
    "start_time": "2025-01-09T03:31:30.158Z"
   },
   {
    "duration": 8,
    "start_time": "2025-01-09T03:31:34.088Z"
   },
   {
    "duration": 6,
    "start_time": "2025-01-09T03:31:37.799Z"
   },
   {
    "duration": 8,
    "start_time": "2025-01-09T03:31:40.565Z"
   },
   {
    "duration": 16,
    "start_time": "2025-01-09T03:31:43.478Z"
   },
   {
    "duration": 12,
    "start_time": "2025-01-09T03:31:47.593Z"
   },
   {
    "duration": 7,
    "start_time": "2025-01-09T03:31:52.649Z"
   },
   {
    "duration": 10,
    "start_time": "2025-01-09T03:31:58.381Z"
   },
   {
    "duration": 33,
    "start_time": "2025-01-09T03:32:04.060Z"
   },
   {
    "duration": 9,
    "start_time": "2025-01-09T03:32:08.786Z"
   },
   {
    "duration": 59,
    "start_time": "2025-01-09T03:32:13.976Z"
   },
   {
    "duration": 58,
    "start_time": "2025-01-09T03:32:17.700Z"
   },
   {
    "duration": 18,
    "start_time": "2025-01-09T03:32:21.896Z"
   },
   {
    "duration": 7,
    "start_time": "2025-01-09T03:32:25.852Z"
   },
   {
    "duration": 24,
    "start_time": "2025-01-09T03:32:30.761Z"
   },
   {
    "duration": 16,
    "start_time": "2025-01-09T03:32:34.200Z"
   },
   {
    "duration": 18,
    "start_time": "2025-01-09T03:32:38.135Z"
   },
   {
    "duration": 9,
    "start_time": "2025-01-09T03:32:42.320Z"
   },
   {
    "duration": 28,
    "start_time": "2025-01-09T03:32:47.577Z"
   },
   {
    "duration": 27,
    "start_time": "2025-01-09T03:32:52.888Z"
   },
   {
    "duration": 6,
    "start_time": "2025-01-09T03:32:56.608Z"
   },
   {
    "duration": 20,
    "start_time": "2025-01-09T03:33:00.634Z"
   },
   {
    "duration": 25,
    "start_time": "2025-01-09T03:33:06.307Z"
   },
   {
    "duration": 20,
    "start_time": "2025-01-09T03:33:10.217Z"
   },
   {
    "duration": 22,
    "start_time": "2025-01-09T03:33:14.600Z"
   },
   {
    "duration": 216,
    "start_time": "2025-01-09T03:33:18.659Z"
   },
   {
    "duration": 157,
    "start_time": "2025-01-09T16:31:48.942Z"
   },
   {
    "duration": 2665,
    "start_time": "2025-01-09T16:32:07.268Z"
   },
   {
    "duration": 98,
    "start_time": "2025-01-09T16:32:10.825Z"
   },
   {
    "duration": 11,
    "start_time": "2025-01-09T16:32:15.421Z"
   },
   {
    "duration": 10,
    "start_time": "2025-01-09T16:32:20.450Z"
   },
   {
    "duration": 5,
    "start_time": "2025-01-09T16:32:23.938Z"
   },
   {
    "duration": 9,
    "start_time": "2025-01-09T16:32:27.982Z"
   },
   {
    "duration": 17,
    "start_time": "2025-01-09T16:32:32.194Z"
   },
   {
    "duration": 9,
    "start_time": "2025-01-09T16:32:36.750Z"
   },
   {
    "duration": 7,
    "start_time": "2025-01-09T16:32:41.442Z"
   },
   {
    "duration": 10,
    "start_time": "2025-01-09T16:32:47.227Z"
   },
   {
    "duration": 30,
    "start_time": "2025-01-09T16:32:53.240Z"
   },
   {
    "duration": 9,
    "start_time": "2025-01-09T16:32:57.158Z"
   },
   {
    "duration": 70,
    "start_time": "2025-01-09T16:33:03.025Z"
   },
   {
    "duration": 55,
    "start_time": "2025-01-09T16:33:07.682Z"
   },
   {
    "duration": 13,
    "start_time": "2025-01-09T16:33:12.578Z"
   },
   {
    "duration": 9,
    "start_time": "2025-01-09T16:33:17.097Z"
   },
   {
    "duration": 22,
    "start_time": "2025-01-09T16:33:21.983Z"
   },
   {
    "duration": 16,
    "start_time": "2025-01-09T16:33:26.149Z"
   },
   {
    "duration": 19,
    "start_time": "2025-01-09T16:33:31.028Z"
   },
   {
    "duration": 8,
    "start_time": "2025-01-09T16:33:36.155Z"
   },
   {
    "duration": 27,
    "start_time": "2025-01-09T16:33:40.876Z"
   },
   {
    "duration": 28,
    "start_time": "2025-01-09T16:33:47.098Z"
   },
   {
    "duration": 5,
    "start_time": "2025-01-09T16:33:55.393Z"
   },
   {
    "duration": 21,
    "start_time": "2025-01-09T16:34:00.945Z"
   },
   {
    "duration": 25,
    "start_time": "2025-01-09T16:34:05.322Z"
   },
   {
    "duration": 22,
    "start_time": "2025-01-09T16:34:10.176Z"
   },
   {
    "duration": 23,
    "start_time": "2025-01-09T16:34:14.589Z"
   },
   {
    "duration": 215,
    "start_time": "2025-01-09T16:34:19.613Z"
   },
   {
    "duration": 6,
    "start_time": "2025-01-09T16:34:24.696Z"
   },
   {
    "duration": 6,
    "start_time": "2025-01-09T16:34:39.735Z"
   },
   {
    "duration": 6,
    "start_time": "2025-01-09T16:36:37.998Z"
   },
   {
    "duration": 177,
    "start_time": "2025-01-09T18:10:54.645Z"
   },
   {
    "duration": 2912,
    "start_time": "2025-01-09T18:11:09.101Z"
   },
   {
    "duration": 91,
    "start_time": "2025-01-09T18:11:12.016Z"
   },
   {
    "duration": 10,
    "start_time": "2025-01-09T18:11:15.948Z"
   },
   {
    "duration": 17,
    "start_time": "2025-01-09T18:11:19.757Z"
   },
   {
    "duration": 5,
    "start_time": "2025-01-09T18:11:23.558Z"
   },
   {
    "duration": 14,
    "start_time": "2025-01-09T18:11:26.785Z"
   },
   {
    "duration": 18,
    "start_time": "2025-01-09T18:11:36.893Z"
   },
   {
    "duration": 8,
    "start_time": "2025-01-09T18:11:52.146Z"
   },
   {
    "duration": 11,
    "start_time": "2025-01-09T18:11:57.747Z"
   },
   {
    "duration": 37,
    "start_time": "2025-01-09T18:12:03.723Z"
   },
   {
    "duration": 10,
    "start_time": "2025-01-09T18:12:10.015Z"
   },
   {
    "duration": 70,
    "start_time": "2025-01-09T18:12:17.374Z"
   },
   {
    "duration": 59,
    "start_time": "2025-01-09T18:12:23.002Z"
   },
   {
    "duration": 18,
    "start_time": "2025-01-09T18:12:34.847Z"
   },
   {
    "duration": 8,
    "start_time": "2025-01-09T18:12:44.389Z"
   },
   {
    "duration": 25,
    "start_time": "2025-01-09T18:12:49.356Z"
   },
   {
    "duration": 16,
    "start_time": "2025-01-09T18:12:53.614Z"
   },
   {
    "duration": 20,
    "start_time": "2025-01-09T18:12:59.183Z"
   },
   {
    "duration": 10,
    "start_time": "2025-01-09T18:13:06.144Z"
   },
   {
    "duration": 25,
    "start_time": "2025-01-09T18:13:16.640Z"
   },
   {
    "duration": 30,
    "start_time": "2025-01-09T18:13:22.358Z"
   },
   {
    "duration": 7,
    "start_time": "2025-01-09T18:13:26.489Z"
   },
   {
    "duration": 21,
    "start_time": "2025-01-09T18:13:32.031Z"
   },
   {
    "duration": 27,
    "start_time": "2025-01-09T18:13:37.541Z"
   },
   {
    "duration": 20,
    "start_time": "2025-01-09T18:13:44.920Z"
   },
   {
    "duration": 23,
    "start_time": "2025-01-09T18:13:50.534Z"
   },
   {
    "duration": 215,
    "start_time": "2025-01-09T18:13:55.216Z"
   },
   {
    "duration": 12,
    "start_time": "2025-01-09T18:14:05.410Z"
   },
   {
    "duration": 4,
    "start_time": "2025-01-09T18:20:23.570Z"
   },
   {
    "duration": 447,
    "start_time": "2025-01-09T18:20:30.451Z"
   },
   {
    "duration": 28,
    "start_time": "2025-01-09T18:22:17.693Z"
   },
   {
    "duration": 468,
    "start_time": "2025-01-09T18:22:49.919Z"
   },
   {
    "duration": 162,
    "start_time": "2025-01-09T18:22:56.908Z"
   },
   {
    "duration": 88,
    "start_time": "2025-01-09T18:23:00.104Z"
   },
   {
    "duration": 12,
    "start_time": "2025-01-09T18:23:04.560Z"
   },
   {
    "duration": 11,
    "start_time": "2025-01-09T18:23:21.357Z"
   },
   {
    "duration": 8,
    "start_time": "2025-01-09T18:23:30.201Z"
   },
   {
    "duration": 3,
    "start_time": "2025-01-09T18:23:35.174Z"
   },
   {
    "duration": 12,
    "start_time": "2025-01-09T18:23:40.397Z"
   },
   {
    "duration": 17,
    "start_time": "2025-01-09T18:23:47.632Z"
   },
   {
    "duration": 9,
    "start_time": "2025-01-09T18:23:58.955Z"
   },
   {
    "duration": 6,
    "start_time": "2025-01-09T18:24:05.906Z"
   },
   {
    "duration": 10,
    "start_time": "2025-01-09T18:24:12.965Z"
   },
   {
    "duration": 36,
    "start_time": "2025-01-09T18:24:17.847Z"
   },
   {
    "duration": 10,
    "start_time": "2025-01-09T18:24:22.166Z"
   },
   {
    "duration": 73,
    "start_time": "2025-01-09T18:24:27.390Z"
   },
   {
    "duration": 59,
    "start_time": "2025-01-09T18:24:31.958Z"
   },
   {
    "duration": 16,
    "start_time": "2025-01-09T18:24:37.361Z"
   },
   {
    "duration": 8,
    "start_time": "2025-01-09T18:24:42.214Z"
   },
   {
    "duration": 23,
    "start_time": "2025-01-09T18:24:46.851Z"
   },
   {
    "duration": 19,
    "start_time": "2025-01-09T18:24:50.298Z"
   },
   {
    "duration": 21,
    "start_time": "2025-01-09T18:24:54.499Z"
   },
   {
    "duration": 9,
    "start_time": "2025-01-09T18:24:59.697Z"
   },
   {
    "duration": 31,
    "start_time": "2025-01-09T18:25:05.241Z"
   },
   {
    "duration": 31,
    "start_time": "2025-01-09T18:25:10.427Z"
   },
   {
    "duration": 6,
    "start_time": "2025-01-09T18:25:15.702Z"
   },
   {
    "duration": 24,
    "start_time": "2025-01-09T18:25:20.173Z"
   },
   {
    "duration": 31,
    "start_time": "2025-01-09T18:25:24.023Z"
   },
   {
    "duration": 27,
    "start_time": "2025-01-09T18:25:27.529Z"
   },
   {
    "duration": 28,
    "start_time": "2025-01-09T18:25:31.093Z"
   },
   {
    "duration": 233,
    "start_time": "2025-01-09T18:25:36.069Z"
   },
   {
    "duration": 88,
    "start_time": "2025-01-09T18:26:48.251Z"
   },
   {
    "duration": 167,
    "start_time": "2025-01-09T18:26:54.285Z"
   },
   {
    "duration": 90,
    "start_time": "2025-01-09T18:26:54.454Z"
   },
   {
    "duration": 11,
    "start_time": "2025-01-09T18:26:54.546Z"
   },
   {
    "duration": 8,
    "start_time": "2025-01-09T18:26:54.559Z"
   },
   {
    "duration": 3,
    "start_time": "2025-01-09T18:26:54.569Z"
   },
   {
    "duration": 0,
    "start_time": "2025-01-09T18:26:54.576Z"
   },
   {
    "duration": 0,
    "start_time": "2025-01-09T18:26:54.577Z"
   },
   {
    "duration": 0,
    "start_time": "2025-01-09T18:26:54.578Z"
   },
   {
    "duration": 0,
    "start_time": "2025-01-09T18:26:54.579Z"
   },
   {
    "duration": 0,
    "start_time": "2025-01-09T18:26:54.581Z"
   },
   {
    "duration": 0,
    "start_time": "2025-01-09T18:26:54.582Z"
   },
   {
    "duration": 0,
    "start_time": "2025-01-09T18:26:54.584Z"
   },
   {
    "duration": 0,
    "start_time": "2025-01-09T18:26:54.585Z"
   },
   {
    "duration": 0,
    "start_time": "2025-01-09T18:26:54.587Z"
   },
   {
    "duration": 0,
    "start_time": "2025-01-09T18:26:54.588Z"
   },
   {
    "duration": 0,
    "start_time": "2025-01-09T18:26:54.589Z"
   },
   {
    "duration": 0,
    "start_time": "2025-01-09T18:26:54.591Z"
   },
   {
    "duration": 0,
    "start_time": "2025-01-09T18:26:54.631Z"
   },
   {
    "duration": 0,
    "start_time": "2025-01-09T18:26:54.632Z"
   },
   {
    "duration": 0,
    "start_time": "2025-01-09T18:26:54.633Z"
   },
   {
    "duration": 0,
    "start_time": "2025-01-09T18:26:54.634Z"
   },
   {
    "duration": 0,
    "start_time": "2025-01-09T18:26:54.635Z"
   },
   {
    "duration": 0,
    "start_time": "2025-01-09T18:26:54.636Z"
   },
   {
    "duration": 0,
    "start_time": "2025-01-09T18:26:54.638Z"
   },
   {
    "duration": 0,
    "start_time": "2025-01-09T18:26:54.639Z"
   },
   {
    "duration": 0,
    "start_time": "2025-01-09T18:26:54.640Z"
   },
   {
    "duration": 0,
    "start_time": "2025-01-09T18:26:54.641Z"
   },
   {
    "duration": 0,
    "start_time": "2025-01-09T18:26:54.642Z"
   },
   {
    "duration": 0,
    "start_time": "2025-01-09T18:26:54.643Z"
   },
   {
    "duration": 0,
    "start_time": "2025-01-09T18:26:54.644Z"
   },
   {
    "duration": 0,
    "start_time": "2025-01-09T18:26:54.645Z"
   },
   {
    "duration": 0,
    "start_time": "2025-01-09T18:26:54.647Z"
   },
   {
    "duration": 0,
    "start_time": "2025-01-09T18:26:54.651Z"
   },
   {
    "duration": 0,
    "start_time": "2025-01-09T18:26:54.652Z"
   },
   {
    "duration": 0,
    "start_time": "2025-01-09T18:26:54.653Z"
   },
   {
    "duration": 0,
    "start_time": "2025-01-09T18:26:54.654Z"
   },
   {
    "duration": 0,
    "start_time": "2025-01-09T18:26:54.655Z"
   },
   {
    "duration": 0,
    "start_time": "2025-01-09T18:26:54.656Z"
   },
   {
    "duration": 194,
    "start_time": "2025-01-09T18:27:02.189Z"
   },
   {
    "duration": 89,
    "start_time": "2025-01-09T18:27:05.884Z"
   },
   {
    "duration": 13,
    "start_time": "2025-01-09T18:27:10.552Z"
   },
   {
    "duration": 9,
    "start_time": "2025-01-09T18:27:14.603Z"
   },
   {
    "duration": 3,
    "start_time": "2025-01-09T18:27:17.891Z"
   },
   {
    "duration": 8,
    "start_time": "2025-01-09T18:27:21.602Z"
   },
   {
    "duration": 18,
    "start_time": "2025-01-09T18:27:24.851Z"
   },
   {
    "duration": 10,
    "start_time": "2025-01-09T18:27:29.291Z"
   },
   {
    "duration": 8,
    "start_time": "2025-01-09T18:27:33.511Z"
   },
   {
    "duration": 16,
    "start_time": "2025-01-09T18:27:39.393Z"
   },
   {
    "duration": 37,
    "start_time": "2025-01-09T18:27:44.089Z"
   },
   {
    "duration": 10,
    "start_time": "2025-01-09T18:27:50.588Z"
   },
   {
    "duration": 61,
    "start_time": "2025-01-09T18:27:54.708Z"
   },
   {
    "duration": 68,
    "start_time": "2025-01-09T18:27:59.302Z"
   },
   {
    "duration": 14,
    "start_time": "2025-01-09T18:28:03.467Z"
   },
   {
    "duration": 9,
    "start_time": "2025-01-09T18:28:08.353Z"
   },
   {
    "duration": 26,
    "start_time": "2025-01-09T18:28:13.147Z"
   },
   {
    "duration": 17,
    "start_time": "2025-01-09T18:28:17.390Z"
   },
   {
    "duration": 16,
    "start_time": "2025-01-09T18:28:24.663Z"
   },
   {
    "duration": 21,
    "start_time": "2025-01-09T18:28:27.864Z"
   },
   {
    "duration": 9,
    "start_time": "2025-01-09T18:28:34.283Z"
   },
   {
    "duration": 30,
    "start_time": "2025-01-09T18:28:40.985Z"
   },
   {
    "duration": 27,
    "start_time": "2025-01-09T18:28:44.948Z"
   },
   {
    "duration": 6,
    "start_time": "2025-01-09T18:28:49.402Z"
   },
   {
    "duration": 22,
    "start_time": "2025-01-09T18:28:53.029Z"
   },
   {
    "duration": 26,
    "start_time": "2025-01-09T18:29:01.593Z"
   },
   {
    "duration": 21,
    "start_time": "2025-01-09T18:29:05.996Z"
   },
   {
    "duration": 24,
    "start_time": "2025-01-09T18:29:10.490Z"
   },
   {
    "duration": 228,
    "start_time": "2025-01-09T18:29:18.371Z"
   },
   {
    "duration": 61,
    "start_time": "2025-01-09T18:29:23.047Z"
   },
   {
    "duration": 66,
    "start_time": "2025-01-09T18:32:29.942Z"
   },
   {
    "duration": 24,
    "start_time": "2025-01-09T18:37:27.607Z"
   },
   {
    "duration": 29,
    "start_time": "2025-01-09T18:37:47.089Z"
   },
   {
    "duration": 159,
    "start_time": "2025-01-09T20:05:57.935Z"
   },
   {
    "duration": 2768,
    "start_time": "2025-01-09T20:06:15.696Z"
   },
   {
    "duration": 88,
    "start_time": "2025-01-09T20:06:18.872Z"
   },
   {
    "duration": 10,
    "start_time": "2025-01-09T20:06:22.252Z"
   },
   {
    "duration": 9,
    "start_time": "2025-01-09T20:06:25.813Z"
   },
   {
    "duration": 5,
    "start_time": "2025-01-09T20:06:30.178Z"
   },
   {
    "duration": 12,
    "start_time": "2025-01-09T20:06:33.929Z"
   },
   {
    "duration": 17,
    "start_time": "2025-01-09T20:06:37.536Z"
   },
   {
    "duration": 11,
    "start_time": "2025-01-09T20:06:41.544Z"
   },
   {
    "duration": 7,
    "start_time": "2025-01-09T20:06:46.891Z"
   },
   {
    "duration": 10,
    "start_time": "2025-01-09T20:06:52.646Z"
   },
   {
    "duration": 28,
    "start_time": "2025-01-09T20:06:58.104Z"
   },
   {
    "duration": 9,
    "start_time": "2025-01-09T20:07:03.223Z"
   },
   {
    "duration": 67,
    "start_time": "2025-01-09T20:07:07.940Z"
   },
   {
    "duration": 54,
    "start_time": "2025-01-09T20:07:12.458Z"
   },
   {
    "duration": 13,
    "start_time": "2025-01-09T20:07:16.037Z"
   },
   {
    "duration": 8,
    "start_time": "2025-01-09T20:07:20.090Z"
   },
   {
    "duration": 23,
    "start_time": "2025-01-09T20:07:23.892Z"
   },
   {
    "duration": 16,
    "start_time": "2025-01-09T20:07:27.688Z"
   },
   {
    "duration": 20,
    "start_time": "2025-01-09T20:07:30.501Z"
   },
   {
    "duration": 9,
    "start_time": "2025-01-09T20:07:33.848Z"
   },
   {
    "duration": 23,
    "start_time": "2025-01-09T20:07:38.480Z"
   },
   {
    "duration": 28,
    "start_time": "2025-01-09T20:07:42.096Z"
   },
   {
    "duration": 5,
    "start_time": "2025-01-09T20:07:46.171Z"
   },
   {
    "duration": 20,
    "start_time": "2025-01-09T20:07:50.319Z"
   },
   {
    "duration": 26,
    "start_time": "2025-01-09T20:07:53.809Z"
   },
   {
    "duration": 22,
    "start_time": "2025-01-09T20:08:03.121Z"
   },
   {
    "duration": 23,
    "start_time": "2025-01-09T20:08:06.163Z"
   },
   {
    "duration": 225,
    "start_time": "2025-01-09T20:08:10.799Z"
   },
   {
    "duration": 83,
    "start_time": "2025-01-09T20:08:14.529Z"
   },
   {
    "duration": 21,
    "start_time": "2025-01-09T20:08:40.464Z"
   },
   {
    "duration": 23,
    "start_time": "2025-01-09T20:09:00.326Z"
   },
   {
    "duration": 395,
    "start_time": "2025-01-09T20:30:27.695Z"
   },
   {
    "duration": 161,
    "start_time": "2025-01-09T20:31:35.931Z"
   },
   {
    "duration": 111,
    "start_time": "2025-01-09T20:31:39.093Z"
   },
   {
    "duration": 13,
    "start_time": "2025-01-09T20:31:42.377Z"
   },
   {
    "duration": 8,
    "start_time": "2025-01-09T20:31:45.797Z"
   },
   {
    "duration": 4,
    "start_time": "2025-01-09T20:31:55.843Z"
   },
   {
    "duration": 9,
    "start_time": "2025-01-09T20:31:59.107Z"
   },
   {
    "duration": 18,
    "start_time": "2025-01-09T20:32:17.616Z"
   },
   {
    "duration": 7,
    "start_time": "2025-01-09T20:32:23.587Z"
   },
   {
    "duration": 9,
    "start_time": "2025-01-09T20:32:30.474Z"
   },
   {
    "duration": 38,
    "start_time": "2025-01-09T20:32:35.316Z"
   },
   {
    "duration": 10,
    "start_time": "2025-01-09T20:32:39.292Z"
   },
   {
    "duration": 59,
    "start_time": "2025-01-09T20:32:43.957Z"
   },
   {
    "duration": 73,
    "start_time": "2025-01-09T20:32:47.908Z"
   },
   {
    "duration": 17,
    "start_time": "2025-01-09T20:32:53.214Z"
   },
   {
    "duration": 9,
    "start_time": "2025-01-09T20:32:57.137Z"
   },
   {
    "duration": 25,
    "start_time": "2025-01-09T20:33:01.402Z"
   },
   {
    "duration": 16,
    "start_time": "2025-01-09T20:33:04.670Z"
   },
   {
    "duration": 23,
    "start_time": "2025-01-09T20:33:08.350Z"
   },
   {
    "duration": 9,
    "start_time": "2025-01-09T20:33:13.742Z"
   },
   {
    "duration": 22,
    "start_time": "2025-01-09T20:33:19.000Z"
   },
   {
    "duration": 26,
    "start_time": "2025-01-09T20:33:24.911Z"
   },
   {
    "duration": 5,
    "start_time": "2025-01-09T20:33:30.981Z"
   },
   {
    "duration": 19,
    "start_time": "2025-01-09T20:33:45.530Z"
   },
   {
    "duration": 28,
    "start_time": "2025-01-09T20:33:54.223Z"
   },
   {
    "duration": 25,
    "start_time": "2025-01-09T20:33:57.967Z"
   },
   {
    "duration": 30,
    "start_time": "2025-01-09T20:34:03.234Z"
   },
   {
    "duration": 295,
    "start_time": "2025-01-09T20:34:08.311Z"
   },
   {
    "duration": 51,
    "start_time": "2025-01-09T20:35:28.514Z"
   },
   {
    "duration": 47,
    "start_time": "2025-01-09T20:35:39.582Z"
   },
   {
    "duration": 45,
    "start_time": "2025-01-09T20:35:56.006Z"
   },
   {
    "duration": 67,
    "start_time": "2025-01-09T20:36:15.397Z"
   },
   {
    "duration": 213,
    "start_time": "2025-01-09T20:36:19.553Z"
   },
   {
    "duration": 110,
    "start_time": "2025-01-09T20:36:19.769Z"
   },
   {
    "duration": 10,
    "start_time": "2025-01-09T20:36:19.882Z"
   },
   {
    "duration": 8,
    "start_time": "2025-01-09T20:36:19.895Z"
   },
   {
    "duration": 4,
    "start_time": "2025-01-09T20:36:19.904Z"
   },
   {
    "duration": 0,
    "start_time": "2025-01-09T20:36:19.910Z"
   },
   {
    "duration": 0,
    "start_time": "2025-01-09T20:36:19.911Z"
   },
   {
    "duration": 0,
    "start_time": "2025-01-09T20:36:19.912Z"
   },
   {
    "duration": 0,
    "start_time": "2025-01-09T20:36:19.913Z"
   },
   {
    "duration": 0,
    "start_time": "2025-01-09T20:36:19.914Z"
   },
   {
    "duration": 0,
    "start_time": "2025-01-09T20:36:19.915Z"
   },
   {
    "duration": 0,
    "start_time": "2025-01-09T20:36:19.916Z"
   },
   {
    "duration": 0,
    "start_time": "2025-01-09T20:36:19.917Z"
   },
   {
    "duration": 0,
    "start_time": "2025-01-09T20:36:19.919Z"
   },
   {
    "duration": 0,
    "start_time": "2025-01-09T20:36:19.920Z"
   },
   {
    "duration": 0,
    "start_time": "2025-01-09T20:36:19.921Z"
   },
   {
    "duration": 0,
    "start_time": "2025-01-09T20:36:19.922Z"
   },
   {
    "duration": 0,
    "start_time": "2025-01-09T20:36:19.923Z"
   },
   {
    "duration": 0,
    "start_time": "2025-01-09T20:36:19.924Z"
   },
   {
    "duration": 0,
    "start_time": "2025-01-09T20:36:19.925Z"
   },
   {
    "duration": 0,
    "start_time": "2025-01-09T20:36:19.926Z"
   },
   {
    "duration": 0,
    "start_time": "2025-01-09T20:36:19.927Z"
   },
   {
    "duration": 0,
    "start_time": "2025-01-09T20:36:19.928Z"
   },
   {
    "duration": 0,
    "start_time": "2025-01-09T20:36:19.969Z"
   },
   {
    "duration": 0,
    "start_time": "2025-01-09T20:36:19.971Z"
   },
   {
    "duration": 0,
    "start_time": "2025-01-09T20:36:19.972Z"
   },
   {
    "duration": 0,
    "start_time": "2025-01-09T20:36:19.973Z"
   },
   {
    "duration": 0,
    "start_time": "2025-01-09T20:36:19.974Z"
   },
   {
    "duration": 0,
    "start_time": "2025-01-09T20:36:19.975Z"
   },
   {
    "duration": 0,
    "start_time": "2025-01-09T20:36:19.976Z"
   },
   {
    "duration": 0,
    "start_time": "2025-01-09T20:36:19.978Z"
   },
   {
    "duration": 0,
    "start_time": "2025-01-09T20:36:19.979Z"
   },
   {
    "duration": 0,
    "start_time": "2025-01-09T20:36:19.980Z"
   },
   {
    "duration": 0,
    "start_time": "2025-01-09T20:36:19.981Z"
   },
   {
    "duration": 0,
    "start_time": "2025-01-09T20:36:19.982Z"
   },
   {
    "duration": 0,
    "start_time": "2025-01-09T20:36:19.984Z"
   },
   {
    "duration": 0,
    "start_time": "2025-01-09T20:36:19.985Z"
   },
   {
    "duration": 0,
    "start_time": "2025-01-09T20:36:19.986Z"
   },
   {
    "duration": 47,
    "start_time": "2025-01-09T20:36:26.593Z"
   },
   {
    "duration": 156,
    "start_time": "2025-01-09T20:36:46.030Z"
   },
   {
    "duration": 85,
    "start_time": "2025-01-09T20:36:48.549Z"
   },
   {
    "duration": 11,
    "start_time": "2025-01-09T20:36:51.661Z"
   },
   {
    "duration": 10,
    "start_time": "2025-01-09T20:36:56.358Z"
   },
   {
    "duration": 4,
    "start_time": "2025-01-09T20:37:00.767Z"
   },
   {
    "duration": 8,
    "start_time": "2025-01-09T20:37:03.880Z"
   },
   {
    "duration": 18,
    "start_time": "2025-01-09T20:37:11.705Z"
   },
   {
    "duration": 12,
    "start_time": "2025-01-09T20:37:21.599Z"
   },
   {
    "duration": 8,
    "start_time": "2025-01-09T20:37:27.672Z"
   },
   {
    "duration": 10,
    "start_time": "2025-01-09T20:37:32.176Z"
   },
   {
    "duration": 31,
    "start_time": "2025-01-09T20:37:37.224Z"
   },
   {
    "duration": 9,
    "start_time": "2025-01-09T20:37:41.663Z"
   },
   {
    "duration": 60,
    "start_time": "2025-01-09T20:37:45.742Z"
   },
   {
    "duration": 65,
    "start_time": "2025-01-09T20:37:49.539Z"
   },
   {
    "duration": 14,
    "start_time": "2025-01-09T20:37:56.420Z"
   },
   {
    "duration": 8,
    "start_time": "2025-01-09T20:38:01.530Z"
   },
   {
    "duration": 23,
    "start_time": "2025-01-09T20:38:05.492Z"
   },
   {
    "duration": 16,
    "start_time": "2025-01-09T20:38:08.950Z"
   },
   {
    "duration": 18,
    "start_time": "2025-01-09T20:38:12.817Z"
   },
   {
    "duration": 10,
    "start_time": "2025-01-09T20:38:17.466Z"
   },
   {
    "duration": 23,
    "start_time": "2025-01-09T20:38:21.750Z"
   },
   {
    "duration": 26,
    "start_time": "2025-01-09T20:38:25.105Z"
   },
   {
    "duration": 6,
    "start_time": "2025-01-09T20:38:29.283Z"
   },
   {
    "duration": 20,
    "start_time": "2025-01-09T20:38:33.262Z"
   },
   {
    "duration": 26,
    "start_time": "2025-01-09T20:38:38.176Z"
   },
   {
    "duration": 20,
    "start_time": "2025-01-09T20:38:42.173Z"
   },
   {
    "duration": 22,
    "start_time": "2025-01-09T20:38:45.940Z"
   },
   {
    "duration": 211,
    "start_time": "2025-01-09T20:38:50.190Z"
   },
   {
    "duration": 47,
    "start_time": "2025-01-09T20:46:41.728Z"
   },
   {
    "duration": 63,
    "start_time": "2025-01-09T20:55:42.658Z"
   },
   {
    "duration": 49,
    "start_time": "2025-01-09T20:55:58.417Z"
   },
   {
    "duration": 6,
    "start_time": "2025-01-09T20:57:38.002Z"
   },
   {
    "duration": 39,
    "start_time": "2025-01-09T20:57:49.811Z"
   },
   {
    "duration": 24,
    "start_time": "2025-01-09T20:58:52.217Z"
   },
   {
    "duration": 23,
    "start_time": "2025-01-09T21:00:10.296Z"
   },
   {
    "duration": 25,
    "start_time": "2025-01-09T21:07:11.899Z"
   },
   {
    "duration": 25,
    "start_time": "2025-01-09T21:07:47.926Z"
   },
   {
    "duration": 2,
    "start_time": "2025-01-09T21:09:36.435Z"
   },
   {
    "duration": 3,
    "start_time": "2025-01-09T21:09:54.446Z"
   },
   {
    "duration": 3,
    "start_time": "2025-01-09T21:10:30.406Z"
   },
   {
    "duration": 43,
    "start_time": "2025-01-09T21:12:52.559Z"
   },
   {
    "duration": 8,
    "start_time": "2025-01-09T21:29:28.859Z"
   },
   {
    "duration": 22,
    "start_time": "2025-01-09T21:39:33.127Z"
   },
   {
    "duration": 8,
    "start_time": "2025-01-09T21:40:33.918Z"
   },
   {
    "duration": 9,
    "start_time": "2025-01-09T21:51:46.260Z"
   },
   {
    "duration": 12,
    "start_time": "2025-01-09T21:54:10.939Z"
   },
   {
    "duration": 22,
    "start_time": "2025-01-09T21:55:38.388Z"
   },
   {
    "duration": 44,
    "start_time": "2025-01-09T21:59:17.299Z"
   },
   {
    "duration": 24,
    "start_time": "2025-01-09T22:05:56.258Z"
   },
   {
    "duration": 13,
    "start_time": "2025-01-09T22:22:18.802Z"
   },
   {
    "duration": 11,
    "start_time": "2025-01-09T22:23:55.646Z"
   },
   {
    "duration": 43,
    "start_time": "2025-01-09T22:26:33.615Z"
   },
   {
    "duration": 19,
    "start_time": "2025-01-09T22:26:40.850Z"
   },
   {
    "duration": 23,
    "start_time": "2025-01-09T22:27:02.169Z"
   },
   {
    "duration": 10,
    "start_time": "2025-01-09T22:27:07.664Z"
   },
   {
    "duration": 3,
    "start_time": "2025-01-09T22:30:31.330Z"
   },
   {
    "duration": 21,
    "start_time": "2025-01-09T22:30:37.661Z"
   },
   {
    "duration": 9,
    "start_time": "2025-01-09T22:30:52.057Z"
   },
   {
    "duration": 43,
    "start_time": "2025-01-09T22:30:57.696Z"
   },
   {
    "duration": 17,
    "start_time": "2025-01-09T22:31:02.343Z"
   },
   {
    "duration": 18,
    "start_time": "2025-01-09T22:32:34.384Z"
   },
   {
    "duration": 41,
    "start_time": "2025-01-09T22:32:43.400Z"
   },
   {
    "duration": 17,
    "start_time": "2025-01-09T22:32:48.161Z"
   },
   {
    "duration": 22,
    "start_time": "2025-01-09T22:33:33.756Z"
   },
   {
    "duration": 156,
    "start_time": "2025-01-09T22:33:44.640Z"
   },
   {
    "duration": 88,
    "start_time": "2025-01-09T22:33:48.112Z"
   },
   {
    "duration": 10,
    "start_time": "2025-01-09T22:33:51.969Z"
   },
   {
    "duration": 7,
    "start_time": "2025-01-09T22:33:56.347Z"
   },
   {
    "duration": 4,
    "start_time": "2025-01-09T22:34:01.696Z"
   },
   {
    "duration": 7,
    "start_time": "2025-01-09T22:34:05.912Z"
   },
   {
    "duration": 23,
    "start_time": "2025-01-09T22:34:20.320Z"
   },
   {
    "duration": 9,
    "start_time": "2025-01-09T22:34:27.988Z"
   },
   {
    "duration": 8,
    "start_time": "2025-01-09T22:34:38.851Z"
   },
   {
    "duration": 9,
    "start_time": "2025-01-09T22:34:45.744Z"
   },
   {
    "duration": 30,
    "start_time": "2025-01-09T22:34:52.394Z"
   },
   {
    "duration": 9,
    "start_time": "2025-01-09T22:35:04.053Z"
   },
   {
    "duration": 72,
    "start_time": "2025-01-09T22:35:14.998Z"
   },
   {
    "duration": 55,
    "start_time": "2025-01-09T22:35:22.926Z"
   },
   {
    "duration": 13,
    "start_time": "2025-01-09T22:35:31.821Z"
   },
   {
    "duration": 8,
    "start_time": "2025-01-09T22:35:40.541Z"
   },
   {
    "duration": 23,
    "start_time": "2025-01-09T22:35:47.848Z"
   },
   {
    "duration": 16,
    "start_time": "2025-01-09T22:35:52.576Z"
   },
   {
    "duration": 18,
    "start_time": "2025-01-09T22:35:57.588Z"
   },
   {
    "duration": 8,
    "start_time": "2025-01-09T22:36:05.966Z"
   },
   {
    "duration": 23,
    "start_time": "2025-01-09T22:36:15.256Z"
   },
   {
    "duration": 25,
    "start_time": "2025-01-09T22:36:20.484Z"
   },
   {
    "duration": 6,
    "start_time": "2025-01-09T22:36:25.139Z"
   },
   {
    "duration": 19,
    "start_time": "2025-01-09T22:36:33.995Z"
   },
   {
    "duration": 27,
    "start_time": "2025-01-09T22:36:38.319Z"
   },
   {
    "duration": 20,
    "start_time": "2025-01-09T22:36:43.449Z"
   },
   {
    "duration": 21,
    "start_time": "2025-01-09T22:36:49.587Z"
   },
   {
    "duration": 45,
    "start_time": "2025-01-09T22:36:56.090Z"
   },
   {
    "duration": 18,
    "start_time": "2025-01-09T22:37:14.665Z"
   },
   {
    "duration": 4,
    "start_time": "2025-01-09T22:41:03.972Z"
   },
   {
    "duration": 24,
    "start_time": "2025-01-09T22:41:30.495Z"
   },
   {
    "duration": 7,
    "start_time": "2025-01-09T22:41:35.934Z"
   },
   {
    "duration": 192,
    "start_time": "2025-01-09T22:42:11.940Z"
   },
   {
    "duration": 25,
    "start_time": "2025-01-09T22:42:30.082Z"
   },
   {
    "duration": 46,
    "start_time": "2025-01-09T22:42:34.165Z"
   },
   {
    "duration": 48,
    "start_time": "2025-01-09T22:44:22.410Z"
   },
   {
    "duration": 24,
    "start_time": "2025-01-09T22:44:41.158Z"
   },
   {
    "duration": 45,
    "start_time": "2025-01-09T22:44:53.290Z"
   },
   {
    "duration": 20,
    "start_time": "2025-01-09T22:45:42.607Z"
   },
   {
    "duration": 46,
    "start_time": "2025-01-09T22:47:49.027Z"
   },
   {
    "duration": 92,
    "start_time": "2025-01-09T22:48:08.768Z"
   },
   {
    "duration": 19,
    "start_time": "2025-01-09T22:48:21.023Z"
   },
   {
    "duration": 5,
    "start_time": "2025-01-09T22:50:12.445Z"
   },
   {
    "duration": 19,
    "start_time": "2025-01-09T22:50:21.292Z"
   },
   {
    "duration": 25,
    "start_time": "2025-01-09T22:50:28.328Z"
   },
   {
    "duration": 20,
    "start_time": "2025-01-09T22:50:39.098Z"
   },
   {
    "duration": 21,
    "start_time": "2025-01-09T22:50:44.682Z"
   },
   {
    "duration": 190,
    "start_time": "2025-01-09T22:50:50.267Z"
   },
   {
    "duration": 20,
    "start_time": "2025-01-09T22:51:12.385Z"
   },
   {
    "duration": 52,
    "start_time": "2025-01-09T23:09:30.515Z"
   },
   {
    "duration": 66,
    "start_time": "2025-01-09T23:10:59.313Z"
   },
   {
    "duration": 18,
    "start_time": "2025-01-09T23:11:10.048Z"
   },
   {
    "duration": 20,
    "start_time": "2025-01-09T23:11:49.805Z"
   },
   {
    "duration": 19,
    "start_time": "2025-01-09T23:11:59.908Z"
   },
   {
    "duration": 60,
    "start_time": "2025-01-09T23:12:04.700Z"
   },
   {
    "duration": 18,
    "start_time": "2025-01-09T23:12:08.940Z"
   },
   {
    "duration": 454,
    "start_time": "2025-01-10T01:15:28.848Z"
   },
   {
    "duration": 6,
    "start_time": "2025-01-10T01:17:21.221Z"
   },
   {
    "duration": 152,
    "start_time": "2025-01-10T01:17:26.450Z"
   },
   {
    "duration": 141,
    "start_time": "2025-01-10T01:21:27.909Z"
   },
   {
    "duration": 136,
    "start_time": "2025-01-10T01:21:40.064Z"
   },
   {
    "duration": 5,
    "start_time": "2025-01-10T01:21:48.725Z"
   },
   {
    "duration": 5,
    "start_time": "2025-01-10T01:22:20.528Z"
   },
   {
    "duration": 23,
    "start_time": "2025-01-10T01:23:08.284Z"
   },
   {
    "duration": 4,
    "start_time": "2025-01-10T01:23:25.763Z"
   },
   {
    "duration": 5,
    "start_time": "2025-01-10T01:23:51.432Z"
   },
   {
    "duration": 4,
    "start_time": "2025-01-10T01:23:59.102Z"
   },
   {
    "duration": 18,
    "start_time": "2025-01-10T01:25:16.949Z"
   },
   {
    "duration": 9,
    "start_time": "2025-01-10T02:20:11.682Z"
   },
   {
    "duration": 4,
    "start_time": "2025-01-10T02:22:01.242Z"
   },
   {
    "duration": 155,
    "start_time": "2025-01-10T02:24:53.929Z"
   },
   {
    "duration": 12,
    "start_time": "2025-01-10T02:24:58.880Z"
   },
   {
    "duration": 13,
    "start_time": "2025-01-10T02:25:03.359Z"
   },
   {
    "duration": 13,
    "start_time": "2025-01-10T02:25:08.260Z"
   },
   {
    "duration": 2730,
    "start_time": "2025-01-10T02:25:21.621Z"
   },
   {
    "duration": 88,
    "start_time": "2025-01-10T02:25:24.997Z"
   },
   {
    "duration": 10,
    "start_time": "2025-01-10T02:25:28.676Z"
   },
   {
    "duration": 11,
    "start_time": "2025-01-10T02:25:32.411Z"
   },
   {
    "duration": 4,
    "start_time": "2025-01-10T02:25:37.354Z"
   },
   {
    "duration": 9,
    "start_time": "2025-01-10T02:25:40.593Z"
   },
   {
    "duration": 18,
    "start_time": "2025-01-10T02:25:44.841Z"
   },
   {
    "duration": 8,
    "start_time": "2025-01-10T02:25:50.696Z"
   },
   {
    "duration": 7,
    "start_time": "2025-01-10T02:25:58.079Z"
   },
   {
    "duration": 10,
    "start_time": "2025-01-10T02:26:02.669Z"
   },
   {
    "duration": 30,
    "start_time": "2025-01-10T02:26:07.884Z"
   },
   {
    "duration": 9,
    "start_time": "2025-01-10T02:26:12.605Z"
   },
   {
    "duration": 72,
    "start_time": "2025-01-10T02:26:17.601Z"
   },
   {
    "duration": 55,
    "start_time": "2025-01-10T02:26:21.361Z"
   },
   {
    "duration": 14,
    "start_time": "2025-01-10T02:26:24.910Z"
   },
   {
    "duration": 8,
    "start_time": "2025-01-10T02:26:30.155Z"
   },
   {
    "duration": 23,
    "start_time": "2025-01-10T02:26:34.242Z"
   },
   {
    "duration": 17,
    "start_time": "2025-01-10T02:26:37.370Z"
   },
   {
    "duration": 19,
    "start_time": "2025-01-10T02:26:40.964Z"
   },
   {
    "duration": 23,
    "start_time": "2025-01-10T02:26:46.852Z"
   },
   {
    "duration": 28,
    "start_time": "2025-01-10T02:26:51.492Z"
   },
   {
    "duration": 6,
    "start_time": "2025-01-10T02:26:55.305Z"
   },
   {
    "duration": 21,
    "start_time": "2025-01-10T02:27:01.390Z"
   },
   {
    "duration": 27,
    "start_time": "2025-01-10T02:27:06.376Z"
   },
   {
    "duration": 23,
    "start_time": "2025-01-10T02:27:10.091Z"
   },
   {
    "duration": 23,
    "start_time": "2025-01-10T02:27:13.575Z"
   },
   {
    "duration": 4,
    "start_time": "2025-01-10T02:27:17.957Z"
   },
   {
    "duration": 5,
    "start_time": "2025-01-10T02:28:54.588Z"
   },
   {
    "duration": 469,
    "start_time": "2025-01-10T02:34:47.481Z"
   },
   {
    "duration": 45,
    "start_time": "2025-01-10T02:36:30.350Z"
   },
   {
    "duration": 16,
    "start_time": "2025-01-10T02:38:27.302Z"
   },
   {
    "duration": 43,
    "start_time": "2025-01-10T02:39:35.743Z"
   },
   {
    "duration": 110,
    "start_time": "2025-01-10T02:42:21.828Z"
   },
   {
    "duration": 20,
    "start_time": "2025-01-10T02:46:30.039Z"
   },
   {
    "duration": 20,
    "start_time": "2025-01-10T02:46:44.282Z"
   },
   {
    "duration": 53,
    "start_time": "2025-01-10T02:47:37.228Z"
   },
   {
    "duration": 50,
    "start_time": "2025-01-10T02:48:24.614Z"
   },
   {
    "duration": 50,
    "start_time": "2025-01-10T02:49:13.127Z"
   },
   {
    "duration": 51,
    "start_time": "2025-01-10T02:50:48.953Z"
   },
   {
    "duration": 55,
    "start_time": "2025-01-10T02:53:23.821Z"
   },
   {
    "duration": 21,
    "start_time": "2025-01-10T02:53:41.045Z"
   },
   {
    "duration": 33,
    "start_time": "2025-01-10T02:53:45.229Z"
   },
   {
    "duration": 10,
    "start_time": "2025-01-10T02:53:49.822Z"
   },
   {
    "duration": 51,
    "start_time": "2025-01-10T02:56:27.857Z"
   },
   {
    "duration": 51,
    "start_time": "2025-01-10T02:57:50.868Z"
   },
   {
    "duration": 5,
    "start_time": "2025-01-10T02:59:10.789Z"
   },
   {
    "duration": 51,
    "start_time": "2025-01-10T02:59:28.297Z"
   },
   {
    "duration": 7,
    "start_time": "2025-01-10T03:10:08.531Z"
   },
   {
    "duration": 5,
    "start_time": "2025-01-10T03:10:22.223Z"
   },
   {
    "duration": 7,
    "start_time": "2025-01-10T03:11:16.403Z"
   },
   {
    "duration": 5,
    "start_time": "2025-01-10T03:11:34.220Z"
   },
   {
    "duration": 5,
    "start_time": "2025-01-10T03:11:49.015Z"
   },
   {
    "duration": 6,
    "start_time": "2025-01-10T03:12:39.865Z"
   },
   {
    "duration": 6,
    "start_time": "2025-01-10T03:13:25.908Z"
   },
   {
    "duration": 6,
    "start_time": "2025-01-10T03:14:19.846Z"
   },
   {
    "duration": 6,
    "start_time": "2025-01-10T03:14:58.439Z"
   },
   {
    "duration": 6,
    "start_time": "2025-01-10T03:15:22.035Z"
   },
   {
    "duration": 6,
    "start_time": "2025-01-10T03:15:39.885Z"
   },
   {
    "duration": 7,
    "start_time": "2025-01-10T03:16:51.597Z"
   },
   {
    "duration": 254,
    "start_time": "2025-01-10T03:17:02.569Z"
   },
   {
    "duration": 48,
    "start_time": "2025-01-10T03:17:16.316Z"
   },
   {
    "duration": 21,
    "start_time": "2025-01-10T03:21:51.576Z"
   },
   {
    "duration": 16,
    "start_time": "2025-01-10T03:22:01.788Z"
   },
   {
    "duration": 20,
    "start_time": "2025-01-10T03:22:23.648Z"
   },
   {
    "duration": 50,
    "start_time": "2025-01-10T03:22:33.486Z"
   },
   {
    "duration": 49,
    "start_time": "2025-01-10T03:22:52.530Z"
   },
   {
    "duration": 48,
    "start_time": "2025-01-10T03:23:13.669Z"
   },
   {
    "duration": 25,
    "start_time": "2025-01-10T03:23:51.577Z"
   },
   {
    "duration": 20,
    "start_time": "2025-01-10T03:23:59.718Z"
   },
   {
    "duration": 24,
    "start_time": "2025-01-10T03:24:05.780Z"
   },
   {
    "duration": 166,
    "start_time": "2025-01-10T03:25:48.609Z"
   },
   {
    "duration": 87,
    "start_time": "2025-01-10T03:25:52.293Z"
   },
   {
    "duration": 10,
    "start_time": "2025-01-10T03:25:56.747Z"
   },
   {
    "duration": 10,
    "start_time": "2025-01-10T03:26:02.023Z"
   },
   {
    "duration": 5,
    "start_time": "2025-01-10T03:26:06.520Z"
   },
   {
    "duration": 8,
    "start_time": "2025-01-10T03:26:10.186Z"
   },
   {
    "duration": 17,
    "start_time": "2025-01-10T03:26:14.462Z"
   },
   {
    "duration": 9,
    "start_time": "2025-01-10T03:26:19.892Z"
   },
   {
    "duration": 7,
    "start_time": "2025-01-10T03:26:27.352Z"
   },
   {
    "duration": 9,
    "start_time": "2025-01-10T03:26:34.792Z"
   },
   {
    "duration": 29,
    "start_time": "2025-01-10T03:26:39.855Z"
   },
   {
    "duration": 12,
    "start_time": "2025-01-10T03:26:43.956Z"
   },
   {
    "duration": 65,
    "start_time": "2025-01-10T03:26:49.884Z"
   },
   {
    "duration": 58,
    "start_time": "2025-01-10T03:26:55.992Z"
   },
   {
    "duration": 14,
    "start_time": "2025-01-10T03:27:01.191Z"
   },
   {
    "duration": 9,
    "start_time": "2025-01-10T03:27:05.447Z"
   },
   {
    "duration": 23,
    "start_time": "2025-01-10T03:27:10.526Z"
   },
   {
    "duration": 16,
    "start_time": "2025-01-10T03:27:13.737Z"
   },
   {
    "duration": 18,
    "start_time": "2025-01-10T03:27:17.484Z"
   },
   {
    "duration": 9,
    "start_time": "2025-01-10T03:27:21.727Z"
   },
   {
    "duration": 23,
    "start_time": "2025-01-10T03:27:26.565Z"
   },
   {
    "duration": 27,
    "start_time": "2025-01-10T03:27:30.312Z"
   },
   {
    "duration": 6,
    "start_time": "2025-01-10T03:27:34.095Z"
   },
   {
    "duration": 24,
    "start_time": "2025-01-10T03:27:39.148Z"
   },
   {
    "duration": 26,
    "start_time": "2025-01-10T03:27:46.829Z"
   },
   {
    "duration": 20,
    "start_time": "2025-01-10T03:27:50.212Z"
   },
   {
    "duration": 23,
    "start_time": "2025-01-10T03:27:53.842Z"
   },
   {
    "duration": 215,
    "start_time": "2025-01-10T03:27:57.871Z"
   },
   {
    "duration": 47,
    "start_time": "2025-01-10T03:29:42.128Z"
   },
   {
    "duration": 45,
    "start_time": "2025-01-10T03:29:58.890Z"
   },
   {
    "duration": 17,
    "start_time": "2025-01-10T03:31:02.766Z"
   },
   {
    "duration": 45,
    "start_time": "2025-01-10T03:31:24.413Z"
   },
   {
    "duration": 50,
    "start_time": "2025-01-10T03:32:35.711Z"
   },
   {
    "duration": 18,
    "start_time": "2025-01-10T03:33:09.436Z"
   },
   {
    "duration": 2783,
    "start_time": "2025-01-10T04:44:48.220Z"
   },
   {
    "duration": 97,
    "start_time": "2025-01-10T04:44:52.091Z"
   },
   {
    "duration": 10,
    "start_time": "2025-01-10T04:44:56.439Z"
   },
   {
    "duration": 10,
    "start_time": "2025-01-10T04:45:00.980Z"
   },
   {
    "duration": 5,
    "start_time": "2025-01-10T04:45:05.119Z"
   },
   {
    "duration": 8,
    "start_time": "2025-01-10T04:45:08.178Z"
   },
   {
    "duration": 22,
    "start_time": "2025-01-10T04:45:12.184Z"
   },
   {
    "duration": 12,
    "start_time": "2025-01-10T04:45:18.087Z"
   },
   {
    "duration": 9,
    "start_time": "2025-01-10T04:45:28.908Z"
   },
   {
    "duration": 12,
    "start_time": "2025-01-10T04:45:37.792Z"
   },
   {
    "duration": 29,
    "start_time": "2025-01-10T04:45:43.075Z"
   },
   {
    "duration": 11,
    "start_time": "2025-01-10T04:45:49.921Z"
   },
   {
    "duration": 91,
    "start_time": "2025-01-10T04:45:58.759Z"
   },
   {
    "duration": 58,
    "start_time": "2025-01-10T04:46:02.983Z"
   },
   {
    "duration": 15,
    "start_time": "2025-01-10T04:46:12.253Z"
   },
   {
    "duration": 9,
    "start_time": "2025-01-10T04:46:17.211Z"
   },
   {
    "duration": 24,
    "start_time": "2025-01-10T04:46:24.507Z"
   },
   {
    "duration": 16,
    "start_time": "2025-01-10T04:46:28.840Z"
   },
   {
    "duration": 21,
    "start_time": "2025-01-10T04:46:33.219Z"
   },
   {
    "duration": 9,
    "start_time": "2025-01-10T04:46:39.480Z"
   },
   {
    "duration": 27,
    "start_time": "2025-01-10T04:46:43.616Z"
   },
   {
    "duration": 35,
    "start_time": "2025-01-10T04:46:48.342Z"
   },
   {
    "duration": 6,
    "start_time": "2025-01-10T04:46:52.036Z"
   },
   {
    "duration": 21,
    "start_time": "2025-01-10T04:46:59.600Z"
   },
   {
    "duration": 28,
    "start_time": "2025-01-10T04:47:04.282Z"
   },
   {
    "duration": 25,
    "start_time": "2025-01-10T04:47:07.347Z"
   },
   {
    "duration": 400,
    "start_time": "2025-01-10T04:47:11.893Z"
   },
   {
    "duration": 20,
    "start_time": "2025-01-10T04:48:23.639Z"
   },
   {
    "duration": 28,
    "start_time": "2025-01-10T04:59:04.050Z"
   },
   {
    "duration": 159,
    "start_time": "2025-01-10T05:25:18.277Z"
   },
   {
    "duration": 7,
    "start_time": "2025-01-10T05:36:50.694Z"
   },
   {
    "duration": 4,
    "start_time": "2025-01-10T05:37:54.687Z"
   },
   {
    "duration": 3,
    "start_time": "2025-01-10T05:39:55.920Z"
   },
   {
    "duration": 3,
    "start_time": "2025-01-10T05:40:47.887Z"
   },
   {
    "duration": 4,
    "start_time": "2025-01-10T05:41:59.762Z"
   },
   {
    "duration": 4,
    "start_time": "2025-01-10T05:42:06.113Z"
   },
   {
    "duration": 4,
    "start_time": "2025-01-10T05:42:28.494Z"
   },
   {
    "duration": 0,
    "start_time": "2025-01-10T05:43:44.077Z"
   },
   {
    "duration": 12,
    "start_time": "2025-01-10T05:43:51.446Z"
   },
   {
    "duration": 4,
    "start_time": "2025-01-10T05:43:58.380Z"
   },
   {
    "duration": 2720,
    "start_time": "2025-01-10T05:44:23.236Z"
   },
   {
    "duration": 87,
    "start_time": "2025-01-10T05:44:25.959Z"
   },
   {
    "duration": 10,
    "start_time": "2025-01-10T05:44:26.048Z"
   },
   {
    "duration": 9,
    "start_time": "2025-01-10T05:44:26.060Z"
   },
   {
    "duration": 3,
    "start_time": "2025-01-10T05:44:26.070Z"
   },
   {
    "duration": 0,
    "start_time": "2025-01-10T05:44:26.075Z"
   },
   {
    "duration": 0,
    "start_time": "2025-01-10T05:44:26.075Z"
   },
   {
    "duration": 0,
    "start_time": "2025-01-10T05:44:26.076Z"
   },
   {
    "duration": 0,
    "start_time": "2025-01-10T05:44:26.078Z"
   },
   {
    "duration": 0,
    "start_time": "2025-01-10T05:44:26.079Z"
   },
   {
    "duration": 0,
    "start_time": "2025-01-10T05:44:26.080Z"
   },
   {
    "duration": 0,
    "start_time": "2025-01-10T05:44:26.081Z"
   },
   {
    "duration": 0,
    "start_time": "2025-01-10T05:44:26.082Z"
   },
   {
    "duration": 0,
    "start_time": "2025-01-10T05:44:26.083Z"
   },
   {
    "duration": 0,
    "start_time": "2025-01-10T05:44:26.084Z"
   },
   {
    "duration": 0,
    "start_time": "2025-01-10T05:44:26.084Z"
   },
   {
    "duration": 24,
    "start_time": "2025-01-10T05:44:28.150Z"
   },
   {
    "duration": 16,
    "start_time": "2025-01-10T05:44:28.176Z"
   },
   {
    "duration": 18,
    "start_time": "2025-01-10T05:44:28.194Z"
   },
   {
    "duration": 8,
    "start_time": "2025-01-10T05:44:28.214Z"
   },
   {
    "duration": 23,
    "start_time": "2025-01-10T05:44:28.224Z"
   },
   {
    "duration": 27,
    "start_time": "2025-01-10T05:44:28.249Z"
   },
   {
    "duration": 5,
    "start_time": "2025-01-10T05:44:28.277Z"
   },
   {
    "duration": 378,
    "start_time": "2025-01-10T05:44:28.284Z"
   },
   {
    "duration": 0,
    "start_time": "2025-01-10T05:44:28.664Z"
   },
   {
    "duration": 0,
    "start_time": "2025-01-10T05:44:28.665Z"
   },
   {
    "duration": 0,
    "start_time": "2025-01-10T05:44:28.666Z"
   },
   {
    "duration": 0,
    "start_time": "2025-01-10T05:44:28.667Z"
   },
   {
    "duration": 0,
    "start_time": "2025-01-10T05:44:28.668Z"
   },
   {
    "duration": 0,
    "start_time": "2025-01-10T05:44:28.670Z"
   },
   {
    "duration": 0,
    "start_time": "2025-01-10T05:44:28.671Z"
   },
   {
    "duration": 0,
    "start_time": "2025-01-10T05:44:28.673Z"
   },
   {
    "duration": 0,
    "start_time": "2025-01-10T05:44:28.674Z"
   },
   {
    "duration": 0,
    "start_time": "2025-01-10T05:44:28.676Z"
   },
   {
    "duration": 0,
    "start_time": "2025-01-10T05:44:28.677Z"
   },
   {
    "duration": 0,
    "start_time": "2025-01-10T05:44:28.678Z"
   },
   {
    "duration": 0,
    "start_time": "2025-01-10T05:44:28.680Z"
   },
   {
    "duration": 0,
    "start_time": "2025-01-10T05:44:28.682Z"
   },
   {
    "duration": 154,
    "start_time": "2025-01-10T05:44:32.218Z"
   },
   {
    "duration": 86,
    "start_time": "2025-01-10T05:44:37.007Z"
   },
   {
    "duration": 10,
    "start_time": "2025-01-10T05:44:40.724Z"
   },
   {
    "duration": 8,
    "start_time": "2025-01-10T05:44:44.055Z"
   },
   {
    "duration": 3,
    "start_time": "2025-01-10T05:44:47.727Z"
   },
   {
    "duration": 9,
    "start_time": "2025-01-10T05:44:51.470Z"
   },
   {
    "duration": 16,
    "start_time": "2025-01-10T05:44:55.566Z"
   },
   {
    "duration": 8,
    "start_time": "2025-01-10T05:45:00.596Z"
   },
   {
    "duration": 7,
    "start_time": "2025-01-10T05:45:05.818Z"
   },
   {
    "duration": 10,
    "start_time": "2025-01-10T05:45:10.203Z"
   },
   {
    "duration": 28,
    "start_time": "2025-01-10T05:45:14.447Z"
   },
   {
    "duration": 9,
    "start_time": "2025-01-10T05:45:17.904Z"
   },
   {
    "duration": 60,
    "start_time": "2025-01-10T05:45:21.764Z"
   },
   {
    "duration": 50,
    "start_time": "2025-01-10T05:45:25.311Z"
   },
   {
    "duration": 13,
    "start_time": "2025-01-10T05:45:28.965Z"
   },
   {
    "duration": 8,
    "start_time": "2025-01-10T05:45:33.614Z"
   },
   {
    "duration": 23,
    "start_time": "2025-01-10T05:45:37.650Z"
   },
   {
    "duration": 17,
    "start_time": "2025-01-10T05:45:41.194Z"
   },
   {
    "duration": 20,
    "start_time": "2025-01-10T05:45:44.534Z"
   },
   {
    "duration": 10,
    "start_time": "2025-01-10T05:45:48.275Z"
   },
   {
    "duration": 23,
    "start_time": "2025-01-10T05:45:52.499Z"
   },
   {
    "duration": 27,
    "start_time": "2025-01-10T05:45:56.267Z"
   },
   {
    "duration": 7,
    "start_time": "2025-01-10T05:45:59.870Z"
   },
   {
    "duration": 22,
    "start_time": "2025-01-10T05:46:03.702Z"
   },
   {
    "duration": 27,
    "start_time": "2025-01-10T05:46:10.636Z"
   },
   {
    "duration": 22,
    "start_time": "2025-01-10T05:46:14.953Z"
   },
   {
    "duration": 25,
    "start_time": "2025-01-10T05:46:18.691Z"
   },
   {
    "duration": 4,
    "start_time": "2025-01-10T05:46:22.179Z"
   },
   {
    "duration": 25,
    "start_time": "2025-01-10T05:46:59.430Z"
   },
   {
    "duration": 21,
    "start_time": "2025-01-10T06:08:30.649Z"
   },
   {
    "duration": 22,
    "start_time": "2025-01-10T06:10:06.560Z"
   },
   {
    "duration": 21,
    "start_time": "2025-01-10T06:11:46.174Z"
   },
   {
    "duration": 26,
    "start_time": "2025-01-10T06:12:08.458Z"
   },
   {
    "duration": 22,
    "start_time": "2025-01-10T06:15:23.310Z"
   },
   {
    "duration": 15,
    "start_time": "2025-01-10T06:15:41.329Z"
   },
   {
    "duration": 20,
    "start_time": "2025-01-10T06:17:28.961Z"
   },
   {
    "duration": 178,
    "start_time": "2025-01-10T06:18:08.892Z"
   },
   {
    "duration": 88,
    "start_time": "2025-01-10T06:18:11.385Z"
   },
   {
    "duration": 10,
    "start_time": "2025-01-10T06:18:14.665Z"
   },
   {
    "duration": 9,
    "start_time": "2025-01-10T06:18:18.264Z"
   },
   {
    "duration": 4,
    "start_time": "2025-01-10T06:18:21.419Z"
   },
   {
    "duration": 7,
    "start_time": "2025-01-10T06:18:24.030Z"
   },
   {
    "duration": 20,
    "start_time": "2025-01-10T06:18:27.409Z"
   },
   {
    "duration": 10,
    "start_time": "2025-01-10T06:18:30.943Z"
   },
   {
    "duration": 7,
    "start_time": "2025-01-10T06:18:35.199Z"
   },
   {
    "duration": 10,
    "start_time": "2025-01-10T06:18:39.691Z"
   },
   {
    "duration": 29,
    "start_time": "2025-01-10T06:18:44.152Z"
   },
   {
    "duration": 9,
    "start_time": "2025-01-10T06:18:47.260Z"
   },
   {
    "duration": 59,
    "start_time": "2025-01-10T06:18:50.872Z"
   },
   {
    "duration": 56,
    "start_time": "2025-01-10T06:18:55.857Z"
   },
   {
    "duration": 12,
    "start_time": "2025-01-10T06:19:00.246Z"
   },
   {
    "duration": 8,
    "start_time": "2025-01-10T06:19:03.713Z"
   },
   {
    "duration": 21,
    "start_time": "2025-01-10T06:19:07.362Z"
   },
   {
    "duration": 16,
    "start_time": "2025-01-10T06:19:10.304Z"
   },
   {
    "duration": 18,
    "start_time": "2025-01-10T06:19:13.115Z"
   },
   {
    "duration": 9,
    "start_time": "2025-01-10T06:19:17.325Z"
   },
   {
    "duration": 25,
    "start_time": "2025-01-10T06:19:21.819Z"
   },
   {
    "duration": 27,
    "start_time": "2025-01-10T06:19:25.407Z"
   },
   {
    "duration": 6,
    "start_time": "2025-01-10T06:19:28.647Z"
   },
   {
    "duration": 19,
    "start_time": "2025-01-10T06:19:32.571Z"
   },
   {
    "duration": 24,
    "start_time": "2025-01-10T06:19:35.804Z"
   },
   {
    "duration": 22,
    "start_time": "2025-01-10T06:19:38.659Z"
   },
   {
    "duration": 23,
    "start_time": "2025-01-10T06:19:41.739Z"
   },
   {
    "duration": 22,
    "start_time": "2025-01-10T06:19:45.836Z"
   },
   {
    "duration": 21,
    "start_time": "2025-01-10T06:21:32.169Z"
   },
   {
    "duration": 21,
    "start_time": "2025-01-10T06:22:09.080Z"
   },
   {
    "duration": 21,
    "start_time": "2025-01-10T06:22:50.353Z"
   },
   {
    "duration": 21,
    "start_time": "2025-01-10T06:25:03.360Z"
   },
   {
    "duration": 25,
    "start_time": "2025-01-10T06:27:04.072Z"
   },
   {
    "duration": 369,
    "start_time": "2025-01-10T06:28:06.057Z"
   },
   {
    "duration": 157,
    "start_time": "2025-01-10T06:29:28.437Z"
   },
   {
    "duration": 13,
    "start_time": "2025-01-10T06:30:04.692Z"
   },
   {
    "duration": 12,
    "start_time": "2025-01-10T06:30:10.747Z"
   },
   {
    "duration": 955,
    "start_time": "2025-01-10T06:30:23.819Z"
   },
   {
    "duration": 88,
    "start_time": "2025-01-10T06:30:27.344Z"
   },
   {
    "duration": 10,
    "start_time": "2025-01-10T06:30:30.920Z"
   },
   {
    "duration": 10,
    "start_time": "2025-01-10T06:30:35.095Z"
   },
   {
    "duration": 5,
    "start_time": "2025-01-10T06:30:39.339Z"
   },
   {
    "duration": 9,
    "start_time": "2025-01-10T06:30:42.147Z"
   },
   {
    "duration": 17,
    "start_time": "2025-01-10T06:30:46.383Z"
   },
   {
    "duration": 9,
    "start_time": "2025-01-10T06:30:50.921Z"
   },
   {
    "duration": 8,
    "start_time": "2025-01-10T06:30:55.903Z"
   },
   {
    "duration": 10,
    "start_time": "2025-01-10T06:30:59.527Z"
   },
   {
    "duration": 31,
    "start_time": "2025-01-10T06:31:03.279Z"
   },
   {
    "duration": 10,
    "start_time": "2025-01-10T06:31:07.795Z"
   },
   {
    "duration": 76,
    "start_time": "2025-01-10T06:31:12.167Z"
   },
   {
    "duration": 61,
    "start_time": "2025-01-10T06:31:15.895Z"
   },
   {
    "duration": 13,
    "start_time": "2025-01-10T06:31:19.251Z"
   },
   {
    "duration": 8,
    "start_time": "2025-01-10T06:31:23.355Z"
   },
   {
    "duration": 24,
    "start_time": "2025-01-10T06:31:26.884Z"
   },
   {
    "duration": 17,
    "start_time": "2025-01-10T06:31:29.797Z"
   },
   {
    "duration": 19,
    "start_time": "2025-01-10T06:31:32.947Z"
   },
   {
    "duration": 10,
    "start_time": "2025-01-10T06:31:37.912Z"
   },
   {
    "duration": 24,
    "start_time": "2025-01-10T06:31:42.516Z"
   },
   {
    "duration": 28,
    "start_time": "2025-01-10T06:31:47.276Z"
   },
   {
    "duration": 26,
    "start_time": "2025-01-10T06:31:53.019Z"
   },
   {
    "duration": 6,
    "start_time": "2025-01-10T06:31:56.267Z"
   },
   {
    "duration": 22,
    "start_time": "2025-01-10T06:31:59.625Z"
   },
   {
    "duration": 24,
    "start_time": "2025-01-10T06:32:02.312Z"
   },
   {
    "duration": 21,
    "start_time": "2025-01-10T06:32:06.521Z"
   },
   {
    "duration": 85,
    "start_time": "2025-01-10T06:32:09.904Z"
   },
   {
    "duration": 157,
    "start_time": "2025-01-10T06:33:15.371Z"
   },
   {
    "duration": 15,
    "start_time": "2025-01-10T06:34:52.519Z"
   },
   {
    "duration": 14,
    "start_time": "2025-01-10T06:35:00.403Z"
   },
   {
    "duration": 951,
    "start_time": "2025-01-10T06:35:10.920Z"
   },
   {
    "duration": 87,
    "start_time": "2025-01-10T06:35:14.122Z"
   },
   {
    "duration": 10,
    "start_time": "2025-01-10T06:35:17.547Z"
   },
   {
    "duration": 9,
    "start_time": "2025-01-10T06:35:20.788Z"
   },
   {
    "duration": 6,
    "start_time": "2025-01-10T06:35:24.060Z"
   },
   {
    "duration": 10,
    "start_time": "2025-01-10T06:35:27.289Z"
   },
   {
    "duration": 18,
    "start_time": "2025-01-10T06:35:30.751Z"
   },
   {
    "duration": 12,
    "start_time": "2025-01-10T06:35:34.811Z"
   },
   {
    "duration": 7,
    "start_time": "2025-01-10T06:35:38.436Z"
   },
   {
    "duration": 10,
    "start_time": "2025-01-10T06:35:43.595Z"
   },
   {
    "duration": 31,
    "start_time": "2025-01-10T06:35:47.826Z"
   },
   {
    "duration": 10,
    "start_time": "2025-01-10T06:35:51.763Z"
   },
   {
    "duration": 69,
    "start_time": "2025-01-10T06:35:56.270Z"
   },
   {
    "duration": 53,
    "start_time": "2025-01-10T06:36:00.497Z"
   },
   {
    "duration": 12,
    "start_time": "2025-01-10T06:36:04.457Z"
   },
   {
    "duration": 8,
    "start_time": "2025-01-10T06:36:09.539Z"
   },
   {
    "duration": 23,
    "start_time": "2025-01-10T06:36:13.087Z"
   },
   {
    "duration": 16,
    "start_time": "2025-01-10T06:36:16.157Z"
   },
   {
    "duration": 20,
    "start_time": "2025-01-10T06:36:18.975Z"
   },
   {
    "duration": 10,
    "start_time": "2025-01-10T06:36:23.072Z"
   },
   {
    "duration": 22,
    "start_time": "2025-01-10T06:36:26.764Z"
   },
   {
    "duration": 27,
    "start_time": "2025-01-10T06:36:30.532Z"
   },
   {
    "duration": 8,
    "start_time": "2025-01-10T06:36:34.736Z"
   },
   {
    "duration": 21,
    "start_time": "2025-01-10T06:36:38.193Z"
   },
   {
    "duration": 26,
    "start_time": "2025-01-10T06:36:41.280Z"
   },
   {
    "duration": 22,
    "start_time": "2025-01-10T06:36:44.098Z"
   },
   {
    "duration": 70,
    "start_time": "2025-01-10T06:36:47.187Z"
   },
   {
    "duration": 155,
    "start_time": "2025-01-10T06:37:03.372Z"
   },
   {
    "duration": 14,
    "start_time": "2025-01-10T06:37:30.813Z"
   },
   {
    "duration": 2843,
    "start_time": "2025-01-10T17:37:25.743Z"
   },
   {
    "duration": 95,
    "start_time": "2025-01-10T17:37:28.798Z"
   },
   {
    "duration": 11,
    "start_time": "2025-01-10T17:37:34.450Z"
   },
   {
    "duration": 10,
    "start_time": "2025-01-10T17:37:39.125Z"
   },
   {
    "duration": 5,
    "start_time": "2025-01-10T17:37:42.785Z"
   },
   {
    "duration": 9,
    "start_time": "2025-01-10T17:37:45.624Z"
   },
   {
    "duration": 17,
    "start_time": "2025-01-10T17:37:49.207Z"
   },
   {
    "duration": 12,
    "start_time": "2025-01-10T17:37:53.019Z"
   },
   {
    "duration": 7,
    "start_time": "2025-01-10T17:37:58.219Z"
   },
   {
    "duration": 13,
    "start_time": "2025-01-10T17:38:04.132Z"
   },
   {
    "duration": 30,
    "start_time": "2025-01-10T17:38:09.514Z"
   },
   {
    "duration": 9,
    "start_time": "2025-01-10T17:38:14.201Z"
   },
   {
    "duration": 91,
    "start_time": "2025-01-10T17:38:18.699Z"
   },
   {
    "duration": 66,
    "start_time": "2025-01-10T17:38:23.115Z"
   },
   {
    "duration": 15,
    "start_time": "2025-01-10T17:38:27.295Z"
   },
   {
    "duration": 10,
    "start_time": "2025-01-10T17:38:31.671Z"
   },
   {
    "duration": 33,
    "start_time": "2025-01-10T17:38:36.281Z"
   },
   {
    "duration": 19,
    "start_time": "2025-01-10T17:38:40.056Z"
   },
   {
    "duration": 23,
    "start_time": "2025-01-10T17:38:44.366Z"
   },
   {
    "duration": 9,
    "start_time": "2025-01-10T17:38:50.323Z"
   },
   {
    "duration": 23,
    "start_time": "2025-01-10T17:38:54.724Z"
   },
   {
    "duration": 37,
    "start_time": "2025-01-10T17:38:59.238Z"
   },
   {
    "duration": 6,
    "start_time": "2025-01-10T17:39:03.938Z"
   },
   {
    "duration": 24,
    "start_time": "2025-01-10T17:39:08.429Z"
   },
   {
    "duration": 25,
    "start_time": "2025-01-10T17:39:12.216Z"
   },
   {
    "duration": 22,
    "start_time": "2025-01-10T17:39:15.645Z"
   },
   {
    "duration": 25,
    "start_time": "2025-01-10T17:39:19.900Z"
   },
   {
    "duration": 176,
    "start_time": "2025-01-10T17:39:47.588Z"
   },
   {
    "duration": 13,
    "start_time": "2025-01-10T17:40:11.119Z"
   },
   {
    "duration": 1006,
    "start_time": "2025-01-10T17:40:16.586Z"
   },
   {
    "duration": 102,
    "start_time": "2025-01-10T17:40:17.595Z"
   },
   {
    "duration": 10,
    "start_time": "2025-01-10T17:40:17.699Z"
   },
   {
    "duration": 10,
    "start_time": "2025-01-10T17:40:17.711Z"
   },
   {
    "duration": 5,
    "start_time": "2025-01-10T17:40:17.724Z"
   },
   {
    "duration": 0,
    "start_time": "2025-01-10T17:40:17.732Z"
   },
   {
    "duration": 0,
    "start_time": "2025-01-10T17:40:17.733Z"
   },
   {
    "duration": 0,
    "start_time": "2025-01-10T17:40:17.734Z"
   },
   {
    "duration": 0,
    "start_time": "2025-01-10T17:40:17.735Z"
   },
   {
    "duration": 0,
    "start_time": "2025-01-10T17:40:17.737Z"
   },
   {
    "duration": 0,
    "start_time": "2025-01-10T17:40:17.738Z"
   },
   {
    "duration": 0,
    "start_time": "2025-01-10T17:40:17.739Z"
   },
   {
    "duration": 0,
    "start_time": "2025-01-10T17:40:17.740Z"
   },
   {
    "duration": 0,
    "start_time": "2025-01-10T17:40:17.742Z"
   },
   {
    "duration": 0,
    "start_time": "2025-01-10T17:40:17.743Z"
   },
   {
    "duration": 0,
    "start_time": "2025-01-10T17:40:17.744Z"
   },
   {
    "duration": 0,
    "start_time": "2025-01-10T17:40:17.746Z"
   },
   {
    "duration": 0,
    "start_time": "2025-01-10T17:40:17.787Z"
   },
   {
    "duration": 0,
    "start_time": "2025-01-10T17:40:17.789Z"
   },
   {
    "duration": 0,
    "start_time": "2025-01-10T17:40:17.790Z"
   },
   {
    "duration": 0,
    "start_time": "2025-01-10T17:40:17.791Z"
   },
   {
    "duration": 0,
    "start_time": "2025-01-10T17:40:17.792Z"
   },
   {
    "duration": 0,
    "start_time": "2025-01-10T17:40:17.793Z"
   },
   {
    "duration": 0,
    "start_time": "2025-01-10T17:40:17.794Z"
   },
   {
    "duration": 0,
    "start_time": "2025-01-10T17:40:17.796Z"
   },
   {
    "duration": 0,
    "start_time": "2025-01-10T17:40:17.797Z"
   },
   {
    "duration": 0,
    "start_time": "2025-01-10T17:40:17.798Z"
   },
   {
    "duration": 0,
    "start_time": "2025-01-10T17:40:17.799Z"
   },
   {
    "duration": 0,
    "start_time": "2025-01-10T17:40:17.800Z"
   },
   {
    "duration": 0,
    "start_time": "2025-01-10T17:40:17.802Z"
   },
   {
    "duration": 0,
    "start_time": "2025-01-10T17:40:17.803Z"
   },
   {
    "duration": 0,
    "start_time": "2025-01-10T17:40:17.805Z"
   },
   {
    "duration": 0,
    "start_time": "2025-01-10T17:40:17.806Z"
   },
   {
    "duration": 0,
    "start_time": "2025-01-10T17:40:17.806Z"
   },
   {
    "duration": 0,
    "start_time": "2025-01-10T17:40:17.808Z"
   },
   {
    "duration": 0,
    "start_time": "2025-01-10T17:40:17.809Z"
   },
   {
    "duration": 0,
    "start_time": "2025-01-10T17:40:17.810Z"
   },
   {
    "duration": 0,
    "start_time": "2025-01-10T17:40:17.812Z"
   },
   {
    "duration": 171,
    "start_time": "2025-01-10T17:40:28.243Z"
   },
   {
    "duration": 118,
    "start_time": "2025-01-10T17:40:31.470Z"
   },
   {
    "duration": 12,
    "start_time": "2025-01-10T17:40:35.254Z"
   },
   {
    "duration": 10,
    "start_time": "2025-01-10T17:40:38.810Z"
   },
   {
    "duration": 4,
    "start_time": "2025-01-10T17:40:43.330Z"
   },
   {
    "duration": 10,
    "start_time": "2025-01-10T17:40:46.651Z"
   },
   {
    "duration": 16,
    "start_time": "2025-01-10T17:40:50.525Z"
   },
   {
    "duration": 9,
    "start_time": "2025-01-10T17:40:55.077Z"
   },
   {
    "duration": 7,
    "start_time": "2025-01-10T17:41:00.065Z"
   },
   {
    "duration": 10,
    "start_time": "2025-01-10T17:41:05.248Z"
   },
   {
    "duration": 30,
    "start_time": "2025-01-10T17:41:09.908Z"
   },
   {
    "duration": 10,
    "start_time": "2025-01-10T17:41:13.730Z"
   },
   {
    "duration": 63,
    "start_time": "2025-01-10T17:41:17.509Z"
   },
   {
    "duration": 55,
    "start_time": "2025-01-10T17:41:21.586Z"
   },
   {
    "duration": 13,
    "start_time": "2025-01-10T17:41:26.201Z"
   },
   {
    "duration": 8,
    "start_time": "2025-01-10T17:41:30.670Z"
   },
   {
    "duration": 23,
    "start_time": "2025-01-10T17:41:37.316Z"
   },
   {
    "duration": 16,
    "start_time": "2025-01-10T17:41:40.735Z"
   },
   {
    "duration": 19,
    "start_time": "2025-01-10T17:41:45.309Z"
   },
   {
    "duration": 9,
    "start_time": "2025-01-10T17:41:50.143Z"
   },
   {
    "duration": 22,
    "start_time": "2025-01-10T17:41:54.077Z"
   },
   {
    "duration": 35,
    "start_time": "2025-01-10T17:41:57.831Z"
   },
   {
    "duration": 5,
    "start_time": "2025-01-10T17:42:01.634Z"
   },
   {
    "duration": 21,
    "start_time": "2025-01-10T17:42:05.687Z"
   },
   {
    "duration": 28,
    "start_time": "2025-01-10T17:42:09.779Z"
   },
   {
    "duration": 22,
    "start_time": "2025-01-10T17:42:14.024Z"
   },
   {
    "duration": 79,
    "start_time": "2025-01-10T17:42:17.873Z"
   },
   {
    "duration": 162,
    "start_time": "2025-01-10T17:42:46.261Z"
   },
   {
    "duration": 13,
    "start_time": "2025-01-10T17:43:02.974Z"
   },
   {
    "duration": 14,
    "start_time": "2025-01-10T17:43:06.731Z"
   },
   {
    "duration": 14,
    "start_time": "2025-01-10T17:43:20.043Z"
   },
   {
    "duration": 13,
    "start_time": "2025-01-10T17:43:24.223Z"
   },
   {
    "duration": 13,
    "start_time": "2025-01-10T17:43:28.441Z"
   },
   {
    "duration": 15,
    "start_time": "2025-01-10T17:43:32.755Z"
   },
   {
    "duration": 41,
    "start_time": "2025-01-10T17:43:37.171Z"
   },
   {
    "duration": 14,
    "start_time": "2025-01-10T17:43:41.055Z"
   },
   {
    "duration": 13,
    "start_time": "2025-01-10T17:43:46.204Z"
   },
   {
    "duration": 13,
    "start_time": "2025-01-10T17:43:51.262Z"
   },
   {
    "duration": 15,
    "start_time": "2025-01-10T17:43:55.768Z"
   },
   {
    "duration": 1230,
    "start_time": "2025-01-10T17:44:12.953Z"
   },
   {
    "duration": 101,
    "start_time": "2025-01-10T17:44:16.240Z"
   },
   {
    "duration": 12,
    "start_time": "2025-01-10T17:44:20.187Z"
   },
   {
    "duration": 12,
    "start_time": "2025-01-10T17:44:24.134Z"
   },
   {
    "duration": 5,
    "start_time": "2025-01-10T17:44:28.634Z"
   },
   {
    "duration": 10,
    "start_time": "2025-01-10T17:44:32.899Z"
   },
   {
    "duration": 17,
    "start_time": "2025-01-10T17:44:37.262Z"
   },
   {
    "duration": 12,
    "start_time": "2025-01-10T17:44:41.987Z"
   },
   {
    "duration": 9,
    "start_time": "2025-01-10T17:44:46.842Z"
   },
   {
    "duration": 11,
    "start_time": "2025-01-10T17:44:51.787Z"
   },
   {
    "duration": 29,
    "start_time": "2025-01-10T17:44:56.678Z"
   },
   {
    "duration": 9,
    "start_time": "2025-01-10T17:45:01.352Z"
   },
   {
    "duration": 68,
    "start_time": "2025-01-10T17:45:05.193Z"
   },
   {
    "duration": 51,
    "start_time": "2025-01-10T17:45:09.179Z"
   },
   {
    "duration": 14,
    "start_time": "2025-01-10T17:45:13.599Z"
   },
   {
    "duration": 8,
    "start_time": "2025-01-10T17:45:18.158Z"
   },
   {
    "duration": 23,
    "start_time": "2025-01-10T17:45:22.215Z"
   },
   {
    "duration": 16,
    "start_time": "2025-01-10T17:45:25.613Z"
   },
   {
    "duration": 19,
    "start_time": "2025-01-10T17:45:28.752Z"
   },
   {
    "duration": 9,
    "start_time": "2025-01-10T17:45:33.229Z"
   },
   {
    "duration": 22,
    "start_time": "2025-01-10T17:45:37.042Z"
   },
   {
    "duration": 27,
    "start_time": "2025-01-10T17:45:40.626Z"
   },
   {
    "duration": 6,
    "start_time": "2025-01-10T17:45:44.727Z"
   },
   {
    "duration": 21,
    "start_time": "2025-01-10T17:45:49.347Z"
   },
   {
    "duration": 27,
    "start_time": "2025-01-10T17:45:52.629Z"
   },
   {
    "duration": 24,
    "start_time": "2025-01-10T17:45:56.263Z"
   },
   {
    "duration": 25,
    "start_time": "2025-01-10T17:46:00.040Z"
   },
   {
    "duration": 155,
    "start_time": "2025-01-10T17:46:10.676Z"
   },
   {
    "duration": 14,
    "start_time": "2025-01-10T17:46:15.126Z"
   },
   {
    "duration": 971,
    "start_time": "2025-01-10T17:46:51.772Z"
   },
   {
    "duration": 88,
    "start_time": "2025-01-10T17:46:55.075Z"
   },
   {
    "duration": 11,
    "start_time": "2025-01-10T17:47:00.854Z"
   },
   {
    "duration": 10,
    "start_time": "2025-01-10T17:47:04.690Z"
   },
   {
    "duration": 5,
    "start_time": "2025-01-10T17:47:08.235Z"
   },
   {
    "duration": 8,
    "start_time": "2025-01-10T17:47:10.949Z"
   },
   {
    "duration": 17,
    "start_time": "2025-01-10T17:47:14.670Z"
   },
   {
    "duration": 9,
    "start_time": "2025-01-10T17:47:17.891Z"
   },
   {
    "duration": 7,
    "start_time": "2025-01-10T17:47:22.373Z"
   },
   {
    "duration": 12,
    "start_time": "2025-01-10T17:47:26.317Z"
   },
   {
    "duration": 38,
    "start_time": "2025-01-10T17:47:30.907Z"
   },
   {
    "duration": 14,
    "start_time": "2025-01-10T17:47:35.065Z"
   },
   {
    "duration": 66,
    "start_time": "2025-01-10T17:47:38.935Z"
   },
   {
    "duration": 55,
    "start_time": "2025-01-10T17:47:43.017Z"
   },
   {
    "duration": 13,
    "start_time": "2025-01-10T17:47:47.258Z"
   },
   {
    "duration": 8,
    "start_time": "2025-01-10T17:47:51.131Z"
   },
   {
    "duration": 23,
    "start_time": "2025-01-10T17:47:54.811Z"
   },
   {
    "duration": 16,
    "start_time": "2025-01-10T17:47:57.583Z"
   },
   {
    "duration": 19,
    "start_time": "2025-01-10T17:48:00.957Z"
   },
   {
    "duration": 10,
    "start_time": "2025-01-10T17:48:04.912Z"
   },
   {
    "duration": 23,
    "start_time": "2025-01-10T17:48:08.630Z"
   },
   {
    "duration": 28,
    "start_time": "2025-01-10T17:48:11.752Z"
   },
   {
    "duration": 5,
    "start_time": "2025-01-10T17:48:14.775Z"
   },
   {
    "duration": 21,
    "start_time": "2025-01-10T17:48:18.408Z"
   },
   {
    "duration": 25,
    "start_time": "2025-01-10T17:48:21.297Z"
   },
   {
    "duration": 26,
    "start_time": "2025-01-10T17:48:25.591Z"
   },
   {
    "duration": 74,
    "start_time": "2025-01-10T17:48:28.794Z"
   },
   {
    "duration": 1026,
    "start_time": "2025-01-10T17:55:12.204Z"
   },
   {
    "duration": 87,
    "start_time": "2025-01-10T17:55:14.723Z"
   },
   {
    "duration": 11,
    "start_time": "2025-01-10T17:55:18.299Z"
   },
   {
    "duration": 10,
    "start_time": "2025-01-10T17:55:25.417Z"
   },
   {
    "duration": 4,
    "start_time": "2025-01-10T17:55:29.941Z"
   },
   {
    "duration": 9,
    "start_time": "2025-01-10T17:55:34.105Z"
   },
   {
    "duration": 16,
    "start_time": "2025-01-10T17:55:38.236Z"
   },
   {
    "duration": 17,
    "start_time": "2025-01-10T17:55:55.610Z"
   },
   {
    "duration": 9,
    "start_time": "2025-01-10T17:55:58.594Z"
   },
   {
    "duration": 6,
    "start_time": "2025-01-10T17:56:02.411Z"
   },
   {
    "duration": 9,
    "start_time": "2025-01-10T17:56:06.677Z"
   },
   {
    "duration": 29,
    "start_time": "2025-01-10T17:56:10.895Z"
   },
   {
    "duration": 9,
    "start_time": "2025-01-10T17:56:14.743Z"
   },
   {
    "duration": 66,
    "start_time": "2025-01-10T17:56:18.858Z"
   },
   {
    "duration": 56,
    "start_time": "2025-01-10T17:56:21.952Z"
   },
   {
    "duration": 15,
    "start_time": "2025-01-10T17:56:25.519Z"
   },
   {
    "duration": 9,
    "start_time": "2025-01-10T17:56:29.011Z"
   },
   {
    "duration": 23,
    "start_time": "2025-01-10T17:56:33.167Z"
   },
   {
    "duration": 15,
    "start_time": "2025-01-10T17:56:36.282Z"
   },
   {
    "duration": 18,
    "start_time": "2025-01-10T17:56:39.102Z"
   },
   {
    "duration": 10,
    "start_time": "2025-01-10T17:56:43.303Z"
   },
   {
    "duration": 22,
    "start_time": "2025-01-10T17:56:47.162Z"
   },
   {
    "duration": 27,
    "start_time": "2025-01-10T17:56:50.620Z"
   },
   {
    "duration": 6,
    "start_time": "2025-01-10T17:56:55.101Z"
   },
   {
    "duration": 21,
    "start_time": "2025-01-10T17:56:58.448Z"
   },
   {
    "duration": 27,
    "start_time": "2025-01-10T17:57:01.754Z"
   },
   {
    "duration": 22,
    "start_time": "2025-01-10T17:57:05.015Z"
   },
   {
    "duration": 23,
    "start_time": "2025-01-10T17:57:09.258Z"
   },
   {
    "duration": 939,
    "start_time": "2025-01-10T19:21:14.218Z"
   },
   {
    "duration": 100,
    "start_time": "2025-01-10T19:21:15.159Z"
   },
   {
    "duration": 13,
    "start_time": "2025-01-10T19:21:15.260Z"
   },
   {
    "duration": 13,
    "start_time": "2025-01-10T19:21:15.290Z"
   },
   {
    "duration": 3,
    "start_time": "2025-01-10T19:21:15.305Z"
   },
   {
    "duration": 0,
    "start_time": "2025-01-10T19:21:15.311Z"
   },
   {
    "duration": 0,
    "start_time": "2025-01-10T19:21:15.312Z"
   },
   {
    "duration": 0,
    "start_time": "2025-01-10T19:21:15.313Z"
   },
   {
    "duration": 0,
    "start_time": "2025-01-10T19:21:15.314Z"
   },
   {
    "duration": 0,
    "start_time": "2025-01-10T19:21:15.315Z"
   },
   {
    "duration": 0,
    "start_time": "2025-01-10T19:21:15.317Z"
   },
   {
    "duration": 0,
    "start_time": "2025-01-10T19:21:15.318Z"
   },
   {
    "duration": 0,
    "start_time": "2025-01-10T19:21:15.319Z"
   },
   {
    "duration": 0,
    "start_time": "2025-01-10T19:21:15.321Z"
   },
   {
    "duration": 0,
    "start_time": "2025-01-10T19:21:15.322Z"
   },
   {
    "duration": 0,
    "start_time": "2025-01-10T19:21:15.323Z"
   },
   {
    "duration": 0,
    "start_time": "2025-01-10T19:21:15.324Z"
   },
   {
    "duration": 0,
    "start_time": "2025-01-10T19:21:15.325Z"
   },
   {
    "duration": 0,
    "start_time": "2025-01-10T19:21:15.326Z"
   },
   {
    "duration": 0,
    "start_time": "2025-01-10T19:21:15.327Z"
   },
   {
    "duration": 0,
    "start_time": "2025-01-10T19:21:15.328Z"
   },
   {
    "duration": 0,
    "start_time": "2025-01-10T19:21:15.329Z"
   },
   {
    "duration": 0,
    "start_time": "2025-01-10T19:21:15.330Z"
   },
   {
    "duration": 0,
    "start_time": "2025-01-10T19:21:15.332Z"
   },
   {
    "duration": 0,
    "start_time": "2025-01-10T19:21:15.333Z"
   },
   {
    "duration": 0,
    "start_time": "2025-01-10T19:21:15.333Z"
   },
   {
    "duration": 0,
    "start_time": "2025-01-10T19:21:15.334Z"
   },
   {
    "duration": 0,
    "start_time": "2025-01-10T19:21:15.335Z"
   },
   {
    "duration": 0,
    "start_time": "2025-01-10T19:21:15.336Z"
   },
   {
    "duration": 0,
    "start_time": "2025-01-10T19:21:15.337Z"
   },
   {
    "duration": 0,
    "start_time": "2025-01-10T19:21:15.338Z"
   },
   {
    "duration": 0,
    "start_time": "2025-01-10T19:21:15.339Z"
   },
   {
    "duration": 0,
    "start_time": "2025-01-10T19:21:15.370Z"
   },
   {
    "duration": 0,
    "start_time": "2025-01-10T19:21:15.370Z"
   },
   {
    "duration": 0,
    "start_time": "2025-01-10T19:21:15.374Z"
   },
   {
    "duration": 0,
    "start_time": "2025-01-10T19:21:15.375Z"
   },
   {
    "duration": 0,
    "start_time": "2025-01-10T19:21:15.377Z"
   },
   {
    "duration": 0,
    "start_time": "2025-01-10T19:21:15.377Z"
   },
   {
    "duration": 2763,
    "start_time": "2025-01-10T19:26:28.142Z"
   },
   {
    "duration": 89,
    "start_time": "2025-01-10T19:26:30.907Z"
   },
   {
    "duration": 12,
    "start_time": "2025-01-10T19:26:30.998Z"
   },
   {
    "duration": 30,
    "start_time": "2025-01-10T19:26:31.013Z"
   },
   {
    "duration": 7,
    "start_time": "2025-01-10T19:26:31.046Z"
   },
   {
    "duration": 0,
    "start_time": "2025-01-10T19:26:31.058Z"
   },
   {
    "duration": 0,
    "start_time": "2025-01-10T19:26:31.059Z"
   },
   {
    "duration": 0,
    "start_time": "2025-01-10T19:26:31.060Z"
   },
   {
    "duration": 0,
    "start_time": "2025-01-10T19:26:31.061Z"
   },
   {
    "duration": 0,
    "start_time": "2025-01-10T19:26:31.062Z"
   },
   {
    "duration": 0,
    "start_time": "2025-01-10T19:26:31.063Z"
   },
   {
    "duration": 0,
    "start_time": "2025-01-10T19:26:31.065Z"
   },
   {
    "duration": 0,
    "start_time": "2025-01-10T19:26:31.066Z"
   },
   {
    "duration": 0,
    "start_time": "2025-01-10T19:26:31.068Z"
   },
   {
    "duration": 0,
    "start_time": "2025-01-10T19:26:31.069Z"
   },
   {
    "duration": 0,
    "start_time": "2025-01-10T19:26:31.070Z"
   },
   {
    "duration": 0,
    "start_time": "2025-01-10T19:26:31.071Z"
   },
   {
    "duration": 0,
    "start_time": "2025-01-10T19:26:31.073Z"
   },
   {
    "duration": 0,
    "start_time": "2025-01-10T19:26:31.074Z"
   },
   {
    "duration": 0,
    "start_time": "2025-01-10T19:26:31.076Z"
   },
   {
    "duration": 0,
    "start_time": "2025-01-10T19:26:31.077Z"
   },
   {
    "duration": 0,
    "start_time": "2025-01-10T19:26:31.078Z"
   },
   {
    "duration": 1,
    "start_time": "2025-01-10T19:26:31.079Z"
   },
   {
    "duration": 0,
    "start_time": "2025-01-10T19:26:31.081Z"
   },
   {
    "duration": 0,
    "start_time": "2025-01-10T19:26:31.084Z"
   },
   {
    "duration": 0,
    "start_time": "2025-01-10T19:26:31.085Z"
   },
   {
    "duration": 0,
    "start_time": "2025-01-10T19:26:31.087Z"
   },
   {
    "duration": 0,
    "start_time": "2025-01-10T19:26:31.088Z"
   },
   {
    "duration": 0,
    "start_time": "2025-01-10T19:26:31.090Z"
   },
   {
    "duration": 0,
    "start_time": "2025-01-10T19:26:31.091Z"
   },
   {
    "duration": 0,
    "start_time": "2025-01-10T19:26:31.091Z"
   },
   {
    "duration": 0,
    "start_time": "2025-01-10T19:26:31.092Z"
   },
   {
    "duration": 0,
    "start_time": "2025-01-10T19:26:31.093Z"
   },
   {
    "duration": 0,
    "start_time": "2025-01-10T19:26:31.093Z"
   },
   {
    "duration": 0,
    "start_time": "2025-01-10T19:26:31.094Z"
   },
   {
    "duration": 0,
    "start_time": "2025-01-10T19:26:31.095Z"
   },
   {
    "duration": 0,
    "start_time": "2025-01-10T19:26:31.095Z"
   },
   {
    "duration": 0,
    "start_time": "2025-01-10T19:26:31.096Z"
   },
   {
    "duration": 164,
    "start_time": "2025-01-10T19:26:37.582Z"
   },
   {
    "duration": 89,
    "start_time": "2025-01-10T19:26:40.289Z"
   },
   {
    "duration": 9,
    "start_time": "2025-01-10T19:26:45.564Z"
   },
   {
    "duration": 8,
    "start_time": "2025-01-10T19:26:49.064Z"
   },
   {
    "duration": 4,
    "start_time": "2025-01-10T19:26:52.610Z"
   },
   {
    "duration": 11,
    "start_time": "2025-01-10T19:26:55.600Z"
   },
   {
    "duration": 16,
    "start_time": "2025-01-10T19:26:59.283Z"
   },
   {
    "duration": 17,
    "start_time": "2025-01-10T19:27:10.973Z"
   },
   {
    "duration": 14,
    "start_time": "2025-01-10T19:27:15.340Z"
   },
   {
    "duration": 8,
    "start_time": "2025-01-10T19:27:19.885Z"
   },
   {
    "duration": 10,
    "start_time": "2025-01-10T19:27:25.304Z"
   },
   {
    "duration": 27,
    "start_time": "2025-01-10T19:27:30.620Z"
   },
   {
    "duration": 10,
    "start_time": "2025-01-10T19:27:34.595Z"
   },
   {
    "duration": 70,
    "start_time": "2025-01-10T19:27:38.979Z"
   },
   {
    "duration": 52,
    "start_time": "2025-01-10T19:27:43.038Z"
   },
   {
    "duration": 13,
    "start_time": "2025-01-10T19:27:48.817Z"
   },
   {
    "duration": 7,
    "start_time": "2025-01-10T19:27:52.749Z"
   },
   {
    "duration": 22,
    "start_time": "2025-01-10T19:27:56.519Z"
   },
   {
    "duration": 16,
    "start_time": "2025-01-10T19:28:00.250Z"
   },
   {
    "duration": 19,
    "start_time": "2025-01-10T19:28:03.512Z"
   },
   {
    "duration": 9,
    "start_time": "2025-01-10T19:28:07.952Z"
   },
   {
    "duration": 22,
    "start_time": "2025-01-10T19:28:13.532Z"
   },
   {
    "duration": 28,
    "start_time": "2025-01-10T19:28:17.244Z"
   },
   {
    "duration": 5,
    "start_time": "2025-01-10T19:28:21.245Z"
   },
   {
    "duration": 22,
    "start_time": "2025-01-10T19:28:25.143Z"
   },
   {
    "duration": 26,
    "start_time": "2025-01-10T19:28:28.817Z"
   },
   {
    "duration": 26,
    "start_time": "2025-01-10T19:28:31.874Z"
   },
   {
    "duration": 23,
    "start_time": "2025-01-10T19:28:36.440Z"
   },
   {
    "duration": 25,
    "start_time": "2025-01-10T19:28:43.317Z"
   },
   {
    "duration": 165,
    "start_time": "2025-01-10T19:29:03.169Z"
   },
   {
    "duration": 1042,
    "start_time": "2025-01-10T19:29:21.960Z"
   },
   {
    "duration": 89,
    "start_time": "2025-01-10T19:29:23.004Z"
   },
   {
    "duration": 9,
    "start_time": "2025-01-10T19:29:23.096Z"
   },
   {
    "duration": 8,
    "start_time": "2025-01-10T19:29:23.107Z"
   },
   {
    "duration": 5,
    "start_time": "2025-01-10T19:29:23.117Z"
   },
   {
    "duration": 0,
    "start_time": "2025-01-10T19:29:23.124Z"
   },
   {
    "duration": 0,
    "start_time": "2025-01-10T19:29:23.142Z"
   },
   {
    "duration": 0,
    "start_time": "2025-01-10T19:29:23.144Z"
   },
   {
    "duration": 0,
    "start_time": "2025-01-10T19:29:23.145Z"
   },
   {
    "duration": 0,
    "start_time": "2025-01-10T19:29:23.147Z"
   },
   {
    "duration": 0,
    "start_time": "2025-01-10T19:29:23.148Z"
   },
   {
    "duration": 0,
    "start_time": "2025-01-10T19:29:23.149Z"
   },
   {
    "duration": 0,
    "start_time": "2025-01-10T19:29:23.151Z"
   },
   {
    "duration": 0,
    "start_time": "2025-01-10T19:29:23.152Z"
   },
   {
    "duration": 0,
    "start_time": "2025-01-10T19:29:23.153Z"
   },
   {
    "duration": 0,
    "start_time": "2025-01-10T19:29:23.155Z"
   },
   {
    "duration": 0,
    "start_time": "2025-01-10T19:29:23.156Z"
   },
   {
    "duration": 0,
    "start_time": "2025-01-10T19:29:23.158Z"
   },
   {
    "duration": 0,
    "start_time": "2025-01-10T19:29:23.159Z"
   },
   {
    "duration": 0,
    "start_time": "2025-01-10T19:29:23.160Z"
   },
   {
    "duration": 0,
    "start_time": "2025-01-10T19:29:23.162Z"
   },
   {
    "duration": 0,
    "start_time": "2025-01-10T19:29:23.163Z"
   },
   {
    "duration": 0,
    "start_time": "2025-01-10T19:29:23.164Z"
   },
   {
    "duration": 0,
    "start_time": "2025-01-10T19:29:23.167Z"
   },
   {
    "duration": 0,
    "start_time": "2025-01-10T19:29:23.168Z"
   },
   {
    "duration": 0,
    "start_time": "2025-01-10T19:29:23.169Z"
   },
   {
    "duration": 0,
    "start_time": "2025-01-10T19:29:23.171Z"
   },
   {
    "duration": 0,
    "start_time": "2025-01-10T19:29:23.172Z"
   },
   {
    "duration": 0,
    "start_time": "2025-01-10T19:29:23.174Z"
   },
   {
    "duration": 0,
    "start_time": "2025-01-10T19:29:23.176Z"
   },
   {
    "duration": 0,
    "start_time": "2025-01-10T19:29:23.177Z"
   },
   {
    "duration": 0,
    "start_time": "2025-01-10T19:29:23.178Z"
   },
   {
    "duration": 0,
    "start_time": "2025-01-10T19:29:23.179Z"
   },
   {
    "duration": 0,
    "start_time": "2025-01-10T19:29:23.181Z"
   },
   {
    "duration": 0,
    "start_time": "2025-01-10T19:29:23.182Z"
   },
   {
    "duration": 0,
    "start_time": "2025-01-10T19:29:23.243Z"
   },
   {
    "duration": 0,
    "start_time": "2025-01-10T19:29:23.245Z"
   },
   {
    "duration": 0,
    "start_time": "2025-01-10T19:29:23.246Z"
   },
   {
    "duration": 495,
    "start_time": "2025-01-10T19:29:38.449Z"
   },
   {
    "duration": 28,
    "start_time": "2025-01-10T19:29:45.005Z"
   },
   {
    "duration": 32,
    "start_time": "2025-01-10T19:30:25.763Z"
   },
   {
    "duration": 14,
    "start_time": "2025-01-10T19:30:32.280Z"
   },
   {
    "duration": 33,
    "start_time": "2025-01-10T19:30:44.549Z"
   },
   {
    "duration": 15,
    "start_time": "2025-01-10T19:30:56.520Z"
   },
   {
    "duration": 32,
    "start_time": "2025-01-10T19:31:06.994Z"
   },
   {
    "duration": 29,
    "start_time": "2025-01-10T19:31:12.960Z"
   },
   {
    "duration": 21,
    "start_time": "2025-01-10T19:31:16.705Z"
   },
   {
    "duration": 31,
    "start_time": "2025-01-10T19:31:25.100Z"
   },
   {
    "duration": 20,
    "start_time": "2025-01-10T19:31:48.711Z"
   },
   {
    "duration": 85,
    "start_time": "2025-01-10T19:31:52.616Z"
   },
   {
    "duration": 27,
    "start_time": "2025-01-10T19:31:57.940Z"
   },
   {
    "duration": 5,
    "start_time": "2025-01-10T19:32:03.855Z"
   },
   {
    "duration": 27,
    "start_time": "2025-01-10T19:32:09.657Z"
   },
   {
    "duration": 171,
    "start_time": "2025-01-10T19:32:34.140Z"
   },
   {
    "duration": 87,
    "start_time": "2025-01-10T19:32:34.313Z"
   },
   {
    "duration": 10,
    "start_time": "2025-01-10T19:32:34.402Z"
   },
   {
    "duration": 9,
    "start_time": "2025-01-10T19:32:34.414Z"
   },
   {
    "duration": 18,
    "start_time": "2025-01-10T19:32:34.426Z"
   },
   {
    "duration": 0,
    "start_time": "2025-01-10T19:32:34.447Z"
   },
   {
    "duration": 0,
    "start_time": "2025-01-10T19:32:34.449Z"
   },
   {
    "duration": 0,
    "start_time": "2025-01-10T19:32:34.450Z"
   },
   {
    "duration": 0,
    "start_time": "2025-01-10T19:32:34.451Z"
   },
   {
    "duration": 0,
    "start_time": "2025-01-10T19:32:34.452Z"
   },
   {
    "duration": 0,
    "start_time": "2025-01-10T19:32:34.453Z"
   },
   {
    "duration": 0,
    "start_time": "2025-01-10T19:32:34.454Z"
   },
   {
    "duration": 1,
    "start_time": "2025-01-10T19:32:34.455Z"
   },
   {
    "duration": 0,
    "start_time": "2025-01-10T19:32:34.457Z"
   },
   {
    "duration": 0,
    "start_time": "2025-01-10T19:32:34.458Z"
   },
   {
    "duration": 0,
    "start_time": "2025-01-10T19:32:34.459Z"
   },
   {
    "duration": 0,
    "start_time": "2025-01-10T19:32:34.460Z"
   },
   {
    "duration": 0,
    "start_time": "2025-01-10T19:32:34.461Z"
   },
   {
    "duration": 0,
    "start_time": "2025-01-10T19:32:34.463Z"
   },
   {
    "duration": 0,
    "start_time": "2025-01-10T19:32:34.464Z"
   },
   {
    "duration": 0,
    "start_time": "2025-01-10T19:32:34.465Z"
   },
   {
    "duration": 0,
    "start_time": "2025-01-10T19:32:34.466Z"
   },
   {
    "duration": 0,
    "start_time": "2025-01-10T19:32:34.467Z"
   },
   {
    "duration": 0,
    "start_time": "2025-01-10T19:32:34.468Z"
   },
   {
    "duration": 0,
    "start_time": "2025-01-10T19:32:34.469Z"
   },
   {
    "duration": 0,
    "start_time": "2025-01-10T19:32:34.470Z"
   },
   {
    "duration": 0,
    "start_time": "2025-01-10T19:32:34.472Z"
   },
   {
    "duration": 0,
    "start_time": "2025-01-10T19:32:34.473Z"
   },
   {
    "duration": 0,
    "start_time": "2025-01-10T19:32:34.474Z"
   },
   {
    "duration": 0,
    "start_time": "2025-01-10T19:32:34.475Z"
   },
   {
    "duration": 0,
    "start_time": "2025-01-10T19:32:34.476Z"
   },
   {
    "duration": 0,
    "start_time": "2025-01-10T19:32:34.477Z"
   },
   {
    "duration": 0,
    "start_time": "2025-01-10T19:32:34.478Z"
   },
   {
    "duration": 0,
    "start_time": "2025-01-10T19:32:34.480Z"
   },
   {
    "duration": 0,
    "start_time": "2025-01-10T19:32:34.481Z"
   },
   {
    "duration": 0,
    "start_time": "2025-01-10T19:32:34.483Z"
   },
   {
    "duration": 0,
    "start_time": "2025-01-10T19:32:34.484Z"
   },
   {
    "duration": 0,
    "start_time": "2025-01-10T19:32:34.545Z"
   },
   {
    "duration": 153,
    "start_time": "2025-01-10T19:33:03.623Z"
   },
   {
    "duration": 88,
    "start_time": "2025-01-10T19:33:08.552Z"
   },
   {
    "duration": 10,
    "start_time": "2025-01-10T19:33:12.690Z"
   },
   {
    "duration": 8,
    "start_time": "2025-01-10T19:33:15.906Z"
   },
   {
    "duration": 5,
    "start_time": "2025-01-10T19:33:19.175Z"
   },
   {
    "duration": 13,
    "start_time": "2025-01-10T19:33:22.768Z"
   },
   {
    "duration": 17,
    "start_time": "2025-01-10T19:33:26.824Z"
   },
   {
    "duration": 9,
    "start_time": "2025-01-10T19:33:31.407Z"
   },
   {
    "duration": 7,
    "start_time": "2025-01-10T19:33:36.854Z"
   },
   {
    "duration": 10,
    "start_time": "2025-01-10T19:33:41.539Z"
   },
   {
    "duration": 28,
    "start_time": "2025-01-10T19:33:45.761Z"
   },
   {
    "duration": 10,
    "start_time": "2025-01-10T19:33:49.357Z"
   },
   {
    "duration": 57,
    "start_time": "2025-01-10T19:33:53.506Z"
   },
   {
    "duration": 53,
    "start_time": "2025-01-10T19:33:59.347Z"
   },
   {
    "duration": 12,
    "start_time": "2025-01-10T19:34:03.786Z"
   },
   {
    "duration": 7,
    "start_time": "2025-01-10T19:34:07.744Z"
   },
   {
    "duration": 23,
    "start_time": "2025-01-10T19:34:12.980Z"
   },
   {
    "duration": 15,
    "start_time": "2025-01-10T19:34:17.570Z"
   },
   {
    "duration": 18,
    "start_time": "2025-01-10T19:34:24.333Z"
   },
   {
    "duration": 9,
    "start_time": "2025-01-10T19:34:29.114Z"
   },
   {
    "duration": 22,
    "start_time": "2025-01-10T19:34:33.336Z"
   },
   {
    "duration": 26,
    "start_time": "2025-01-10T19:34:36.920Z"
   },
   {
    "duration": 5,
    "start_time": "2025-01-10T19:34:41.463Z"
   },
   {
    "duration": 22,
    "start_time": "2025-01-10T19:34:45.277Z"
   },
   {
    "duration": 25,
    "start_time": "2025-01-10T19:34:48.790Z"
   },
   {
    "duration": 21,
    "start_time": "2025-01-10T19:34:54.940Z"
   },
   {
    "duration": 27,
    "start_time": "2025-01-10T19:35:00.508Z"
   },
   {
    "duration": 2688,
    "start_time": "2025-01-11T00:48:33.280Z"
   },
   {
    "duration": 498,
    "start_time": "2025-01-11T00:49:48.119Z"
   },
   {
    "duration": 30,
    "start_time": "2025-01-11T00:58:36.291Z"
   },
   {
    "duration": 166,
    "start_time": "2025-01-11T00:58:40.495Z"
   },
   {
    "duration": 97,
    "start_time": "2025-01-11T00:58:40.664Z"
   },
   {
    "duration": 10,
    "start_time": "2025-01-11T00:58:40.763Z"
   },
   {
    "duration": 17,
    "start_time": "2025-01-11T00:58:40.776Z"
   },
   {
    "duration": 6,
    "start_time": "2025-01-11T00:58:40.794Z"
   },
   {
    "duration": 0,
    "start_time": "2025-01-11T00:58:40.803Z"
   },
   {
    "duration": 0,
    "start_time": "2025-01-11T00:58:40.804Z"
   },
   {
    "duration": 0,
    "start_time": "2025-01-11T00:58:40.805Z"
   },
   {
    "duration": 0,
    "start_time": "2025-01-11T00:58:40.806Z"
   },
   {
    "duration": 0,
    "start_time": "2025-01-11T00:58:40.807Z"
   },
   {
    "duration": 0,
    "start_time": "2025-01-11T00:58:40.808Z"
   },
   {
    "duration": 0,
    "start_time": "2025-01-11T00:58:40.809Z"
   },
   {
    "duration": 0,
    "start_time": "2025-01-11T00:58:40.810Z"
   },
   {
    "duration": 0,
    "start_time": "2025-01-11T00:58:40.811Z"
   },
   {
    "duration": 0,
    "start_time": "2025-01-11T00:58:40.811Z"
   },
   {
    "duration": 0,
    "start_time": "2025-01-11T00:58:40.813Z"
   },
   {
    "duration": 0,
    "start_time": "2025-01-11T00:58:40.814Z"
   },
   {
    "duration": 0,
    "start_time": "2025-01-11T00:58:40.814Z"
   },
   {
    "duration": 0,
    "start_time": "2025-01-11T00:58:40.815Z"
   },
   {
    "duration": 0,
    "start_time": "2025-01-11T00:58:40.816Z"
   },
   {
    "duration": 0,
    "start_time": "2025-01-11T00:58:40.817Z"
   },
   {
    "duration": 0,
    "start_time": "2025-01-11T00:58:40.819Z"
   },
   {
    "duration": 0,
    "start_time": "2025-01-11T00:58:40.820Z"
   },
   {
    "duration": 0,
    "start_time": "2025-01-11T00:58:40.821Z"
   },
   {
    "duration": 0,
    "start_time": "2025-01-11T00:58:40.822Z"
   },
   {
    "duration": 0,
    "start_time": "2025-01-11T00:58:40.823Z"
   },
   {
    "duration": 0,
    "start_time": "2025-01-11T00:58:40.825Z"
   },
   {
    "duration": 0,
    "start_time": "2025-01-11T00:58:40.826Z"
   },
   {
    "duration": 0,
    "start_time": "2025-01-11T00:58:40.827Z"
   },
   {
    "duration": 0,
    "start_time": "2025-01-11T00:58:40.829Z"
   },
   {
    "duration": 0,
    "start_time": "2025-01-11T00:58:40.831Z"
   },
   {
    "duration": 0,
    "start_time": "2025-01-11T00:58:40.833Z"
   },
   {
    "duration": 0,
    "start_time": "2025-01-11T00:58:40.887Z"
   },
   {
    "duration": 0,
    "start_time": "2025-01-11T00:58:40.888Z"
   },
   {
    "duration": 0,
    "start_time": "2025-01-11T00:58:40.889Z"
   },
   {
    "duration": 0,
    "start_time": "2025-01-11T00:58:40.891Z"
   },
   {
    "duration": 0,
    "start_time": "2025-01-11T00:58:40.892Z"
   },
   {
    "duration": 0,
    "start_time": "2025-01-11T00:58:40.894Z"
   },
   {
    "duration": 29,
    "start_time": "2025-01-11T00:59:17.485Z"
   },
   {
    "duration": 0,
    "start_time": "2025-01-11T00:59:17.516Z"
   },
   {
    "duration": 0,
    "start_time": "2025-01-11T00:59:17.517Z"
   },
   {
    "duration": 0,
    "start_time": "2025-01-11T00:59:17.518Z"
   },
   {
    "duration": 0,
    "start_time": "2025-01-11T00:59:17.519Z"
   },
   {
    "duration": 0,
    "start_time": "2025-01-11T00:59:17.519Z"
   },
   {
    "duration": 87,
    "start_time": "2025-01-11T00:59:19.038Z"
   },
   {
    "duration": 10,
    "start_time": "2025-01-11T00:59:22.377Z"
   },
   {
    "duration": 8,
    "start_time": "2025-01-11T00:59:26.094Z"
   },
   {
    "duration": 3,
    "start_time": "2025-01-11T00:59:31.607Z"
   },
   {
    "duration": 11,
    "start_time": "2025-01-11T00:59:35.346Z"
   },
   {
    "duration": 16,
    "start_time": "2025-01-11T00:59:43.528Z"
   },
   {
    "duration": 9,
    "start_time": "2025-01-11T00:59:49.726Z"
   },
   {
    "duration": 7,
    "start_time": "2025-01-11T00:59:55.982Z"
   },
   {
    "duration": 11,
    "start_time": "2025-01-11T01:00:00.762Z"
   },
   {
    "duration": 33,
    "start_time": "2025-01-11T01:00:05.678Z"
   },
   {
    "duration": 10,
    "start_time": "2025-01-11T01:00:10.534Z"
   },
   {
    "duration": 63,
    "start_time": "2025-01-11T01:00:15.594Z"
   },
   {
    "duration": 56,
    "start_time": "2025-01-11T01:00:22.295Z"
   },
   {
    "duration": 12,
    "start_time": "2025-01-11T01:00:30.827Z"
   },
   {
    "duration": 8,
    "start_time": "2025-01-11T01:00:35.920Z"
   },
   {
    "duration": 23,
    "start_time": "2025-01-11T01:00:42.748Z"
   },
   {
    "duration": 16,
    "start_time": "2025-01-11T01:00:46.691Z"
   },
   {
    "duration": 19,
    "start_time": "2025-01-11T01:00:51.836Z"
   },
   {
    "duration": 9,
    "start_time": "2025-01-11T01:00:59.019Z"
   },
   {
    "duration": 22,
    "start_time": "2025-01-11T01:01:11.251Z"
   },
   {
    "duration": 28,
    "start_time": "2025-01-11T01:01:16.988Z"
   },
   {
    "duration": 6,
    "start_time": "2025-01-11T01:01:21.823Z"
   },
   {
    "duration": 22,
    "start_time": "2025-01-11T01:01:28.851Z"
   },
   {
    "duration": 26,
    "start_time": "2025-01-11T01:01:35.547Z"
   },
   {
    "duration": 24,
    "start_time": "2025-01-11T01:01:40.843Z"
   },
   {
    "duration": 26,
    "start_time": "2025-01-11T01:01:53.081Z"
   },
   {
    "duration": 9,
    "start_time": "2025-01-11T01:03:30.852Z"
   },
   {
    "duration": 155,
    "start_time": "2025-01-11T01:03:52.508Z"
   },
   {
    "duration": 984,
    "start_time": "2025-01-11T01:04:39.637Z"
   },
   {
    "duration": 89,
    "start_time": "2025-01-11T01:04:40.622Z"
   },
   {
    "duration": 9,
    "start_time": "2025-01-11T01:04:40.713Z"
   },
   {
    "duration": 9,
    "start_time": "2025-01-11T01:04:40.725Z"
   },
   {
    "duration": 4,
    "start_time": "2025-01-11T01:04:40.735Z"
   },
   {
    "duration": 0,
    "start_time": "2025-01-11T01:04:40.743Z"
   },
   {
    "duration": 0,
    "start_time": "2025-01-11T01:04:40.744Z"
   },
   {
    "duration": 0,
    "start_time": "2025-01-11T01:04:40.744Z"
   },
   {
    "duration": 0,
    "start_time": "2025-01-11T01:04:40.745Z"
   },
   {
    "duration": 0,
    "start_time": "2025-01-11T01:04:40.747Z"
   },
   {
    "duration": 0,
    "start_time": "2025-01-11T01:04:40.748Z"
   },
   {
    "duration": 0,
    "start_time": "2025-01-11T01:04:40.750Z"
   },
   {
    "duration": 0,
    "start_time": "2025-01-11T01:04:40.786Z"
   },
   {
    "duration": 0,
    "start_time": "2025-01-11T01:04:40.788Z"
   },
   {
    "duration": 0,
    "start_time": "2025-01-11T01:04:40.789Z"
   },
   {
    "duration": 0,
    "start_time": "2025-01-11T01:04:40.791Z"
   },
   {
    "duration": 0,
    "start_time": "2025-01-11T01:04:40.792Z"
   },
   {
    "duration": 0,
    "start_time": "2025-01-11T01:04:40.794Z"
   },
   {
    "duration": 0,
    "start_time": "2025-01-11T01:04:40.795Z"
   },
   {
    "duration": 0,
    "start_time": "2025-01-11T01:04:40.797Z"
   },
   {
    "duration": 0,
    "start_time": "2025-01-11T01:04:40.798Z"
   },
   {
    "duration": 0,
    "start_time": "2025-01-11T01:04:40.799Z"
   },
   {
    "duration": 0,
    "start_time": "2025-01-11T01:04:40.800Z"
   },
   {
    "duration": 0,
    "start_time": "2025-01-11T01:04:40.801Z"
   },
   {
    "duration": 0,
    "start_time": "2025-01-11T01:04:40.803Z"
   },
   {
    "duration": 0,
    "start_time": "2025-01-11T01:04:40.804Z"
   },
   {
    "duration": 0,
    "start_time": "2025-01-11T01:04:40.805Z"
   },
   {
    "duration": 0,
    "start_time": "2025-01-11T01:04:40.806Z"
   },
   {
    "duration": 0,
    "start_time": "2025-01-11T01:04:40.807Z"
   },
   {
    "duration": 0,
    "start_time": "2025-01-11T01:04:40.809Z"
   },
   {
    "duration": 0,
    "start_time": "2025-01-11T01:04:40.810Z"
   },
   {
    "duration": 0,
    "start_time": "2025-01-11T01:04:40.811Z"
   },
   {
    "duration": 0,
    "start_time": "2025-01-11T01:04:40.812Z"
   },
   {
    "duration": 0,
    "start_time": "2025-01-11T01:04:40.813Z"
   },
   {
    "duration": 0,
    "start_time": "2025-01-11T01:04:40.814Z"
   },
   {
    "duration": 0,
    "start_time": "2025-01-11T01:04:40.815Z"
   },
   {
    "duration": 0,
    "start_time": "2025-01-11T01:04:40.816Z"
   },
   {
    "duration": 0,
    "start_time": "2025-01-11T01:04:40.818Z"
   },
   {
    "duration": 158,
    "start_time": "2025-01-11T01:04:51.373Z"
   },
   {
    "duration": 85,
    "start_time": "2025-01-11T01:04:56.620Z"
   },
   {
    "duration": 10,
    "start_time": "2025-01-11T01:05:06.453Z"
   },
   {
    "duration": 7,
    "start_time": "2025-01-11T01:05:14.140Z"
   },
   {
    "duration": 4,
    "start_time": "2025-01-11T01:05:18.112Z"
   },
   {
    "duration": 9,
    "start_time": "2025-01-11T01:05:24.597Z"
   },
   {
    "duration": 17,
    "start_time": "2025-01-11T01:05:29.217Z"
   },
   {
    "duration": 9,
    "start_time": "2025-01-11T01:05:34.487Z"
   },
   {
    "duration": 7,
    "start_time": "2025-01-11T01:05:43.372Z"
   },
   {
    "duration": 10,
    "start_time": "2025-01-11T01:05:53.622Z"
   },
   {
    "duration": 28,
    "start_time": "2025-01-11T01:06:02.091Z"
   },
   {
    "duration": 10,
    "start_time": "2025-01-11T01:06:10.009Z"
   },
   {
    "duration": 65,
    "start_time": "2025-01-11T01:06:18.315Z"
   },
   {
    "duration": 54,
    "start_time": "2025-01-11T01:06:27.334Z"
   },
   {
    "duration": 13,
    "start_time": "2025-01-11T01:06:33.239Z"
   },
   {
    "duration": 8,
    "start_time": "2025-01-11T01:06:40.907Z"
   },
   {
    "duration": 22,
    "start_time": "2025-01-11T01:06:46.554Z"
   },
   {
    "duration": 16,
    "start_time": "2025-01-11T01:06:54.829Z"
   },
   {
    "duration": 19,
    "start_time": "2025-01-11T01:06:58.779Z"
   },
   {
    "duration": 9,
    "start_time": "2025-01-11T01:07:07.897Z"
   },
   {
    "duration": 22,
    "start_time": "2025-01-11T01:07:14.027Z"
   },
   {
    "duration": 27,
    "start_time": "2025-01-11T01:07:26.503Z"
   },
   {
    "duration": 5,
    "start_time": "2025-01-11T01:07:33.216Z"
   },
   {
    "duration": 19,
    "start_time": "2025-01-11T01:07:41.135Z"
   },
   {
    "duration": 26,
    "start_time": "2025-01-11T01:07:46.238Z"
   },
   {
    "duration": 21,
    "start_time": "2025-01-11T01:07:53.351Z"
   },
   {
    "duration": 25,
    "start_time": "2025-01-11T01:08:13.346Z"
   },
   {
    "duration": 8,
    "start_time": "2025-01-11T01:11:35.210Z"
   },
   {
    "duration": 154,
    "start_time": "2025-01-11T01:11:47.028Z"
   },
   {
    "duration": 16,
    "start_time": "2025-01-11T01:36:39.195Z"
   },
   {
    "duration": 986,
    "start_time": "2025-01-11T01:36:45.450Z"
   },
   {
    "duration": 87,
    "start_time": "2025-01-11T01:36:46.438Z"
   },
   {
    "duration": 9,
    "start_time": "2025-01-11T01:36:46.527Z"
   },
   {
    "duration": 8,
    "start_time": "2025-01-11T01:36:46.540Z"
   },
   {
    "duration": 4,
    "start_time": "2025-01-11T01:36:46.550Z"
   },
   {
    "duration": 0,
    "start_time": "2025-01-11T01:36:46.557Z"
   },
   {
    "duration": 0,
    "start_time": "2025-01-11T01:36:46.558Z"
   },
   {
    "duration": 0,
    "start_time": "2025-01-11T01:36:46.558Z"
   },
   {
    "duration": 0,
    "start_time": "2025-01-11T01:36:46.560Z"
   },
   {
    "duration": 0,
    "start_time": "2025-01-11T01:36:46.561Z"
   },
   {
    "duration": 0,
    "start_time": "2025-01-11T01:36:46.586Z"
   },
   {
    "duration": 0,
    "start_time": "2025-01-11T01:36:46.588Z"
   },
   {
    "duration": 0,
    "start_time": "2025-01-11T01:36:46.589Z"
   },
   {
    "duration": 0,
    "start_time": "2025-01-11T01:36:46.591Z"
   },
   {
    "duration": 0,
    "start_time": "2025-01-11T01:36:46.592Z"
   },
   {
    "duration": 0,
    "start_time": "2025-01-11T01:36:46.594Z"
   },
   {
    "duration": 0,
    "start_time": "2025-01-11T01:36:46.595Z"
   },
   {
    "duration": 0,
    "start_time": "2025-01-11T01:36:46.596Z"
   },
   {
    "duration": 0,
    "start_time": "2025-01-11T01:36:46.597Z"
   },
   {
    "duration": 0,
    "start_time": "2025-01-11T01:36:46.599Z"
   },
   {
    "duration": 0,
    "start_time": "2025-01-11T01:36:46.599Z"
   },
   {
    "duration": 1,
    "start_time": "2025-01-11T01:36:46.600Z"
   },
   {
    "duration": 0,
    "start_time": "2025-01-11T01:36:46.602Z"
   },
   {
    "duration": 0,
    "start_time": "2025-01-11T01:36:46.603Z"
   },
   {
    "duration": 0,
    "start_time": "2025-01-11T01:36:46.604Z"
   },
   {
    "duration": 0,
    "start_time": "2025-01-11T01:36:46.605Z"
   },
   {
    "duration": 0,
    "start_time": "2025-01-11T01:36:46.607Z"
   },
   {
    "duration": 0,
    "start_time": "2025-01-11T01:36:46.608Z"
   },
   {
    "duration": 0,
    "start_time": "2025-01-11T01:36:46.610Z"
   },
   {
    "duration": 0,
    "start_time": "2025-01-11T01:36:46.611Z"
   },
   {
    "duration": 0,
    "start_time": "2025-01-11T01:36:46.612Z"
   },
   {
    "duration": 0,
    "start_time": "2025-01-11T01:36:46.614Z"
   },
   {
    "duration": 0,
    "start_time": "2025-01-11T01:36:46.616Z"
   },
   {
    "duration": 0,
    "start_time": "2025-01-11T01:36:46.618Z"
   },
   {
    "duration": 0,
    "start_time": "2025-01-11T01:36:46.619Z"
   },
   {
    "duration": 0,
    "start_time": "2025-01-11T01:36:46.620Z"
   },
   {
    "duration": 0,
    "start_time": "2025-01-11T01:36:46.621Z"
   },
   {
    "duration": 0,
    "start_time": "2025-01-11T01:36:46.623Z"
   },
   {
    "duration": 163,
    "start_time": "2025-01-11T01:37:01.003Z"
   },
   {
    "duration": 87,
    "start_time": "2025-01-11T01:37:04.139Z"
   },
   {
    "duration": 10,
    "start_time": "2025-01-11T01:37:08.938Z"
   },
   {
    "duration": 9,
    "start_time": "2025-01-11T01:37:14.235Z"
   },
   {
    "duration": 3,
    "start_time": "2025-01-11T01:37:19.770Z"
   },
   {
    "duration": 9,
    "start_time": "2025-01-11T01:37:48.864Z"
   },
   {
    "duration": 16,
    "start_time": "2025-01-11T01:38:02.431Z"
   },
   {
    "duration": 9,
    "start_time": "2025-01-11T01:38:16.700Z"
   },
   {
    "duration": 8,
    "start_time": "2025-01-11T01:38:28.939Z"
   },
   {
    "duration": 10,
    "start_time": "2025-01-11T01:38:45.968Z"
   },
   {
    "duration": 31,
    "start_time": "2025-01-11T01:38:53.670Z"
   },
   {
    "duration": 9,
    "start_time": "2025-01-11T01:38:58.533Z"
   },
   {
    "duration": 63,
    "start_time": "2025-01-11T01:39:02.795Z"
   },
   {
    "duration": 54,
    "start_time": "2025-01-11T01:39:14.072Z"
   },
   {
    "duration": 12,
    "start_time": "2025-01-11T01:39:19.006Z"
   },
   {
    "duration": 8,
    "start_time": "2025-01-11T01:39:20.162Z"
   },
   {
    "duration": 22,
    "start_time": "2025-01-11T01:39:26.272Z"
   },
   {
    "duration": 16,
    "start_time": "2025-01-11T01:39:28.555Z"
   },
   {
    "duration": 19,
    "start_time": "2025-01-11T01:39:30.363Z"
   },
   {
    "duration": 9,
    "start_time": "2025-01-11T01:39:31.332Z"
   },
   {
    "duration": 23,
    "start_time": "2025-01-11T01:39:36.322Z"
   },
   {
    "duration": 27,
    "start_time": "2025-01-11T01:39:38.313Z"
   },
   {
    "duration": 5,
    "start_time": "2025-01-11T01:39:40.274Z"
   },
   {
    "duration": 26,
    "start_time": "2025-01-11T01:39:42.090Z"
   },
   {
    "duration": 32,
    "start_time": "2025-01-11T01:39:43.014Z"
   },
   {
    "duration": 21,
    "start_time": "2025-01-11T01:39:43.828Z"
   },
   {
    "duration": 67,
    "start_time": "2025-01-11T01:39:44.659Z"
   },
   {
    "duration": 996,
    "start_time": "2025-01-11T01:40:27.830Z"
   },
   {
    "duration": 87,
    "start_time": "2025-01-11T01:40:28.828Z"
   },
   {
    "duration": 9,
    "start_time": "2025-01-11T01:40:28.918Z"
   },
   {
    "duration": 9,
    "start_time": "2025-01-11T01:40:28.928Z"
   },
   {
    "duration": 8,
    "start_time": "2025-01-11T01:40:28.940Z"
   },
   {
    "duration": 40,
    "start_time": "2025-01-11T01:40:28.949Z"
   },
   {
    "duration": 8,
    "start_time": "2025-01-11T01:40:28.991Z"
   },
   {
    "duration": 7,
    "start_time": "2025-01-11T01:40:29.000Z"
   },
   {
    "duration": 9,
    "start_time": "2025-01-11T01:40:29.008Z"
   },
   {
    "duration": 28,
    "start_time": "2025-01-11T01:40:29.019Z"
   },
   {
    "duration": 42,
    "start_time": "2025-01-11T01:40:29.049Z"
   },
   {
    "duration": 67,
    "start_time": "2025-01-11T01:40:29.092Z"
   },
   {
    "duration": 68,
    "start_time": "2025-01-11T01:40:29.161Z"
   },
   {
    "duration": 13,
    "start_time": "2025-01-11T01:40:29.234Z"
   },
   {
    "duration": 7,
    "start_time": "2025-01-11T01:40:29.248Z"
   },
   {
    "duration": 44,
    "start_time": "2025-01-11T01:40:29.257Z"
   },
   {
    "duration": 16,
    "start_time": "2025-01-11T01:40:29.302Z"
   },
   {
    "duration": 17,
    "start_time": "2025-01-11T01:40:29.319Z"
   },
   {
    "duration": 8,
    "start_time": "2025-01-11T01:40:29.338Z"
   },
   {
    "duration": 47,
    "start_time": "2025-01-11T01:40:29.347Z"
   },
   {
    "duration": 27,
    "start_time": "2025-01-11T01:40:29.396Z"
   },
   {
    "duration": 5,
    "start_time": "2025-01-11T01:40:29.424Z"
   },
   {
    "duration": 21,
    "start_time": "2025-01-11T01:40:29.431Z"
   },
   {
    "duration": 43,
    "start_time": "2025-01-11T01:40:29.454Z"
   },
   {
    "duration": 20,
    "start_time": "2025-01-11T01:40:29.498Z"
   },
   {
    "duration": 22,
    "start_time": "2025-01-11T01:40:29.519Z"
   },
   {
    "duration": 17,
    "start_time": "2025-01-11T01:41:20.954Z"
   },
   {
    "duration": 474,
    "start_time": "2025-01-11T01:41:55.383Z"
   },
   {
    "duration": 1004,
    "start_time": "2025-01-11T01:42:51.733Z"
   },
   {
    "duration": 87,
    "start_time": "2025-01-11T01:42:52.740Z"
   },
   {
    "duration": 10,
    "start_time": "2025-01-11T01:42:52.828Z"
   },
   {
    "duration": 9,
    "start_time": "2025-01-11T01:42:52.839Z"
   },
   {
    "duration": 8,
    "start_time": "2025-01-11T01:42:52.851Z"
   },
   {
    "duration": 36,
    "start_time": "2025-01-11T01:42:52.861Z"
   },
   {
    "duration": 8,
    "start_time": "2025-01-11T01:42:52.899Z"
   },
   {
    "duration": 7,
    "start_time": "2025-01-11T01:42:52.909Z"
   },
   {
    "duration": 9,
    "start_time": "2025-01-11T01:42:52.918Z"
   },
   {
    "duration": 58,
    "start_time": "2025-01-11T01:42:52.929Z"
   },
   {
    "duration": 8,
    "start_time": "2025-01-11T01:42:52.988Z"
   },
   {
    "duration": 67,
    "start_time": "2025-01-11T01:42:52.998Z"
   },
   {
    "duration": 74,
    "start_time": "2025-01-11T01:42:53.068Z"
   },
   {
    "duration": 22,
    "start_time": "2025-01-11T01:42:53.147Z"
   },
   {
    "duration": 17,
    "start_time": "2025-01-11T01:42:53.171Z"
   },
   {
    "duration": 27,
    "start_time": "2025-01-11T01:42:53.189Z"
   },
   {
    "duration": 15,
    "start_time": "2025-01-11T01:42:53.217Z"
   },
   {
    "duration": 17,
    "start_time": "2025-01-11T01:42:53.234Z"
   },
   {
    "duration": 34,
    "start_time": "2025-01-11T01:42:53.253Z"
   },
   {
    "duration": 21,
    "start_time": "2025-01-11T01:42:53.290Z"
   },
   {
    "duration": 27,
    "start_time": "2025-01-11T01:42:53.313Z"
   },
   {
    "duration": 5,
    "start_time": "2025-01-11T01:42:53.342Z"
   },
   {
    "duration": 42,
    "start_time": "2025-01-11T01:42:53.349Z"
   },
   {
    "duration": 25,
    "start_time": "2025-01-11T01:42:53.393Z"
   },
   {
    "duration": 21,
    "start_time": "2025-01-11T01:42:53.420Z"
   },
   {
    "duration": 22,
    "start_time": "2025-01-11T01:42:53.442Z"
   },
   {
    "duration": 18,
    "start_time": "2025-01-11T01:42:53.489Z"
   },
   {
    "duration": 474,
    "start_time": "2025-01-11T01:42:53.508Z"
   },
   {
    "duration": 13,
    "start_time": "2025-01-11T01:43:21.773Z"
   },
   {
    "duration": 7,
    "start_time": "2025-01-11T01:44:08.998Z"
   },
   {
    "duration": 10,
    "start_time": "2025-01-11T01:44:29.808Z"
   },
   {
    "duration": 14,
    "start_time": "2025-01-11T02:52:07.808Z"
   },
   {
    "duration": 14,
    "start_time": "2025-01-11T02:55:51.425Z"
   },
   {
    "duration": 261,
    "start_time": "2025-01-11T02:56:10.721Z"
   },
   {
    "duration": 24,
    "start_time": "2025-01-11T02:56:23.559Z"
   },
   {
    "duration": 24,
    "start_time": "2025-01-11T02:56:54.144Z"
   },
   {
    "duration": 16,
    "start_time": "2025-01-11T02:57:00.515Z"
   },
   {
    "duration": 8,
    "start_time": "2025-01-11T03:04:50.258Z"
   },
   {
    "duration": 31,
    "start_time": "2025-01-11T03:07:43.410Z"
   },
   {
    "duration": 20,
    "start_time": "2025-01-11T03:09:26.122Z"
   },
   {
    "duration": 23,
    "start_time": "2025-01-11T03:09:52.048Z"
   },
   {
    "duration": 21,
    "start_time": "2025-01-11T03:12:22.113Z"
   },
   {
    "duration": 25,
    "start_time": "2025-01-11T03:12:59.375Z"
   },
   {
    "duration": 15,
    "start_time": "2025-01-11T03:13:21.438Z"
   },
   {
    "duration": 157,
    "start_time": "2025-01-11T03:43:39.037Z"
   },
   {
    "duration": 93,
    "start_time": "2025-01-11T03:43:42.186Z"
   },
   {
    "duration": 10,
    "start_time": "2025-01-11T03:43:43.447Z"
   },
   {
    "duration": 7,
    "start_time": "2025-01-11T03:43:48.901Z"
   },
   {
    "duration": 7,
    "start_time": "2025-01-11T03:43:54.197Z"
   },
   {
    "duration": 16,
    "start_time": "2025-01-11T03:43:57.459Z"
   },
   {
    "duration": 8,
    "start_time": "2025-01-11T03:44:00.877Z"
   },
   {
    "duration": 7,
    "start_time": "2025-01-11T03:44:06.002Z"
   },
   {
    "duration": 14,
    "start_time": "2025-01-11T03:44:10.580Z"
   },
   {
    "duration": 30,
    "start_time": "2025-01-11T03:44:15.955Z"
   },
   {
    "duration": 9,
    "start_time": "2025-01-11T03:44:19.911Z"
   },
   {
    "duration": 55,
    "start_time": "2025-01-11T03:44:24.241Z"
   },
   {
    "duration": 49,
    "start_time": "2025-01-11T03:44:28.572Z"
   },
   {
    "duration": 12,
    "start_time": "2025-01-11T03:44:33.211Z"
   },
   {
    "duration": 8,
    "start_time": "2025-01-11T03:44:39.179Z"
   },
   {
    "duration": 22,
    "start_time": "2025-01-11T03:45:01.228Z"
   },
   {
    "duration": 16,
    "start_time": "2025-01-11T03:45:04.180Z"
   },
   {
    "duration": 18,
    "start_time": "2025-01-11T03:45:08.539Z"
   },
   {
    "duration": 10,
    "start_time": "2025-01-11T03:45:14.766Z"
   },
   {
    "duration": 21,
    "start_time": "2025-01-11T03:45:21.728Z"
   },
   {
    "duration": 25,
    "start_time": "2025-01-11T03:45:26.940Z"
   },
   {
    "duration": 6,
    "start_time": "2025-01-11T03:45:35.120Z"
   },
   {
    "duration": 423,
    "start_time": "2025-01-11T03:45:39.013Z"
   },
   {
    "duration": 24,
    "start_time": "2025-01-11T03:46:46.934Z"
   },
   {
    "duration": 44,
    "start_time": "2025-01-11T03:47:08.909Z"
   },
   {
    "duration": 43,
    "start_time": "2025-01-11T03:47:59.880Z"
   },
   {
    "duration": 44,
    "start_time": "2025-01-11T03:48:12.038Z"
   },
   {
    "duration": 23,
    "start_time": "2025-01-11T03:48:22.373Z"
   },
   {
    "duration": 16,
    "start_time": "2025-01-11T03:48:34.043Z"
   },
   {
    "duration": 22,
    "start_time": "2025-01-11T03:48:46.330Z"
   },
   {
    "duration": 16,
    "start_time": "2025-01-11T03:48:52.952Z"
   },
   {
    "duration": 22,
    "start_time": "2025-01-11T03:51:38.660Z"
   },
   {
    "duration": 36,
    "start_time": "2025-01-11T03:54:46.040Z"
   },
   {
    "duration": 35,
    "start_time": "2025-01-11T03:56:34.717Z"
   },
   {
    "duration": 978,
    "start_time": "2025-01-11T03:57:21.299Z"
   },
   {
    "duration": 87,
    "start_time": "2025-01-11T03:57:22.279Z"
   },
   {
    "duration": 9,
    "start_time": "2025-01-11T03:57:22.368Z"
   },
   {
    "duration": 17,
    "start_time": "2025-01-11T03:57:22.378Z"
   },
   {
    "duration": 7,
    "start_time": "2025-01-11T03:57:22.397Z"
   },
   {
    "duration": 16,
    "start_time": "2025-01-11T03:57:22.406Z"
   },
   {
    "duration": 9,
    "start_time": "2025-01-11T03:57:22.424Z"
   },
   {
    "duration": 6,
    "start_time": "2025-01-11T03:57:22.435Z"
   },
   {
    "duration": 43,
    "start_time": "2025-01-11T03:57:22.443Z"
   },
   {
    "duration": 27,
    "start_time": "2025-01-11T03:57:22.488Z"
   },
   {
    "duration": 8,
    "start_time": "2025-01-11T03:57:22.517Z"
   },
   {
    "duration": 86,
    "start_time": "2025-01-11T03:57:22.527Z"
   },
   {
    "duration": 54,
    "start_time": "2025-01-11T03:57:22.615Z"
   },
   {
    "duration": 12,
    "start_time": "2025-01-11T03:57:22.686Z"
   },
   {
    "duration": 8,
    "start_time": "2025-01-11T03:57:22.699Z"
   },
   {
    "duration": 23,
    "start_time": "2025-01-11T03:57:22.709Z"
   },
   {
    "duration": 16,
    "start_time": "2025-01-11T03:57:22.733Z"
   },
   {
    "duration": 46,
    "start_time": "2025-01-11T03:57:22.750Z"
   },
   {
    "duration": 9,
    "start_time": "2025-01-11T03:57:22.797Z"
   },
   {
    "duration": 25,
    "start_time": "2025-01-11T03:57:22.808Z"
   },
   {
    "duration": 54,
    "start_time": "2025-01-11T03:57:22.835Z"
   },
   {
    "duration": 6,
    "start_time": "2025-01-11T03:57:22.892Z"
   },
   {
    "duration": 637,
    "start_time": "2025-01-11T03:57:22.901Z"
   },
   {
    "duration": 0,
    "start_time": "2025-01-11T03:57:23.540Z"
   },
   {
    "duration": 0,
    "start_time": "2025-01-11T03:57:23.541Z"
   },
   {
    "duration": 0,
    "start_time": "2025-01-11T03:57:23.542Z"
   },
   {
    "duration": 0,
    "start_time": "2025-01-11T03:57:23.543Z"
   },
   {
    "duration": 0,
    "start_time": "2025-01-11T03:57:23.544Z"
   },
   {
    "duration": 0,
    "start_time": "2025-01-11T03:57:23.545Z"
   },
   {
    "duration": 0,
    "start_time": "2025-01-11T03:57:23.547Z"
   },
   {
    "duration": 0,
    "start_time": "2025-01-11T03:57:23.549Z"
   },
   {
    "duration": 0,
    "start_time": "2025-01-11T03:57:23.550Z"
   },
   {
    "duration": 0,
    "start_time": "2025-01-11T03:57:23.551Z"
   },
   {
    "duration": 0,
    "start_time": "2025-01-11T03:57:23.553Z"
   },
   {
    "duration": 0,
    "start_time": "2025-01-11T03:57:23.554Z"
   },
   {
    "duration": 0,
    "start_time": "2025-01-11T03:57:23.586Z"
   },
   {
    "duration": 0,
    "start_time": "2025-01-11T03:57:23.588Z"
   },
   {
    "duration": 0,
    "start_time": "2025-01-11T03:57:23.589Z"
   },
   {
    "duration": 0,
    "start_time": "2025-01-11T03:57:23.590Z"
   },
   {
    "duration": 0,
    "start_time": "2025-01-11T03:57:23.591Z"
   },
   {
    "duration": 888,
    "start_time": "2025-01-11T03:57:51.279Z"
   },
   {
    "duration": 105,
    "start_time": "2025-01-11T03:57:52.169Z"
   },
   {
    "duration": 16,
    "start_time": "2025-01-11T03:57:52.277Z"
   },
   {
    "duration": 9,
    "start_time": "2025-01-11T03:57:52.295Z"
   },
   {
    "duration": 8,
    "start_time": "2025-01-11T03:57:52.305Z"
   },
   {
    "duration": 17,
    "start_time": "2025-01-11T03:57:52.314Z"
   },
   {
    "duration": 8,
    "start_time": "2025-01-11T03:57:52.333Z"
   },
   {
    "duration": 7,
    "start_time": "2025-01-11T03:57:52.343Z"
   },
   {
    "duration": 10,
    "start_time": "2025-01-11T03:57:52.386Z"
   },
   {
    "duration": 27,
    "start_time": "2025-01-11T03:57:52.400Z"
   },
   {
    "duration": 8,
    "start_time": "2025-01-11T03:57:52.429Z"
   },
   {
    "duration": 92,
    "start_time": "2025-01-11T03:57:52.438Z"
   },
   {
    "duration": 61,
    "start_time": "2025-01-11T03:57:52.532Z"
   },
   {
    "duration": 13,
    "start_time": "2025-01-11T03:57:52.594Z"
   },
   {
    "duration": 6,
    "start_time": "2025-01-11T03:57:52.609Z"
   },
   {
    "duration": 22,
    "start_time": "2025-01-11T03:57:52.617Z"
   },
   {
    "duration": 15,
    "start_time": "2025-01-11T03:57:52.641Z"
   },
   {
    "duration": 18,
    "start_time": "2025-01-11T03:57:52.686Z"
   },
   {
    "duration": 8,
    "start_time": "2025-01-11T03:57:52.705Z"
   },
   {
    "duration": 21,
    "start_time": "2025-01-11T03:57:52.715Z"
   },
   {
    "duration": 50,
    "start_time": "2025-01-11T03:57:52.738Z"
   },
   {
    "duration": 5,
    "start_time": "2025-01-11T03:57:52.790Z"
   },
   {
    "duration": 636,
    "start_time": "2025-01-11T03:57:52.797Z"
   },
   {
    "duration": 0,
    "start_time": "2025-01-11T03:57:53.435Z"
   },
   {
    "duration": 0,
    "start_time": "2025-01-11T03:57:53.436Z"
   },
   {
    "duration": 0,
    "start_time": "2025-01-11T03:57:53.438Z"
   },
   {
    "duration": 0,
    "start_time": "2025-01-11T03:57:53.440Z"
   },
   {
    "duration": 0,
    "start_time": "2025-01-11T03:57:53.441Z"
   },
   {
    "duration": 0,
    "start_time": "2025-01-11T03:57:53.443Z"
   },
   {
    "duration": 0,
    "start_time": "2025-01-11T03:57:53.444Z"
   },
   {
    "duration": 0,
    "start_time": "2025-01-11T03:57:53.446Z"
   },
   {
    "duration": 0,
    "start_time": "2025-01-11T03:57:53.448Z"
   },
   {
    "duration": 0,
    "start_time": "2025-01-11T03:57:53.449Z"
   },
   {
    "duration": 0,
    "start_time": "2025-01-11T03:57:53.451Z"
   },
   {
    "duration": 0,
    "start_time": "2025-01-11T03:57:53.452Z"
   },
   {
    "duration": 0,
    "start_time": "2025-01-11T03:57:53.453Z"
   },
   {
    "duration": 0,
    "start_time": "2025-01-11T03:57:53.487Z"
   },
   {
    "duration": 0,
    "start_time": "2025-01-11T03:57:53.489Z"
   },
   {
    "duration": 0,
    "start_time": "2025-01-11T03:57:53.490Z"
   },
   {
    "duration": 0,
    "start_time": "2025-01-11T03:57:53.491Z"
   },
   {
    "duration": 48,
    "start_time": "2025-01-11T03:58:31.060Z"
   },
   {
    "duration": 6,
    "start_time": "2025-01-11T03:58:44.133Z"
   },
   {
    "duration": 46,
    "start_time": "2025-01-11T03:59:02.724Z"
   },
   {
    "duration": 128,
    "start_time": "2025-01-11T04:00:47.896Z"
   },
   {
    "duration": 152,
    "start_time": "2025-01-11T04:01:44.185Z"
   },
   {
    "duration": 87,
    "start_time": "2025-01-11T04:01:47.015Z"
   },
   {
    "duration": 11,
    "start_time": "2025-01-11T04:02:04.567Z"
   },
   {
    "duration": 8,
    "start_time": "2025-01-11T04:02:14.331Z"
   },
   {
    "duration": 7,
    "start_time": "2025-01-11T04:02:18.260Z"
   },
   {
    "duration": 16,
    "start_time": "2025-01-11T04:02:22.272Z"
   },
   {
    "duration": 9,
    "start_time": "2025-01-11T04:02:29.292Z"
   },
   {
    "duration": 9,
    "start_time": "2025-01-11T04:02:33.128Z"
   },
   {
    "duration": 10,
    "start_time": "2025-01-11T04:02:38.398Z"
   },
   {
    "duration": 29,
    "start_time": "2025-01-11T04:02:43.240Z"
   },
   {
    "duration": 9,
    "start_time": "2025-01-11T04:02:47.981Z"
   },
   {
    "duration": 58,
    "start_time": "2025-01-11T04:02:55.531Z"
   },
   {
    "duration": 50,
    "start_time": "2025-01-11T04:03:02.495Z"
   },
   {
    "duration": 14,
    "start_time": "2025-01-11T04:03:06.951Z"
   },
   {
    "duration": 7,
    "start_time": "2025-01-11T04:03:18.561Z"
   },
   {
    "duration": 23,
    "start_time": "2025-01-11T04:03:24.608Z"
   },
   {
    "duration": 16,
    "start_time": "2025-01-11T04:03:29.339Z"
   },
   {
    "duration": 19,
    "start_time": "2025-01-11T04:03:33.141Z"
   },
   {
    "duration": 11,
    "start_time": "2025-01-11T04:03:41.820Z"
   },
   {
    "duration": 24,
    "start_time": "2025-01-11T04:03:48.369Z"
   },
   {
    "duration": 28,
    "start_time": "2025-01-11T04:03:53.749Z"
   },
   {
    "duration": 5,
    "start_time": "2025-01-11T04:03:58.151Z"
   },
   {
    "duration": 42,
    "start_time": "2025-01-11T04:04:18.795Z"
   },
   {
    "duration": 27,
    "start_time": "2025-01-11T04:04:26.741Z"
   },
   {
    "duration": 26,
    "start_time": "2025-01-11T04:04:32.339Z"
   },
   {
    "duration": 26,
    "start_time": "2025-01-11T04:05:01.680Z"
   },
   {
    "duration": 14,
    "start_time": "2025-01-11T04:05:51.637Z"
   },
   {
    "duration": 3,
    "start_time": "2025-01-11T04:06:04.145Z"
   },
   {
    "duration": 389,
    "start_time": "2025-01-11T04:08:14.516Z"
   },
   {
    "duration": 40,
    "start_time": "2025-01-11T04:08:41.178Z"
   },
   {
    "duration": 22,
    "start_time": "2025-01-11T04:08:46.169Z"
   },
   {
    "duration": 16,
    "start_time": "2025-01-11T04:12:40.613Z"
   },
   {
    "duration": 20,
    "start_time": "2025-01-11T04:14:50.155Z"
   },
   {
    "duration": 38,
    "start_time": "2025-01-11T04:16:42.145Z"
   },
   {
    "duration": 43,
    "start_time": "2025-01-11T04:16:54.431Z"
   },
   {
    "duration": 24,
    "start_time": "2025-01-11T04:17:00.967Z"
   },
   {
    "duration": 40,
    "start_time": "2025-01-11T04:17:15.791Z"
   },
   {
    "duration": 28,
    "start_time": "2025-01-11T04:17:28.904Z"
   },
   {
    "duration": 42,
    "start_time": "2025-01-11T04:20:34.571Z"
   },
   {
    "duration": 25,
    "start_time": "2025-01-11T04:20:50.040Z"
   },
   {
    "duration": 46,
    "start_time": "2025-01-11T04:20:56.363Z"
   },
   {
    "duration": 23,
    "start_time": "2025-01-11T04:21:05.971Z"
   },
   {
    "duration": 23,
    "start_time": "2025-01-11T04:21:49.724Z"
   },
   {
    "duration": 39,
    "start_time": "2025-01-11T04:22:01.182Z"
   },
   {
    "duration": 39,
    "start_time": "2025-01-11T04:22:26.286Z"
   },
   {
    "duration": 41,
    "start_time": "2025-01-11T04:22:50.087Z"
   },
   {
    "duration": 15,
    "start_time": "2025-01-11T04:23:10.328Z"
   },
   {
    "duration": 14,
    "start_time": "2025-01-11T04:23:33.665Z"
   },
   {
    "duration": 22,
    "start_time": "2025-01-11T04:23:44.188Z"
   },
   {
    "duration": 16,
    "start_time": "2025-01-11T04:24:02.237Z"
   },
   {
    "duration": 162,
    "start_time": "2025-01-11T04:25:58.989Z"
   },
   {
    "duration": 1007,
    "start_time": "2025-01-11T04:26:12.045Z"
   },
   {
    "duration": 98,
    "start_time": "2025-01-11T04:26:13.054Z"
   },
   {
    "duration": 13,
    "start_time": "2025-01-11T04:26:13.154Z"
   },
   {
    "duration": 16,
    "start_time": "2025-01-11T04:26:13.170Z"
   },
   {
    "duration": 8,
    "start_time": "2025-01-11T04:26:13.188Z"
   },
   {
    "duration": 19,
    "start_time": "2025-01-11T04:26:13.197Z"
   },
   {
    "duration": 8,
    "start_time": "2025-01-11T04:26:13.217Z"
   },
   {
    "duration": 6,
    "start_time": "2025-01-11T04:26:13.227Z"
   },
   {
    "duration": 9,
    "start_time": "2025-01-11T04:26:13.235Z"
   },
   {
    "duration": 63,
    "start_time": "2025-01-11T04:26:13.249Z"
   },
   {
    "duration": 9,
    "start_time": "2025-01-11T04:26:13.314Z"
   },
   {
    "duration": 87,
    "start_time": "2025-01-11T04:26:13.324Z"
   },
   {
    "duration": 52,
    "start_time": "2025-01-11T04:26:13.413Z"
   },
   {
    "duration": 29,
    "start_time": "2025-01-11T04:26:13.466Z"
   },
   {
    "duration": 8,
    "start_time": "2025-01-11T04:26:13.496Z"
   },
   {
    "duration": 22,
    "start_time": "2025-01-11T04:26:13.506Z"
   },
   {
    "duration": 15,
    "start_time": "2025-01-11T04:26:13.530Z"
   },
   {
    "duration": 48,
    "start_time": "2025-01-11T04:26:13.546Z"
   },
   {
    "duration": 11,
    "start_time": "2025-01-11T04:26:13.596Z"
   },
   {
    "duration": 22,
    "start_time": "2025-01-11T04:26:13.609Z"
   },
   {
    "duration": 27,
    "start_time": "2025-01-11T04:26:13.632Z"
   },
   {
    "duration": 26,
    "start_time": "2025-01-11T04:26:13.661Z"
   },
   {
    "duration": 52,
    "start_time": "2025-01-11T04:26:13.689Z"
   },
   {
    "duration": 25,
    "start_time": "2025-01-11T04:26:13.743Z"
   },
   {
    "duration": 17,
    "start_time": "2025-01-11T04:26:13.789Z"
   },
   {
    "duration": 21,
    "start_time": "2025-01-11T04:26:13.808Z"
   },
   {
    "duration": 2,
    "start_time": "2025-01-11T04:26:13.830Z"
   },
   {
    "duration": 281,
    "start_time": "2025-01-11T04:26:13.837Z"
   },
   {
    "duration": 0,
    "start_time": "2025-01-11T04:26:14.120Z"
   },
   {
    "duration": 0,
    "start_time": "2025-01-11T04:26:14.122Z"
   },
   {
    "duration": 0,
    "start_time": "2025-01-11T04:26:14.123Z"
   },
   {
    "duration": 0,
    "start_time": "2025-01-11T04:26:14.124Z"
   },
   {
    "duration": 0,
    "start_time": "2025-01-11T04:26:14.127Z"
   },
   {
    "duration": 0,
    "start_time": "2025-01-11T04:26:14.128Z"
   },
   {
    "duration": 1,
    "start_time": "2025-01-11T04:26:14.128Z"
   },
   {
    "duration": 0,
    "start_time": "2025-01-11T04:26:14.129Z"
   },
   {
    "duration": 0,
    "start_time": "2025-01-11T04:26:14.130Z"
   },
   {
    "duration": 22,
    "start_time": "2025-01-11T04:26:26.668Z"
   },
   {
    "duration": 14,
    "start_time": "2025-01-11T04:31:11.280Z"
   },
   {
    "duration": 8,
    "start_time": "2025-01-11T04:31:21.825Z"
   },
   {
    "duration": 7,
    "start_time": "2025-01-11T04:31:42.026Z"
   },
   {
    "duration": 7,
    "start_time": "2025-01-11T04:31:46.041Z"
   },
   {
    "duration": 29,
    "start_time": "2025-01-11T04:33:17.885Z"
   },
   {
    "duration": 6,
    "start_time": "2025-01-11T04:35:00.584Z"
   },
   {
    "duration": 25,
    "start_time": "2025-01-11T04:35:06.820Z"
   },
   {
    "duration": 37,
    "start_time": "2025-01-11T04:36:06.740Z"
   },
   {
    "duration": 37,
    "start_time": "2025-01-11T04:36:21.562Z"
   },
   {
    "duration": 17,
    "start_time": "2025-01-11T04:36:25.752Z"
   },
   {
    "duration": 22,
    "start_time": "2025-01-11T04:36:29.890Z"
   },
   {
    "duration": 24,
    "start_time": "2025-01-11T04:36:35.415Z"
   },
   {
    "duration": 26,
    "start_time": "2025-01-11T04:36:55.232Z"
   },
   {
    "duration": 31,
    "start_time": "2025-01-11T04:37:36.476Z"
   },
   {
    "duration": 31,
    "start_time": "2025-01-11T04:38:18.802Z"
   },
   {
    "duration": 24,
    "start_time": "2025-01-11T04:39:04.017Z"
   },
   {
    "duration": 16,
    "start_time": "2025-01-11T04:39:09.543Z"
   },
   {
    "duration": 85,
    "start_time": "2025-01-11T04:39:19.640Z"
   },
   {
    "duration": 45,
    "start_time": "2025-01-11T04:39:35.033Z"
   },
   {
    "duration": 25,
    "start_time": "2025-01-11T04:40:32.060Z"
   },
   {
    "duration": 17,
    "start_time": "2025-01-11T04:40:37.831Z"
   },
   {
    "duration": 21,
    "start_time": "2025-01-11T04:40:42.349Z"
   },
   {
    "duration": 341,
    "start_time": "2025-01-11T04:40:49.427Z"
   },
   {
    "duration": 50,
    "start_time": "2025-01-11T04:41:58.161Z"
   },
   {
    "duration": 24,
    "start_time": "2025-01-11T04:42:10.744Z"
   },
   {
    "duration": 6,
    "start_time": "2025-01-11T04:46:08.926Z"
   },
   {
    "duration": 27,
    "start_time": "2025-01-11T04:48:38.541Z"
   },
   {
    "duration": 20,
    "start_time": "2025-01-11T04:48:43.065Z"
   },
   {
    "duration": 26,
    "start_time": "2025-01-11T04:48:56.845Z"
   },
   {
    "duration": 14,
    "start_time": "2025-01-11T04:49:10.864Z"
   },
   {
    "duration": 2,
    "start_time": "2025-01-11T04:49:49.428Z"
   },
   {
    "duration": 27,
    "start_time": "2025-01-11T04:51:08.093Z"
   },
   {
    "duration": 26,
    "start_time": "2025-01-11T04:51:32.142Z"
   },
   {
    "duration": 25,
    "start_time": "2025-01-11T04:51:42.566Z"
   },
   {
    "duration": 36,
    "start_time": "2025-01-11T04:52:03.128Z"
   },
   {
    "duration": 21,
    "start_time": "2025-01-11T04:53:54.615Z"
   },
   {
    "duration": 102,
    "start_time": "2025-01-11T04:54:29.769Z"
   },
   {
    "duration": 396,
    "start_time": "2025-01-11T04:54:55.117Z"
   },
   {
    "duration": 25,
    "start_time": "2025-01-11T04:57:28.492Z"
   },
   {
    "duration": 52,
    "start_time": "2025-01-11T04:59:48.808Z"
   },
   {
    "duration": 80,
    "start_time": "2025-01-11T05:00:36.915Z"
   },
   {
    "duration": 25,
    "start_time": "2025-01-11T05:01:54.481Z"
   },
   {
    "duration": 52,
    "start_time": "2025-01-11T05:02:55.749Z"
   },
   {
    "duration": 80,
    "start_time": "2025-01-11T05:03:20.133Z"
   },
   {
    "duration": 159,
    "start_time": "2025-01-11T05:04:30.836Z"
   },
   {
    "duration": 86,
    "start_time": "2025-01-11T05:04:30.997Z"
   },
   {
    "duration": 10,
    "start_time": "2025-01-11T05:04:31.087Z"
   },
   {
    "duration": 7,
    "start_time": "2025-01-11T05:04:31.099Z"
   },
   {
    "duration": 7,
    "start_time": "2025-01-11T05:04:31.108Z"
   },
   {
    "duration": 16,
    "start_time": "2025-01-11T05:04:31.116Z"
   },
   {
    "duration": 8,
    "start_time": "2025-01-11T05:04:31.134Z"
   },
   {
    "duration": 43,
    "start_time": "2025-01-11T05:04:31.144Z"
   },
   {
    "duration": 9,
    "start_time": "2025-01-11T05:04:31.188Z"
   },
   {
    "duration": 27,
    "start_time": "2025-01-11T05:04:31.201Z"
   },
   {
    "duration": 7,
    "start_time": "2025-01-11T05:04:31.230Z"
   },
   {
    "duration": 83,
    "start_time": "2025-01-11T05:04:31.239Z"
   },
   {
    "duration": 50,
    "start_time": "2025-01-11T05:04:31.324Z"
   },
   {
    "duration": 13,
    "start_time": "2025-01-11T05:04:31.387Z"
   },
   {
    "duration": 7,
    "start_time": "2025-01-11T05:04:31.401Z"
   },
   {
    "duration": 22,
    "start_time": "2025-01-11T05:04:31.410Z"
   },
   {
    "duration": 15,
    "start_time": "2025-01-11T05:04:31.435Z"
   },
   {
    "duration": 46,
    "start_time": "2025-01-11T05:04:31.453Z"
   },
   {
    "duration": 8,
    "start_time": "2025-01-11T05:04:31.501Z"
   },
   {
    "duration": 22,
    "start_time": "2025-01-11T05:04:31.511Z"
   },
   {
    "duration": 25,
    "start_time": "2025-01-11T05:04:31.534Z"
   },
   {
    "duration": 27,
    "start_time": "2025-01-11T05:04:31.560Z"
   },
   {
    "duration": 40,
    "start_time": "2025-01-11T05:04:31.589Z"
   },
   {
    "duration": 23,
    "start_time": "2025-01-11T05:04:31.631Z"
   },
   {
    "duration": 36,
    "start_time": "2025-01-11T05:04:31.656Z"
   },
   {
    "duration": 21,
    "start_time": "2025-01-11T05:04:31.694Z"
   },
   {
    "duration": 32,
    "start_time": "2025-01-11T05:04:31.717Z"
   },
   {
    "duration": 74,
    "start_time": "2025-01-11T05:04:31.752Z"
   },
   {
    "duration": 0,
    "start_time": "2025-01-11T05:04:31.828Z"
   },
   {
    "duration": 0,
    "start_time": "2025-01-11T05:04:31.829Z"
   },
   {
    "duration": 0,
    "start_time": "2025-01-11T05:04:31.830Z"
   },
   {
    "duration": 0,
    "start_time": "2025-01-11T05:04:31.831Z"
   },
   {
    "duration": 0,
    "start_time": "2025-01-11T05:04:31.833Z"
   },
   {
    "duration": 0,
    "start_time": "2025-01-11T05:04:31.834Z"
   },
   {
    "duration": 0,
    "start_time": "2025-01-11T05:04:31.835Z"
   },
   {
    "duration": 0,
    "start_time": "2025-01-11T05:04:31.835Z"
   },
   {
    "duration": 0,
    "start_time": "2025-01-11T05:04:31.837Z"
   },
   {
    "duration": 41,
    "start_time": "2025-01-11T05:05:51.298Z"
   },
   {
    "duration": 15,
    "start_time": "2025-01-11T05:05:58.152Z"
   },
   {
    "duration": 22,
    "start_time": "2025-01-11T05:06:01.683Z"
   },
   {
    "duration": 31,
    "start_time": "2025-01-11T05:06:06.298Z"
   },
   {
    "duration": 48,
    "start_time": "2025-01-11T05:06:12.673Z"
   },
   {
    "duration": 32,
    "start_time": "2025-01-11T05:10:29.882Z"
   },
   {
    "duration": 28,
    "start_time": "2025-01-11T05:10:45.628Z"
   },
   {
    "duration": 47,
    "start_time": "2025-01-11T05:10:52.044Z"
   },
   {
    "duration": 78,
    "start_time": "2025-01-11T05:13:34.147Z"
   },
   {
    "duration": 49,
    "start_time": "2025-01-11T05:13:58.533Z"
   },
   {
    "duration": 79,
    "start_time": "2025-01-11T05:14:08.508Z"
   },
   {
    "duration": 26,
    "start_time": "2025-01-11T05:14:44.150Z"
   },
   {
    "duration": 24,
    "start_time": "2025-01-11T05:15:17.712Z"
   },
   {
    "duration": 33,
    "start_time": "2025-01-11T05:15:26.524Z"
   },
   {
    "duration": 167,
    "start_time": "2025-01-11T05:15:41.872Z"
   },
   {
    "duration": 92,
    "start_time": "2025-01-11T05:15:42.041Z"
   },
   {
    "duration": 10,
    "start_time": "2025-01-11T05:15:42.135Z"
   },
   {
    "duration": 8,
    "start_time": "2025-01-11T05:15:42.146Z"
   },
   {
    "duration": 6,
    "start_time": "2025-01-11T05:15:42.157Z"
   },
   {
    "duration": 36,
    "start_time": "2025-01-11T05:15:42.165Z"
   },
   {
    "duration": 8,
    "start_time": "2025-01-11T05:15:42.203Z"
   },
   {
    "duration": 7,
    "start_time": "2025-01-11T05:15:42.213Z"
   },
   {
    "duration": 10,
    "start_time": "2025-01-11T05:15:42.222Z"
   },
   {
    "duration": 61,
    "start_time": "2025-01-11T05:15:42.234Z"
   },
   {
    "duration": 10,
    "start_time": "2025-01-11T05:15:42.297Z"
   },
   {
    "duration": 82,
    "start_time": "2025-01-11T05:15:42.309Z"
   },
   {
    "duration": 51,
    "start_time": "2025-01-11T05:15:42.393Z"
   },
   {
    "duration": 12,
    "start_time": "2025-01-11T05:15:42.448Z"
   },
   {
    "duration": 28,
    "start_time": "2025-01-11T05:15:42.462Z"
   },
   {
    "duration": 22,
    "start_time": "2025-01-11T05:15:42.491Z"
   },
   {
    "duration": 15,
    "start_time": "2025-01-11T05:15:42.515Z"
   },
   {
    "duration": 17,
    "start_time": "2025-01-11T05:15:42.532Z"
   },
   {
    "duration": 8,
    "start_time": "2025-01-11T05:15:42.551Z"
   },
   {
    "duration": 22,
    "start_time": "2025-01-11T05:15:42.586Z"
   },
   {
    "duration": 24,
    "start_time": "2025-01-11T05:15:42.610Z"
   },
   {
    "duration": 5,
    "start_time": "2025-01-11T05:15:42.636Z"
   },
   {
    "duration": 59,
    "start_time": "2025-01-11T05:15:42.643Z"
   },
   {
    "duration": 23,
    "start_time": "2025-01-11T05:15:42.704Z"
   },
   {
    "duration": 16,
    "start_time": "2025-01-11T05:15:42.728Z"
   },
   {
    "duration": 41,
    "start_time": "2025-01-11T05:15:42.746Z"
   },
   {
    "duration": 32,
    "start_time": "2025-01-11T05:15:42.789Z"
   },
   {
    "duration": 64,
    "start_time": "2025-01-11T05:15:42.823Z"
   },
   {
    "duration": 0,
    "start_time": "2025-01-11T05:15:42.889Z"
   },
   {
    "duration": 0,
    "start_time": "2025-01-11T05:15:42.890Z"
   },
   {
    "duration": 0,
    "start_time": "2025-01-11T05:15:42.891Z"
   },
   {
    "duration": 0,
    "start_time": "2025-01-11T05:15:42.892Z"
   },
   {
    "duration": 0,
    "start_time": "2025-01-11T05:15:42.893Z"
   },
   {
    "duration": 0,
    "start_time": "2025-01-11T05:15:42.894Z"
   },
   {
    "duration": 0,
    "start_time": "2025-01-11T05:15:42.895Z"
   },
   {
    "duration": 0,
    "start_time": "2025-01-11T05:15:42.896Z"
   },
   {
    "duration": 0,
    "start_time": "2025-01-11T05:15:42.897Z"
   },
   {
    "duration": 172,
    "start_time": "2025-01-11T05:42:15.964Z"
   },
   {
    "duration": 15,
    "start_time": "2025-01-11T05:42:26.587Z"
   },
   {
    "duration": 14,
    "start_time": "2025-01-11T05:42:37.351Z"
   },
   {
    "duration": 15,
    "start_time": "2025-01-11T05:42:41.171Z"
   },
   {
    "duration": 18,
    "start_time": "2025-01-11T05:42:54.472Z"
   },
   {
    "duration": 27,
    "start_time": "2025-01-11T05:43:07.642Z"
   },
   {
    "duration": 33,
    "start_time": "2025-01-11T05:43:38.932Z"
   },
   {
    "duration": 13,
    "start_time": "2025-01-11T05:43:53.423Z"
   },
   {
    "duration": 16,
    "start_time": "2025-01-11T05:43:56.973Z"
   },
   {
    "duration": 2940,
    "start_time": "2025-01-11T05:44:02.157Z"
   },
   {
    "duration": 107,
    "start_time": "2025-01-11T05:44:05.099Z"
   },
   {
    "duration": 11,
    "start_time": "2025-01-11T05:44:05.208Z"
   },
   {
    "duration": 19,
    "start_time": "2025-01-11T05:44:05.221Z"
   },
   {
    "duration": 8,
    "start_time": "2025-01-11T05:44:05.243Z"
   },
   {
    "duration": 15,
    "start_time": "2025-01-11T05:44:05.254Z"
   },
   {
    "duration": 8,
    "start_time": "2025-01-11T05:44:05.272Z"
   },
   {
    "duration": 6,
    "start_time": "2025-01-11T05:44:05.282Z"
   },
   {
    "duration": 9,
    "start_time": "2025-01-11T05:44:05.290Z"
   },
   {
    "duration": 35,
    "start_time": "2025-01-11T05:44:05.332Z"
   },
   {
    "duration": 11,
    "start_time": "2025-01-11T05:44:05.368Z"
   },
   {
    "duration": 101,
    "start_time": "2025-01-11T05:44:05.381Z"
   },
   {
    "duration": 68,
    "start_time": "2025-01-11T05:44:05.484Z"
   },
   {
    "duration": 14,
    "start_time": "2025-01-11T05:44:05.554Z"
   },
   {
    "duration": 11,
    "start_time": "2025-01-11T05:44:05.569Z"
   },
   {
    "duration": 23,
    "start_time": "2025-01-11T05:44:05.582Z"
   },
   {
    "duration": 33,
    "start_time": "2025-01-11T05:44:05.607Z"
   },
   {
    "duration": 21,
    "start_time": "2025-01-11T05:44:05.641Z"
   },
   {
    "duration": 10,
    "start_time": "2025-01-11T05:44:05.664Z"
   },
   {
    "duration": 24,
    "start_time": "2025-01-11T05:44:05.676Z"
   },
   {
    "duration": 59,
    "start_time": "2025-01-11T05:44:05.701Z"
   },
   {
    "duration": 7,
    "start_time": "2025-01-11T05:44:05.761Z"
   },
   {
    "duration": 82,
    "start_time": "2025-01-11T05:44:05.770Z"
   },
   {
    "duration": 26,
    "start_time": "2025-01-11T05:44:05.854Z"
   },
   {
    "duration": 20,
    "start_time": "2025-01-11T05:44:05.882Z"
   },
   {
    "duration": 41,
    "start_time": "2025-01-11T05:44:05.904Z"
   },
   {
    "duration": 35,
    "start_time": "2025-01-11T05:44:05.947Z"
   },
   {
    "duration": 388,
    "start_time": "2025-01-11T05:44:05.985Z"
   },
   {
    "duration": 0,
    "start_time": "2025-01-11T05:44:06.378Z"
   },
   {
    "duration": 0,
    "start_time": "2025-01-11T05:44:06.379Z"
   },
   {
    "duration": 0,
    "start_time": "2025-01-11T05:44:06.381Z"
   },
   {
    "duration": 0,
    "start_time": "2025-01-11T05:44:06.382Z"
   },
   {
    "duration": 0,
    "start_time": "2025-01-11T05:44:06.383Z"
   },
   {
    "duration": 0,
    "start_time": "2025-01-11T05:44:06.384Z"
   },
   {
    "duration": 0,
    "start_time": "2025-01-11T05:44:06.385Z"
   },
   {
    "duration": 0,
    "start_time": "2025-01-11T05:44:06.386Z"
   },
   {
    "duration": 0,
    "start_time": "2025-01-11T05:44:06.387Z"
   },
   {
    "duration": 29,
    "start_time": "2025-01-11T05:44:45.727Z"
   },
   {
    "duration": 22,
    "start_time": "2025-01-11T05:45:17.699Z"
   },
   {
    "duration": 24,
    "start_time": "2025-01-11T05:45:36.100Z"
   },
   {
    "duration": 4,
    "start_time": "2025-01-11T05:49:32.187Z"
   },
   {
    "duration": 547,
    "start_time": "2025-01-11T05:50:31.328Z"
   },
   {
    "duration": 57,
    "start_time": "2025-01-11T05:51:43.701Z"
   },
   {
    "duration": 57,
    "start_time": "2025-01-11T05:52:30.518Z"
   },
   {
    "duration": 26,
    "start_time": "2025-01-11T05:52:49.125Z"
   },
   {
    "duration": 7,
    "start_time": "2025-01-11T05:53:40.695Z"
   },
   {
    "duration": 57,
    "start_time": "2025-01-11T05:54:36.876Z"
   },
   {
    "duration": 24,
    "start_time": "2025-01-11T05:55:02.436Z"
   },
   {
    "duration": 47,
    "start_time": "2025-01-11T05:55:14.819Z"
   },
   {
    "duration": 2,
    "start_time": "2025-01-11T05:58:25.943Z"
   },
   {
    "duration": 18,
    "start_time": "2025-01-11T06:01:36.439Z"
   },
   {
    "duration": 18,
    "start_time": "2025-01-11T06:01:56.789Z"
   },
   {
    "duration": 4,
    "start_time": "2025-01-11T06:05:32.047Z"
   },
   {
    "duration": 3,
    "start_time": "2025-01-11T06:05:43.807Z"
   },
   {
    "duration": 5,
    "start_time": "2025-01-11T06:06:03.364Z"
   },
   {
    "duration": 4,
    "start_time": "2025-01-11T06:07:46.365Z"
   },
   {
    "duration": 5,
    "start_time": "2025-01-11T06:07:59.303Z"
   },
   {
    "duration": 4,
    "start_time": "2025-01-11T06:08:12.527Z"
   },
   {
    "duration": 4,
    "start_time": "2025-01-11T06:08:17.852Z"
   },
   {
    "duration": 13,
    "start_time": "2025-01-11T06:08:51.731Z"
   },
   {
    "duration": 13,
    "start_time": "2025-01-11T06:09:17.959Z"
   },
   {
    "duration": 37,
    "start_time": "2025-01-11T06:10:25.537Z"
   },
   {
    "duration": 36,
    "start_time": "2025-01-11T06:10:46.579Z"
   },
   {
    "duration": 13,
    "start_time": "2025-01-11T06:11:12.829Z"
   },
   {
    "duration": 25,
    "start_time": "2025-01-11T06:11:22.682Z"
   },
   {
    "duration": 15,
    "start_time": "2025-01-11T06:11:39.404Z"
   },
   {
    "duration": 137,
    "start_time": "2025-01-11T06:12:57.415Z"
   },
   {
    "duration": 7,
    "start_time": "2025-01-11T06:13:13.895Z"
   },
   {
    "duration": 51,
    "start_time": "2025-01-11T06:13:22.592Z"
   },
   {
    "duration": 167,
    "start_time": "2025-01-11T06:15:04.164Z"
   },
   {
    "duration": 10,
    "start_time": "2025-01-11T06:17:20.355Z"
   },
   {
    "duration": 22,
    "start_time": "2025-01-11T06:20:46.385Z"
   },
   {
    "duration": 9,
    "start_time": "2025-01-11T06:21:01.003Z"
   },
   {
    "duration": 7,
    "start_time": "2025-01-11T06:21:08.243Z"
   },
   {
    "duration": 9,
    "start_time": "2025-01-11T06:21:15.716Z"
   },
   {
    "duration": 36,
    "start_time": "2025-01-11T06:21:28.692Z"
   },
   {
    "duration": 9,
    "start_time": "2025-01-11T06:21:35.611Z"
   },
   {
    "duration": 86,
    "start_time": "2025-01-11T06:21:42.639Z"
   },
   {
    "duration": 55,
    "start_time": "2025-01-11T06:21:51.695Z"
   },
   {
    "duration": 15,
    "start_time": "2025-01-11T06:21:57.947Z"
   },
   {
    "duration": 23,
    "start_time": "2025-01-11T06:22:03.183Z"
   },
   {
    "duration": 18,
    "start_time": "2025-01-11T06:22:07.264Z"
   },
   {
    "duration": 20,
    "start_time": "2025-01-11T06:22:12.860Z"
   },
   {
    "duration": 31,
    "start_time": "2025-01-11T06:22:21.127Z"
   },
   {
    "duration": 31,
    "start_time": "2025-01-11T06:22:26.495Z"
   },
   {
    "duration": 6,
    "start_time": "2025-01-11T06:22:31.440Z"
   },
   {
    "duration": 142,
    "start_time": "2025-01-11T06:22:38.204Z"
   },
   {
    "duration": 19,
    "start_time": "2025-01-11T06:22:43.871Z"
   },
   {
    "duration": 22,
    "start_time": "2025-01-11T06:22:48.720Z"
   },
   {
    "duration": 36,
    "start_time": "2025-01-11T06:22:54.936Z"
   },
   {
    "duration": 48,
    "start_time": "2025-01-11T06:23:01.714Z"
   },
   {
    "duration": 6,
    "start_time": "2025-01-11T06:25:53.032Z"
   },
   {
    "duration": 3,
    "start_time": "2025-01-11T06:26:03.803Z"
   },
   {
    "duration": 18,
    "start_time": "2025-01-11T06:26:11.008Z"
   },
   {
    "duration": 12,
    "start_time": "2025-01-11T06:26:58.171Z"
   },
   {
    "duration": 7,
    "start_time": "2025-01-11T06:27:14.795Z"
   },
   {
    "duration": 11,
    "start_time": "2025-01-11T06:27:22.201Z"
   },
   {
    "duration": 27,
    "start_time": "2025-01-11T06:27:31.788Z"
   },
   {
    "duration": 8,
    "start_time": "2025-01-11T06:27:44.615Z"
   },
   {
    "duration": 57,
    "start_time": "2025-01-11T06:27:56.715Z"
   },
   {
    "duration": 66,
    "start_time": "2025-01-11T06:28:05.917Z"
   },
   {
    "duration": 24,
    "start_time": "2025-01-11T06:28:15.583Z"
   },
   {
    "duration": 33,
    "start_time": "2025-01-11T06:28:23.172Z"
   },
   {
    "duration": 16,
    "start_time": "2025-01-11T06:28:28.125Z"
   },
   {
    "duration": 27,
    "start_time": "2025-01-11T06:28:32.623Z"
   },
   {
    "duration": 21,
    "start_time": "2025-01-11T06:28:41.115Z"
   },
   {
    "duration": 27,
    "start_time": "2025-01-11T06:28:46.450Z"
   },
   {
    "duration": 5,
    "start_time": "2025-01-11T06:28:50.729Z"
   },
   {
    "duration": 35,
    "start_time": "2025-01-11T06:28:59.406Z"
   },
   {
    "duration": 16,
    "start_time": "2025-01-11T06:29:20.307Z"
   },
   {
    "duration": 22,
    "start_time": "2025-01-11T06:29:25.496Z"
   },
   {
    "duration": 33,
    "start_time": "2025-01-11T06:29:33.625Z"
   },
   {
    "duration": 50,
    "start_time": "2025-01-11T06:33:07.344Z"
   },
   {
    "duration": 10,
    "start_time": "2025-01-11T06:34:54.937Z"
   },
   {
    "duration": 37,
    "start_time": "2025-01-11T06:35:04.544Z"
   },
   {
    "duration": 9,
    "start_time": "2025-01-11T06:35:22.453Z"
   },
   {
    "duration": 31,
    "start_time": "2025-01-11T06:36:46.508Z"
   },
   {
    "duration": 11,
    "start_time": "2025-01-11T06:37:51.727Z"
   },
   {
    "duration": 37,
    "start_time": "2025-01-11T06:38:02.956Z"
   },
   {
    "duration": 11,
    "start_time": "2025-01-11T06:38:17.484Z"
   },
   {
    "duration": 55,
    "start_time": "2025-01-11T06:38:27.292Z"
   },
   {
    "duration": 52,
    "start_time": "2025-01-11T06:38:34.395Z"
   },
   {
    "duration": 25,
    "start_time": "2025-01-11T06:39:05.240Z"
   },
   {
    "duration": 24,
    "start_time": "2025-01-11T06:39:16.923Z"
   },
   {
    "duration": 16,
    "start_time": "2025-01-11T06:39:25.016Z"
   },
   {
    "duration": 26,
    "start_time": "2025-01-11T06:39:29.390Z"
   },
   {
    "duration": 22,
    "start_time": "2025-01-11T06:39:37.151Z"
   },
   {
    "duration": 24,
    "start_time": "2025-01-11T06:39:41.999Z"
   },
   {
    "duration": 6,
    "start_time": "2025-01-11T06:39:46.835Z"
   },
   {
    "duration": 36,
    "start_time": "2025-01-11T06:39:55.897Z"
   },
   {
    "duration": 15,
    "start_time": "2025-01-11T06:40:00.948Z"
   },
   {
    "duration": 22,
    "start_time": "2025-01-11T06:40:08.452Z"
   },
   {
    "duration": 31,
    "start_time": "2025-01-11T06:40:15.091Z"
   },
   {
    "duration": 9,
    "start_time": "2025-01-11T06:49:53.651Z"
   },
   {
    "duration": 54,
    "start_time": "2025-01-11T06:58:15.792Z"
   },
   {
    "duration": 54,
    "start_time": "2025-01-11T06:58:21.962Z"
   },
   {
    "duration": 25,
    "start_time": "2025-01-11T06:58:57.578Z"
   },
   {
    "duration": 24,
    "start_time": "2025-01-11T06:59:05.331Z"
   },
   {
    "duration": 15,
    "start_time": "2025-01-11T06:59:10.224Z"
   },
   {
    "duration": 24,
    "start_time": "2025-01-11T06:59:14.932Z"
   },
   {
    "duration": 105,
    "start_time": "2025-01-11T06:59:25.118Z"
   },
   {
    "duration": 24,
    "start_time": "2025-01-11T06:59:31.073Z"
   },
   {
    "duration": 4,
    "start_time": "2025-01-11T06:59:38.889Z"
   },
   {
    "duration": 35,
    "start_time": "2025-01-11T06:59:44.452Z"
   },
   {
    "duration": 16,
    "start_time": "2025-01-11T06:59:54.211Z"
   },
   {
    "duration": 22,
    "start_time": "2025-01-11T07:00:01.016Z"
   },
   {
    "duration": 42,
    "start_time": "2025-01-11T07:00:07.637Z"
   },
   {
    "duration": 48,
    "start_time": "2025-01-11T07:00:14.201Z"
   },
   {
    "duration": 52,
    "start_time": "2025-01-11T07:03:50.763Z"
   },
   {
    "duration": 24,
    "start_time": "2025-01-11T07:04:10.740Z"
   },
   {
    "duration": 11,
    "start_time": "2025-01-11T07:08:14.286Z"
   },
   {
    "duration": 39,
    "start_time": "2025-01-11T07:09:57.643Z"
   },
   {
    "duration": 16,
    "start_time": "2025-01-11T07:10:01.961Z"
   },
   {
    "duration": 27,
    "start_time": "2025-01-11T07:11:35.552Z"
   },
   {
    "duration": 16,
    "start_time": "2025-01-11T07:11:50.500Z"
   },
   {
    "duration": 25,
    "start_time": "2025-01-11T07:12:00.164Z"
   },
   {
    "duration": 11,
    "start_time": "2025-01-11T07:12:08.528Z"
   },
   {
    "duration": 15,
    "start_time": "2025-01-11T07:15:14.616Z"
   },
   {
    "duration": 27,
    "start_time": "2025-01-11T07:16:17.740Z"
   },
   {
    "duration": 897,
    "start_time": "2025-01-11T07:20:50.536Z"
   },
   {
    "duration": 97,
    "start_time": "2025-01-11T07:20:51.435Z"
   },
   {
    "duration": 10,
    "start_time": "2025-01-11T07:20:51.533Z"
   },
   {
    "duration": 8,
    "start_time": "2025-01-11T07:20:51.545Z"
   },
   {
    "duration": 3,
    "start_time": "2025-01-11T07:20:51.555Z"
   },
   {
    "duration": 15,
    "start_time": "2025-01-11T07:20:51.560Z"
   },
   {
    "duration": 8,
    "start_time": "2025-01-11T07:20:51.577Z"
   },
   {
    "duration": 52,
    "start_time": "2025-01-11T07:20:51.587Z"
   },
   {
    "duration": 28,
    "start_time": "2025-01-11T07:20:51.641Z"
   },
   {
    "duration": 9,
    "start_time": "2025-01-11T07:20:51.671Z"
   },
   {
    "duration": 91,
    "start_time": "2025-01-11T07:20:51.681Z"
   },
   {
    "duration": 62,
    "start_time": "2025-01-11T07:20:51.774Z"
   },
   {
    "duration": 12,
    "start_time": "2025-01-11T07:20:51.838Z"
   },
   {
    "duration": 8,
    "start_time": "2025-01-11T07:20:51.853Z"
   },
   {
    "duration": 24,
    "start_time": "2025-01-11T07:20:51.863Z"
   },
   {
    "duration": 44,
    "start_time": "2025-01-11T07:20:51.889Z"
   },
   {
    "duration": 22,
    "start_time": "2025-01-11T07:20:51.934Z"
   },
   {
    "duration": 10,
    "start_time": "2025-01-11T07:20:51.958Z"
   },
   {
    "duration": 23,
    "start_time": "2025-01-11T07:20:51.969Z"
   },
   {
    "duration": 51,
    "start_time": "2025-01-11T07:20:51.994Z"
   },
   {
    "duration": 5,
    "start_time": "2025-01-11T07:20:52.047Z"
   },
   {
    "duration": 48,
    "start_time": "2025-01-11T07:20:52.053Z"
   },
   {
    "duration": 40,
    "start_time": "2025-01-11T07:20:52.104Z"
   },
   {
    "duration": 18,
    "start_time": "2025-01-11T07:20:52.146Z"
   },
   {
    "duration": 22,
    "start_time": "2025-01-11T07:20:52.166Z"
   },
   {
    "duration": 57,
    "start_time": "2025-01-11T07:20:52.190Z"
   },
   {
    "duration": 6,
    "start_time": "2025-01-11T07:20:52.249Z"
   },
   {
    "duration": 920,
    "start_time": "2025-01-11T07:21:37.139Z"
   },
   {
    "duration": 93,
    "start_time": "2025-01-11T07:21:38.061Z"
   },
   {
    "duration": 11,
    "start_time": "2025-01-11T07:21:38.156Z"
   },
   {
    "duration": 10,
    "start_time": "2025-01-11T07:21:38.169Z"
   },
   {
    "duration": 3,
    "start_time": "2025-01-11T07:21:38.182Z"
   },
   {
    "duration": 15,
    "start_time": "2025-01-11T07:21:38.187Z"
   },
   {
    "duration": 35,
    "start_time": "2025-01-11T07:21:38.204Z"
   },
   {
    "duration": 22,
    "start_time": "2025-01-11T07:21:38.240Z"
   },
   {
    "duration": 27,
    "start_time": "2025-01-11T07:21:38.264Z"
   },
   {
    "duration": 9,
    "start_time": "2025-01-11T07:21:38.293Z"
   },
   {
    "duration": 89,
    "start_time": "2025-01-11T07:21:38.303Z"
   },
   {
    "duration": 70,
    "start_time": "2025-01-11T07:21:38.395Z"
   },
   {
    "duration": 12,
    "start_time": "2025-01-11T07:21:38.467Z"
   },
   {
    "duration": 8,
    "start_time": "2025-01-11T07:21:38.483Z"
   },
   {
    "duration": 47,
    "start_time": "2025-01-11T07:21:38.493Z"
   },
   {
    "duration": 15,
    "start_time": "2025-01-11T07:21:38.542Z"
   },
   {
    "duration": 17,
    "start_time": "2025-01-11T07:21:38.559Z"
   },
   {
    "duration": 8,
    "start_time": "2025-01-11T07:21:38.578Z"
   },
   {
    "duration": 47,
    "start_time": "2025-01-11T07:21:38.588Z"
   },
   {
    "duration": 28,
    "start_time": "2025-01-11T07:21:38.636Z"
   },
   {
    "duration": 4,
    "start_time": "2025-01-11T07:21:38.666Z"
   },
   {
    "duration": 71,
    "start_time": "2025-01-11T07:21:38.671Z"
   },
   {
    "duration": 27,
    "start_time": "2025-01-11T07:21:38.744Z"
   },
   {
    "duration": 16,
    "start_time": "2025-01-11T07:21:38.773Z"
   },
   {
    "duration": 41,
    "start_time": "2025-01-11T07:21:38.791Z"
   },
   {
    "duration": 31,
    "start_time": "2025-01-11T07:21:38.834Z"
   },
   {
    "duration": 6,
    "start_time": "2025-01-11T07:21:38.867Z"
   },
   {
    "duration": 827,
    "start_time": "2025-01-11T07:21:38.875Z"
   },
   {
    "duration": 0,
    "start_time": "2025-01-11T07:21:39.704Z"
   },
   {
    "duration": 0,
    "start_time": "2025-01-11T07:21:39.705Z"
   },
   {
    "duration": 0,
    "start_time": "2025-01-11T07:21:39.707Z"
   },
   {
    "duration": 0,
    "start_time": "2025-01-11T07:21:39.708Z"
   },
   {
    "duration": 0,
    "start_time": "2025-01-11T07:21:39.709Z"
   },
   {
    "duration": 0,
    "start_time": "2025-01-11T07:21:39.710Z"
   },
   {
    "duration": 0,
    "start_time": "2025-01-11T07:21:39.711Z"
   },
   {
    "duration": 0,
    "start_time": "2025-01-11T07:21:39.712Z"
   },
   {
    "duration": 158,
    "start_time": "2025-01-11T07:25:05.616Z"
   },
   {
    "duration": 12,
    "start_time": "2025-01-11T07:25:14.404Z"
   },
   {
    "duration": 942,
    "start_time": "2025-01-11T07:25:21.176Z"
   },
   {
    "duration": 87,
    "start_time": "2025-01-11T07:25:22.120Z"
   },
   {
    "duration": 10,
    "start_time": "2025-01-11T07:25:22.691Z"
   },
   {
    "duration": 10,
    "start_time": "2025-01-11T07:25:22.703Z"
   },
   {
    "duration": 3,
    "start_time": "2025-01-11T07:25:22.714Z"
   },
   {
    "duration": 16,
    "start_time": "2025-01-11T07:25:22.727Z"
   },
   {
    "duration": 10,
    "start_time": "2025-01-11T07:25:22.745Z"
   },
   {
    "duration": 9,
    "start_time": "2025-01-11T07:25:22.756Z"
   },
   {
    "duration": 29,
    "start_time": "2025-01-11T07:25:22.767Z"
   },
   {
    "duration": 40,
    "start_time": "2025-01-11T07:25:22.798Z"
   },
   {
    "duration": 69,
    "start_time": "2025-01-11T07:25:22.841Z"
   },
   {
    "duration": 63,
    "start_time": "2025-01-11T07:25:22.911Z"
   },
   {
    "duration": 13,
    "start_time": "2025-01-11T07:25:22.975Z"
   },
   {
    "duration": 8,
    "start_time": "2025-01-11T07:25:22.990Z"
   },
   {
    "duration": 50,
    "start_time": "2025-01-11T07:25:23.000Z"
   },
   {
    "duration": 15,
    "start_time": "2025-01-11T07:25:23.052Z"
   },
   {
    "duration": 18,
    "start_time": "2025-01-11T07:25:23.069Z"
   },
   {
    "duration": 9,
    "start_time": "2025-01-11T07:25:23.089Z"
   },
   {
    "duration": 46,
    "start_time": "2025-01-11T07:25:23.101Z"
   },
   {
    "duration": 28,
    "start_time": "2025-01-11T07:25:23.149Z"
   },
   {
    "duration": 4,
    "start_time": "2025-01-11T07:25:23.179Z"
   },
   {
    "duration": 69,
    "start_time": "2025-01-11T07:25:23.185Z"
   },
   {
    "duration": 27,
    "start_time": "2025-01-11T07:25:23.256Z"
   },
   {
    "duration": 18,
    "start_time": "2025-01-11T07:25:23.285Z"
   },
   {
    "duration": 41,
    "start_time": "2025-01-11T07:25:23.305Z"
   },
   {
    "duration": 32,
    "start_time": "2025-01-11T07:25:23.348Z"
   },
   {
    "duration": 6,
    "start_time": "2025-01-11T07:25:23.382Z"
   },
   {
    "duration": 828,
    "start_time": "2025-01-11T07:25:23.390Z"
   },
   {
    "duration": 0,
    "start_time": "2025-01-11T07:25:24.221Z"
   },
   {
    "duration": 0,
    "start_time": "2025-01-11T07:25:24.222Z"
   },
   {
    "duration": 0,
    "start_time": "2025-01-11T07:25:24.231Z"
   },
   {
    "duration": 0,
    "start_time": "2025-01-11T07:25:24.232Z"
   },
   {
    "duration": 0,
    "start_time": "2025-01-11T07:25:24.233Z"
   },
   {
    "duration": 0,
    "start_time": "2025-01-11T07:25:24.234Z"
   },
   {
    "duration": 0,
    "start_time": "2025-01-11T07:25:24.235Z"
   },
   {
    "duration": 0,
    "start_time": "2025-01-11T07:25:24.236Z"
   },
   {
    "duration": 20,
    "start_time": "2025-01-11T07:29:12.337Z"
   },
   {
    "duration": 25,
    "start_time": "2025-01-11T07:30:49.796Z"
   },
   {
    "duration": 26,
    "start_time": "2025-01-11T07:30:56.620Z"
   },
   {
    "duration": 25,
    "start_time": "2025-01-11T07:31:15.996Z"
   },
   {
    "duration": 5,
    "start_time": "2025-01-11T07:32:13.852Z"
   },
   {
    "duration": 44,
    "start_time": "2025-01-11T07:32:20.752Z"
   },
   {
    "duration": 17,
    "start_time": "2025-01-11T07:32:24.977Z"
   },
   {
    "duration": 24,
    "start_time": "2025-01-11T07:32:30.550Z"
   },
   {
    "duration": 46,
    "start_time": "2025-01-11T07:33:46.749Z"
   },
   {
    "duration": 96,
    "start_time": "2025-01-11T07:34:07.744Z"
   },
   {
    "duration": 16,
    "start_time": "2025-01-11T07:34:20.916Z"
   },
   {
    "duration": 25,
    "start_time": "2025-01-11T07:34:31.434Z"
   },
   {
    "duration": 27,
    "start_time": "2025-01-11T07:41:55.020Z"
   },
   {
    "duration": 5,
    "start_time": "2025-01-11T07:42:22.224Z"
   },
   {
    "duration": 42,
    "start_time": "2025-01-11T07:42:26.763Z"
   },
   {
    "duration": 26,
    "start_time": "2025-01-11T07:42:32.644Z"
   },
   {
    "duration": 80,
    "start_time": "2025-01-11T07:42:50.564Z"
   },
   {
    "duration": 21,
    "start_time": "2025-01-11T07:43:10.740Z"
   },
   {
    "duration": 32,
    "start_time": "2025-01-11T07:44:16.476Z"
   },
   {
    "duration": 207,
    "start_time": "2025-01-11T07:45:12.724Z"
   },
   {
    "duration": 31,
    "start_time": "2025-01-11T07:45:35.678Z"
   },
   {
    "duration": 71,
    "start_time": "2025-01-11T07:45:54.134Z"
   },
   {
    "duration": 101,
    "start_time": "2025-01-11T07:46:56.357Z"
   },
   {
    "duration": 33,
    "start_time": "2025-01-11T07:47:01.357Z"
   },
   {
    "duration": 44,
    "start_time": "2025-01-11T07:47:36.388Z"
   },
   {
    "duration": 22,
    "start_time": "2025-01-11T07:49:38.580Z"
   },
   {
    "duration": 29,
    "start_time": "2025-01-11T07:49:55.324Z"
   },
   {
    "duration": 68,
    "start_time": "2025-01-11T07:55:25.720Z"
   },
   {
    "duration": 21,
    "start_time": "2025-01-11T07:56:05.601Z"
   },
   {
    "duration": 185,
    "start_time": "2025-01-11T22:32:10.057Z"
   },
   {
    "duration": 2893,
    "start_time": "2025-01-11T22:32:15.290Z"
   },
   {
    "duration": 97,
    "start_time": "2025-01-11T22:32:18.185Z"
   },
   {
    "duration": 10,
    "start_time": "2025-01-11T22:32:18.284Z"
   },
   {
    "duration": 9,
    "start_time": "2025-01-11T22:32:18.297Z"
   },
   {
    "duration": 19,
    "start_time": "2025-01-11T22:32:18.307Z"
   },
   {
    "duration": 20,
    "start_time": "2025-01-11T22:32:18.331Z"
   },
   {
    "duration": 9,
    "start_time": "2025-01-11T22:32:18.353Z"
   },
   {
    "duration": 12,
    "start_time": "2025-01-11T22:32:18.364Z"
   },
   {
    "duration": 50,
    "start_time": "2025-01-11T22:32:18.377Z"
   },
   {
    "duration": 11,
    "start_time": "2025-01-11T22:32:18.431Z"
   },
   {
    "duration": 90,
    "start_time": "2025-01-11T22:32:18.444Z"
   },
   {
    "duration": 57,
    "start_time": "2025-01-11T22:32:18.536Z"
   },
   {
    "duration": 11,
    "start_time": "2025-01-11T22:32:18.595Z"
   },
   {
    "duration": 9,
    "start_time": "2025-01-11T22:32:18.624Z"
   },
   {
    "duration": 28,
    "start_time": "2025-01-11T22:32:18.635Z"
   },
   {
    "duration": 17,
    "start_time": "2025-01-11T22:32:18.666Z"
   },
   {
    "duration": 40,
    "start_time": "2025-01-11T22:32:18.685Z"
   },
   {
    "duration": 13,
    "start_time": "2025-01-11T22:32:18.727Z"
   },
   {
    "duration": 36,
    "start_time": "2025-01-11T22:32:18.742Z"
   },
   {
    "duration": 5,
    "start_time": "2025-01-11T22:32:18.781Z"
   },
   {
    "duration": 83,
    "start_time": "2025-01-11T22:32:18.788Z"
   },
   {
    "duration": 26,
    "start_time": "2025-01-11T22:32:18.873Z"
   },
   {
    "duration": 701,
    "start_time": "2025-01-11T22:32:18.900Z"
   },
   {
    "duration": 0,
    "start_time": "2025-01-11T22:32:19.603Z"
   },
   {
    "duration": 0,
    "start_time": "2025-01-11T22:32:19.604Z"
   },
   {
    "duration": 0,
    "start_time": "2025-01-11T22:32:19.606Z"
   },
   {
    "duration": 0,
    "start_time": "2025-01-11T22:32:19.607Z"
   },
   {
    "duration": 0,
    "start_time": "2025-01-11T22:32:19.609Z"
   },
   {
    "duration": 0,
    "start_time": "2025-01-11T22:32:19.610Z"
   },
   {
    "duration": 0,
    "start_time": "2025-01-11T22:32:19.624Z"
   },
   {
    "duration": 0,
    "start_time": "2025-01-11T22:32:19.626Z"
   },
   {
    "duration": 0,
    "start_time": "2025-01-11T22:32:19.628Z"
   },
   {
    "duration": 0,
    "start_time": "2025-01-11T22:32:19.629Z"
   },
   {
    "duration": 0,
    "start_time": "2025-01-11T22:32:19.631Z"
   },
   {
    "duration": 0,
    "start_time": "2025-01-11T22:32:19.632Z"
   },
   {
    "duration": 187,
    "start_time": "2025-01-11T22:32:33.049Z"
   },
   {
    "duration": 102,
    "start_time": "2025-01-11T22:32:36.445Z"
   },
   {
    "duration": 13,
    "start_time": "2025-01-11T22:32:40.760Z"
   },
   {
    "duration": 8,
    "start_time": "2025-01-11T22:32:44.289Z"
   },
   {
    "duration": 4,
    "start_time": "2025-01-11T22:32:52.141Z"
   },
   {
    "duration": 19,
    "start_time": "2025-01-11T22:32:55.060Z"
   },
   {
    "duration": 8,
    "start_time": "2025-01-11T22:33:00.590Z"
   },
   {
    "duration": 9,
    "start_time": "2025-01-11T22:33:09.775Z"
   },
   {
    "duration": 30,
    "start_time": "2025-01-11T22:33:16.532Z"
   },
   {
    "duration": 11,
    "start_time": "2025-01-11T22:33:23.260Z"
   },
   {
    "duration": 63,
    "start_time": "2025-01-11T22:33:30.245Z"
   },
   {
    "duration": 57,
    "start_time": "2025-01-11T22:33:47.698Z"
   },
   {
    "duration": 13,
    "start_time": "2025-01-11T22:33:53.301Z"
   },
   {
    "duration": 9,
    "start_time": "2025-01-11T22:33:59.155Z"
   },
   {
    "duration": 24,
    "start_time": "2025-01-11T22:34:07.655Z"
   },
   {
    "duration": 490,
    "start_time": "2025-01-11T22:34:38.104Z"
   },
   {
    "duration": 9,
    "start_time": "2025-01-11T22:34:57.884Z"
   },
   {
    "duration": 45,
    "start_time": "2025-01-11T22:35:05.145Z"
   },
   {
    "duration": 16,
    "start_time": "2025-01-11T22:35:20.807Z"
   },
   {
    "duration": 16,
    "start_time": "2025-01-11T22:35:33.942Z"
   },
   {
    "duration": 18,
    "start_time": "2025-01-11T22:35:38.067Z"
   },
   {
    "duration": 10,
    "start_time": "2025-01-11T22:35:42.714Z"
   },
   {
    "duration": 24,
    "start_time": "2025-01-11T22:35:48.559Z"
   },
   {
    "duration": 5,
    "start_time": "2025-01-11T22:35:55.207Z"
   },
   {
    "duration": 36,
    "start_time": "2025-01-11T22:35:58.926Z"
   },
   {
    "duration": 27,
    "start_time": "2025-01-11T22:36:04.467Z"
   },
   {
    "duration": 73,
    "start_time": "2025-01-11T22:36:16.010Z"
   },
   {
    "duration": 19,
    "start_time": "2025-01-11T22:36:46.839Z"
   },
   {
    "duration": 155,
    "start_time": "2025-01-11T22:37:03.159Z"
   },
   {
    "duration": 85,
    "start_time": "2025-01-11T22:37:03.316Z"
   },
   {
    "duration": 9,
    "start_time": "2025-01-11T22:37:03.403Z"
   },
   {
    "duration": 16,
    "start_time": "2025-01-11T22:37:03.414Z"
   },
   {
    "duration": 3,
    "start_time": "2025-01-11T22:37:03.431Z"
   },
   {
    "duration": 15,
    "start_time": "2025-01-11T22:37:03.436Z"
   },
   {
    "duration": 8,
    "start_time": "2025-01-11T22:37:03.452Z"
   },
   {
    "duration": 9,
    "start_time": "2025-01-11T22:37:03.461Z"
   },
   {
    "duration": 66,
    "start_time": "2025-01-11T22:37:03.472Z"
   },
   {
    "duration": 8,
    "start_time": "2025-01-11T22:37:03.541Z"
   },
   {
    "duration": 59,
    "start_time": "2025-01-11T22:37:03.551Z"
   },
   {
    "duration": 53,
    "start_time": "2025-01-11T22:37:03.625Z"
   },
   {
    "duration": 12,
    "start_time": "2025-01-11T22:37:03.680Z"
   },
   {
    "duration": 32,
    "start_time": "2025-01-11T22:37:03.693Z"
   },
   {
    "duration": 29,
    "start_time": "2025-01-11T22:37:03.727Z"
   },
   {
    "duration": 16,
    "start_time": "2025-01-11T22:37:03.758Z"
   },
   {
    "duration": 19,
    "start_time": "2025-01-11T22:37:03.776Z"
   },
   {
    "duration": 34,
    "start_time": "2025-01-11T22:37:03.797Z"
   },
   {
    "duration": 26,
    "start_time": "2025-01-11T22:37:03.833Z"
   },
   {
    "duration": 10,
    "start_time": "2025-01-11T22:37:03.861Z"
   },
   {
    "duration": 54,
    "start_time": "2025-01-11T22:37:03.874Z"
   },
   {
    "duration": 22,
    "start_time": "2025-01-11T22:37:03.929Z"
   },
   {
    "duration": 21,
    "start_time": "2025-01-11T22:37:45.606Z"
   },
   {
    "duration": 24,
    "start_time": "2025-01-11T22:39:02.009Z"
   },
   {
    "duration": 71,
    "start_time": "2025-01-11T22:40:34.336Z"
   },
   {
    "duration": 13,
    "start_time": "2025-01-11T22:43:47.117Z"
   },
   {
    "duration": 18,
    "start_time": "2025-01-11T22:45:29.082Z"
   },
   {
    "duration": 111,
    "start_time": "2025-01-11T22:45:43.336Z"
   },
   {
    "duration": 20,
    "start_time": "2025-01-11T22:45:50.656Z"
   },
   {
    "duration": 32,
    "start_time": "2025-01-11T22:45:57.094Z"
   },
   {
    "duration": 7,
    "start_time": "2025-01-11T22:46:01.765Z"
   },
   {
    "duration": 228,
    "start_time": "2025-01-11T22:46:08.328Z"
   },
   {
    "duration": 7,
    "start_time": "2025-01-11T22:47:37.741Z"
   },
   {
    "duration": 47,
    "start_time": "2025-01-11T22:51:48.751Z"
   },
   {
    "duration": 36,
    "start_time": "2025-01-11T22:52:27.695Z"
   },
   {
    "duration": 4,
    "start_time": "2025-01-11T22:56:56.364Z"
   },
   {
    "duration": 7,
    "start_time": "2025-01-11T22:57:26.947Z"
   },
   {
    "duration": 80,
    "start_time": "2025-01-11T22:57:36.013Z"
   },
   {
    "duration": 7,
    "start_time": "2025-01-11T23:00:52.373Z"
   },
   {
    "duration": 2,
    "start_time": "2025-01-11T23:01:46.726Z"
   },
   {
    "duration": 15,
    "start_time": "2025-01-11T23:02:55.502Z"
   },
   {
    "duration": 15,
    "start_time": "2025-01-11T23:03:23.243Z"
   },
   {
    "duration": 14,
    "start_time": "2025-01-11T23:03:34.569Z"
   },
   {
    "duration": 84,
    "start_time": "2025-01-11T23:14:24.985Z"
   },
   {
    "duration": 38,
    "start_time": "2025-01-11T23:14:49.663Z"
   },
   {
    "duration": 165,
    "start_time": "2025-01-11T23:14:56.505Z"
   },
   {
    "duration": 84,
    "start_time": "2025-01-11T23:14:56.672Z"
   },
   {
    "duration": 9,
    "start_time": "2025-01-11T23:14:56.758Z"
   },
   {
    "duration": 7,
    "start_time": "2025-01-11T23:14:56.768Z"
   },
   {
    "duration": 2,
    "start_time": "2025-01-11T23:14:56.778Z"
   },
   {
    "duration": 15,
    "start_time": "2025-01-11T23:14:56.782Z"
   },
   {
    "duration": 9,
    "start_time": "2025-01-11T23:14:56.824Z"
   },
   {
    "duration": 12,
    "start_time": "2025-01-11T23:14:56.834Z"
   },
   {
    "duration": 27,
    "start_time": "2025-01-11T23:14:56.847Z"
   },
   {
    "duration": 8,
    "start_time": "2025-01-11T23:14:56.875Z"
   },
   {
    "duration": 92,
    "start_time": "2025-01-11T23:14:56.886Z"
   },
   {
    "duration": 60,
    "start_time": "2025-01-11T23:14:56.979Z"
   },
   {
    "duration": 13,
    "start_time": "2025-01-11T23:14:57.040Z"
   },
   {
    "duration": 8,
    "start_time": "2025-01-11T23:14:57.057Z"
   },
   {
    "duration": 24,
    "start_time": "2025-01-11T23:14:57.067Z"
   },
   {
    "duration": 44,
    "start_time": "2025-01-11T23:14:57.093Z"
   },
   {
    "duration": 18,
    "start_time": "2025-01-11T23:14:57.139Z"
   },
   {
    "duration": 9,
    "start_time": "2025-01-11T23:14:57.158Z"
   },
   {
    "duration": 23,
    "start_time": "2025-01-11T23:14:57.170Z"
   },
   {
    "duration": 4,
    "start_time": "2025-01-11T23:14:57.195Z"
   },
   {
    "duration": 61,
    "start_time": "2025-01-11T23:14:57.200Z"
   },
   {
    "duration": 21,
    "start_time": "2025-01-11T23:14:57.263Z"
   },
   {
    "duration": 18,
    "start_time": "2025-01-11T23:14:57.286Z"
   },
   {
    "duration": 38,
    "start_time": "2025-01-11T23:14:57.305Z"
   },
   {
    "duration": 31,
    "start_time": "2025-01-11T23:14:57.345Z"
   },
   {
    "duration": 5,
    "start_time": "2025-01-11T23:14:57.378Z"
   },
   {
    "duration": 98,
    "start_time": "2025-01-11T23:14:57.385Z"
   },
   {
    "duration": 0,
    "start_time": "2025-01-11T23:14:57.485Z"
   },
   {
    "duration": 0,
    "start_time": "2025-01-11T23:14:57.486Z"
   },
   {
    "duration": 0,
    "start_time": "2025-01-11T23:14:57.488Z"
   },
   {
    "duration": 0,
    "start_time": "2025-01-11T23:14:57.489Z"
   },
   {
    "duration": 0,
    "start_time": "2025-01-11T23:14:57.491Z"
   },
   {
    "duration": 0,
    "start_time": "2025-01-11T23:14:57.493Z"
   },
   {
    "duration": 0,
    "start_time": "2025-01-11T23:14:57.495Z"
   },
   {
    "duration": 0,
    "start_time": "2025-01-11T23:14:57.496Z"
   },
   {
    "duration": 37,
    "start_time": "2025-01-11T23:15:12.555Z"
   },
   {
    "duration": 160,
    "start_time": "2025-01-11T23:15:19.369Z"
   },
   {
    "duration": 92,
    "start_time": "2025-01-11T23:15:19.532Z"
   },
   {
    "duration": 11,
    "start_time": "2025-01-11T23:15:19.625Z"
   },
   {
    "duration": 9,
    "start_time": "2025-01-11T23:15:19.637Z"
   },
   {
    "duration": 2,
    "start_time": "2025-01-11T23:15:19.650Z"
   },
   {
    "duration": 16,
    "start_time": "2025-01-11T23:15:19.654Z"
   },
   {
    "duration": 9,
    "start_time": "2025-01-11T23:15:19.671Z"
   },
   {
    "duration": 45,
    "start_time": "2025-01-11T23:15:19.682Z"
   },
   {
    "duration": 30,
    "start_time": "2025-01-11T23:15:19.729Z"
   },
   {
    "duration": 9,
    "start_time": "2025-01-11T23:15:19.761Z"
   },
   {
    "duration": 93,
    "start_time": "2025-01-11T23:15:19.773Z"
   },
   {
    "duration": 62,
    "start_time": "2025-01-11T23:15:19.868Z"
   },
   {
    "duration": 13,
    "start_time": "2025-01-11T23:15:19.932Z"
   },
   {
    "duration": 8,
    "start_time": "2025-01-11T23:15:19.949Z"
   },
   {
    "duration": 27,
    "start_time": "2025-01-11T23:15:19.958Z"
   },
   {
    "duration": 44,
    "start_time": "2025-01-11T23:15:19.987Z"
   },
   {
    "duration": 19,
    "start_time": "2025-01-11T23:15:20.033Z"
   },
   {
    "duration": 9,
    "start_time": "2025-01-11T23:15:20.053Z"
   },
   {
    "duration": 25,
    "start_time": "2025-01-11T23:15:20.063Z"
   },
   {
    "duration": 4,
    "start_time": "2025-01-11T23:15:20.090Z"
   },
   {
    "duration": 38,
    "start_time": "2025-01-11T23:15:20.125Z"
   },
   {
    "duration": 22,
    "start_time": "2025-01-11T23:15:20.166Z"
   },
   {
    "duration": 139,
    "start_time": "2025-01-11T23:15:20.190Z"
   },
   {
    "duration": 21,
    "start_time": "2025-01-11T23:15:20.331Z"
   },
   {
    "duration": 33,
    "start_time": "2025-01-11T23:15:20.355Z"
   },
   {
    "duration": 35,
    "start_time": "2025-01-11T23:15:20.389Z"
   },
   {
    "duration": 78,
    "start_time": "2025-01-11T23:15:20.427Z"
   },
   {
    "duration": 0,
    "start_time": "2025-01-11T23:15:20.523Z"
   },
   {
    "duration": 0,
    "start_time": "2025-01-11T23:15:20.525Z"
   },
   {
    "duration": 0,
    "start_time": "2025-01-11T23:15:20.526Z"
   },
   {
    "duration": 0,
    "start_time": "2025-01-11T23:15:20.527Z"
   },
   {
    "duration": 0,
    "start_time": "2025-01-11T23:15:20.528Z"
   },
   {
    "duration": 0,
    "start_time": "2025-01-11T23:15:20.529Z"
   },
   {
    "duration": 0,
    "start_time": "2025-01-11T23:15:20.530Z"
   },
   {
    "duration": 0,
    "start_time": "2025-01-11T23:15:20.531Z"
   },
   {
    "duration": 148,
    "start_time": "2025-01-11T23:15:29.612Z"
   },
   {
    "duration": 86,
    "start_time": "2025-01-11T23:15:32.220Z"
   },
   {
    "duration": 12,
    "start_time": "2025-01-11T23:15:35.976Z"
   },
   {
    "duration": 8,
    "start_time": "2025-01-11T23:15:39.009Z"
   },
   {
    "duration": 3,
    "start_time": "2025-01-11T23:15:44.404Z"
   },
   {
    "duration": 19,
    "start_time": "2025-01-11T23:15:47.615Z"
   },
   {
    "duration": 8,
    "start_time": "2025-01-11T23:15:53.880Z"
   },
   {
    "duration": 11,
    "start_time": "2025-01-11T23:16:03.651Z"
   },
   {
    "duration": 29,
    "start_time": "2025-01-11T23:16:11.612Z"
   },
   {
    "duration": 12,
    "start_time": "2025-01-11T23:16:15.692Z"
   },
   {
    "duration": 67,
    "start_time": "2025-01-11T23:16:20.953Z"
   },
   {
    "duration": 56,
    "start_time": "2025-01-11T23:16:27.571Z"
   },
   {
    "duration": 4,
    "start_time": "2025-01-11T23:17:54.602Z"
   },
   {
    "duration": 58,
    "start_time": "2025-01-11T23:18:03.148Z"
   },
   {
    "duration": 54,
    "start_time": "2025-01-11T23:19:36.355Z"
   },
   {
    "duration": 54,
    "start_time": "2025-01-11T23:20:03.257Z"
   },
   {
    "duration": 27,
    "start_time": "2025-01-11T23:20:21.826Z"
   },
   {
    "duration": 35,
    "start_time": "2025-01-11T23:20:44.902Z"
   },
   {
    "duration": 28,
    "start_time": "2025-01-11T23:21:15.202Z"
   },
   {
    "duration": 14,
    "start_time": "2025-01-11T23:21:21.322Z"
   },
   {
    "duration": 26,
    "start_time": "2025-01-11T23:21:28.338Z"
   },
   {
    "duration": 17,
    "start_time": "2025-01-11T23:21:32.369Z"
   },
   {
    "duration": 19,
    "start_time": "2025-01-11T23:21:35.488Z"
   },
   {
    "duration": 25,
    "start_time": "2025-01-11T23:21:39.776Z"
   },
   {
    "duration": 6,
    "start_time": "2025-01-11T23:21:44.831Z"
   },
   {
    "duration": 33,
    "start_time": "2025-01-11T23:21:57.980Z"
   },
   {
    "duration": 20,
    "start_time": "2025-01-11T23:22:04.280Z"
   },
   {
    "duration": 21,
    "start_time": "2025-01-11T23:22:08.611Z"
   },
   {
    "duration": 31,
    "start_time": "2025-01-11T23:22:14.693Z"
   },
   {
    "duration": 81,
    "start_time": "2025-01-11T23:22:23.552Z"
   },
   {
    "duration": 72,
    "start_time": "2025-01-11T23:22:39.466Z"
   },
   {
    "duration": 9,
    "start_time": "2025-01-11T23:25:24.487Z"
   },
   {
    "duration": 91,
    "start_time": "2025-01-11T23:25:39.428Z"
   },
   {
    "duration": 164,
    "start_time": "2025-01-11T23:32:03.421Z"
   },
   {
    "duration": 94,
    "start_time": "2025-01-11T23:32:06.221Z"
   },
   {
    "duration": 10,
    "start_time": "2025-01-11T23:32:10.569Z"
   },
   {
    "duration": 8,
    "start_time": "2025-01-11T23:32:14.602Z"
   },
   {
    "duration": 3,
    "start_time": "2025-01-11T23:32:19.094Z"
   },
   {
    "duration": 17,
    "start_time": "2025-01-11T23:32:21.962Z"
   },
   {
    "duration": 150,
    "start_time": "2025-01-11T23:32:52.096Z"
   },
   {
    "duration": 86,
    "start_time": "2025-01-11T23:32:57.242Z"
   },
   {
    "duration": 11,
    "start_time": "2025-01-11T23:33:02.516Z"
   },
   {
    "duration": 8,
    "start_time": "2025-01-11T23:33:14.673Z"
   },
   {
    "duration": 3,
    "start_time": "2025-01-11T23:33:24.320Z"
   },
   {
    "duration": 21,
    "start_time": "2025-01-11T23:33:29.558Z"
   },
   {
    "duration": 9,
    "start_time": "2025-01-11T23:33:45.166Z"
   },
   {
    "duration": 16,
    "start_time": "2025-01-11T23:34:23.197Z"
   },
   {
    "duration": 10,
    "start_time": "2025-01-11T23:34:28.513Z"
   },
   {
    "duration": 10,
    "start_time": "2025-01-11T23:34:36.101Z"
   },
   {
    "duration": 171,
    "start_time": "2025-01-11T23:35:33.389Z"
   },
   {
    "duration": 121,
    "start_time": "2025-01-11T23:35:37.134Z"
   },
   {
    "duration": 13,
    "start_time": "2025-01-11T23:35:41.749Z"
   },
   {
    "duration": 9,
    "start_time": "2025-01-11T23:35:54.281Z"
   },
   {
    "duration": 5,
    "start_time": "2025-01-11T23:36:00.449Z"
   },
   {
    "duration": 18,
    "start_time": "2025-01-11T23:36:04.452Z"
   },
   {
    "duration": 9,
    "start_time": "2025-01-11T23:36:11.732Z"
   },
   {
    "duration": 12,
    "start_time": "2025-01-11T23:36:23.984Z"
   },
   {
    "duration": 28,
    "start_time": "2025-01-11T23:36:35.321Z"
   },
   {
    "duration": 10,
    "start_time": "2025-01-11T23:36:41.060Z"
   },
   {
    "duration": 61,
    "start_time": "2025-01-11T23:36:45.924Z"
   },
   {
    "duration": 52,
    "start_time": "2025-01-11T23:36:52.654Z"
   },
   {
    "duration": 13,
    "start_time": "2025-01-11T23:36:59.865Z"
   },
   {
    "duration": 28,
    "start_time": "2025-01-11T23:37:06.760Z"
   },
   {
    "duration": 16,
    "start_time": "2025-01-11T23:37:17.909Z"
   },
   {
    "duration": 19,
    "start_time": "2025-01-11T23:37:21.265Z"
   },
   {
    "duration": 25,
    "start_time": "2025-01-11T23:37:28.904Z"
   },
   {
    "duration": 43,
    "start_time": "2025-01-11T23:38:03.642Z"
   },
   {
    "duration": 16,
    "start_time": "2025-01-11T23:38:16.500Z"
   },
   {
    "duration": 19,
    "start_time": "2025-01-11T23:38:20.234Z"
   },
   {
    "duration": 45,
    "start_time": "2025-01-11T23:38:26.208Z"
   },
   {
    "duration": 17,
    "start_time": "2025-01-11T23:38:40.548Z"
   },
   {
    "duration": 5,
    "start_time": "2025-01-11T23:38:50.377Z"
   },
   {
    "duration": 36,
    "start_time": "2025-01-11T23:38:56.661Z"
   },
   {
    "duration": 19,
    "start_time": "2025-01-11T23:39:03.272Z"
   },
   {
    "duration": 23,
    "start_time": "2025-01-11T23:39:08.497Z"
   },
   {
    "duration": 31,
    "start_time": "2025-01-11T23:39:20.636Z"
   },
   {
    "duration": 8,
    "start_time": "2025-01-11T23:40:23.779Z"
   },
   {
    "duration": 70,
    "start_time": "2025-01-11T23:41:20.460Z"
   },
   {
    "duration": 35,
    "start_time": "2025-01-11T23:42:27.644Z"
   },
   {
    "duration": 24,
    "start_time": "2025-01-11T23:42:35.757Z"
   },
   {
    "duration": 151,
    "start_time": "2025-01-11T23:42:42.301Z"
   },
   {
    "duration": 91,
    "start_time": "2025-01-11T23:42:42.454Z"
   },
   {
    "duration": 9,
    "start_time": "2025-01-11T23:42:42.547Z"
   },
   {
    "duration": 7,
    "start_time": "2025-01-11T23:42:42.559Z"
   },
   {
    "duration": 3,
    "start_time": "2025-01-11T23:42:42.567Z"
   },
   {
    "duration": 14,
    "start_time": "2025-01-11T23:42:42.572Z"
   },
   {
    "duration": 36,
    "start_time": "2025-01-11T23:42:42.588Z"
   },
   {
    "duration": 9,
    "start_time": "2025-01-11T23:42:42.626Z"
   },
   {
    "duration": 28,
    "start_time": "2025-01-11T23:42:42.637Z"
   },
   {
    "duration": 8,
    "start_time": "2025-01-11T23:42:42.667Z"
   },
   {
    "duration": 84,
    "start_time": "2025-01-11T23:42:42.677Z"
   },
   {
    "duration": 49,
    "start_time": "2025-01-11T23:42:42.763Z"
   },
   {
    "duration": 13,
    "start_time": "2025-01-11T23:42:42.824Z"
   },
   {
    "duration": 9,
    "start_time": "2025-01-11T23:42:42.838Z"
   },
   {
    "duration": 26,
    "start_time": "2025-01-11T23:42:42.848Z"
   },
   {
    "duration": 15,
    "start_time": "2025-01-11T23:42:42.876Z"
   },
   {
    "duration": 47,
    "start_time": "2025-01-11T23:42:42.893Z"
   },
   {
    "duration": 8,
    "start_time": "2025-01-11T23:42:42.942Z"
   },
   {
    "duration": 28,
    "start_time": "2025-01-11T23:42:42.952Z"
   },
   {
    "duration": 4,
    "start_time": "2025-01-11T23:42:42.981Z"
   },
   {
    "duration": 60,
    "start_time": "2025-01-11T23:42:42.987Z"
   },
   {
    "duration": 22,
    "start_time": "2025-01-11T23:42:43.049Z"
   },
   {
    "duration": 121,
    "start_time": "2025-01-11T23:42:43.073Z"
   },
   {
    "duration": 30,
    "start_time": "2025-01-11T23:42:43.195Z"
   },
   {
    "duration": 30,
    "start_time": "2025-01-11T23:42:43.227Z"
   },
   {
    "duration": 18,
    "start_time": "2025-01-11T23:42:53.181Z"
   },
   {
    "duration": 36,
    "start_time": "2025-01-11T23:43:10.388Z"
   },
   {
    "duration": 150,
    "start_time": "2025-01-11T23:43:15.970Z"
   },
   {
    "duration": 102,
    "start_time": "2025-01-11T23:43:16.122Z"
   },
   {
    "duration": 17,
    "start_time": "2025-01-11T23:43:16.226Z"
   },
   {
    "duration": 11,
    "start_time": "2025-01-11T23:43:16.246Z"
   },
   {
    "duration": 2,
    "start_time": "2025-01-11T23:43:16.259Z"
   },
   {
    "duration": 17,
    "start_time": "2025-01-11T23:43:16.263Z"
   },
   {
    "duration": 11,
    "start_time": "2025-01-11T23:43:16.281Z"
   },
   {
    "duration": 36,
    "start_time": "2025-01-11T23:43:16.294Z"
   },
   {
    "duration": 28,
    "start_time": "2025-01-11T23:43:16.331Z"
   },
   {
    "duration": 8,
    "start_time": "2025-01-11T23:43:16.362Z"
   },
   {
    "duration": 82,
    "start_time": "2025-01-11T23:43:16.372Z"
   },
   {
    "duration": 53,
    "start_time": "2025-01-11T23:43:16.456Z"
   },
   {
    "duration": 23,
    "start_time": "2025-01-11T23:43:16.512Z"
   },
   {
    "duration": 8,
    "start_time": "2025-01-11T23:43:16.536Z"
   },
   {
    "duration": 26,
    "start_time": "2025-01-11T23:43:16.546Z"
   },
   {
    "duration": 15,
    "start_time": "2025-01-11T23:43:16.574Z"
   },
   {
    "duration": 45,
    "start_time": "2025-01-11T23:43:16.591Z"
   },
   {
    "duration": 8,
    "start_time": "2025-01-11T23:43:16.637Z"
   },
   {
    "duration": 21,
    "start_time": "2025-01-11T23:43:16.647Z"
   },
   {
    "duration": 4,
    "start_time": "2025-01-11T23:43:16.670Z"
   },
   {
    "duration": 62,
    "start_time": "2025-01-11T23:43:16.675Z"
   },
   {
    "duration": 22,
    "start_time": "2025-01-11T23:43:16.739Z"
   },
   {
    "duration": 19,
    "start_time": "2025-01-11T23:43:16.763Z"
   },
   {
    "duration": 40,
    "start_time": "2025-01-11T23:43:16.784Z"
   },
   {
    "duration": 31,
    "start_time": "2025-01-11T23:43:16.826Z"
   },
   {
    "duration": 11,
    "start_time": "2025-01-11T23:43:16.859Z"
   },
   {
    "duration": 35,
    "start_time": "2025-01-11T23:43:24.957Z"
   },
   {
    "duration": 37,
    "start_time": "2025-01-11T23:43:41.866Z"
   },
   {
    "duration": 172,
    "start_time": "2025-01-11T23:43:53.118Z"
   },
   {
    "duration": 90,
    "start_time": "2025-01-11T23:43:53.292Z"
   },
   {
    "duration": 10,
    "start_time": "2025-01-11T23:43:53.384Z"
   },
   {
    "duration": 7,
    "start_time": "2025-01-11T23:43:53.396Z"
   },
   {
    "duration": 4,
    "start_time": "2025-01-11T23:43:53.423Z"
   },
   {
    "duration": 17,
    "start_time": "2025-01-11T23:43:53.429Z"
   },
   {
    "duration": 9,
    "start_time": "2025-01-11T23:43:53.448Z"
   },
   {
    "duration": 11,
    "start_time": "2025-01-11T23:43:53.459Z"
   },
   {
    "duration": 62,
    "start_time": "2025-01-11T23:43:53.472Z"
   },
   {
    "duration": 9,
    "start_time": "2025-01-11T23:43:53.536Z"
   },
   {
    "duration": 79,
    "start_time": "2025-01-11T23:43:53.547Z"
   },
   {
    "duration": 56,
    "start_time": "2025-01-11T23:43:53.628Z"
   },
   {
    "duration": 13,
    "start_time": "2025-01-11T23:43:53.686Z"
   },
   {
    "duration": 11,
    "start_time": "2025-01-11T23:43:53.723Z"
   },
   {
    "duration": 28,
    "start_time": "2025-01-11T23:43:53.736Z"
   },
   {
    "duration": 16,
    "start_time": "2025-01-11T23:43:53.766Z"
   },
   {
    "duration": 43,
    "start_time": "2025-01-11T23:43:53.784Z"
   },
   {
    "duration": 9,
    "start_time": "2025-01-11T23:43:53.829Z"
   },
   {
    "duration": 27,
    "start_time": "2025-01-11T23:43:53.839Z"
   },
   {
    "duration": 6,
    "start_time": "2025-01-11T23:43:53.868Z"
   },
   {
    "duration": 62,
    "start_time": "2025-01-11T23:43:53.877Z"
   },
   {
    "duration": 24,
    "start_time": "2025-01-11T23:43:53.941Z"
   },
   {
    "duration": 19,
    "start_time": "2025-01-11T23:43:53.967Z"
   },
   {
    "duration": 45,
    "start_time": "2025-01-11T23:43:53.988Z"
   },
   {
    "duration": 34,
    "start_time": "2025-01-11T23:43:54.034Z"
   },
   {
    "duration": 7,
    "start_time": "2025-01-11T23:43:54.070Z"
   },
   {
    "duration": 36,
    "start_time": "2025-01-11T23:44:40.240Z"
   },
   {
    "duration": 151,
    "start_time": "2025-01-11T23:44:49.417Z"
   },
   {
    "duration": 90,
    "start_time": "2025-01-11T23:44:49.571Z"
   },
   {
    "duration": 10,
    "start_time": "2025-01-11T23:44:49.663Z"
   },
   {
    "duration": 8,
    "start_time": "2025-01-11T23:44:49.674Z"
   },
   {
    "duration": 3,
    "start_time": "2025-01-11T23:44:49.685Z"
   },
   {
    "duration": 36,
    "start_time": "2025-01-11T23:44:49.690Z"
   },
   {
    "duration": 8,
    "start_time": "2025-01-11T23:44:49.727Z"
   },
   {
    "duration": 9,
    "start_time": "2025-01-11T23:44:49.737Z"
   },
   {
    "duration": 28,
    "start_time": "2025-01-11T23:44:49.747Z"
   },
   {
    "duration": 8,
    "start_time": "2025-01-11T23:44:49.777Z"
   },
   {
    "duration": 90,
    "start_time": "2025-01-11T23:44:49.787Z"
   },
   {
    "duration": 60,
    "start_time": "2025-01-11T23:44:49.878Z"
   },
   {
    "duration": 12,
    "start_time": "2025-01-11T23:44:49.941Z"
   },
   {
    "duration": 8,
    "start_time": "2025-01-11T23:44:49.957Z"
   },
   {
    "duration": 27,
    "start_time": "2025-01-11T23:44:49.966Z"
   },
   {
    "duration": 40,
    "start_time": "2025-01-11T23:44:49.994Z"
   },
   {
    "duration": 18,
    "start_time": "2025-01-11T23:44:50.036Z"
   },
   {
    "duration": 9,
    "start_time": "2025-01-11T23:44:50.055Z"
   },
   {
    "duration": 24,
    "start_time": "2025-01-11T23:44:50.066Z"
   },
   {
    "duration": 6,
    "start_time": "2025-01-11T23:44:50.092Z"
   },
   {
    "duration": 36,
    "start_time": "2025-01-11T23:44:50.124Z"
   },
   {
    "duration": 22,
    "start_time": "2025-01-11T23:44:50.162Z"
   },
   {
    "duration": 18,
    "start_time": "2025-01-11T23:44:50.186Z"
   },
   {
    "duration": 21,
    "start_time": "2025-01-11T23:44:50.225Z"
   },
   {
    "duration": 32,
    "start_time": "2025-01-11T23:44:50.247Z"
   },
   {
    "duration": 10,
    "start_time": "2025-01-11T23:44:54.292Z"
   },
   {
    "duration": 37,
    "start_time": "2025-01-11T23:46:04.592Z"
   },
   {
    "duration": 155,
    "start_time": "2025-01-11T23:46:17.016Z"
   },
   {
    "duration": 88,
    "start_time": "2025-01-11T23:46:17.173Z"
   },
   {
    "duration": 10,
    "start_time": "2025-01-11T23:46:17.262Z"
   },
   {
    "duration": 6,
    "start_time": "2025-01-11T23:46:17.275Z"
   },
   {
    "duration": 4,
    "start_time": "2025-01-11T23:46:17.283Z"
   },
   {
    "duration": 42,
    "start_time": "2025-01-11T23:46:17.288Z"
   },
   {
    "duration": 8,
    "start_time": "2025-01-11T23:46:17.331Z"
   },
   {
    "duration": 10,
    "start_time": "2025-01-11T23:46:17.341Z"
   },
   {
    "duration": 27,
    "start_time": "2025-01-11T23:46:17.353Z"
   },
   {
    "duration": 8,
    "start_time": "2025-01-11T23:46:17.384Z"
   },
   {
    "duration": 86,
    "start_time": "2025-01-11T23:46:17.394Z"
   },
   {
    "duration": 69,
    "start_time": "2025-01-11T23:46:17.481Z"
   },
   {
    "duration": 13,
    "start_time": "2025-01-11T23:46:17.552Z"
   },
   {
    "duration": 8,
    "start_time": "2025-01-11T23:46:17.567Z"
   },
   {
    "duration": 24,
    "start_time": "2025-01-11T23:46:17.577Z"
   },
   {
    "duration": 18,
    "start_time": "2025-01-11T23:46:17.624Z"
   },
   {
    "duration": 19,
    "start_time": "2025-01-11T23:46:17.644Z"
   },
   {
    "duration": 10,
    "start_time": "2025-01-11T23:46:17.665Z"
   },
   {
    "duration": 23,
    "start_time": "2025-01-11T23:46:17.676Z"
   },
   {
    "duration": 6,
    "start_time": "2025-01-11T23:46:17.724Z"
   },
   {
    "duration": 139,
    "start_time": "2025-01-11T23:46:17.732Z"
   },
   {
    "duration": 22,
    "start_time": "2025-01-11T23:46:17.873Z"
   },
   {
    "duration": 31,
    "start_time": "2025-01-11T23:46:17.897Z"
   },
   {
    "duration": 22,
    "start_time": "2025-01-11T23:46:17.929Z"
   },
   {
    "duration": 31,
    "start_time": "2025-01-11T23:46:17.953Z"
   },
   {
    "duration": 8,
    "start_time": "2025-01-11T23:46:17.986Z"
   },
   {
    "duration": 83,
    "start_time": "2025-01-11T23:46:27.839Z"
   },
   {
    "duration": 2670,
    "start_time": "2025-01-12T00:04:43.716Z"
   },
   {
    "duration": 88,
    "start_time": "2025-01-12T00:04:46.388Z"
   },
   {
    "duration": 9,
    "start_time": "2025-01-12T00:04:46.478Z"
   },
   {
    "duration": 20,
    "start_time": "2025-01-12T00:04:46.490Z"
   },
   {
    "duration": 3,
    "start_time": "2025-01-12T00:04:46.512Z"
   },
   {
    "duration": 15,
    "start_time": "2025-01-12T00:04:46.516Z"
   },
   {
    "duration": 8,
    "start_time": "2025-01-12T00:04:46.532Z"
   },
   {
    "duration": 10,
    "start_time": "2025-01-12T00:04:46.542Z"
   },
   {
    "duration": 58,
    "start_time": "2025-01-12T00:04:46.553Z"
   },
   {
    "duration": 10,
    "start_time": "2025-01-12T00:04:46.613Z"
   },
   {
    "duration": 86,
    "start_time": "2025-01-12T00:04:46.624Z"
   },
   {
    "duration": 53,
    "start_time": "2025-01-12T00:04:46.712Z"
   },
   {
    "duration": 14,
    "start_time": "2025-01-12T00:04:46.766Z"
   },
   {
    "duration": 29,
    "start_time": "2025-01-12T00:04:46.781Z"
   },
   {
    "duration": 25,
    "start_time": "2025-01-12T00:04:46.811Z"
   },
   {
    "duration": 15,
    "start_time": "2025-01-12T00:04:46.838Z"
   },
   {
    "duration": 18,
    "start_time": "2025-01-12T00:04:46.854Z"
   },
   {
    "duration": 36,
    "start_time": "2025-01-12T00:04:46.874Z"
   },
   {
    "duration": 21,
    "start_time": "2025-01-12T00:04:46.912Z"
   },
   {
    "duration": 4,
    "start_time": "2025-01-12T00:04:46.935Z"
   },
   {
    "duration": 47,
    "start_time": "2025-01-12T00:04:46.940Z"
   },
   {
    "duration": 44,
    "start_time": "2025-01-12T00:04:46.989Z"
   },
   {
    "duration": 19,
    "start_time": "2025-01-12T00:04:47.036Z"
   },
   {
    "duration": 22,
    "start_time": "2025-01-12T00:04:47.056Z"
   },
   {
    "duration": 54,
    "start_time": "2025-01-12T00:04:47.080Z"
   },
   {
    "duration": 8,
    "start_time": "2025-01-12T00:04:47.136Z"
   },
   {
    "duration": 856,
    "start_time": "2025-01-12T00:04:47.146Z"
   },
   {
    "duration": 0,
    "start_time": "2025-01-12T00:04:48.004Z"
   },
   {
    "duration": 0,
    "start_time": "2025-01-12T00:04:48.005Z"
   },
   {
    "duration": 0,
    "start_time": "2025-01-12T00:04:48.006Z"
   },
   {
    "duration": 0,
    "start_time": "2025-01-12T00:04:48.007Z"
   },
   {
    "duration": 0,
    "start_time": "2025-01-12T00:04:48.007Z"
   },
   {
    "duration": 0,
    "start_time": "2025-01-12T00:04:48.008Z"
   },
   {
    "duration": 0,
    "start_time": "2025-01-12T00:04:48.009Z"
   },
   {
    "duration": 0,
    "start_time": "2025-01-12T00:04:48.010Z"
   },
   {
    "duration": 29,
    "start_time": "2025-01-12T00:08:02.872Z"
   },
   {
    "duration": 16,
    "start_time": "2025-01-12T00:08:31.744Z"
   },
   {
    "duration": 20,
    "start_time": "2025-01-12T00:08:36.770Z"
   },
   {
    "duration": 20,
    "start_time": "2025-01-12T00:08:41.685Z"
   },
   {
    "duration": 5,
    "start_time": "2025-01-12T00:08:50.296Z"
   },
   {
    "duration": 43,
    "start_time": "2025-01-12T00:08:56.196Z"
   },
   {
    "duration": 19,
    "start_time": "2025-01-12T00:09:00.067Z"
   },
   {
    "duration": 23,
    "start_time": "2025-01-12T00:09:04.384Z"
   },
   {
    "duration": 30,
    "start_time": "2025-01-12T00:09:09.923Z"
   },
   {
    "duration": 75,
    "start_time": "2025-01-12T00:09:34.056Z"
   },
   {
    "duration": 19,
    "start_time": "2025-01-12T00:10:43.060Z"
   },
   {
    "duration": 370,
    "start_time": "2025-01-12T00:10:54.798Z"
   },
   {
    "duration": 39,
    "start_time": "2025-01-12T00:11:00.128Z"
   },
   {
    "duration": 170,
    "start_time": "2025-01-12T00:11:05.510Z"
   },
   {
    "duration": 89,
    "start_time": "2025-01-12T00:11:05.682Z"
   },
   {
    "duration": 10,
    "start_time": "2025-01-12T00:11:05.773Z"
   },
   {
    "duration": 6,
    "start_time": "2025-01-12T00:11:05.786Z"
   },
   {
    "duration": 3,
    "start_time": "2025-01-12T00:11:05.809Z"
   },
   {
    "duration": 15,
    "start_time": "2025-01-12T00:11:05.814Z"
   },
   {
    "duration": 8,
    "start_time": "2025-01-12T00:11:05.830Z"
   },
   {
    "duration": 9,
    "start_time": "2025-01-12T00:11:05.840Z"
   },
   {
    "duration": 28,
    "start_time": "2025-01-12T00:11:05.851Z"
   },
   {
    "duration": 8,
    "start_time": "2025-01-12T00:11:05.911Z"
   },
   {
    "duration": 57,
    "start_time": "2025-01-12T00:11:05.920Z"
   },
   {
    "duration": 67,
    "start_time": "2025-01-12T00:11:05.979Z"
   },
   {
    "duration": 13,
    "start_time": "2025-01-12T00:11:06.048Z"
   },
   {
    "duration": 9,
    "start_time": "2025-01-12T00:11:06.062Z"
   },
   {
    "duration": 46,
    "start_time": "2025-01-12T00:11:06.073Z"
   },
   {
    "duration": 15,
    "start_time": "2025-01-12T00:11:06.121Z"
   },
   {
    "duration": 17,
    "start_time": "2025-01-12T00:11:06.138Z"
   },
   {
    "duration": 8,
    "start_time": "2025-01-12T00:11:06.157Z"
   },
   {
    "duration": 46,
    "start_time": "2025-01-12T00:11:06.167Z"
   },
   {
    "duration": 5,
    "start_time": "2025-01-12T00:11:06.214Z"
   },
   {
    "duration": 37,
    "start_time": "2025-01-12T00:11:06.221Z"
   },
   {
    "duration": 23,
    "start_time": "2025-01-12T00:11:06.260Z"
   },
   {
    "duration": 40,
    "start_time": "2025-01-12T00:11:06.285Z"
   },
   {
    "duration": 22,
    "start_time": "2025-01-12T00:11:06.327Z"
   },
   {
    "duration": 33,
    "start_time": "2025-01-12T00:11:06.351Z"
   },
   {
    "duration": 24,
    "start_time": "2025-01-12T00:11:06.386Z"
   },
   {
    "duration": 72,
    "start_time": "2025-01-12T00:11:06.411Z"
   },
   {
    "duration": 0,
    "start_time": "2025-01-12T00:11:06.485Z"
   },
   {
    "duration": 0,
    "start_time": "2025-01-12T00:11:06.486Z"
   },
   {
    "duration": 0,
    "start_time": "2025-01-12T00:11:06.487Z"
   },
   {
    "duration": 0,
    "start_time": "2025-01-12T00:11:06.488Z"
   },
   {
    "duration": 0,
    "start_time": "2025-01-12T00:11:06.509Z"
   },
   {
    "duration": 0,
    "start_time": "2025-01-12T00:11:06.510Z"
   },
   {
    "duration": 0,
    "start_time": "2025-01-12T00:11:06.511Z"
   },
   {
    "duration": 0,
    "start_time": "2025-01-12T00:11:06.512Z"
   },
   {
    "duration": 2627,
    "start_time": "2025-01-12T02:38:54.697Z"
   },
   {
    "duration": 89,
    "start_time": "2025-01-12T02:38:57.326Z"
   },
   {
    "duration": 10,
    "start_time": "2025-01-12T02:39:00.698Z"
   },
   {
    "duration": 9,
    "start_time": "2025-01-12T02:39:04.601Z"
   },
   {
    "duration": 3,
    "start_time": "2025-01-12T02:39:09.030Z"
   },
   {
    "duration": 17,
    "start_time": "2025-01-12T02:39:12.612Z"
   },
   {
    "duration": 9,
    "start_time": "2025-01-12T02:39:16.295Z"
   },
   {
    "duration": 9,
    "start_time": "2025-01-12T02:39:22.259Z"
   },
   {
    "duration": 31,
    "start_time": "2025-01-12T02:39:27.391Z"
   },
   {
    "duration": 9,
    "start_time": "2025-01-12T02:39:31.354Z"
   },
   {
    "duration": 73,
    "start_time": "2025-01-12T02:39:35.531Z"
   },
   {
    "duration": 58,
    "start_time": "2025-01-12T02:39:40.115Z"
   },
   {
    "duration": 13,
    "start_time": "2025-01-12T02:39:44.817Z"
   },
   {
    "duration": 32,
    "start_time": "2025-01-12T02:39:49.757Z"
   },
   {
    "duration": 17,
    "start_time": "2025-01-12T02:39:54.056Z"
   },
   {
    "duration": 18,
    "start_time": "2025-01-12T02:39:57.607Z"
   },
   {
    "duration": 22,
    "start_time": "2025-01-12T02:40:01.805Z"
   },
   {
    "duration": 4,
    "start_time": "2025-01-12T02:40:07.239Z"
   },
   {
    "duration": 50,
    "start_time": "2025-01-12T02:40:11.023Z"
   },
   {
    "duration": 20,
    "start_time": "2025-01-12T02:40:15.008Z"
   },
   {
    "duration": 23,
    "start_time": "2025-01-12T02:40:18.971Z"
   },
   {
    "duration": 219,
    "start_time": "2025-01-12T02:40:22.819Z"
   },
   {
    "duration": 19,
    "start_time": "2025-01-12T02:40:28.049Z"
   },
   {
    "duration": 1048,
    "start_time": "2025-01-12T02:44:57.341Z"
   },
   {
    "duration": 87,
    "start_time": "2025-01-12T02:44:58.392Z"
   },
   {
    "duration": 11,
    "start_time": "2025-01-12T02:44:58.481Z"
   },
   {
    "duration": 9,
    "start_time": "2025-01-12T02:44:58.493Z"
   },
   {
    "duration": 3,
    "start_time": "2025-01-12T02:44:58.504Z"
   },
   {
    "duration": 32,
    "start_time": "2025-01-12T02:44:58.509Z"
   },
   {
    "duration": 8,
    "start_time": "2025-01-12T02:44:58.543Z"
   },
   {
    "duration": 8,
    "start_time": "2025-01-12T02:44:58.553Z"
   },
   {
    "duration": 28,
    "start_time": "2025-01-12T02:44:58.563Z"
   },
   {
    "duration": 39,
    "start_time": "2025-01-12T02:44:58.593Z"
   },
   {
    "duration": 72,
    "start_time": "2025-01-12T02:44:58.634Z"
   },
   {
    "duration": 62,
    "start_time": "2025-01-12T02:44:58.708Z"
   },
   {
    "duration": 15,
    "start_time": "2025-01-12T02:44:58.772Z"
   },
   {
    "duration": 9,
    "start_time": "2025-01-12T02:44:58.792Z"
   },
   {
    "duration": 47,
    "start_time": "2025-01-12T02:44:58.803Z"
   },
   {
    "duration": 16,
    "start_time": "2025-01-12T02:44:58.852Z"
   },
   {
    "duration": 18,
    "start_time": "2025-01-12T02:44:58.869Z"
   },
   {
    "duration": 9,
    "start_time": "2025-01-12T02:44:58.888Z"
   },
   {
    "duration": 46,
    "start_time": "2025-01-12T02:44:58.899Z"
   },
   {
    "duration": 5,
    "start_time": "2025-01-12T02:44:58.947Z"
   },
   {
    "duration": 48,
    "start_time": "2025-01-12T02:44:58.953Z"
   },
   {
    "duration": 41,
    "start_time": "2025-01-12T02:44:59.003Z"
   },
   {
    "duration": 18,
    "start_time": "2025-01-12T02:44:59.046Z"
   },
   {
    "duration": 82,
    "start_time": "2025-01-12T02:44:59.066Z"
   },
   {
    "duration": 30,
    "start_time": "2025-01-12T02:44:59.150Z"
   },
   {
    "duration": 7,
    "start_time": "2025-01-12T02:44:59.182Z"
   },
   {
    "duration": 1019,
    "start_time": "2025-01-12T02:45:13.170Z"
   },
   {
    "duration": 91,
    "start_time": "2025-01-12T02:45:14.191Z"
   },
   {
    "duration": 10,
    "start_time": "2025-01-12T02:45:14.284Z"
   },
   {
    "duration": 8,
    "start_time": "2025-01-12T02:45:14.297Z"
   },
   {
    "duration": 3,
    "start_time": "2025-01-12T02:45:14.306Z"
   },
   {
    "duration": 33,
    "start_time": "2025-01-12T02:45:14.311Z"
   },
   {
    "duration": 8,
    "start_time": "2025-01-12T02:45:14.346Z"
   },
   {
    "duration": 10,
    "start_time": "2025-01-12T02:45:14.356Z"
   },
   {
    "duration": 31,
    "start_time": "2025-01-12T02:45:14.367Z"
   },
   {
    "duration": 33,
    "start_time": "2025-01-12T02:45:14.402Z"
   },
   {
    "duration": 100,
    "start_time": "2025-01-12T02:45:14.437Z"
   },
   {
    "duration": 61,
    "start_time": "2025-01-12T02:45:14.538Z"
   },
   {
    "duration": 12,
    "start_time": "2025-01-12T02:45:14.601Z"
   },
   {
    "duration": 26,
    "start_time": "2025-01-12T02:45:14.614Z"
   },
   {
    "duration": 25,
    "start_time": "2025-01-12T02:45:14.641Z"
   },
   {
    "duration": 17,
    "start_time": "2025-01-12T02:45:14.668Z"
   },
   {
    "duration": 45,
    "start_time": "2025-01-12T02:45:14.687Z"
   },
   {
    "duration": 9,
    "start_time": "2025-01-12T02:45:14.734Z"
   },
   {
    "duration": 22,
    "start_time": "2025-01-12T02:45:14.745Z"
   },
   {
    "duration": 5,
    "start_time": "2025-01-12T02:45:14.769Z"
   },
   {
    "duration": 80,
    "start_time": "2025-01-12T02:45:14.776Z"
   },
   {
    "duration": 32,
    "start_time": "2025-01-12T02:45:14.858Z"
   },
   {
    "duration": 19,
    "start_time": "2025-01-12T02:45:14.892Z"
   },
   {
    "duration": 93,
    "start_time": "2025-01-12T02:45:14.913Z"
   },
   {
    "duration": 41,
    "start_time": "2025-01-12T02:45:15.008Z"
   },
   {
    "duration": 8,
    "start_time": "2025-01-12T02:45:15.051Z"
   },
   {
    "duration": 1016,
    "start_time": "2025-01-12T02:47:54.056Z"
   },
   {
    "duration": 92,
    "start_time": "2025-01-12T02:47:55.074Z"
   },
   {
    "duration": 11,
    "start_time": "2025-01-12T02:47:55.168Z"
   },
   {
    "duration": 9,
    "start_time": "2025-01-12T02:47:55.181Z"
   },
   {
    "duration": 4,
    "start_time": "2025-01-12T02:47:55.192Z"
   },
   {
    "duration": 46,
    "start_time": "2025-01-12T02:47:55.197Z"
   },
   {
    "duration": 9,
    "start_time": "2025-01-12T02:47:55.245Z"
   },
   {
    "duration": 10,
    "start_time": "2025-01-12T02:47:55.256Z"
   },
   {
    "duration": 31,
    "start_time": "2025-01-12T02:47:55.270Z"
   },
   {
    "duration": 34,
    "start_time": "2025-01-12T02:47:55.305Z"
   },
   {
    "duration": 73,
    "start_time": "2025-01-12T02:47:55.341Z"
   },
   {
    "duration": 60,
    "start_time": "2025-01-12T02:47:55.432Z"
   },
   {
    "duration": 12,
    "start_time": "2025-01-12T02:47:55.494Z"
   },
   {
    "duration": 26,
    "start_time": "2025-01-12T02:47:55.508Z"
   },
   {
    "duration": 23,
    "start_time": "2025-01-12T02:47:55.535Z"
   },
   {
    "duration": 16,
    "start_time": "2025-01-12T02:47:55.559Z"
   },
   {
    "duration": 19,
    "start_time": "2025-01-12T02:47:55.576Z"
   },
   {
    "duration": 37,
    "start_time": "2025-01-12T02:47:55.596Z"
   },
   {
    "duration": 23,
    "start_time": "2025-01-12T02:47:55.634Z"
   },
   {
    "duration": 5,
    "start_time": "2025-01-12T02:47:55.658Z"
   },
   {
    "duration": 43,
    "start_time": "2025-01-12T02:47:55.664Z"
   },
   {
    "duration": 45,
    "start_time": "2025-01-12T02:47:55.709Z"
   },
   {
    "duration": 19,
    "start_time": "2025-01-12T02:47:55.756Z"
   },
   {
    "duration": 81,
    "start_time": "2025-01-12T02:47:55.777Z"
   },
   {
    "duration": 32,
    "start_time": "2025-01-12T02:47:55.860Z"
   },
   {
    "duration": 7,
    "start_time": "2025-01-12T02:47:55.894Z"
   },
   {
    "duration": 232,
    "start_time": "2025-01-12T02:48:03.504Z"
   },
   {
    "duration": 21,
    "start_time": "2025-01-12T02:48:43.134Z"
   },
   {
    "duration": 170,
    "start_time": "2025-01-12T02:50:28.848Z"
   },
   {
    "duration": 88,
    "start_time": "2025-01-12T02:50:29.020Z"
   },
   {
    "duration": 10,
    "start_time": "2025-01-12T02:50:29.110Z"
   },
   {
    "duration": 8,
    "start_time": "2025-01-12T02:50:29.132Z"
   },
   {
    "duration": 4,
    "start_time": "2025-01-12T02:50:29.141Z"
   },
   {
    "duration": 16,
    "start_time": "2025-01-12T02:50:29.146Z"
   },
   {
    "duration": 9,
    "start_time": "2025-01-12T02:50:29.164Z"
   },
   {
    "duration": 11,
    "start_time": "2025-01-12T02:50:29.177Z"
   },
   {
    "duration": 66,
    "start_time": "2025-01-12T02:50:29.190Z"
   },
   {
    "duration": 9,
    "start_time": "2025-01-12T02:50:29.259Z"
   },
   {
    "duration": 84,
    "start_time": "2025-01-12T02:50:29.270Z"
   },
   {
    "duration": 54,
    "start_time": "2025-01-12T02:50:29.356Z"
   },
   {
    "duration": 30,
    "start_time": "2025-01-12T02:50:29.412Z"
   },
   {
    "duration": 10,
    "start_time": "2025-01-12T02:50:29.444Z"
   },
   {
    "duration": 23,
    "start_time": "2025-01-12T02:50:29.456Z"
   },
   {
    "duration": 15,
    "start_time": "2025-01-12T02:50:29.481Z"
   },
   {
    "duration": 47,
    "start_time": "2025-01-12T02:50:29.497Z"
   },
   {
    "duration": 10,
    "start_time": "2025-01-12T02:50:29.546Z"
   },
   {
    "duration": 24,
    "start_time": "2025-01-12T02:50:29.558Z"
   },
   {
    "duration": 4,
    "start_time": "2025-01-12T02:50:29.584Z"
   },
   {
    "duration": 64,
    "start_time": "2025-01-12T02:50:29.590Z"
   },
   {
    "duration": 24,
    "start_time": "2025-01-12T02:50:29.655Z"
   },
   {
    "duration": 19,
    "start_time": "2025-01-12T02:50:29.681Z"
   },
   {
    "duration": 44,
    "start_time": "2025-01-12T02:50:29.702Z"
   },
   {
    "duration": 975,
    "start_time": "2025-01-12T02:50:40.752Z"
   },
   {
    "duration": 90,
    "start_time": "2025-01-12T02:50:41.729Z"
   },
   {
    "duration": 17,
    "start_time": "2025-01-12T02:50:41.820Z"
   },
   {
    "duration": 10,
    "start_time": "2025-01-12T02:50:41.839Z"
   },
   {
    "duration": 3,
    "start_time": "2025-01-12T02:50:41.851Z"
   },
   {
    "duration": 16,
    "start_time": "2025-01-12T02:50:41.855Z"
   },
   {
    "duration": 8,
    "start_time": "2025-01-12T02:50:41.873Z"
   },
   {
    "duration": 10,
    "start_time": "2025-01-12T02:50:41.883Z"
   },
   {
    "duration": 72,
    "start_time": "2025-01-12T02:50:41.894Z"
   },
   {
    "duration": 11,
    "start_time": "2025-01-12T02:50:41.969Z"
   },
   {
    "duration": 89,
    "start_time": "2025-01-12T02:50:41.982Z"
   },
   {
    "duration": 66,
    "start_time": "2025-01-12T02:50:42.073Z"
   },
   {
    "duration": 13,
    "start_time": "2025-01-12T02:50:42.140Z"
   },
   {
    "duration": 9,
    "start_time": "2025-01-12T02:50:42.155Z"
   },
   {
    "duration": 24,
    "start_time": "2025-01-12T02:50:42.165Z"
   },
   {
    "duration": 44,
    "start_time": "2025-01-12T02:50:42.191Z"
   },
   {
    "duration": 21,
    "start_time": "2025-01-12T02:50:42.237Z"
   },
   {
    "duration": 8,
    "start_time": "2025-01-12T02:50:42.260Z"
   },
   {
    "duration": 23,
    "start_time": "2025-01-12T02:50:42.270Z"
   },
   {
    "duration": 5,
    "start_time": "2025-01-12T02:50:42.295Z"
   },
   {
    "duration": 45,
    "start_time": "2025-01-12T02:50:42.332Z"
   },
   {
    "duration": 27,
    "start_time": "2025-01-12T02:50:42.380Z"
   },
   {
    "duration": 36,
    "start_time": "2025-01-12T02:50:42.409Z"
   },
   {
    "duration": 88,
    "start_time": "2025-01-12T02:50:42.447Z"
   },
   {
    "duration": 34,
    "start_time": "2025-01-12T02:50:42.536Z"
   },
   {
    "duration": 7,
    "start_time": "2025-01-12T02:50:42.572Z"
   },
   {
    "duration": 245,
    "start_time": "2025-01-12T02:50:42.581Z"
   },
   {
    "duration": 0,
    "start_time": "2025-01-12T02:50:42.831Z"
   },
   {
    "duration": 0,
    "start_time": "2025-01-12T02:50:42.832Z"
   },
   {
    "duration": 0,
    "start_time": "2025-01-12T02:50:42.834Z"
   },
   {
    "duration": 0,
    "start_time": "2025-01-12T02:50:42.835Z"
   },
   {
    "duration": 0,
    "start_time": "2025-01-12T02:50:42.837Z"
   },
   {
    "duration": 0,
    "start_time": "2025-01-12T02:50:42.838Z"
   },
   {
    "duration": 0,
    "start_time": "2025-01-12T02:50:42.839Z"
   },
   {
    "duration": 0,
    "start_time": "2025-01-12T02:50:42.840Z"
   },
   {
    "duration": 23,
    "start_time": "2025-01-12T02:50:56.213Z"
   },
   {
    "duration": 657,
    "start_time": "2025-01-12T02:51:27.392Z"
   },
   {
    "duration": 25,
    "start_time": "2025-01-12T02:51:33.720Z"
   },
   {
    "duration": 24,
    "start_time": "2025-01-12T02:51:40.717Z"
   },
   {
    "duration": 168,
    "start_time": "2025-01-12T02:51:46.315Z"
   },
   {
    "duration": 170,
    "start_time": "2025-01-12T02:51:46.485Z"
   },
   {
    "duration": 9,
    "start_time": "2025-01-12T02:51:46.657Z"
   },
   {
    "duration": 7,
    "start_time": "2025-01-12T02:51:46.668Z"
   },
   {
    "duration": 2,
    "start_time": "2025-01-12T02:51:46.679Z"
   },
   {
    "duration": 15,
    "start_time": "2025-01-12T02:51:46.684Z"
   },
   {
    "duration": 35,
    "start_time": "2025-01-12T02:51:46.701Z"
   },
   {
    "duration": 10,
    "start_time": "2025-01-12T02:51:46.738Z"
   },
   {
    "duration": 28,
    "start_time": "2025-01-12T02:51:46.750Z"
   },
   {
    "duration": 8,
    "start_time": "2025-01-12T02:51:46.779Z"
   },
   {
    "duration": 86,
    "start_time": "2025-01-12T02:51:46.789Z"
   },
   {
    "duration": 59,
    "start_time": "2025-01-12T02:51:46.877Z"
   },
   {
    "duration": 13,
    "start_time": "2025-01-12T02:51:46.938Z"
   },
   {
    "duration": 8,
    "start_time": "2025-01-12T02:51:46.955Z"
   },
   {
    "duration": 24,
    "start_time": "2025-01-12T02:51:46.965Z"
   },
   {
    "duration": 44,
    "start_time": "2025-01-12T02:51:46.991Z"
   },
   {
    "duration": 19,
    "start_time": "2025-01-12T02:51:47.037Z"
   },
   {
    "duration": 9,
    "start_time": "2025-01-12T02:51:47.057Z"
   },
   {
    "duration": 22,
    "start_time": "2025-01-12T02:51:47.068Z"
   },
   {
    "duration": 4,
    "start_time": "2025-01-12T02:51:47.092Z"
   },
   {
    "duration": 67,
    "start_time": "2025-01-12T02:51:47.098Z"
   },
   {
    "duration": 24,
    "start_time": "2025-01-12T02:51:47.167Z"
   },
   {
    "duration": 18,
    "start_time": "2025-01-12T02:51:47.193Z"
   },
   {
    "duration": 22,
    "start_time": "2025-01-12T02:51:47.232Z"
   },
   {
    "duration": 33,
    "start_time": "2025-01-12T02:51:47.256Z"
   },
   {
    "duration": 8,
    "start_time": "2025-01-12T02:51:47.290Z"
   },
   {
    "duration": 42,
    "start_time": "2025-01-12T02:51:47.300Z"
   },
   {
    "duration": 0,
    "start_time": "2025-01-12T02:51:47.344Z"
   },
   {
    "duration": 0,
    "start_time": "2025-01-12T02:51:47.345Z"
   },
   {
    "duration": 0,
    "start_time": "2025-01-12T02:51:47.347Z"
   },
   {
    "duration": 0,
    "start_time": "2025-01-12T02:51:47.348Z"
   },
   {
    "duration": 0,
    "start_time": "2025-01-12T02:51:47.349Z"
   },
   {
    "duration": 0,
    "start_time": "2025-01-12T02:51:47.351Z"
   },
   {
    "duration": 0,
    "start_time": "2025-01-12T02:51:47.352Z"
   },
   {
    "duration": 0,
    "start_time": "2025-01-12T02:51:47.353Z"
   },
   {
    "duration": 156,
    "start_time": "2025-01-12T02:51:58.429Z"
   },
   {
    "duration": 88,
    "start_time": "2025-01-12T02:52:01.297Z"
   },
   {
    "duration": 10,
    "start_time": "2025-01-12T02:52:04.722Z"
   },
   {
    "duration": 7,
    "start_time": "2025-01-12T02:52:08.461Z"
   },
   {
    "duration": 6,
    "start_time": "2025-01-12T02:52:11.957Z"
   },
   {
    "duration": 17,
    "start_time": "2025-01-12T02:52:14.664Z"
   },
   {
    "duration": 9,
    "start_time": "2025-01-12T02:52:18.743Z"
   },
   {
    "duration": 10,
    "start_time": "2025-01-12T02:52:24.063Z"
   },
   {
    "duration": 44,
    "start_time": "2025-01-12T02:52:30.380Z"
   },
   {
    "duration": 11,
    "start_time": "2025-01-12T02:52:34.792Z"
   },
   {
    "duration": 62,
    "start_time": "2025-01-12T02:52:40.723Z"
   },
   {
    "duration": 53,
    "start_time": "2025-01-12T02:52:46.526Z"
   },
   {
    "duration": 13,
    "start_time": "2025-01-12T02:52:51.164Z"
   },
   {
    "duration": 25,
    "start_time": "2025-01-12T02:52:56.660Z"
   },
   {
    "duration": 15,
    "start_time": "2025-01-12T02:53:01.870Z"
   },
   {
    "duration": 19,
    "start_time": "2025-01-12T02:53:04.826Z"
   },
   {
    "duration": 22,
    "start_time": "2025-01-12T02:53:09.541Z"
   },
   {
    "duration": 4,
    "start_time": "2025-01-12T02:53:14.605Z"
   },
   {
    "duration": 37,
    "start_time": "2025-01-12T02:53:18.853Z"
   },
   {
    "duration": 19,
    "start_time": "2025-01-12T02:53:22.456Z"
   },
   {
    "duration": 23,
    "start_time": "2025-01-12T02:53:25.836Z"
   },
   {
    "duration": 30,
    "start_time": "2025-01-12T02:53:30.034Z"
   },
   {
    "duration": 23,
    "start_time": "2025-01-12T02:53:34.761Z"
   },
   {
    "duration": 244,
    "start_time": "2025-01-12T02:55:03.679Z"
   },
   {
    "duration": 25,
    "start_time": "2025-01-12T02:59:45.697Z"
   },
   {
    "duration": 79,
    "start_time": "2025-01-12T03:00:00.231Z"
   },
   {
    "duration": 19,
    "start_time": "2025-01-12T03:08:10.673Z"
   },
   {
    "duration": 85,
    "start_time": "2025-01-12T03:08:35.049Z"
   },
   {
    "duration": 82,
    "start_time": "2025-01-12T03:09:16.180Z"
   },
   {
    "duration": 217,
    "start_time": "2025-01-12T03:10:23.001Z"
   },
   {
    "duration": 81,
    "start_time": "2025-01-12T03:10:38.382Z"
   },
   {
    "duration": 161,
    "start_time": "2025-01-12T03:14:32.248Z"
   },
   {
    "duration": 86,
    "start_time": "2025-01-12T03:14:32.411Z"
   },
   {
    "duration": 10,
    "start_time": "2025-01-12T03:14:32.498Z"
   },
   {
    "duration": 7,
    "start_time": "2025-01-12T03:14:32.511Z"
   },
   {
    "duration": 3,
    "start_time": "2025-01-12T03:14:32.532Z"
   },
   {
    "duration": 17,
    "start_time": "2025-01-12T03:14:32.536Z"
   },
   {
    "duration": 8,
    "start_time": "2025-01-12T03:14:32.555Z"
   },
   {
    "duration": 9,
    "start_time": "2025-01-12T03:14:32.565Z"
   },
   {
    "duration": 57,
    "start_time": "2025-01-12T03:14:32.576Z"
   },
   {
    "duration": 10,
    "start_time": "2025-01-12T03:14:32.636Z"
   },
   {
    "duration": 66,
    "start_time": "2025-01-12T03:14:32.647Z"
   },
   {
    "duration": 69,
    "start_time": "2025-01-12T03:14:32.715Z"
   },
   {
    "duration": 13,
    "start_time": "2025-01-12T03:14:32.786Z"
   },
   {
    "duration": 9,
    "start_time": "2025-01-12T03:14:32.800Z"
   },
   {
    "duration": 25,
    "start_time": "2025-01-12T03:14:32.831Z"
   },
   {
    "duration": 15,
    "start_time": "2025-01-12T03:14:32.858Z"
   },
   {
    "duration": 18,
    "start_time": "2025-01-12T03:14:32.875Z"
   },
   {
    "duration": 9,
    "start_time": "2025-01-12T03:14:32.894Z"
   },
   {
    "duration": 49,
    "start_time": "2025-01-12T03:14:32.904Z"
   },
   {
    "duration": 4,
    "start_time": "2025-01-12T03:14:32.955Z"
   },
   {
    "duration": 37,
    "start_time": "2025-01-12T03:14:32.962Z"
   },
   {
    "duration": 45,
    "start_time": "2025-01-12T03:14:33.000Z"
   },
   {
    "duration": 18,
    "start_time": "2025-01-12T03:14:33.047Z"
   },
   {
    "duration": 23,
    "start_time": "2025-01-12T03:14:33.066Z"
   },
   {
    "duration": 54,
    "start_time": "2025-01-12T03:14:33.091Z"
   },
   {
    "duration": 7,
    "start_time": "2025-01-12T03:14:33.148Z"
   },
   {
    "duration": 99,
    "start_time": "2025-01-12T03:14:33.157Z"
   },
   {
    "duration": 0,
    "start_time": "2025-01-12T03:14:33.258Z"
   },
   {
    "duration": 0,
    "start_time": "2025-01-12T03:14:33.259Z"
   },
   {
    "duration": 0,
    "start_time": "2025-01-12T03:14:33.261Z"
   },
   {
    "duration": 0,
    "start_time": "2025-01-12T03:14:33.262Z"
   },
   {
    "duration": 0,
    "start_time": "2025-01-12T03:14:33.263Z"
   },
   {
    "duration": 0,
    "start_time": "2025-01-12T03:14:33.264Z"
   },
   {
    "duration": 0,
    "start_time": "2025-01-12T03:14:33.266Z"
   },
   {
    "duration": 0,
    "start_time": "2025-01-12T03:14:33.267Z"
   },
   {
    "duration": 35,
    "start_time": "2025-01-12T03:15:50.250Z"
   },
   {
    "duration": 163,
    "start_time": "2025-01-12T03:15:59.506Z"
   },
   {
    "duration": 86,
    "start_time": "2025-01-12T03:15:59.671Z"
   },
   {
    "duration": 11,
    "start_time": "2025-01-12T03:15:59.760Z"
   },
   {
    "duration": 8,
    "start_time": "2025-01-12T03:15:59.773Z"
   },
   {
    "duration": 3,
    "start_time": "2025-01-12T03:15:59.783Z"
   },
   {
    "duration": 44,
    "start_time": "2025-01-12T03:15:59.789Z"
   },
   {
    "duration": 8,
    "start_time": "2025-01-12T03:15:59.835Z"
   },
   {
    "duration": 10,
    "start_time": "2025-01-12T03:15:59.845Z"
   },
   {
    "duration": 29,
    "start_time": "2025-01-12T03:15:59.857Z"
   },
   {
    "duration": 8,
    "start_time": "2025-01-12T03:15:59.889Z"
   },
   {
    "duration": 89,
    "start_time": "2025-01-12T03:15:59.899Z"
   },
   {
    "duration": 64,
    "start_time": "2025-01-12T03:15:59.990Z"
   },
   {
    "duration": 13,
    "start_time": "2025-01-12T03:16:00.056Z"
   },
   {
    "duration": 9,
    "start_time": "2025-01-12T03:16:00.071Z"
   },
   {
    "duration": 49,
    "start_time": "2025-01-12T03:16:00.082Z"
   },
   {
    "duration": 17,
    "start_time": "2025-01-12T03:16:00.133Z"
   },
   {
    "duration": 18,
    "start_time": "2025-01-12T03:16:00.152Z"
   },
   {
    "duration": 10,
    "start_time": "2025-01-12T03:16:00.172Z"
   },
   {
    "duration": 48,
    "start_time": "2025-01-12T03:16:00.183Z"
   },
   {
    "duration": 4,
    "start_time": "2025-01-12T03:16:00.233Z"
   },
   {
    "duration": 40,
    "start_time": "2025-01-12T03:16:00.239Z"
   },
   {
    "duration": 24,
    "start_time": "2025-01-12T03:16:00.281Z"
   },
   {
    "duration": 39,
    "start_time": "2025-01-12T03:16:00.307Z"
   },
   {
    "duration": 22,
    "start_time": "2025-01-12T03:16:00.348Z"
   },
   {
    "duration": 34,
    "start_time": "2025-01-12T03:16:00.372Z"
   },
   {
    "duration": 7,
    "start_time": "2025-01-12T03:16:00.432Z"
   },
   {
    "duration": 94,
    "start_time": "2025-01-12T03:16:00.441Z"
   },
   {
    "duration": 0,
    "start_time": "2025-01-12T03:16:00.538Z"
   },
   {
    "duration": 0,
    "start_time": "2025-01-12T03:16:00.539Z"
   },
   {
    "duration": 0,
    "start_time": "2025-01-12T03:16:00.541Z"
   },
   {
    "duration": 0,
    "start_time": "2025-01-12T03:16:00.542Z"
   },
   {
    "duration": 0,
    "start_time": "2025-01-12T03:16:00.544Z"
   },
   {
    "duration": 0,
    "start_time": "2025-01-12T03:16:00.545Z"
   },
   {
    "duration": 0,
    "start_time": "2025-01-12T03:16:00.547Z"
   },
   {
    "duration": 0,
    "start_time": "2025-01-12T03:16:00.548Z"
   },
   {
    "duration": 155,
    "start_time": "2025-01-12T03:16:10.167Z"
   },
   {
    "duration": 89,
    "start_time": "2025-01-12T03:16:12.999Z"
   },
   {
    "duration": 9,
    "start_time": "2025-01-12T03:16:17.505Z"
   },
   {
    "duration": 8,
    "start_time": "2025-01-12T03:16:20.536Z"
   },
   {
    "duration": 3,
    "start_time": "2025-01-12T03:16:24.694Z"
   },
   {
    "duration": 18,
    "start_time": "2025-01-12T03:16:27.539Z"
   },
   {
    "duration": 9,
    "start_time": "2025-01-12T03:16:33.287Z"
   },
   {
    "duration": 10,
    "start_time": "2025-01-12T03:16:41.833Z"
   },
   {
    "duration": 28,
    "start_time": "2025-01-12T03:16:49.637Z"
   },
   {
    "duration": 9,
    "start_time": "2025-01-12T03:16:53.376Z"
   },
   {
    "duration": 61,
    "start_time": "2025-01-12T03:16:58.348Z"
   },
   {
    "duration": 53,
    "start_time": "2025-01-12T03:17:02.864Z"
   },
   {
    "duration": 18,
    "start_time": "2025-01-12T03:17:08.328Z"
   },
   {
    "duration": 25,
    "start_time": "2025-01-12T03:17:13.586Z"
   },
   {
    "duration": 16,
    "start_time": "2025-01-12T03:17:17.797Z"
   },
   {
    "duration": 18,
    "start_time": "2025-01-12T03:17:21.820Z"
   },
   {
    "duration": 23,
    "start_time": "2025-01-12T03:17:26.154Z"
   },
   {
    "duration": 5,
    "start_time": "2025-01-12T03:17:32.626Z"
   },
   {
    "duration": 39,
    "start_time": "2025-01-12T03:17:35.985Z"
   },
   {
    "duration": 20,
    "start_time": "2025-01-12T03:17:44.069Z"
   },
   {
    "duration": 134,
    "start_time": "2025-01-12T03:17:47.683Z"
   },
   {
    "duration": 32,
    "start_time": "2025-01-12T03:17:52.312Z"
   },
   {
    "duration": 91,
    "start_time": "2025-01-12T03:17:57.442Z"
   },
   {
    "duration": 150,
    "start_time": "2025-01-12T03:33:37.378Z"
   },
   {
    "duration": 3,
    "start_time": "2025-01-12T03:33:45.424Z"
   },
   {
    "duration": 11,
    "start_time": "2025-01-12T03:35:17.687Z"
   },
   {
    "duration": 11,
    "start_time": "2025-01-12T03:37:03.915Z"
   },
   {
    "duration": 19,
    "start_time": "2025-01-12T03:37:12.239Z"
   },
   {
    "duration": 3,
    "start_time": "2025-01-12T03:37:38.508Z"
   },
   {
    "duration": 5,
    "start_time": "2025-01-12T03:50:05.746Z"
   },
   {
    "duration": 14,
    "start_time": "2025-01-12T03:50:41.767Z"
   },
   {
    "duration": 14,
    "start_time": "2025-01-12T03:51:34.424Z"
   },
   {
    "duration": 40,
    "start_time": "2025-01-12T03:51:46.185Z"
   },
   {
    "duration": 10,
    "start_time": "2025-01-12T03:51:51.411Z"
   },
   {
    "duration": 65,
    "start_time": "2025-01-12T03:51:56.589Z"
   },
   {
    "duration": 60,
    "start_time": "2025-01-12T03:52:01.614Z"
   },
   {
    "duration": 16,
    "start_time": "2025-01-12T03:52:22.081Z"
   },
   {
    "duration": 10,
    "start_time": "2025-01-12T03:52:27.508Z"
   },
   {
    "duration": 24,
    "start_time": "2025-01-12T03:52:33.426Z"
   },
   {
    "duration": 18,
    "start_time": "2025-01-12T03:54:33.054Z"
   },
   {
    "duration": 29,
    "start_time": "2025-01-12T03:56:46.679Z"
   },
   {
    "duration": 18,
    "start_time": "2025-01-12T03:56:55.649Z"
   },
   {
    "duration": 27,
    "start_time": "2025-01-12T03:57:47.461Z"
   },
   {
    "duration": 5,
    "start_time": "2025-01-12T03:57:58.995Z"
   },
   {
    "duration": 49,
    "start_time": "2025-01-12T03:58:04.065Z"
   },
   {
    "duration": 26,
    "start_time": "2025-01-12T03:58:13.989Z"
   },
   {
    "duration": 20,
    "start_time": "2025-01-12T03:58:18.660Z"
   },
   {
    "duration": 32,
    "start_time": "2025-01-12T03:58:23.403Z"
   },
   {
    "duration": 43,
    "start_time": "2025-01-12T03:58:28.304Z"
   },
   {
    "duration": 7,
    "start_time": "2025-01-12T03:58:33.058Z"
   },
   {
    "duration": 102,
    "start_time": "2025-01-12T03:58:37.610Z"
   },
   {
    "duration": 115,
    "start_time": "2025-01-12T04:00:28.052Z"
   },
   {
    "duration": 80,
    "start_time": "2025-01-12T04:02:09.149Z"
   },
   {
    "duration": 49,
    "start_time": "2025-01-12T04:03:56.783Z"
   },
   {
    "duration": 54,
    "start_time": "2025-01-12T04:04:50.207Z"
   },
   {
    "duration": 30,
    "start_time": "2025-01-12T04:05:04.624Z"
   },
   {
    "duration": 24,
    "start_time": "2025-01-12T04:05:16.870Z"
   },
   {
    "duration": 10,
    "start_time": "2025-01-12T04:05:28.848Z"
   },
   {
    "duration": 48,
    "start_time": "2025-01-12T04:05:35.084Z"
   },
   {
    "duration": 46,
    "start_time": "2025-01-12T04:06:17.288Z"
   },
   {
    "duration": 17,
    "start_time": "2025-01-12T04:06:36.605Z"
   },
   {
    "duration": 16,
    "start_time": "2025-01-12T04:06:41.917Z"
   },
   {
    "duration": 17,
    "start_time": "2025-01-12T04:06:45.251Z"
   },
   {
    "duration": 12,
    "start_time": "2025-01-12T04:06:50.724Z"
   },
   {
    "duration": 42,
    "start_time": "2025-01-12T04:06:56.389Z"
   },
   {
    "duration": 18,
    "start_time": "2025-01-12T04:07:11.373Z"
   },
   {
    "duration": 4,
    "start_time": "2025-01-12T04:07:17.972Z"
   },
   {
    "duration": 34,
    "start_time": "2025-01-12T04:07:23.212Z"
   },
   {
    "duration": 22,
    "start_time": "2025-01-12T04:07:26.297Z"
   },
   {
    "duration": 113,
    "start_time": "2025-01-12T04:07:32.097Z"
   },
   {
    "duration": 21,
    "start_time": "2025-01-12T04:07:36.897Z"
   },
   {
    "duration": 32,
    "start_time": "2025-01-12T04:07:42.328Z"
   },
   {
    "duration": 10,
    "start_time": "2025-01-12T04:07:55.185Z"
   },
   {
    "duration": 79,
    "start_time": "2025-01-12T04:08:02.855Z"
   },
   {
    "duration": 81,
    "start_time": "2025-01-12T04:09:28.274Z"
   },
   {
    "duration": 2363,
    "start_time": "2025-01-12T19:23:41.489Z"
   },
   {
    "duration": 271,
    "start_time": "2025-01-12T19:23:43.854Z"
   },
   {
    "duration": 12,
    "start_time": "2025-01-12T19:23:44.127Z"
   },
   {
    "duration": 10,
    "start_time": "2025-01-12T19:23:44.141Z"
   },
   {
    "duration": 3,
    "start_time": "2025-01-12T19:23:44.152Z"
   },
   {
    "duration": 16,
    "start_time": "2025-01-12T19:23:44.156Z"
   },
   {
    "duration": 8,
    "start_time": "2025-01-12T19:23:44.175Z"
   },
   {
    "duration": 24,
    "start_time": "2025-01-12T19:23:44.185Z"
   },
   {
    "duration": 12,
    "start_time": "2025-01-12T19:23:44.211Z"
   },
   {
    "duration": 30,
    "start_time": "2025-01-12T19:23:44.226Z"
   },
   {
    "duration": 8,
    "start_time": "2025-01-12T19:23:44.258Z"
   },
   {
    "duration": 87,
    "start_time": "2025-01-12T19:23:44.267Z"
   },
   {
    "duration": 30,
    "start_time": "2025-01-12T19:23:44.356Z"
   },
   {
    "duration": 25,
    "start_time": "2025-01-12T19:23:44.388Z"
   },
   {
    "duration": 8,
    "start_time": "2025-01-12T19:23:44.414Z"
   },
   {
    "duration": 22,
    "start_time": "2025-01-12T19:23:44.424Z"
   },
   {
    "duration": 14,
    "start_time": "2025-01-12T19:23:44.448Z"
   },
   {
    "duration": 18,
    "start_time": "2025-01-12T19:23:44.464Z"
   },
   {
    "duration": 33,
    "start_time": "2025-01-12T19:23:44.483Z"
   },
   {
    "duration": 22,
    "start_time": "2025-01-12T19:23:44.518Z"
   },
   {
    "duration": 4,
    "start_time": "2025-01-12T19:23:44.541Z"
   },
   {
    "duration": 69,
    "start_time": "2025-01-12T19:23:44.547Z"
   },
   {
    "duration": 23,
    "start_time": "2025-01-12T19:23:44.618Z"
   },
   {
    "duration": 19,
    "start_time": "2025-01-12T19:23:44.642Z"
   },
   {
    "duration": 21,
    "start_time": "2025-01-12T19:23:44.662Z"
   },
   {
    "duration": 52,
    "start_time": "2025-01-12T19:23:44.685Z"
   },
   {
    "duration": 7,
    "start_time": "2025-01-12T19:23:44.739Z"
   },
   {
    "duration": 834,
    "start_time": "2025-01-12T19:23:44.751Z"
   },
   {
    "duration": 0,
    "start_time": "2025-01-12T19:23:45.587Z"
   },
   {
    "duration": 0,
    "start_time": "2025-01-12T19:23:45.589Z"
   },
   {
    "duration": 0,
    "start_time": "2025-01-12T19:23:45.590Z"
   },
   {
    "duration": 0,
    "start_time": "2025-01-12T19:23:45.592Z"
   },
   {
    "duration": 0,
    "start_time": "2025-01-12T19:23:45.594Z"
   },
   {
    "duration": 0,
    "start_time": "2025-01-12T19:23:45.594Z"
   },
   {
    "duration": 0,
    "start_time": "2025-01-12T19:23:45.609Z"
   },
   {
    "duration": 0,
    "start_time": "2025-01-12T19:23:45.610Z"
   },
   {
    "duration": 6,
    "start_time": "2025-01-12T19:33:51.721Z"
   },
   {
    "duration": 148,
    "start_time": "2025-01-12T19:34:05.976Z"
   },
   {
    "duration": 5,
    "start_time": "2025-01-12T19:34:42.893Z"
   },
   {
    "duration": 371,
    "start_time": "2025-01-12T19:35:28.504Z"
   },
   {
    "duration": 3,
    "start_time": "2025-01-12T19:35:50.595Z"
   },
   {
    "duration": 172,
    "start_time": "2025-01-12T19:35:50.600Z"
   },
   {
    "duration": 11,
    "start_time": "2025-01-12T19:35:50.774Z"
   },
   {
    "duration": 7,
    "start_time": "2025-01-12T19:35:50.787Z"
   },
   {
    "duration": 12,
    "start_time": "2025-01-12T19:35:50.797Z"
   },
   {
    "duration": 19,
    "start_time": "2025-01-12T19:35:50.811Z"
   },
   {
    "duration": 8,
    "start_time": "2025-01-12T19:35:50.832Z"
   },
   {
    "duration": 3,
    "start_time": "2025-01-12T19:35:50.843Z"
   },
   {
    "duration": 12,
    "start_time": "2025-01-12T19:35:50.847Z"
   },
   {
    "duration": 54,
    "start_time": "2025-01-12T19:35:50.861Z"
   },
   {
    "duration": 9,
    "start_time": "2025-01-12T19:35:50.919Z"
   },
   {
    "duration": 55,
    "start_time": "2025-01-12T19:35:50.929Z"
   },
   {
    "duration": 44,
    "start_time": "2025-01-12T19:35:50.986Z"
   },
   {
    "duration": 12,
    "start_time": "2025-01-12T19:35:51.031Z"
   },
   {
    "duration": 9,
    "start_time": "2025-01-12T19:35:51.045Z"
   },
   {
    "duration": 23,
    "start_time": "2025-01-12T19:35:51.055Z"
   },
   {
    "duration": 16,
    "start_time": "2025-01-12T19:35:51.109Z"
   },
   {
    "duration": 18,
    "start_time": "2025-01-12T19:35:51.127Z"
   },
   {
    "duration": 8,
    "start_time": "2025-01-12T19:35:51.147Z"
   },
   {
    "duration": 24,
    "start_time": "2025-01-12T19:35:51.157Z"
   },
   {
    "duration": 5,
    "start_time": "2025-01-12T19:35:51.208Z"
   },
   {
    "duration": 36,
    "start_time": "2025-01-12T19:35:51.215Z"
   },
   {
    "duration": 22,
    "start_time": "2025-01-12T19:35:51.253Z"
   },
   {
    "duration": 39,
    "start_time": "2025-01-12T19:35:51.276Z"
   },
   {
    "duration": 21,
    "start_time": "2025-01-12T19:35:51.317Z"
   },
   {
    "duration": 5,
    "start_time": "2025-01-12T19:35:51.340Z"
   },
   {
    "duration": 0,
    "start_time": "2025-01-12T19:35:51.346Z"
   },
   {
    "duration": 0,
    "start_time": "2025-01-12T19:35:51.348Z"
   },
   {
    "duration": 0,
    "start_time": "2025-01-12T19:35:51.349Z"
   },
   {
    "duration": 0,
    "start_time": "2025-01-12T19:35:51.351Z"
   },
   {
    "duration": 0,
    "start_time": "2025-01-12T19:35:51.352Z"
   },
   {
    "duration": 0,
    "start_time": "2025-01-12T19:35:51.354Z"
   },
   {
    "duration": 0,
    "start_time": "2025-01-12T19:35:51.355Z"
   },
   {
    "duration": 0,
    "start_time": "2025-01-12T19:35:51.357Z"
   },
   {
    "duration": 0,
    "start_time": "2025-01-12T19:35:51.358Z"
   },
   {
    "duration": 0,
    "start_time": "2025-01-12T19:35:51.360Z"
   },
   {
    "duration": 33,
    "start_time": "2025-01-12T19:36:10.199Z"
   },
   {
    "duration": 8,
    "start_time": "2025-01-12T19:36:14.750Z"
   },
   {
    "duration": 157,
    "start_time": "2025-01-12T23:35:49.453Z"
   },
   {
    "duration": 14,
    "start_time": "2025-01-12T23:37:00.424Z"
   },
   {
    "duration": 3314,
    "start_time": "2025-01-12T23:37:06.500Z"
   },
   {
    "duration": 295,
    "start_time": "2025-01-12T23:37:09.819Z"
   },
   {
    "duration": 10,
    "start_time": "2025-01-12T23:37:13.528Z"
   },
   {
    "duration": 6,
    "start_time": "2025-01-12T23:37:48.645Z"
   },
   {
    "duration": 11,
    "start_time": "2025-01-12T23:42:52.100Z"
   },
   {
    "duration": 12,
    "start_time": "2025-01-12T23:44:14.602Z"
   },
   {
    "duration": 11,
    "start_time": "2025-01-12T23:44:45.304Z"
   },
   {
    "duration": 12,
    "start_time": "2025-01-12T23:45:06.305Z"
   },
   {
    "duration": 7,
    "start_time": "2025-01-12T23:47:29.021Z"
   },
   {
    "duration": 10,
    "start_time": "2025-01-12T23:47:32.475Z"
   },
   {
    "duration": 18,
    "start_time": "2025-01-12T23:48:05.327Z"
   },
   {
    "duration": 9,
    "start_time": "2025-01-12T23:48:17.757Z"
   },
   {
    "duration": 68,
    "start_time": "2025-01-12T23:49:27.610Z"
   },
   {
    "duration": 14,
    "start_time": "2025-01-12T23:50:25.328Z"
   },
   {
    "duration": 9,
    "start_time": "2025-01-12T23:50:33.618Z"
   },
   {
    "duration": 21,
    "start_time": "2025-01-12T23:51:00.705Z"
   },
   {
    "duration": 354,
    "start_time": "2025-01-12T23:51:47.729Z"
   },
   {
    "duration": 20,
    "start_time": "2025-01-12T23:52:43.376Z"
   },
   {
    "duration": 8,
    "start_time": "2025-01-12T23:52:48.266Z"
   },
   {
    "duration": 59,
    "start_time": "2025-01-12T23:53:11.698Z"
   },
   {
    "duration": 5,
    "start_time": "2025-01-12T23:53:31.581Z"
   },
   {
    "duration": 429,
    "start_time": "2025-01-12T23:53:58.789Z"
   },
   {
    "duration": 44,
    "start_time": "2025-01-12T23:54:05.640Z"
   },
   {
    "duration": 5,
    "start_time": "2025-01-12T23:55:29.490Z"
   },
   {
    "duration": 61,
    "start_time": "2025-01-12T23:55:44.212Z"
   },
   {
    "duration": 3,
    "start_time": "2025-01-12T23:57:04.349Z"
   },
   {
    "duration": 42,
    "start_time": "2025-01-12T23:57:14.944Z"
   },
   {
    "duration": 10,
    "start_time": "2025-01-12T23:58:05.149Z"
   },
   {
    "duration": 5,
    "start_time": "2025-01-12T23:58:27.654Z"
   },
   {
    "duration": 20,
    "start_time": "2025-01-12T23:58:44.336Z"
   },
   {
    "duration": 16,
    "start_time": "2025-01-12T23:58:52.176Z"
   },
   {
    "duration": 14,
    "start_time": "2025-01-12T23:58:56.001Z"
   },
   {
    "duration": 5,
    "start_time": "2025-01-12T23:59:00.405Z"
   },
   {
    "duration": 4,
    "start_time": "2025-01-12T23:59:21.870Z"
   },
   {
    "duration": 125,
    "start_time": "2025-01-12T23:59:37.722Z"
   },
   {
    "duration": 44,
    "start_time": "2025-01-12T23:59:43.264Z"
   },
   {
    "duration": 5,
    "start_time": "2025-01-13T00:00:01.951Z"
   },
   {
    "duration": 19,
    "start_time": "2025-01-13T00:00:21.533Z"
   },
   {
    "duration": 12,
    "start_time": "2025-01-13T00:00:25.144Z"
   },
   {
    "duration": 6,
    "start_time": "2025-01-13T00:00:47.247Z"
   },
   {
    "duration": 4,
    "start_time": "2025-01-13T00:00:58.736Z"
   },
   {
    "duration": 203,
    "start_time": "2025-01-13T00:00:58.748Z"
   },
   {
    "duration": 8,
    "start_time": "2025-01-13T00:00:58.953Z"
   },
   {
    "duration": 6,
    "start_time": "2025-01-13T00:00:58.964Z"
   },
   {
    "duration": 11,
    "start_time": "2025-01-13T00:00:58.972Z"
   },
   {
    "duration": 12,
    "start_time": "2025-01-13T00:00:58.985Z"
   },
   {
    "duration": 5,
    "start_time": "2025-01-13T00:00:58.999Z"
   },
   {
    "duration": 41,
    "start_time": "2025-01-13T00:00:59.006Z"
   },
   {
    "duration": 8,
    "start_time": "2025-01-13T00:00:59.052Z"
   },
   {
    "duration": 16,
    "start_time": "2025-01-13T00:00:59.062Z"
   },
   {
    "duration": 4,
    "start_time": "2025-01-13T00:00:59.081Z"
   },
   {
    "duration": 51,
    "start_time": "2025-01-13T00:00:59.086Z"
   },
   {
    "duration": 69,
    "start_time": "2025-01-13T00:00:59.148Z"
   },
   {
    "duration": 32,
    "start_time": "2025-01-13T00:00:59.219Z"
   },
   {
    "duration": 4,
    "start_time": "2025-01-13T00:00:59.256Z"
   },
   {
    "duration": 15,
    "start_time": "2025-01-13T00:00:59.262Z"
   },
   {
    "duration": 14,
    "start_time": "2025-01-13T00:00:59.279Z"
   },
   {
    "duration": 5,
    "start_time": "2025-01-13T00:00:59.294Z"
   },
   {
    "duration": 54,
    "start_time": "2025-01-13T00:00:59.301Z"
   },
   {
    "duration": 3,
    "start_time": "2025-01-13T00:00:59.356Z"
   },
   {
    "duration": 41,
    "start_time": "2025-01-13T00:00:59.361Z"
   },
   {
    "duration": 0,
    "start_time": "2025-01-13T00:00:59.404Z"
   },
   {
    "duration": 0,
    "start_time": "2025-01-13T00:00:59.405Z"
   },
   {
    "duration": 0,
    "start_time": "2025-01-13T00:00:59.406Z"
   },
   {
    "duration": 0,
    "start_time": "2025-01-13T00:00:59.407Z"
   },
   {
    "duration": 0,
    "start_time": "2025-01-13T00:00:59.408Z"
   },
   {
    "duration": 0,
    "start_time": "2025-01-13T00:00:59.409Z"
   },
   {
    "duration": 0,
    "start_time": "2025-01-13T00:00:59.410Z"
   },
   {
    "duration": 0,
    "start_time": "2025-01-13T00:00:59.429Z"
   },
   {
    "duration": 0,
    "start_time": "2025-01-13T00:00:59.430Z"
   },
   {
    "duration": 0,
    "start_time": "2025-01-13T00:00:59.430Z"
   },
   {
    "duration": 0,
    "start_time": "2025-01-13T00:00:59.431Z"
   },
   {
    "duration": 0,
    "start_time": "2025-01-13T00:00:59.432Z"
   },
   {
    "duration": 0,
    "start_time": "2025-01-13T00:00:59.433Z"
   },
   {
    "duration": 0,
    "start_time": "2025-01-13T00:00:59.433Z"
   },
   {
    "duration": 3,
    "start_time": "2025-01-13T00:01:20.581Z"
   },
   {
    "duration": 7,
    "start_time": "2025-01-13T00:02:29.680Z"
   },
   {
    "duration": 42,
    "start_time": "2025-01-13T00:02:34.572Z"
   },
   {
    "duration": 42,
    "start_time": "2025-01-13T00:03:03.149Z"
   },
   {
    "duration": 62,
    "start_time": "2025-01-13T00:03:45.401Z"
   },
   {
    "duration": 70,
    "start_time": "2025-01-13T00:05:00.912Z"
   },
   {
    "duration": 39,
    "start_time": "2025-01-13T00:05:39.850Z"
   },
   {
    "duration": 6,
    "start_time": "2025-01-13T00:05:43.684Z"
   },
   {
    "duration": 44,
    "start_time": "2025-01-13T00:05:47.266Z"
   },
   {
    "duration": 61,
    "start_time": "2025-01-13T00:05:53.396Z"
   },
   {
    "duration": 19,
    "start_time": "2025-01-13T00:05:59.043Z"
   },
   {
    "duration": 25,
    "start_time": "2025-01-13T00:06:04.137Z"
   },
   {
    "duration": 19,
    "start_time": "2025-01-13T00:06:08.943Z"
   },
   {
    "duration": 10,
    "start_time": "2025-01-13T00:07:05.400Z"
   },
   {
    "duration": 165,
    "start_time": "2025-01-13T00:07:05.413Z"
   },
   {
    "duration": 9,
    "start_time": "2025-01-13T00:07:05.580Z"
   },
   {
    "duration": 5,
    "start_time": "2025-01-13T00:07:05.591Z"
   },
   {
    "duration": 26,
    "start_time": "2025-01-13T00:07:05.598Z"
   },
   {
    "duration": 12,
    "start_time": "2025-01-13T00:07:05.626Z"
   },
   {
    "duration": 5,
    "start_time": "2025-01-13T00:07:05.639Z"
   },
   {
    "duration": 9,
    "start_time": "2025-01-13T00:07:05.646Z"
   },
   {
    "duration": 7,
    "start_time": "2025-01-13T00:07:05.658Z"
   },
   {
    "duration": 15,
    "start_time": "2025-01-13T00:07:05.667Z"
   },
   {
    "duration": 5,
    "start_time": "2025-01-13T00:07:05.684Z"
   },
   {
    "duration": 46,
    "start_time": "2025-01-13T00:07:05.725Z"
   },
   {
    "duration": 104,
    "start_time": "2025-01-13T00:07:05.774Z"
   },
   {
    "duration": 13,
    "start_time": "2025-01-13T00:07:05.880Z"
   },
   {
    "duration": 4,
    "start_time": "2025-01-13T00:07:05.895Z"
   },
   {
    "duration": 37,
    "start_time": "2025-01-13T00:07:05.900Z"
   },
   {
    "duration": 13,
    "start_time": "2025-01-13T00:07:05.939Z"
   },
   {
    "duration": 4,
    "start_time": "2025-01-13T00:07:05.954Z"
   },
   {
    "duration": 32,
    "start_time": "2025-01-13T00:07:05.960Z"
   },
   {
    "duration": 7,
    "start_time": "2025-01-13T00:07:05.994Z"
   },
   {
    "duration": 43,
    "start_time": "2025-01-13T00:07:06.025Z"
   },
   {
    "duration": 0,
    "start_time": "2025-01-13T00:07:06.070Z"
   },
   {
    "duration": 0,
    "start_time": "2025-01-13T00:07:06.072Z"
   },
   {
    "duration": 0,
    "start_time": "2025-01-13T00:07:06.073Z"
   },
   {
    "duration": 0,
    "start_time": "2025-01-13T00:07:06.075Z"
   },
   {
    "duration": 0,
    "start_time": "2025-01-13T00:07:06.076Z"
   },
   {
    "duration": 0,
    "start_time": "2025-01-13T00:07:06.078Z"
   },
   {
    "duration": 0,
    "start_time": "2025-01-13T00:07:06.079Z"
   },
   {
    "duration": 0,
    "start_time": "2025-01-13T00:07:06.080Z"
   },
   {
    "duration": 0,
    "start_time": "2025-01-13T00:07:06.082Z"
   },
   {
    "duration": 0,
    "start_time": "2025-01-13T00:07:06.083Z"
   },
   {
    "duration": 0,
    "start_time": "2025-01-13T00:07:06.084Z"
   },
   {
    "duration": 0,
    "start_time": "2025-01-13T00:07:06.085Z"
   },
   {
    "duration": 0,
    "start_time": "2025-01-13T00:07:06.086Z"
   },
   {
    "duration": 0,
    "start_time": "2025-01-13T00:07:06.087Z"
   },
   {
    "duration": 5,
    "start_time": "2025-01-13T00:07:15.824Z"
   },
   {
    "duration": 157,
    "start_time": "2025-01-13T00:07:18.464Z"
   },
   {
    "duration": 11,
    "start_time": "2025-01-13T00:07:27.062Z"
   },
   {
    "duration": 7,
    "start_time": "2025-01-13T00:07:30.441Z"
   },
   {
    "duration": 10,
    "start_time": "2025-01-13T00:07:35.840Z"
   },
   {
    "duration": 11,
    "start_time": "2025-01-13T00:08:02.628Z"
   },
   {
    "duration": 7,
    "start_time": "2025-01-13T00:08:07.625Z"
   },
   {
    "duration": 10,
    "start_time": "2025-01-13T00:08:15.606Z"
   },
   {
    "duration": 7,
    "start_time": "2025-01-13T00:08:24.702Z"
   },
   {
    "duration": 20,
    "start_time": "2025-01-13T00:08:33.289Z"
   },
   {
    "duration": 16,
    "start_time": "2025-01-13T00:08:50.537Z"
   },
   {
    "duration": 5,
    "start_time": "2025-01-13T00:08:54.456Z"
   },
   {
    "duration": 40,
    "start_time": "2025-01-13T00:08:58.586Z"
   },
   {
    "duration": 80,
    "start_time": "2025-01-13T00:09:03.111Z"
   },
   {
    "duration": 16,
    "start_time": "2025-01-13T00:09:09.459Z"
   },
   {
    "duration": 6,
    "start_time": "2025-01-13T00:09:14.077Z"
   },
   {
    "duration": 17,
    "start_time": "2025-01-13T00:09:19.008Z"
   },
   {
    "duration": 15,
    "start_time": "2025-01-13T00:09:23.750Z"
   },
   {
    "duration": 6,
    "start_time": "2025-01-13T00:09:27.697Z"
   },
   {
    "duration": 34,
    "start_time": "2025-01-13T00:09:34.345Z"
   },
   {
    "duration": 7,
    "start_time": "2025-01-13T00:09:42.408Z"
   },
   {
    "duration": 59,
    "start_time": "2025-01-13T00:09:48.548Z"
   },
   {
    "duration": 40,
    "start_time": "2025-01-13T00:09:54.632Z"
   },
   {
    "duration": 24,
    "start_time": "2025-01-13T00:10:00.210Z"
   },
   {
    "duration": 38,
    "start_time": "2025-01-13T00:10:04.051Z"
   },
   {
    "duration": 44,
    "start_time": "2025-01-13T00:13:53.352Z"
   },
   {
    "duration": 36,
    "start_time": "2025-01-13T00:14:44.898Z"
   },
   {
    "duration": 38,
    "start_time": "2025-01-13T00:16:06.651Z"
   },
   {
    "duration": 45,
    "start_time": "2025-01-13T00:18:02.543Z"
   },
   {
    "duration": 29,
    "start_time": "2025-01-13T00:18:50.701Z"
   },
   {
    "duration": 29,
    "start_time": "2025-01-13T00:19:08.831Z"
   },
   {
    "duration": 263,
    "start_time": "2025-01-13T00:21:11.006Z"
   },
   {
    "duration": 37,
    "start_time": "2025-01-13T00:22:03.442Z"
   },
   {
    "duration": 13,
    "start_time": "2025-01-13T00:22:15.566Z"
   },
   {
    "duration": 119,
    "start_time": "2025-01-13T00:22:30.643Z"
   },
   {
    "duration": 10,
    "start_time": "2025-01-13T00:23:37.168Z"
   },
   {
    "duration": 9,
    "start_time": "2025-01-13T00:24:05.589Z"
   },
   {
    "duration": 147,
    "start_time": "2025-01-13T00:24:33.433Z"
   },
   {
    "duration": 3,
    "start_time": "2025-01-13T00:25:06.627Z"
   },
   {
    "duration": 162,
    "start_time": "2025-01-13T00:25:06.632Z"
   },
   {
    "duration": 9,
    "start_time": "2025-01-13T00:25:06.795Z"
   },
   {
    "duration": 5,
    "start_time": "2025-01-13T00:25:06.806Z"
   },
   {
    "duration": 11,
    "start_time": "2025-01-13T00:25:06.824Z"
   },
   {
    "duration": 10,
    "start_time": "2025-01-13T00:25:06.837Z"
   },
   {
    "duration": 5,
    "start_time": "2025-01-13T00:25:06.849Z"
   },
   {
    "duration": 10,
    "start_time": "2025-01-13T00:25:06.856Z"
   },
   {
    "duration": 8,
    "start_time": "2025-01-13T00:25:06.867Z"
   },
   {
    "duration": 54,
    "start_time": "2025-01-13T00:25:06.876Z"
   },
   {
    "duration": 6,
    "start_time": "2025-01-13T00:25:06.931Z"
   },
   {
    "duration": 42,
    "start_time": "2025-01-13T00:25:06.939Z"
   },
   {
    "duration": 92,
    "start_time": "2025-01-13T00:25:06.983Z"
   },
   {
    "duration": 13,
    "start_time": "2025-01-13T00:25:07.080Z"
   },
   {
    "duration": 4,
    "start_time": "2025-01-13T00:25:07.095Z"
   },
   {
    "duration": 39,
    "start_time": "2025-01-13T00:25:07.101Z"
   },
   {
    "duration": 16,
    "start_time": "2025-01-13T00:25:07.142Z"
   },
   {
    "duration": 5,
    "start_time": "2025-01-13T00:25:07.160Z"
   },
   {
    "duration": 58,
    "start_time": "2025-01-13T00:25:07.166Z"
   },
   {
    "duration": 7,
    "start_time": "2025-01-13T00:25:07.225Z"
   },
   {
    "duration": 33,
    "start_time": "2025-01-13T00:25:07.234Z"
   },
   {
    "duration": 10,
    "start_time": "2025-01-13T00:25:07.269Z"
   },
   {
    "duration": 63,
    "start_time": "2025-01-13T00:25:07.281Z"
   },
   {
    "duration": 0,
    "start_time": "2025-01-13T00:25:07.346Z"
   },
   {
    "duration": 0,
    "start_time": "2025-01-13T00:25:07.347Z"
   },
   {
    "duration": 0,
    "start_time": "2025-01-13T00:25:07.348Z"
   },
   {
    "duration": 0,
    "start_time": "2025-01-13T00:25:07.349Z"
   },
   {
    "duration": 0,
    "start_time": "2025-01-13T00:25:07.350Z"
   },
   {
    "duration": 0,
    "start_time": "2025-01-13T00:25:07.352Z"
   },
   {
    "duration": 0,
    "start_time": "2025-01-13T00:25:07.354Z"
   },
   {
    "duration": 0,
    "start_time": "2025-01-13T00:25:07.356Z"
   },
   {
    "duration": 0,
    "start_time": "2025-01-13T00:25:07.357Z"
   },
   {
    "duration": 0,
    "start_time": "2025-01-13T00:25:07.359Z"
   },
   {
    "duration": 0,
    "start_time": "2025-01-13T00:25:07.360Z"
   },
   {
    "duration": 0,
    "start_time": "2025-01-13T00:25:07.361Z"
   },
   {
    "duration": 50,
    "start_time": "2025-01-13T00:25:20.867Z"
   },
   {
    "duration": 49,
    "start_time": "2025-01-13T00:26:06.792Z"
   },
   {
    "duration": 42,
    "start_time": "2025-01-13T00:26:36.602Z"
   },
   {
    "duration": 42,
    "start_time": "2025-01-13T00:26:44.177Z"
   },
   {
    "duration": 12,
    "start_time": "2025-01-13T00:26:54.966Z"
   },
   {
    "duration": 52,
    "start_time": "2025-01-13T00:27:03.834Z"
   },
   {
    "duration": 34,
    "start_time": "2025-01-13T00:28:10.918Z"
   },
   {
    "duration": 10,
    "start_time": "2025-01-13T00:28:16.068Z"
   },
   {
    "duration": 28,
    "start_time": "2025-01-13T00:28:29.145Z"
   },
   {
    "duration": 83,
    "start_time": "2025-01-13T00:30:15.125Z"
   },
   {
    "duration": 49,
    "start_time": "2025-01-13T00:30:52.493Z"
   },
   {
    "duration": 21,
    "start_time": "2025-01-13T00:31:43.047Z"
   },
   {
    "duration": 21,
    "start_time": "2025-01-13T00:31:53.168Z"
   },
   {
    "duration": 10,
    "start_time": "2025-01-13T00:32:54.335Z"
   },
   {
    "duration": 20,
    "start_time": "2025-01-13T00:32:59.700Z"
   },
   {
    "duration": 24,
    "start_time": "2025-01-13T00:35:08.644Z"
   },
   {
    "duration": 14,
    "start_time": "2025-01-13T00:35:14.853Z"
   },
   {
    "duration": 12,
    "start_time": "2025-01-13T00:35:44.837Z"
   },
   {
    "duration": 46,
    "start_time": "2025-01-13T00:36:36.953Z"
   },
   {
    "duration": 24,
    "start_time": "2025-01-13T00:37:12.268Z"
   },
   {
    "duration": 3,
    "start_time": "2025-01-13T00:37:16.033Z"
   },
   {
    "duration": 156,
    "start_time": "2025-01-13T00:37:16.038Z"
   },
   {
    "duration": 8,
    "start_time": "2025-01-13T00:37:16.197Z"
   },
   {
    "duration": 5,
    "start_time": "2025-01-13T00:37:16.207Z"
   },
   {
    "duration": 9,
    "start_time": "2025-01-13T00:37:16.224Z"
   },
   {
    "duration": 9,
    "start_time": "2025-01-13T00:37:16.235Z"
   },
   {
    "duration": 4,
    "start_time": "2025-01-13T00:37:16.246Z"
   },
   {
    "duration": 10,
    "start_time": "2025-01-13T00:37:16.252Z"
   },
   {
    "duration": 7,
    "start_time": "2025-01-13T00:37:16.264Z"
   },
   {
    "duration": 14,
    "start_time": "2025-01-13T00:37:16.274Z"
   },
   {
    "duration": 4,
    "start_time": "2025-01-13T00:37:16.326Z"
   },
   {
    "duration": 40,
    "start_time": "2025-01-13T00:37:16.331Z"
   },
   {
    "duration": 84,
    "start_time": "2025-01-13T00:37:16.373Z"
   },
   {
    "duration": 12,
    "start_time": "2025-01-13T00:37:16.458Z"
   },
   {
    "duration": 4,
    "start_time": "2025-01-13T00:37:16.472Z"
   },
   {
    "duration": 16,
    "start_time": "2025-01-13T00:37:16.478Z"
   },
   {
    "duration": 40,
    "start_time": "2025-01-13T00:37:16.495Z"
   },
   {
    "duration": 6,
    "start_time": "2025-01-13T00:37:16.536Z"
   },
   {
    "duration": 33,
    "start_time": "2025-01-13T00:37:16.544Z"
   },
   {
    "duration": 7,
    "start_time": "2025-01-13T00:37:16.579Z"
   },
   {
    "duration": 59,
    "start_time": "2025-01-13T00:37:16.588Z"
   },
   {
    "duration": 12,
    "start_time": "2025-01-13T00:37:16.649Z"
   },
   {
    "duration": 20,
    "start_time": "2025-01-13T00:37:16.663Z"
   },
   {
    "duration": 43,
    "start_time": "2025-01-13T00:37:16.685Z"
   },
   {
    "duration": 15,
    "start_time": "2025-01-13T00:37:16.730Z"
   },
   {
    "duration": 12,
    "start_time": "2025-01-13T00:37:16.747Z"
   },
   {
    "duration": 70,
    "start_time": "2025-01-13T00:37:16.761Z"
   },
   {
    "duration": 0,
    "start_time": "2025-01-13T00:37:16.833Z"
   },
   {
    "duration": 0,
    "start_time": "2025-01-13T00:37:16.834Z"
   },
   {
    "duration": 0,
    "start_time": "2025-01-13T00:37:16.834Z"
   },
   {
    "duration": 0,
    "start_time": "2025-01-13T00:37:16.836Z"
   },
   {
    "duration": 0,
    "start_time": "2025-01-13T00:37:16.837Z"
   },
   {
    "duration": 0,
    "start_time": "2025-01-13T00:37:16.838Z"
   },
   {
    "duration": 0,
    "start_time": "2025-01-13T00:37:16.839Z"
   },
   {
    "duration": 0,
    "start_time": "2025-01-13T00:37:16.840Z"
   },
   {
    "duration": 4,
    "start_time": "2025-01-13T00:37:26.384Z"
   },
   {
    "duration": 153,
    "start_time": "2025-01-13T00:37:29.312Z"
   },
   {
    "duration": 10,
    "start_time": "2025-01-13T00:37:39.884Z"
   },
   {
    "duration": 6,
    "start_time": "2025-01-13T00:37:43.288Z"
   },
   {
    "duration": 11,
    "start_time": "2025-01-13T00:37:48.840Z"
   },
   {
    "duration": 10,
    "start_time": "2025-01-13T00:37:54.029Z"
   },
   {
    "duration": 5,
    "start_time": "2025-01-13T00:37:58.700Z"
   },
   {
    "duration": 10,
    "start_time": "2025-01-13T00:38:03.036Z"
   },
   {
    "duration": 7,
    "start_time": "2025-01-13T00:38:07.113Z"
   },
   {
    "duration": 15,
    "start_time": "2025-01-13T00:38:12.103Z"
   },
   {
    "duration": 5,
    "start_time": "2025-01-13T00:38:16.576Z"
   },
   {
    "duration": 38,
    "start_time": "2025-01-13T00:38:22.013Z"
   },
   {
    "duration": 70,
    "start_time": "2025-01-13T00:38:25.630Z"
   },
   {
    "duration": 13,
    "start_time": "2025-01-13T00:38:32.338Z"
   },
   {
    "duration": 4,
    "start_time": "2025-01-13T00:38:36.237Z"
   },
   {
    "duration": 17,
    "start_time": "2025-01-13T00:38:40.356Z"
   },
   {
    "duration": 14,
    "start_time": "2025-01-13T00:38:44.941Z"
   },
   {
    "duration": 5,
    "start_time": "2025-01-13T00:38:48.573Z"
   },
   {
    "duration": 32,
    "start_time": "2025-01-13T00:38:52.353Z"
   },
   {
    "duration": 6,
    "start_time": "2025-01-13T00:38:56.616Z"
   },
   {
    "duration": 36,
    "start_time": "2025-01-13T00:39:01.428Z"
   },
   {
    "duration": 15,
    "start_time": "2025-01-13T00:39:06.856Z"
   },
   {
    "duration": 22,
    "start_time": "2025-01-13T00:39:10.156Z"
   },
   {
    "duration": 27,
    "start_time": "2025-01-13T00:39:12.925Z"
   },
   {
    "duration": 15,
    "start_time": "2025-01-13T00:39:16.278Z"
   },
   {
    "duration": 65,
    "start_time": "2025-01-13T00:39:21.864Z"
   },
   {
    "duration": 15,
    "start_time": "2025-01-13T00:42:27.441Z"
   },
   {
    "duration": 16,
    "start_time": "2025-01-13T00:44:33.187Z"
   },
   {
    "duration": 20,
    "start_time": "2025-01-13T00:45:01.369Z"
   },
   {
    "duration": 20,
    "start_time": "2025-01-13T00:45:26.058Z"
   },
   {
    "duration": 54,
    "start_time": "2025-01-13T00:45:41.495Z"
   },
   {
    "duration": 47,
    "start_time": "2025-01-13T00:46:25.756Z"
   },
   {
    "duration": 14,
    "start_time": "2025-01-13T00:48:03.401Z"
   },
   {
    "duration": 47,
    "start_time": "2025-01-13T00:48:10.089Z"
   },
   {
    "duration": 3,
    "start_time": "2025-01-13T00:53:42.026Z"
   },
   {
    "duration": 6,
    "start_time": "2025-01-13T00:59:47.902Z"
   },
   {
    "duration": 4,
    "start_time": "2025-01-13T00:59:53.721Z"
   },
   {
    "duration": 43,
    "start_time": "2025-01-13T01:00:05.520Z"
   },
   {
    "duration": 19,
    "start_time": "2025-01-13T01:00:50.434Z"
   },
   {
    "duration": 21,
    "start_time": "2025-01-13T01:01:02.488Z"
   },
   {
    "duration": 20,
    "start_time": "2025-01-13T01:02:04.785Z"
   },
   {
    "duration": 23,
    "start_time": "2025-01-13T01:02:52.550Z"
   },
   {
    "duration": 21,
    "start_time": "2025-01-13T01:03:28.437Z"
   },
   {
    "duration": 21,
    "start_time": "2025-01-13T01:03:42.335Z"
   },
   {
    "duration": 12,
    "start_time": "2025-01-13T01:07:11.346Z"
   },
   {
    "duration": 23,
    "start_time": "2025-01-13T01:07:34.862Z"
   },
   {
    "duration": 14,
    "start_time": "2025-01-13T01:08:26.208Z"
   },
   {
    "duration": 15,
    "start_time": "2025-01-13T01:08:36.822Z"
   },
   {
    "duration": 121,
    "start_time": "2025-01-13T01:08:50.629Z"
   },
   {
    "duration": 20,
    "start_time": "2025-01-13T01:09:00.075Z"
   },
   {
    "duration": 5,
    "start_time": "2025-01-13T01:11:52.055Z"
   },
   {
    "duration": 21,
    "start_time": "2025-01-13T01:12:24.282Z"
   },
   {
    "duration": 22,
    "start_time": "2025-01-13T01:12:53.100Z"
   },
   {
    "duration": 22,
    "start_time": "2025-01-13T01:13:33.178Z"
   },
   {
    "duration": 21,
    "start_time": "2025-01-13T01:13:57.688Z"
   },
   {
    "duration": 54,
    "start_time": "2025-01-13T01:14:41.622Z"
   },
   {
    "duration": 44,
    "start_time": "2025-01-13T01:19:04.772Z"
   },
   {
    "duration": 43,
    "start_time": "2025-01-13T01:19:46.270Z"
   },
   {
    "duration": 4,
    "start_time": "2025-01-13T01:21:28.864Z"
   },
   {
    "duration": 4,
    "start_time": "2025-01-13T01:22:09.300Z"
   },
   {
    "duration": 51,
    "start_time": "2025-01-13T01:22:21.994Z"
   },
   {
    "duration": 45,
    "start_time": "2025-01-13T01:25:22.185Z"
   },
   {
    "duration": 126,
    "start_time": "2025-01-13T01:26:43.833Z"
   },
   {
    "duration": 5,
    "start_time": "2025-01-13T01:27:14.804Z"
   },
   {
    "duration": 4,
    "start_time": "2025-01-13T01:27:41.307Z"
   },
   {
    "duration": 4,
    "start_time": "2025-01-13T01:29:39.922Z"
   },
   {
    "duration": 6,
    "start_time": "2025-01-13T01:30:14.778Z"
   },
   {
    "duration": 4,
    "start_time": "2025-01-13T01:30:33.265Z"
   },
   {
    "duration": 3,
    "start_time": "2025-01-13T01:31:58.257Z"
   },
   {
    "duration": 48,
    "start_time": "2025-01-13T01:32:36.004Z"
   },
   {
    "duration": 43,
    "start_time": "2025-01-13T01:33:33.976Z"
   },
   {
    "duration": 49,
    "start_time": "2025-01-13T01:34:40.704Z"
   },
   {
    "duration": 4,
    "start_time": "2025-01-13T01:35:54.994Z"
   },
   {
    "duration": 5,
    "start_time": "2025-01-13T01:38:01.450Z"
   },
   {
    "duration": 41,
    "start_time": "2025-01-13T01:38:09.367Z"
   },
   {
    "duration": 3,
    "start_time": "2025-01-13T01:41:47.043Z"
   },
   {
    "duration": 59,
    "start_time": "2025-01-13T01:41:57.165Z"
   },
   {
    "duration": 8,
    "start_time": "2025-01-13T01:42:23.203Z"
   },
   {
    "duration": 5,
    "start_time": "2025-01-13T01:42:34.272Z"
   },
   {
    "duration": 5,
    "start_time": "2025-01-13T01:43:03.219Z"
   },
   {
    "duration": 4,
    "start_time": "2025-01-13T01:43:15.601Z"
   },
   {
    "duration": 5,
    "start_time": "2025-01-13T01:44:05.980Z"
   },
   {
    "duration": 20,
    "start_time": "2025-01-13T01:45:49.684Z"
   },
   {
    "duration": 19,
    "start_time": "2025-01-13T01:47:18.042Z"
   },
   {
    "duration": 22,
    "start_time": "2025-01-13T01:48:04.132Z"
   },
   {
    "duration": 3,
    "start_time": "2025-01-13T01:48:11.655Z"
   },
   {
    "duration": 158,
    "start_time": "2025-01-13T01:48:11.660Z"
   },
   {
    "duration": 8,
    "start_time": "2025-01-13T01:48:11.820Z"
   },
   {
    "duration": 5,
    "start_time": "2025-01-13T01:48:11.830Z"
   },
   {
    "duration": 10,
    "start_time": "2025-01-13T01:48:11.838Z"
   },
   {
    "duration": 10,
    "start_time": "2025-01-13T01:48:11.850Z"
   },
   {
    "duration": 5,
    "start_time": "2025-01-13T01:48:11.862Z"
   },
   {
    "duration": 9,
    "start_time": "2025-01-13T01:48:11.869Z"
   },
   {
    "duration": 7,
    "start_time": "2025-01-13T01:48:11.879Z"
   },
   {
    "duration": 15,
    "start_time": "2025-01-13T01:48:11.924Z"
   },
   {
    "duration": 4,
    "start_time": "2025-01-13T01:48:11.942Z"
   },
   {
    "duration": 40,
    "start_time": "2025-01-13T01:48:11.947Z"
   },
   {
    "duration": 88,
    "start_time": "2025-01-13T01:48:11.989Z"
   },
   {
    "duration": 12,
    "start_time": "2025-01-13T01:48:12.079Z"
   },
   {
    "duration": 4,
    "start_time": "2025-01-13T01:48:12.092Z"
   },
   {
    "duration": 41,
    "start_time": "2025-01-13T01:48:12.098Z"
   },
   {
    "duration": 14,
    "start_time": "2025-01-13T01:48:12.141Z"
   },
   {
    "duration": 4,
    "start_time": "2025-01-13T01:48:12.157Z"
   },
   {
    "duration": 31,
    "start_time": "2025-01-13T01:48:12.163Z"
   },
   {
    "duration": 29,
    "start_time": "2025-01-13T01:48:12.196Z"
   },
   {
    "duration": 34,
    "start_time": "2025-01-13T01:48:12.227Z"
   },
   {
    "duration": 10,
    "start_time": "2025-01-13T01:48:12.263Z"
   },
   {
    "duration": 21,
    "start_time": "2025-01-13T01:48:12.275Z"
   },
   {
    "duration": 56,
    "start_time": "2025-01-13T01:48:12.298Z"
   },
   {
    "duration": 15,
    "start_time": "2025-01-13T01:48:12.356Z"
   },
   {
    "duration": 14,
    "start_time": "2025-01-13T01:48:12.372Z"
   },
   {
    "duration": 38,
    "start_time": "2025-01-13T01:48:12.387Z"
   },
   {
    "duration": 16,
    "start_time": "2025-01-13T01:48:47.660Z"
   },
   {
    "duration": 4,
    "start_time": "2025-01-13T01:49:14.248Z"
   },
   {
    "duration": 32,
    "start_time": "2025-01-13T01:49:21.876Z"
   },
   {
    "duration": 20,
    "start_time": "2025-01-13T01:49:35.032Z"
   },
   {
    "duration": 27,
    "start_time": "2025-01-13T01:50:05.870Z"
   },
   {
    "duration": 71,
    "start_time": "2025-01-13T01:50:44.571Z"
   },
   {
    "duration": 26,
    "start_time": "2025-01-13T01:51:19.983Z"
   },
   {
    "duration": 29,
    "start_time": "2025-01-13T01:51:46.360Z"
   },
   {
    "duration": 27,
    "start_time": "2025-01-13T01:52:50.073Z"
   },
   {
    "duration": 3,
    "start_time": "2025-01-13T01:52:59.669Z"
   },
   {
    "duration": 167,
    "start_time": "2025-01-13T01:52:59.679Z"
   },
   {
    "duration": 9,
    "start_time": "2025-01-13T01:52:59.849Z"
   },
   {
    "duration": 6,
    "start_time": "2025-01-13T01:52:59.859Z"
   },
   {
    "duration": 11,
    "start_time": "2025-01-13T01:52:59.867Z"
   },
   {
    "duration": 10,
    "start_time": "2025-01-13T01:52:59.880Z"
   },
   {
    "duration": 33,
    "start_time": "2025-01-13T01:52:59.891Z"
   },
   {
    "duration": 12,
    "start_time": "2025-01-13T01:52:59.926Z"
   },
   {
    "duration": 8,
    "start_time": "2025-01-13T01:52:59.939Z"
   },
   {
    "duration": 21,
    "start_time": "2025-01-13T01:52:59.949Z"
   },
   {
    "duration": 5,
    "start_time": "2025-01-13T01:52:59.974Z"
   },
   {
    "duration": 78,
    "start_time": "2025-01-13T01:52:59.981Z"
   },
   {
    "duration": 103,
    "start_time": "2025-01-13T01:53:00.062Z"
   },
   {
    "duration": 13,
    "start_time": "2025-01-13T01:53:00.166Z"
   },
   {
    "duration": 4,
    "start_time": "2025-01-13T01:53:00.180Z"
   },
   {
    "duration": 16,
    "start_time": "2025-01-13T01:53:00.186Z"
   },
   {
    "duration": 37,
    "start_time": "2025-01-13T01:53:00.204Z"
   },
   {
    "duration": 5,
    "start_time": "2025-01-13T01:53:00.243Z"
   },
   {
    "duration": 48,
    "start_time": "2025-01-13T01:53:00.250Z"
   },
   {
    "duration": 7,
    "start_time": "2025-01-13T01:53:00.300Z"
   },
   {
    "duration": 46,
    "start_time": "2025-01-13T01:53:00.325Z"
   },
   {
    "duration": 15,
    "start_time": "2025-01-13T01:53:00.375Z"
   },
   {
    "duration": 36,
    "start_time": "2025-01-13T01:53:00.393Z"
   },
   {
    "duration": 28,
    "start_time": "2025-01-13T01:53:00.431Z"
   },
   {
    "duration": 18,
    "start_time": "2025-01-13T01:53:00.461Z"
   },
   {
    "duration": 13,
    "start_time": "2025-01-13T01:53:00.480Z"
   },
   {
    "duration": 47,
    "start_time": "2025-01-13T01:53:00.495Z"
   },
   {
    "duration": 0,
    "start_time": "2025-01-13T01:53:00.544Z"
   },
   {
    "duration": 0,
    "start_time": "2025-01-13T01:53:00.545Z"
   },
   {
    "duration": 0,
    "start_time": "2025-01-13T01:53:00.546Z"
   },
   {
    "duration": 0,
    "start_time": "2025-01-13T01:53:00.547Z"
   },
   {
    "duration": 0,
    "start_time": "2025-01-13T01:53:00.548Z"
   },
   {
    "duration": 0,
    "start_time": "2025-01-13T01:53:00.549Z"
   },
   {
    "duration": 0,
    "start_time": "2025-01-13T01:53:00.550Z"
   },
   {
    "duration": 0,
    "start_time": "2025-01-13T01:53:00.551Z"
   },
   {
    "duration": 2,
    "start_time": "2025-01-13T01:53:18.559Z"
   },
   {
    "duration": 150,
    "start_time": "2025-01-13T01:53:18.565Z"
   },
   {
    "duration": 10,
    "start_time": "2025-01-13T01:53:18.717Z"
   },
   {
    "duration": 4,
    "start_time": "2025-01-13T01:53:18.729Z"
   },
   {
    "duration": 10,
    "start_time": "2025-01-13T01:53:18.735Z"
   },
   {
    "duration": 11,
    "start_time": "2025-01-13T01:53:18.747Z"
   },
   {
    "duration": 5,
    "start_time": "2025-01-13T01:53:18.759Z"
   },
   {
    "duration": 8,
    "start_time": "2025-01-13T01:53:18.766Z"
   },
   {
    "duration": 7,
    "start_time": "2025-01-13T01:53:18.776Z"
   },
   {
    "duration": 15,
    "start_time": "2025-01-13T01:53:18.825Z"
   },
   {
    "duration": 4,
    "start_time": "2025-01-13T01:53:18.845Z"
   },
   {
    "duration": 73,
    "start_time": "2025-01-13T01:53:18.851Z"
   },
   {
    "duration": 69,
    "start_time": "2025-01-13T01:53:18.926Z"
   },
   {
    "duration": 29,
    "start_time": "2025-01-13T01:53:18.997Z"
   },
   {
    "duration": 4,
    "start_time": "2025-01-13T01:53:19.027Z"
   },
   {
    "duration": 18,
    "start_time": "2025-01-13T01:53:19.033Z"
   },
   {
    "duration": 14,
    "start_time": "2025-01-13T01:53:19.053Z"
   },
   {
    "duration": 4,
    "start_time": "2025-01-13T01:53:19.069Z"
   },
   {
    "duration": 57,
    "start_time": "2025-01-13T01:53:19.075Z"
   },
   {
    "duration": 7,
    "start_time": "2025-01-13T01:53:19.133Z"
   },
   {
    "duration": 34,
    "start_time": "2025-01-13T01:53:19.141Z"
   },
   {
    "duration": 11,
    "start_time": "2025-01-13T01:53:19.177Z"
   },
   {
    "duration": 47,
    "start_time": "2025-01-13T01:53:19.189Z"
   },
   {
    "duration": 23,
    "start_time": "2025-01-13T01:53:19.238Z"
   },
   {
    "duration": 14,
    "start_time": "2025-01-13T01:53:19.263Z"
   },
   {
    "duration": 13,
    "start_time": "2025-01-13T01:53:19.279Z"
   },
   {
    "duration": 51,
    "start_time": "2025-01-13T01:53:19.294Z"
   },
   {
    "duration": 0,
    "start_time": "2025-01-13T01:53:19.347Z"
   },
   {
    "duration": 0,
    "start_time": "2025-01-13T01:53:19.348Z"
   },
   {
    "duration": 0,
    "start_time": "2025-01-13T01:53:19.349Z"
   },
   {
    "duration": 0,
    "start_time": "2025-01-13T01:53:19.351Z"
   },
   {
    "duration": 0,
    "start_time": "2025-01-13T01:53:19.352Z"
   },
   {
    "duration": 0,
    "start_time": "2025-01-13T01:53:19.353Z"
   },
   {
    "duration": 0,
    "start_time": "2025-01-13T01:53:19.354Z"
   },
   {
    "duration": 0,
    "start_time": "2025-01-13T01:53:19.355Z"
   },
   {
    "duration": 57,
    "start_time": "2025-01-13T01:53:24.406Z"
   },
   {
    "duration": 26,
    "start_time": "2025-01-13T01:59:01.125Z"
   },
   {
    "duration": 27,
    "start_time": "2025-01-13T01:59:30.384Z"
   },
   {
    "duration": 29,
    "start_time": "2025-01-13T02:01:35.745Z"
   },
   {
    "duration": 66,
    "start_time": "2025-01-13T02:02:28.040Z"
   },
   {
    "duration": 27,
    "start_time": "2025-01-13T02:02:47.072Z"
   },
   {
    "duration": 30,
    "start_time": "2025-01-13T02:02:54.478Z"
   },
   {
    "duration": 26,
    "start_time": "2025-01-13T02:03:10.477Z"
   },
   {
    "duration": 71,
    "start_time": "2025-01-13T02:03:23.495Z"
   },
   {
    "duration": 42,
    "start_time": "2025-01-13T02:04:06.649Z"
   },
   {
    "duration": 21,
    "start_time": "2025-01-13T02:04:52.610Z"
   },
   {
    "duration": 28,
    "start_time": "2025-01-13T02:05:06.421Z"
   },
   {
    "duration": 69,
    "start_time": "2025-01-13T02:05:08.802Z"
   },
   {
    "duration": 25,
    "start_time": "2025-01-13T02:05:32.681Z"
   },
   {
    "duration": 21,
    "start_time": "2025-01-13T02:05:43.429Z"
   },
   {
    "duration": 25,
    "start_time": "2025-01-13T02:05:52.328Z"
   },
   {
    "duration": 59,
    "start_time": "2025-01-13T02:06:10.285Z"
   },
   {
    "duration": 27,
    "start_time": "2025-01-13T02:06:30.825Z"
   },
   {
    "duration": 21,
    "start_time": "2025-01-13T02:06:40.091Z"
   },
   {
    "duration": 28,
    "start_time": "2025-01-13T02:06:49.791Z"
   },
   {
    "duration": 67,
    "start_time": "2025-01-13T02:06:58.557Z"
   },
   {
    "duration": 26,
    "start_time": "2025-01-13T02:07:33.104Z"
   },
   {
    "duration": 21,
    "start_time": "2025-01-13T02:07:43.725Z"
   },
   {
    "duration": 22,
    "start_time": "2025-01-13T02:08:16.021Z"
   },
   {
    "duration": 15,
    "start_time": "2025-01-13T02:08:18.845Z"
   },
   {
    "duration": 15,
    "start_time": "2025-01-13T02:08:26.398Z"
   },
   {
    "duration": 3,
    "start_time": "2025-01-13T02:08:31.369Z"
   },
   {
    "duration": 172,
    "start_time": "2025-01-13T02:08:31.374Z"
   },
   {
    "duration": 9,
    "start_time": "2025-01-13T02:08:31.548Z"
   },
   {
    "duration": 5,
    "start_time": "2025-01-13T02:08:31.559Z"
   },
   {
    "duration": 13,
    "start_time": "2025-01-13T02:08:31.566Z"
   },
   {
    "duration": 16,
    "start_time": "2025-01-13T02:08:31.580Z"
   },
   {
    "duration": 30,
    "start_time": "2025-01-13T02:08:31.598Z"
   },
   {
    "duration": 11,
    "start_time": "2025-01-13T02:08:31.631Z"
   },
   {
    "duration": 8,
    "start_time": "2025-01-13T02:08:31.643Z"
   },
   {
    "duration": 16,
    "start_time": "2025-01-13T02:08:31.652Z"
   },
   {
    "duration": 4,
    "start_time": "2025-01-13T02:08:31.672Z"
   },
   {
    "duration": 74,
    "start_time": "2025-01-13T02:08:31.677Z"
   },
   {
    "duration": 80,
    "start_time": "2025-01-13T02:08:31.753Z"
   },
   {
    "duration": 15,
    "start_time": "2025-01-13T02:08:31.835Z"
   },
   {
    "duration": 5,
    "start_time": "2025-01-13T02:08:31.852Z"
   },
   {
    "duration": 18,
    "start_time": "2025-01-13T02:08:31.859Z"
   },
   {
    "duration": 50,
    "start_time": "2025-01-13T02:08:31.879Z"
   },
   {
    "duration": 5,
    "start_time": "2025-01-13T02:08:31.931Z"
   },
   {
    "duration": 39,
    "start_time": "2025-01-13T02:08:31.938Z"
   },
   {
    "duration": 9,
    "start_time": "2025-01-13T02:08:31.981Z"
   },
   {
    "duration": 57,
    "start_time": "2025-01-13T02:08:31.993Z"
   },
   {
    "duration": 11,
    "start_time": "2025-01-13T02:08:32.051Z"
   },
   {
    "duration": 23,
    "start_time": "2025-01-13T02:08:32.064Z"
   },
   {
    "duration": 49,
    "start_time": "2025-01-13T02:08:32.088Z"
   },
   {
    "duration": 15,
    "start_time": "2025-01-13T02:08:32.139Z"
   },
   {
    "duration": 14,
    "start_time": "2025-01-13T02:08:32.155Z"
   },
   {
    "duration": 54,
    "start_time": "2025-01-13T02:08:32.170Z"
   },
   {
    "duration": 0,
    "start_time": "2025-01-13T02:08:32.226Z"
   },
   {
    "duration": 0,
    "start_time": "2025-01-13T02:08:32.228Z"
   },
   {
    "duration": 0,
    "start_time": "2025-01-13T02:08:32.229Z"
   },
   {
    "duration": 0,
    "start_time": "2025-01-13T02:08:32.230Z"
   },
   {
    "duration": 0,
    "start_time": "2025-01-13T02:08:32.232Z"
   },
   {
    "duration": 0,
    "start_time": "2025-01-13T02:08:32.233Z"
   },
   {
    "duration": 0,
    "start_time": "2025-01-13T02:08:32.235Z"
   },
   {
    "duration": 0,
    "start_time": "2025-01-13T02:08:32.235Z"
   },
   {
    "duration": 82,
    "start_time": "2025-01-13T02:08:42.025Z"
   },
   {
    "duration": 25,
    "start_time": "2025-01-13T02:09:05.935Z"
   },
   {
    "duration": 21,
    "start_time": "2025-01-13T02:09:09.002Z"
   },
   {
    "duration": 6,
    "start_time": "2025-01-13T02:21:47.887Z"
   },
   {
    "duration": 17,
    "start_time": "2025-01-13T02:22:50.321Z"
   },
   {
    "duration": 9,
    "start_time": "2025-01-13T02:23:01.801Z"
   },
   {
    "duration": 190,
    "start_time": "2025-01-13T02:23:33.592Z"
   },
   {
    "duration": 352,
    "start_time": "2025-01-13T02:25:49.945Z"
   },
   {
    "duration": 5,
    "start_time": "2025-01-13T02:26:29.163Z"
   },
   {
    "duration": 95,
    "start_time": "2025-01-13T02:27:00.698Z"
   },
   {
    "duration": 4,
    "start_time": "2025-01-13T02:27:42.369Z"
   },
   {
    "duration": 7,
    "start_time": "2025-01-13T02:28:01.383Z"
   },
   {
    "duration": 5,
    "start_time": "2025-01-13T02:29:08.070Z"
   },
   {
    "duration": 90,
    "start_time": "2025-01-13T02:29:38.972Z"
   },
   {
    "duration": 105,
    "start_time": "2025-01-13T02:30:13.813Z"
   },
   {
    "duration": 98,
    "start_time": "2025-01-13T02:31:29.151Z"
   },
   {
    "duration": 5,
    "start_time": "2025-01-13T02:31:38.208Z"
   },
   {
    "duration": 87,
    "start_time": "2025-01-13T02:32:07.038Z"
   },
   {
    "duration": 100,
    "start_time": "2025-01-13T02:32:49.964Z"
   },
   {
    "duration": 11,
    "start_time": "2025-01-13T02:34:15.441Z"
   },
   {
    "duration": 5,
    "start_time": "2025-01-13T02:35:56.686Z"
   },
   {
    "duration": 5,
    "start_time": "2025-01-13T02:36:23.006Z"
   },
   {
    "duration": 12,
    "start_time": "2025-01-13T02:36:54.820Z"
   },
   {
    "duration": 41,
    "start_time": "2025-01-13T02:38:25.165Z"
   },
   {
    "duration": 18,
    "start_time": "2025-01-13T02:41:25.949Z"
   },
   {
    "duration": 638,
    "start_time": "2025-01-13T02:41:41.800Z"
   },
   {
    "duration": 893,
    "start_time": "2025-01-13T02:43:43.912Z"
   },
   {
    "duration": 648,
    "start_time": "2025-01-13T02:45:00.645Z"
   },
   {
    "duration": 644,
    "start_time": "2025-01-13T02:45:23.193Z"
   },
   {
    "duration": 43,
    "start_time": "2025-01-13T02:47:38.600Z"
   },
   {
    "duration": 47,
    "start_time": "2025-01-13T02:47:54.567Z"
   },
   {
    "duration": 45,
    "start_time": "2025-01-13T02:49:46.398Z"
   },
   {
    "duration": 44,
    "start_time": "2025-01-13T02:50:12.022Z"
   },
   {
    "duration": 656,
    "start_time": "2025-01-13T02:57:37.056Z"
   },
   {
    "duration": 753,
    "start_time": "2025-01-13T04:50:41.613Z"
   },
   {
    "duration": 218,
    "start_time": "2025-01-13T04:50:42.368Z"
   },
   {
    "duration": 9,
    "start_time": "2025-01-13T04:50:42.588Z"
   },
   {
    "duration": 5,
    "start_time": "2025-01-13T04:50:42.599Z"
   },
   {
    "duration": 11,
    "start_time": "2025-01-13T04:50:42.605Z"
   },
   {
    "duration": 10,
    "start_time": "2025-01-13T04:50:42.617Z"
   },
   {
    "duration": 14,
    "start_time": "2025-01-13T04:50:42.629Z"
   },
   {
    "duration": 9,
    "start_time": "2025-01-13T04:50:42.645Z"
   },
   {
    "duration": 7,
    "start_time": "2025-01-13T04:50:42.655Z"
   },
   {
    "duration": 15,
    "start_time": "2025-01-13T04:50:42.665Z"
   },
   {
    "duration": 4,
    "start_time": "2025-01-13T04:50:42.681Z"
   },
   {
    "duration": 74,
    "start_time": "2025-01-13T04:50:42.687Z"
   },
   {
    "duration": 82,
    "start_time": "2025-01-13T04:50:42.763Z"
   },
   {
    "duration": 13,
    "start_time": "2025-01-13T04:50:42.847Z"
   },
   {
    "duration": 8,
    "start_time": "2025-01-13T04:50:42.861Z"
   },
   {
    "duration": 16,
    "start_time": "2025-01-13T04:50:42.870Z"
   },
   {
    "duration": 14,
    "start_time": "2025-01-13T04:50:42.887Z"
   },
   {
    "duration": 4,
    "start_time": "2025-01-13T04:50:42.903Z"
   },
   {
    "duration": 72,
    "start_time": "2025-01-13T04:50:42.909Z"
   },
   {
    "duration": 6,
    "start_time": "2025-01-13T04:50:42.983Z"
   },
   {
    "duration": 52,
    "start_time": "2025-01-13T04:50:42.991Z"
   },
   {
    "duration": 13,
    "start_time": "2025-01-13T04:50:43.045Z"
   },
   {
    "duration": 21,
    "start_time": "2025-01-13T04:50:43.059Z"
   },
   {
    "duration": 26,
    "start_time": "2025-01-13T04:50:43.082Z"
   },
   {
    "duration": 35,
    "start_time": "2025-01-13T04:50:43.110Z"
   },
   {
    "duration": 13,
    "start_time": "2025-01-13T04:50:43.147Z"
   },
   {
    "duration": 149,
    "start_time": "2025-01-13T04:50:43.161Z"
   },
   {
    "duration": 0,
    "start_time": "2025-01-13T04:50:43.312Z"
   },
   {
    "duration": 0,
    "start_time": "2025-01-13T04:50:43.313Z"
   },
   {
    "duration": 0,
    "start_time": "2025-01-13T04:50:43.314Z"
   },
   {
    "duration": 0,
    "start_time": "2025-01-13T04:50:43.315Z"
   },
   {
    "duration": 0,
    "start_time": "2025-01-13T04:50:43.317Z"
   },
   {
    "duration": 0,
    "start_time": "2025-01-13T04:50:43.319Z"
   },
   {
    "duration": 0,
    "start_time": "2025-01-13T04:50:43.320Z"
   },
   {
    "duration": 0,
    "start_time": "2025-01-13T04:50:43.322Z"
   },
   {
    "duration": 0,
    "start_time": "2025-01-13T04:50:43.343Z"
   },
   {
    "duration": 734,
    "start_time": "2025-01-13T05:36:38.391Z"
   },
   {
    "duration": 156,
    "start_time": "2025-01-13T05:36:39.127Z"
   },
   {
    "duration": 9,
    "start_time": "2025-01-13T05:36:39.285Z"
   },
   {
    "duration": 5,
    "start_time": "2025-01-13T05:36:39.297Z"
   },
   {
    "duration": 10,
    "start_time": "2025-01-13T05:36:39.304Z"
   },
   {
    "duration": 10,
    "start_time": "2025-01-13T05:36:39.316Z"
   },
   {
    "duration": 20,
    "start_time": "2025-01-13T05:36:39.327Z"
   },
   {
    "duration": 9,
    "start_time": "2025-01-13T05:36:39.348Z"
   },
   {
    "duration": 7,
    "start_time": "2025-01-13T05:36:39.360Z"
   },
   {
    "duration": 14,
    "start_time": "2025-01-13T05:36:39.372Z"
   },
   {
    "duration": 4,
    "start_time": "2025-01-13T05:36:39.388Z"
   },
   {
    "duration": 83,
    "start_time": "2025-01-13T05:36:39.394Z"
   },
   {
    "duration": 87,
    "start_time": "2025-01-13T05:36:39.479Z"
   },
   {
    "duration": 12,
    "start_time": "2025-01-13T05:36:39.567Z"
   },
   {
    "duration": 4,
    "start_time": "2025-01-13T05:36:39.580Z"
   },
   {
    "duration": 16,
    "start_time": "2025-01-13T05:36:39.585Z"
   },
   {
    "duration": 13,
    "start_time": "2025-01-13T05:36:39.602Z"
   },
   {
    "duration": 28,
    "start_time": "2025-01-13T05:36:39.617Z"
   },
   {
    "duration": 33,
    "start_time": "2025-01-13T05:36:39.647Z"
   },
   {
    "duration": 7,
    "start_time": "2025-01-13T05:36:39.682Z"
   },
   {
    "duration": 55,
    "start_time": "2025-01-13T05:36:39.692Z"
   },
   {
    "duration": 12,
    "start_time": "2025-01-13T05:36:39.749Z"
   },
   {
    "duration": 21,
    "start_time": "2025-01-13T05:36:39.762Z"
   },
   {
    "duration": 24,
    "start_time": "2025-01-13T05:36:39.785Z"
   },
   {
    "duration": 38,
    "start_time": "2025-01-13T05:36:39.811Z"
   },
   {
    "duration": 13,
    "start_time": "2025-01-13T05:36:39.851Z"
   },
   {
    "duration": 149,
    "start_time": "2025-01-13T05:36:39.865Z"
   },
   {
    "duration": 0,
    "start_time": "2025-01-13T05:36:40.016Z"
   },
   {
    "duration": 0,
    "start_time": "2025-01-13T05:36:40.017Z"
   },
   {
    "duration": 0,
    "start_time": "2025-01-13T05:36:40.018Z"
   },
   {
    "duration": 0,
    "start_time": "2025-01-13T05:36:40.019Z"
   },
   {
    "duration": 0,
    "start_time": "2025-01-13T05:36:40.020Z"
   },
   {
    "duration": 0,
    "start_time": "2025-01-13T05:36:40.021Z"
   },
   {
    "duration": 0,
    "start_time": "2025-01-13T05:36:40.022Z"
   },
   {
    "duration": 0,
    "start_time": "2025-01-13T05:36:40.023Z"
   },
   {
    "duration": 0,
    "start_time": "2025-01-13T05:36:40.024Z"
   },
   {
    "duration": 752,
    "start_time": "2025-01-13T05:37:12.481Z"
   },
   {
    "duration": 155,
    "start_time": "2025-01-13T05:37:13.236Z"
   },
   {
    "duration": 9,
    "start_time": "2025-01-13T05:37:13.393Z"
   },
   {
    "duration": 6,
    "start_time": "2025-01-13T05:37:13.405Z"
   },
   {
    "duration": 9,
    "start_time": "2025-01-13T05:37:13.413Z"
   },
   {
    "duration": 28,
    "start_time": "2025-01-13T05:37:13.424Z"
   },
   {
    "duration": 5,
    "start_time": "2025-01-13T05:37:13.453Z"
   },
   {
    "duration": 10,
    "start_time": "2025-01-13T05:37:13.460Z"
   },
   {
    "duration": 7,
    "start_time": "2025-01-13T05:37:13.472Z"
   },
   {
    "duration": 15,
    "start_time": "2025-01-13T05:37:13.483Z"
   },
   {
    "duration": 4,
    "start_time": "2025-01-13T05:37:13.499Z"
   },
   {
    "duration": 45,
    "start_time": "2025-01-13T05:37:13.543Z"
   },
   {
    "duration": 87,
    "start_time": "2025-01-13T05:37:13.589Z"
   },
   {
    "duration": 13,
    "start_time": "2025-01-13T05:37:13.677Z"
   },
   {
    "duration": 4,
    "start_time": "2025-01-13T05:37:13.693Z"
   },
   {
    "duration": 20,
    "start_time": "2025-01-13T05:37:13.700Z"
   },
   {
    "duration": 32,
    "start_time": "2025-01-13T05:37:13.722Z"
   },
   {
    "duration": 5,
    "start_time": "2025-01-13T05:37:13.757Z"
   },
   {
    "duration": 34,
    "start_time": "2025-01-13T05:37:13.763Z"
   },
   {
    "duration": 6,
    "start_time": "2025-01-13T05:37:13.799Z"
   },
   {
    "duration": 60,
    "start_time": "2025-01-13T05:37:13.808Z"
   },
   {
    "duration": 13,
    "start_time": "2025-01-13T05:37:13.870Z"
   },
   {
    "duration": 21,
    "start_time": "2025-01-13T05:37:13.884Z"
   },
   {
    "duration": 46,
    "start_time": "2025-01-13T05:37:13.906Z"
   },
   {
    "duration": 14,
    "start_time": "2025-01-13T05:37:13.954Z"
   },
   {
    "duration": 12,
    "start_time": "2025-01-13T05:37:13.969Z"
   },
   {
    "duration": 156,
    "start_time": "2025-01-13T05:37:13.983Z"
   },
   {
    "duration": 0,
    "start_time": "2025-01-13T05:37:14.142Z"
   },
   {
    "duration": 0,
    "start_time": "2025-01-13T05:37:14.144Z"
   },
   {
    "duration": 0,
    "start_time": "2025-01-13T05:37:14.145Z"
   },
   {
    "duration": 0,
    "start_time": "2025-01-13T05:37:14.146Z"
   },
   {
    "duration": 0,
    "start_time": "2025-01-13T05:37:14.148Z"
   },
   {
    "duration": 0,
    "start_time": "2025-01-13T05:37:14.149Z"
   },
   {
    "duration": 0,
    "start_time": "2025-01-13T05:37:14.151Z"
   },
   {
    "duration": 0,
    "start_time": "2025-01-13T05:37:14.152Z"
   },
   {
    "duration": 0,
    "start_time": "2025-01-13T05:37:14.154Z"
   },
   {
    "duration": 17,
    "start_time": "2025-01-13T05:54:29.800Z"
   },
   {
    "duration": 16,
    "start_time": "2025-01-13T05:54:47.606Z"
   },
   {
    "duration": 6,
    "start_time": "2025-01-13T06:05:51.867Z"
   },
   {
    "duration": 2,
    "start_time": "2025-01-13T06:06:13.536Z"
   },
   {
    "duration": 157,
    "start_time": "2025-01-13T06:06:36.794Z"
   },
   {
    "duration": 12,
    "start_time": "2025-01-13T06:06:49.523Z"
   },
   {
    "duration": 11,
    "start_time": "2025-01-13T06:07:05.456Z"
   },
   {
    "duration": 3,
    "start_time": "2025-01-13T06:07:31.763Z"
   },
   {
    "duration": 12,
    "start_time": "2025-01-13T06:07:38.848Z"
   },
   {
    "duration": 12,
    "start_time": "2025-01-13T06:07:45.229Z"
   },
   {
    "duration": 2371,
    "start_time": "2025-01-13T06:07:53.693Z"
   },
   {
    "duration": 228,
    "start_time": "2025-01-13T06:07:56.070Z"
   },
   {
    "duration": 9,
    "start_time": "2025-01-13T06:07:56.300Z"
   },
   {
    "duration": 10,
    "start_time": "2025-01-13T06:07:56.312Z"
   },
   {
    "duration": 10,
    "start_time": "2025-01-13T06:07:56.324Z"
   },
   {
    "duration": 10,
    "start_time": "2025-01-13T06:07:56.336Z"
   },
   {
    "duration": 6,
    "start_time": "2025-01-13T06:07:56.348Z"
   },
   {
    "duration": 12,
    "start_time": "2025-01-13T06:07:56.355Z"
   },
   {
    "duration": 41,
    "start_time": "2025-01-13T06:07:56.369Z"
   },
   {
    "duration": 15,
    "start_time": "2025-01-13T06:07:56.412Z"
   },
   {
    "duration": 4,
    "start_time": "2025-01-13T06:07:56.429Z"
   },
   {
    "duration": 46,
    "start_time": "2025-01-13T06:07:56.435Z"
   },
   {
    "duration": 94,
    "start_time": "2025-01-13T06:07:56.482Z"
   },
   {
    "duration": 11,
    "start_time": "2025-01-13T06:07:56.578Z"
   },
   {
    "duration": 19,
    "start_time": "2025-01-13T06:07:56.591Z"
   },
   {
    "duration": 17,
    "start_time": "2025-01-13T06:07:56.611Z"
   },
   {
    "duration": 14,
    "start_time": "2025-01-13T06:07:56.629Z"
   },
   {
    "duration": 5,
    "start_time": "2025-01-13T06:07:56.645Z"
   },
   {
    "duration": 61,
    "start_time": "2025-01-13T06:07:56.651Z"
   },
   {
    "duration": 7,
    "start_time": "2025-01-13T06:07:56.714Z"
   },
   {
    "duration": 36,
    "start_time": "2025-01-13T06:07:56.723Z"
   },
   {
    "duration": 13,
    "start_time": "2025-01-13T06:07:56.761Z"
   },
   {
    "duration": 47,
    "start_time": "2025-01-13T06:07:56.775Z"
   },
   {
    "duration": 36,
    "start_time": "2025-01-13T06:07:56.824Z"
   },
   {
    "duration": 14,
    "start_time": "2025-01-13T06:07:56.862Z"
   },
   {
    "duration": 31,
    "start_time": "2025-01-13T06:07:56.878Z"
   },
   {
    "duration": 86,
    "start_time": "2025-01-13T06:07:56.911Z"
   },
   {
    "duration": 0,
    "start_time": "2025-01-13T06:07:56.999Z"
   },
   {
    "duration": 0,
    "start_time": "2025-01-13T06:07:56.999Z"
   },
   {
    "duration": 0,
    "start_time": "2025-01-13T06:07:57.000Z"
   },
   {
    "duration": 0,
    "start_time": "2025-01-13T06:07:57.009Z"
   },
   {
    "duration": 0,
    "start_time": "2025-01-13T06:07:57.010Z"
   },
   {
    "duration": 0,
    "start_time": "2025-01-13T06:07:57.012Z"
   },
   {
    "duration": 0,
    "start_time": "2025-01-13T06:07:57.013Z"
   },
   {
    "duration": 0,
    "start_time": "2025-01-13T06:07:57.014Z"
   },
   {
    "duration": 0,
    "start_time": "2025-01-13T06:07:57.015Z"
   },
   {
    "duration": 2,
    "start_time": "2025-01-13T06:09:40.767Z"
   },
   {
    "duration": 3,
    "start_time": "2025-01-13T06:09:44.803Z"
   },
   {
    "duration": 5,
    "start_time": "2025-01-13T06:10:23.123Z"
   },
   {
    "duration": 5,
    "start_time": "2025-01-13T06:10:34.303Z"
   },
   {
    "duration": 20,
    "start_time": "2025-01-13T06:15:15.364Z"
   },
   {
    "duration": 9,
    "start_time": "2025-01-13T06:16:21.479Z"
   },
   {
    "duration": 8,
    "start_time": "2025-01-13T06:16:41.331Z"
   },
   {
    "duration": 13,
    "start_time": "2025-01-13T06:16:50.782Z"
   },
   {
    "duration": 10,
    "start_time": "2025-01-13T06:20:32.651Z"
   },
   {
    "duration": 11,
    "start_time": "2025-01-13T06:21:21.475Z"
   },
   {
    "duration": 11,
    "start_time": "2025-01-13T18:52:08.981Z"
   },
   {
    "duration": 170,
    "start_time": "2025-01-13T18:52:21.939Z"
   },
   {
    "duration": 2493,
    "start_time": "2025-01-13T18:52:27.581Z"
   },
   {
    "duration": 235,
    "start_time": "2025-01-13T18:52:30.076Z"
   },
   {
    "duration": 11,
    "start_time": "2025-01-13T18:52:30.313Z"
   },
   {
    "duration": 5,
    "start_time": "2025-01-13T18:52:30.327Z"
   },
   {
    "duration": 10,
    "start_time": "2025-01-13T18:52:30.335Z"
   },
   {
    "duration": 13,
    "start_time": "2025-01-13T18:52:30.346Z"
   },
   {
    "duration": 6,
    "start_time": "2025-01-13T18:52:30.362Z"
   },
   {
    "duration": 12,
    "start_time": "2025-01-13T18:52:30.371Z"
   },
   {
    "duration": 9,
    "start_time": "2025-01-13T18:52:30.384Z"
   },
   {
    "duration": 16,
    "start_time": "2025-01-13T18:52:30.425Z"
   },
   {
    "duration": 5,
    "start_time": "2025-01-13T18:52:30.443Z"
   },
   {
    "duration": 81,
    "start_time": "2025-01-13T18:52:30.450Z"
   },
   {
    "duration": 95,
    "start_time": "2025-01-13T18:52:30.533Z"
   },
   {
    "duration": 12,
    "start_time": "2025-01-13T18:52:30.633Z"
   },
   {
    "duration": 6,
    "start_time": "2025-01-13T18:52:30.647Z"
   },
   {
    "duration": 28,
    "start_time": "2025-01-13T18:52:30.657Z"
   },
   {
    "duration": 40,
    "start_time": "2025-01-13T18:52:30.687Z"
   },
   {
    "duration": 5,
    "start_time": "2025-01-13T18:52:30.728Z"
   },
   {
    "duration": 48,
    "start_time": "2025-01-13T18:52:30.735Z"
   },
   {
    "duration": 8,
    "start_time": "2025-01-13T18:52:30.785Z"
   },
   {
    "duration": 61,
    "start_time": "2025-01-13T18:52:30.795Z"
   },
   {
    "duration": 15,
    "start_time": "2025-01-13T18:52:30.858Z"
   },
   {
    "duration": 49,
    "start_time": "2025-01-13T18:52:30.875Z"
   },
   {
    "duration": 35,
    "start_time": "2025-01-13T18:52:30.927Z"
   },
   {
    "duration": 14,
    "start_time": "2025-01-13T18:52:30.964Z"
   },
   {
    "duration": 16,
    "start_time": "2025-01-13T18:52:30.980Z"
   },
   {
    "duration": 114,
    "start_time": "2025-01-13T18:52:30.997Z"
   },
   {
    "duration": 0,
    "start_time": "2025-01-13T18:52:31.125Z"
   },
   {
    "duration": 0,
    "start_time": "2025-01-13T18:52:31.128Z"
   },
   {
    "duration": 0,
    "start_time": "2025-01-13T18:52:31.129Z"
   },
   {
    "duration": 0,
    "start_time": "2025-01-13T18:52:31.130Z"
   },
   {
    "duration": 0,
    "start_time": "2025-01-13T18:52:31.132Z"
   },
   {
    "duration": 0,
    "start_time": "2025-01-13T18:52:31.134Z"
   },
   {
    "duration": 0,
    "start_time": "2025-01-13T18:52:31.134Z"
   },
   {
    "duration": 0,
    "start_time": "2025-01-13T18:52:31.136Z"
   },
   {
    "duration": 0,
    "start_time": "2025-01-13T18:52:31.137Z"
   },
   {
    "duration": 51,
    "start_time": "2025-01-13T18:57:36.578Z"
   },
   {
    "duration": 15,
    "start_time": "2025-01-13T18:59:02.449Z"
   },
   {
    "duration": 37,
    "start_time": "2025-01-13T18:59:28.480Z"
   },
   {
    "duration": 7,
    "start_time": "2025-01-13T18:59:34.504Z"
   },
   {
    "duration": 386,
    "start_time": "2025-01-13T19:11:12.356Z"
   },
   {
    "duration": 690,
    "start_time": "2025-01-13T19:11:19.836Z"
   },
   {
    "duration": 18,
    "start_time": "2025-01-13T19:11:52.223Z"
   },
   {
    "duration": 5,
    "start_time": "2025-01-13T19:12:11.714Z"
   },
   {
    "duration": 30,
    "start_time": "2025-01-13T19:12:18.639Z"
   },
   {
    "duration": 7,
    "start_time": "2025-01-13T19:12:25.017Z"
   },
   {
    "duration": 29,
    "start_time": "2025-01-13T19:12:31.561Z"
   },
   {
    "duration": 15,
    "start_time": "2025-01-13T19:12:37.523Z"
   },
   {
    "duration": 21,
    "start_time": "2025-01-13T19:12:42.212Z"
   },
   {
    "duration": 21,
    "start_time": "2025-01-13T19:12:46.517Z"
   },
   {
    "duration": 15,
    "start_time": "2025-01-13T19:12:51.477Z"
   },
   {
    "duration": 15,
    "start_time": "2025-01-13T19:13:46.306Z"
   },
   {
    "duration": 15,
    "start_time": "2025-01-13T19:14:52.749Z"
   },
   {
    "duration": 12,
    "start_time": "2025-01-13T19:15:02.523Z"
   },
   {
    "duration": 25,
    "start_time": "2025-01-13T19:15:07.879Z"
   },
   {
    "duration": 2,
    "start_time": "2025-01-13T19:15:33.837Z"
   },
   {
    "duration": 167,
    "start_time": "2025-01-13T19:15:33.841Z"
   },
   {
    "duration": 9,
    "start_time": "2025-01-13T19:15:34.011Z"
   },
   {
    "duration": 6,
    "start_time": "2025-01-13T19:15:34.021Z"
   },
   {
    "duration": 10,
    "start_time": "2025-01-13T19:15:34.030Z"
   },
   {
    "duration": 10,
    "start_time": "2025-01-13T19:15:34.042Z"
   },
   {
    "duration": 5,
    "start_time": "2025-01-13T19:15:34.053Z"
   },
   {
    "duration": 7,
    "start_time": "2025-01-13T19:15:34.060Z"
   },
   {
    "duration": 7,
    "start_time": "2025-01-13T19:15:34.069Z"
   },
   {
    "duration": 56,
    "start_time": "2025-01-13T19:15:34.077Z"
   },
   {
    "duration": 5,
    "start_time": "2025-01-13T19:15:34.136Z"
   },
   {
    "duration": 82,
    "start_time": "2025-01-13T19:15:34.142Z"
   },
   {
    "duration": 607,
    "start_time": "2025-01-13T19:15:34.225Z"
   },
   {
    "duration": 12,
    "start_time": "2025-01-13T19:15:34.833Z"
   },
   {
    "duration": 4,
    "start_time": "2025-01-13T19:15:34.847Z"
   },
   {
    "duration": 16,
    "start_time": "2025-01-13T19:15:34.853Z"
   },
   {
    "duration": 14,
    "start_time": "2025-01-13T19:15:34.871Z"
   },
   {
    "duration": 4,
    "start_time": "2025-01-13T19:15:34.886Z"
   },
   {
    "duration": 32,
    "start_time": "2025-01-13T19:15:34.925Z"
   },
   {
    "duration": 8,
    "start_time": "2025-01-13T19:15:34.959Z"
   },
   {
    "duration": 30,
    "start_time": "2025-01-13T19:15:34.968Z"
   },
   {
    "duration": 32,
    "start_time": "2025-01-13T19:15:35.000Z"
   },
   {
    "duration": 22,
    "start_time": "2025-01-13T19:15:35.033Z"
   },
   {
    "duration": 24,
    "start_time": "2025-01-13T19:15:35.056Z"
   },
   {
    "duration": 14,
    "start_time": "2025-01-13T19:15:35.081Z"
   },
   {
    "duration": 36,
    "start_time": "2025-01-13T19:15:35.097Z"
   },
   {
    "duration": 24,
    "start_time": "2025-01-13T19:15:35.135Z"
   },
   {
    "duration": 0,
    "start_time": "2025-01-13T19:15:35.161Z"
   },
   {
    "duration": 0,
    "start_time": "2025-01-13T19:15:35.162Z"
   },
   {
    "duration": 0,
    "start_time": "2025-01-13T19:15:35.163Z"
   },
   {
    "duration": 0,
    "start_time": "2025-01-13T19:15:35.165Z"
   },
   {
    "duration": 0,
    "start_time": "2025-01-13T19:15:35.165Z"
   },
   {
    "duration": 0,
    "start_time": "2025-01-13T19:15:35.166Z"
   },
   {
    "duration": 0,
    "start_time": "2025-01-13T19:15:35.167Z"
   },
   {
    "duration": 0,
    "start_time": "2025-01-13T19:15:35.168Z"
   },
   {
    "duration": 0,
    "start_time": "2025-01-13T19:15:35.170Z"
   },
   {
    "duration": 451,
    "start_time": "2025-01-13T19:16:01.712Z"
   },
   {
    "duration": 32,
    "start_time": "2025-01-13T19:17:02.269Z"
   },
   {
    "duration": 14,
    "start_time": "2025-01-13T19:17:06.365Z"
   },
   {
    "duration": 11,
    "start_time": "2025-01-13T19:17:15.161Z"
   },
   {
    "duration": 25,
    "start_time": "2025-01-13T19:17:28.685Z"
   },
   {
    "duration": 2,
    "start_time": "2025-01-13T19:18:05.781Z"
   },
   {
    "duration": 153,
    "start_time": "2025-01-13T19:18:10.219Z"
   },
   {
    "duration": 11,
    "start_time": "2025-01-13T19:18:14.875Z"
   },
   {
    "duration": 6,
    "start_time": "2025-01-13T19:18:18.941Z"
   },
   {
    "duration": 11,
    "start_time": "2025-01-13T19:18:24.390Z"
   },
   {
    "duration": 15,
    "start_time": "2025-01-13T19:18:30.839Z"
   },
   {
    "duration": 5,
    "start_time": "2025-01-13T19:18:36.265Z"
   },
   {
    "duration": 8,
    "start_time": "2025-01-13T19:18:41.876Z"
   },
   {
    "duration": 7,
    "start_time": "2025-01-13T19:18:51.048Z"
   },
   {
    "duration": 15,
    "start_time": "2025-01-13T19:18:57.196Z"
   },
   {
    "duration": 5,
    "start_time": "2025-01-13T19:19:01.452Z"
   },
   {
    "duration": 57,
    "start_time": "2025-01-13T19:19:06.589Z"
   },
   {
    "duration": 678,
    "start_time": "2025-01-13T19:19:14.455Z"
   },
   {
    "duration": 15,
    "start_time": "2025-01-13T19:19:22.285Z"
   },
   {
    "duration": 4,
    "start_time": "2025-01-13T19:19:26.201Z"
   },
   {
    "duration": 18,
    "start_time": "2025-01-13T19:19:31.011Z"
   },
   {
    "duration": 15,
    "start_time": "2025-01-13T19:19:36.608Z"
   },
   {
    "duration": 4,
    "start_time": "2025-01-13T19:19:40.948Z"
   },
   {
    "duration": 31,
    "start_time": "2025-01-13T19:19:46.112Z"
   },
   {
    "duration": 8,
    "start_time": "2025-01-13T19:19:51.413Z"
   },
   {
    "duration": 32,
    "start_time": "2025-01-13T19:19:56.250Z"
   },
   {
    "duration": 12,
    "start_time": "2025-01-13T19:20:01.724Z"
   },
   {
    "duration": 26,
    "start_time": "2025-01-13T19:20:08.395Z"
   },
   {
    "duration": 24,
    "start_time": "2025-01-13T19:20:13.500Z"
   },
   {
    "duration": 15,
    "start_time": "2025-01-13T19:20:18.149Z"
   },
   {
    "duration": 13,
    "start_time": "2025-01-13T19:20:25.288Z"
   },
   {
    "duration": 26,
    "start_time": "2025-01-13T19:20:31.642Z"
   },
   {
    "duration": 152,
    "start_time": "2025-01-13T19:20:39.549Z"
   },
   {
    "duration": 22,
    "start_time": "2025-01-13T19:21:09.503Z"
   },
   {
    "duration": 5,
    "start_time": "2025-01-13T19:21:14.015Z"
   },
   {
    "duration": 118,
    "start_time": "2025-01-13T19:21:17.889Z"
   },
   {
    "duration": 42,
    "start_time": "2025-01-13T19:21:24.656Z"
   },
   {
    "duration": 42,
    "start_time": "2025-01-13T19:21:33.226Z"
   },
   {
    "duration": 41,
    "start_time": "2025-01-13T19:21:43.240Z"
   },
   {
    "duration": 57,
    "start_time": "2025-01-13T19:21:51.614Z"
   },
   {
    "duration": 47,
    "start_time": "2025-01-13T19:21:57.747Z"
   },
   {
    "duration": 59,
    "start_time": "2025-01-13T19:22:38.476Z"
   },
   {
    "duration": 8,
    "start_time": "2025-01-13T19:23:02.045Z"
   },
   {
    "duration": 4,
    "start_time": "2025-01-13T19:23:13.207Z"
   },
   {
    "duration": 115,
    "start_time": "2025-01-13T19:23:20.282Z"
   },
   {
    "duration": 98,
    "start_time": "2025-01-13T19:23:27.121Z"
   },
   {
    "duration": 199,
    "start_time": "2025-01-13T19:23:34.599Z"
   },
   {
    "duration": 702,
    "start_time": "2025-01-13T19:23:45.428Z"
   },
   {
    "duration": 43,
    "start_time": "2025-01-13T19:23:50.852Z"
   },
   {
    "duration": 25,
    "start_time": "2025-01-13T19:25:16.425Z"
   },
   {
    "duration": 14,
    "start_time": "2025-01-13T19:25:24.712Z"
   },
   {
    "duration": 26,
    "start_time": "2025-01-13T19:30:33.999Z"
   },
   {
    "duration": 232,
    "start_time": "2025-01-13T19:31:34.817Z"
   },
   {
    "duration": 16,
    "start_time": "2025-01-13T19:39:39.031Z"
   },
   {
    "duration": 164,
    "start_time": "2025-01-14T01:57:26.368Z"
   },
   {
    "duration": 16,
    "start_time": "2025-01-14T01:57:29.668Z"
   },
   {
    "duration": 14,
    "start_time": "2025-01-14T01:57:39.687Z"
   },
   {
    "duration": 2470,
    "start_time": "2025-01-14T01:57:46.499Z"
   },
   {
    "duration": 214,
    "start_time": "2025-01-14T01:57:48.972Z"
   },
   {
    "duration": 11,
    "start_time": "2025-01-14T01:57:49.189Z"
   },
   {
    "duration": 6,
    "start_time": "2025-01-14T01:57:49.203Z"
   },
   {
    "duration": 10,
    "start_time": "2025-01-14T01:57:49.211Z"
   },
   {
    "duration": 11,
    "start_time": "2025-01-14T01:57:49.223Z"
   },
   {
    "duration": 6,
    "start_time": "2025-01-14T01:57:49.235Z"
   },
   {
    "duration": 8,
    "start_time": "2025-01-14T01:57:49.243Z"
   },
   {
    "duration": 7,
    "start_time": "2025-01-14T01:57:49.252Z"
   },
   {
    "duration": 15,
    "start_time": "2025-01-14T01:57:49.262Z"
   },
   {
    "duration": 4,
    "start_time": "2025-01-14T01:57:49.279Z"
   },
   {
    "duration": 63,
    "start_time": "2025-01-14T01:57:49.323Z"
   },
   {
    "duration": 617,
    "start_time": "2025-01-14T01:57:49.388Z"
   },
   {
    "duration": 23,
    "start_time": "2025-01-14T01:57:50.006Z"
   },
   {
    "duration": 4,
    "start_time": "2025-01-14T01:57:50.030Z"
   },
   {
    "duration": 17,
    "start_time": "2025-01-14T01:57:50.036Z"
   },
   {
    "duration": 14,
    "start_time": "2025-01-14T01:57:50.054Z"
   },
   {
    "duration": 4,
    "start_time": "2025-01-14T01:57:50.070Z"
   },
   {
    "duration": 61,
    "start_time": "2025-01-14T01:57:50.076Z"
   },
   {
    "duration": 8,
    "start_time": "2025-01-14T01:57:50.138Z"
   },
   {
    "duration": 29,
    "start_time": "2025-01-14T01:57:50.147Z"
   },
   {
    "duration": 13,
    "start_time": "2025-01-14T01:57:50.177Z"
   },
   {
    "duration": 42,
    "start_time": "2025-01-14T01:57:50.191Z"
   },
   {
    "duration": 25,
    "start_time": "2025-01-14T01:57:50.235Z"
   },
   {
    "duration": 17,
    "start_time": "2025-01-14T01:57:50.262Z"
   },
   {
    "duration": 12,
    "start_time": "2025-01-14T01:57:50.280Z"
   },
   {
    "duration": 85,
    "start_time": "2025-01-14T01:57:59.660Z"
   },
   {
    "duration": 446,
    "start_time": "2025-01-14T01:58:20.066Z"
   },
   {
    "duration": 27,
    "start_time": "2025-01-14T02:00:35.799Z"
   },
   {
    "duration": 395,
    "start_time": "2025-01-14T02:00:51.708Z"
   },
   {
    "duration": 26,
    "start_time": "2025-01-14T02:01:24.924Z"
   },
   {
    "duration": 61,
    "start_time": "2025-01-14T02:01:34.468Z"
   },
   {
    "duration": 2,
    "start_time": "2025-01-14T02:02:26.421Z"
   },
   {
    "duration": 163,
    "start_time": "2025-01-14T02:02:26.429Z"
   },
   {
    "duration": 9,
    "start_time": "2025-01-14T02:02:26.594Z"
   },
   {
    "duration": 20,
    "start_time": "2025-01-14T02:02:26.604Z"
   },
   {
    "duration": 11,
    "start_time": "2025-01-14T02:02:26.626Z"
   },
   {
    "duration": 10,
    "start_time": "2025-01-14T02:02:26.638Z"
   },
   {
    "duration": 5,
    "start_time": "2025-01-14T02:02:26.650Z"
   },
   {
    "duration": 7,
    "start_time": "2025-01-14T02:02:26.657Z"
   },
   {
    "duration": 7,
    "start_time": "2025-01-14T02:02:26.665Z"
   },
   {
    "duration": 15,
    "start_time": "2025-01-14T02:02:26.673Z"
   },
   {
    "duration": 4,
    "start_time": "2025-01-14T02:02:26.724Z"
   },
   {
    "duration": 56,
    "start_time": "2025-01-14T02:02:26.730Z"
   },
   {
    "duration": 744,
    "start_time": "2025-01-14T02:02:26.788Z"
   },
   {
    "duration": 13,
    "start_time": "2025-01-14T02:02:27.534Z"
   },
   {
    "duration": 5,
    "start_time": "2025-01-14T02:02:27.548Z"
   },
   {
    "duration": 16,
    "start_time": "2025-01-14T02:02:27.554Z"
   },
   {
    "duration": 13,
    "start_time": "2025-01-14T02:02:27.571Z"
   },
   {
    "duration": 4,
    "start_time": "2025-01-14T02:02:27.586Z"
   },
   {
    "duration": 63,
    "start_time": "2025-01-14T02:02:27.592Z"
   },
   {
    "duration": 7,
    "start_time": "2025-01-14T02:02:27.656Z"
   },
   {
    "duration": 28,
    "start_time": "2025-01-14T02:02:27.665Z"
   },
   {
    "duration": 10,
    "start_time": "2025-01-14T02:02:27.695Z"
   },
   {
    "duration": 25,
    "start_time": "2025-01-14T02:02:27.724Z"
   },
   {
    "duration": 24,
    "start_time": "2025-01-14T02:02:27.752Z"
   },
   {
    "duration": 15,
    "start_time": "2025-01-14T02:02:27.777Z"
   },
   {
    "duration": 39,
    "start_time": "2025-01-14T02:02:27.793Z"
   },
   {
    "duration": 27,
    "start_time": "2025-01-14T02:02:27.834Z"
   },
   {
    "duration": 59,
    "start_time": "2025-01-14T02:02:40.582Z"
   },
   {
    "duration": 42,
    "start_time": "2025-01-14T02:03:27.661Z"
   },
   {
    "duration": 42,
    "start_time": "2025-01-14T02:03:38.242Z"
   },
   {
    "duration": 25,
    "start_time": "2025-01-14T02:04:02.302Z"
   },
   {
    "duration": 13,
    "start_time": "2025-01-14T02:04:19.602Z"
   },
   {
    "duration": 27,
    "start_time": "2025-01-14T02:04:37.721Z"
   },
   {
    "duration": 18,
    "start_time": "2025-01-14T02:04:40.460Z"
   },
   {
    "duration": 6,
    "start_time": "2025-01-14T02:06:41.381Z"
   },
   {
    "duration": 4,
    "start_time": "2025-01-14T02:06:52.985Z"
   },
   {
    "duration": 25,
    "start_time": "2025-01-14T02:07:15.542Z"
   },
   {
    "duration": 13,
    "start_time": "2025-01-14T02:07:18.409Z"
   },
   {
    "duration": 32,
    "start_time": "2025-01-14T02:07:28.588Z"
   },
   {
    "duration": 62,
    "start_time": "2025-01-14T02:07:33.224Z"
   },
   {
    "duration": 25,
    "start_time": "2025-01-14T02:08:08.705Z"
   },
   {
    "duration": 18,
    "start_time": "2025-01-14T02:08:10.868Z"
   },
   {
    "duration": 8,
    "start_time": "2025-01-14T02:08:19.807Z"
   },
   {
    "duration": 358,
    "start_time": "2025-01-14T02:08:25.688Z"
   },
   {
    "duration": 4,
    "start_time": "2025-01-14T02:08:31.830Z"
   },
   {
    "duration": 100,
    "start_time": "2025-01-14T02:08:37.263Z"
   },
   {
    "duration": 11,
    "start_time": "2025-01-14T02:08:45.252Z"
   },
   {
    "duration": 655,
    "start_time": "2025-01-14T02:08:50.228Z"
   },
   {
    "duration": 47,
    "start_time": "2025-01-14T02:08:55.597Z"
   },
   {
    "duration": 48,
    "start_time": "2025-01-14T02:12:22.640Z"
   },
   {
    "duration": 43,
    "start_time": "2025-01-14T02:12:25.209Z"
   },
   {
    "duration": 3,
    "start_time": "2025-01-14T02:12:29.147Z"
   },
   {
    "duration": 161,
    "start_time": "2025-01-14T02:12:29.154Z"
   },
   {
    "duration": 13,
    "start_time": "2025-01-14T02:12:29.316Z"
   },
   {
    "duration": 6,
    "start_time": "2025-01-14T02:12:29.331Z"
   },
   {
    "duration": 10,
    "start_time": "2025-01-14T02:12:29.339Z"
   },
   {
    "duration": 11,
    "start_time": "2025-01-14T02:12:29.350Z"
   },
   {
    "duration": 5,
    "start_time": "2025-01-14T02:12:29.362Z"
   },
   {
    "duration": 8,
    "start_time": "2025-01-14T02:12:29.369Z"
   },
   {
    "duration": 7,
    "start_time": "2025-01-14T02:12:29.378Z"
   },
   {
    "duration": 15,
    "start_time": "2025-01-14T02:12:29.425Z"
   },
   {
    "duration": 4,
    "start_time": "2025-01-14T02:12:29.444Z"
   },
   {
    "duration": 74,
    "start_time": "2025-01-14T02:12:29.450Z"
   },
   {
    "duration": 737,
    "start_time": "2025-01-14T02:12:29.526Z"
   },
   {
    "duration": 11,
    "start_time": "2025-01-14T02:12:30.265Z"
   },
   {
    "duration": 4,
    "start_time": "2025-01-14T02:12:30.278Z"
   },
   {
    "duration": 17,
    "start_time": "2025-01-14T02:12:30.283Z"
   },
   {
    "duration": 35,
    "start_time": "2025-01-14T02:12:30.301Z"
   },
   {
    "duration": 5,
    "start_time": "2025-01-14T02:12:30.337Z"
   },
   {
    "duration": 40,
    "start_time": "2025-01-14T02:12:30.343Z"
   },
   {
    "duration": 7,
    "start_time": "2025-01-14T02:12:30.385Z"
   },
   {
    "duration": 53,
    "start_time": "2025-01-14T02:12:30.394Z"
   },
   {
    "duration": 11,
    "start_time": "2025-01-14T02:12:30.449Z"
   },
   {
    "duration": 20,
    "start_time": "2025-01-14T02:12:30.461Z"
   },
   {
    "duration": 44,
    "start_time": "2025-01-14T02:12:30.483Z"
   },
   {
    "duration": 16,
    "start_time": "2025-01-14T02:12:30.528Z"
   },
   {
    "duration": 12,
    "start_time": "2025-01-14T02:12:30.545Z"
   },
   {
    "duration": 25,
    "start_time": "2025-01-14T02:12:30.558Z"
   },
   {
    "duration": 0,
    "start_time": "2025-01-14T02:12:30.584Z"
   },
   {
    "duration": 0,
    "start_time": "2025-01-14T02:12:30.586Z"
   },
   {
    "duration": 0,
    "start_time": "2025-01-14T02:12:30.587Z"
   },
   {
    "duration": 0,
    "start_time": "2025-01-14T02:12:30.588Z"
   },
   {
    "duration": 0,
    "start_time": "2025-01-14T02:12:30.589Z"
   },
   {
    "duration": 0,
    "start_time": "2025-01-14T02:12:30.590Z"
   },
   {
    "duration": 0,
    "start_time": "2025-01-14T02:12:30.591Z"
   },
   {
    "duration": 0,
    "start_time": "2025-01-14T02:12:30.592Z"
   },
   {
    "duration": 0,
    "start_time": "2025-01-14T02:12:30.593Z"
   },
   {
    "duration": 60,
    "start_time": "2025-01-14T02:12:50.520Z"
   },
   {
    "duration": 8,
    "start_time": "2025-01-14T02:13:03.209Z"
   },
   {
    "duration": 362,
    "start_time": "2025-01-14T02:13:08.600Z"
   },
   {
    "duration": 4,
    "start_time": "2025-01-14T02:13:13.877Z"
   },
   {
    "duration": 99,
    "start_time": "2025-01-14T02:13:17.792Z"
   },
   {
    "duration": 104,
    "start_time": "2025-01-14T02:13:22.420Z"
   },
   {
    "duration": 142,
    "start_time": "2025-01-14T02:13:28.736Z"
   },
   {
    "duration": 114,
    "start_time": "2025-01-14T02:13:34.019Z"
   },
   {
    "duration": 681,
    "start_time": "2025-01-14T02:13:43.464Z"
   },
   {
    "duration": 42,
    "start_time": "2025-01-14T02:13:48.377Z"
   },
   {
    "duration": 23,
    "start_time": "2025-01-14T02:14:17.674Z"
   },
   {
    "duration": 821,
    "start_time": "2025-01-14T02:14:24.693Z"
   },
   {
    "duration": 43,
    "start_time": "2025-01-14T02:14:52.303Z"
   },
   {
    "duration": 44,
    "start_time": "2025-01-14T02:14:55.402Z"
   },
   {
    "duration": 43,
    "start_time": "2025-01-14T02:15:19.649Z"
   },
   {
    "duration": 42,
    "start_time": "2025-01-14T02:15:22.418Z"
   },
   {
    "duration": 704,
    "start_time": "2025-01-14T02:15:27.476Z"
   },
   {
    "duration": 3,
    "start_time": "2025-01-14T02:15:41.696Z"
   },
   {
    "duration": 165,
    "start_time": "2025-01-14T02:15:41.701Z"
   },
   {
    "duration": 9,
    "start_time": "2025-01-14T02:15:41.868Z"
   },
   {
    "duration": 5,
    "start_time": "2025-01-14T02:15:41.879Z"
   },
   {
    "duration": 10,
    "start_time": "2025-01-14T02:15:41.886Z"
   },
   {
    "duration": 27,
    "start_time": "2025-01-14T02:15:41.897Z"
   },
   {
    "duration": 5,
    "start_time": "2025-01-14T02:15:41.926Z"
   },
   {
    "duration": 7,
    "start_time": "2025-01-14T02:15:41.933Z"
   },
   {
    "duration": 7,
    "start_time": "2025-01-14T02:15:41.942Z"
   },
   {
    "duration": 15,
    "start_time": "2025-01-14T02:15:41.951Z"
   },
   {
    "duration": 4,
    "start_time": "2025-01-14T02:15:41.968Z"
   },
   {
    "duration": 98,
    "start_time": "2025-01-14T02:15:41.974Z"
   },
   {
    "duration": 754,
    "start_time": "2025-01-14T02:15:42.074Z"
   },
   {
    "duration": 11,
    "start_time": "2025-01-14T02:15:42.830Z"
   },
   {
    "duration": 4,
    "start_time": "2025-01-14T02:15:42.843Z"
   },
   {
    "duration": 17,
    "start_time": "2025-01-14T02:15:42.849Z"
   },
   {
    "duration": 15,
    "start_time": "2025-01-14T02:15:42.867Z"
   },
   {
    "duration": 5,
    "start_time": "2025-01-14T02:15:42.884Z"
   },
   {
    "duration": 63,
    "start_time": "2025-01-14T02:15:42.891Z"
   },
   {
    "duration": 8,
    "start_time": "2025-01-14T02:15:42.955Z"
   },
   {
    "duration": 27,
    "start_time": "2025-01-14T02:15:42.965Z"
   },
   {
    "duration": 30,
    "start_time": "2025-01-14T02:15:42.994Z"
   },
   {
    "duration": 21,
    "start_time": "2025-01-14T02:15:43.026Z"
   },
   {
    "duration": 23,
    "start_time": "2025-01-14T02:15:43.048Z"
   },
   {
    "duration": 14,
    "start_time": "2025-01-14T02:15:43.073Z"
   },
   {
    "duration": 37,
    "start_time": "2025-01-14T02:15:43.088Z"
   },
   {
    "duration": 26,
    "start_time": "2025-01-14T02:15:43.126Z"
   },
   {
    "duration": 0,
    "start_time": "2025-01-14T02:15:43.154Z"
   },
   {
    "duration": 0,
    "start_time": "2025-01-14T02:15:43.155Z"
   },
   {
    "duration": 0,
    "start_time": "2025-01-14T02:15:43.156Z"
   },
   {
    "duration": 0,
    "start_time": "2025-01-14T02:15:43.157Z"
   },
   {
    "duration": 0,
    "start_time": "2025-01-14T02:15:43.159Z"
   },
   {
    "duration": 0,
    "start_time": "2025-01-14T02:15:43.161Z"
   },
   {
    "duration": 160,
    "start_time": "2025-01-14T02:15:45.276Z"
   },
   {
    "duration": 2,
    "start_time": "2025-01-14T02:16:06.501Z"
   },
   {
    "duration": 155,
    "start_time": "2025-01-14T02:16:06.507Z"
   },
   {
    "duration": 10,
    "start_time": "2025-01-14T02:16:06.664Z"
   },
   {
    "duration": 4,
    "start_time": "2025-01-14T02:16:06.676Z"
   },
   {
    "duration": 10,
    "start_time": "2025-01-14T02:16:06.683Z"
   },
   {
    "duration": 29,
    "start_time": "2025-01-14T02:16:06.695Z"
   },
   {
    "duration": 6,
    "start_time": "2025-01-14T02:16:06.726Z"
   },
   {
    "duration": 8,
    "start_time": "2025-01-14T02:16:06.734Z"
   },
   {
    "duration": 7,
    "start_time": "2025-01-14T02:16:06.744Z"
   },
   {
    "duration": 15,
    "start_time": "2025-01-14T02:16:06.753Z"
   },
   {
    "duration": 5,
    "start_time": "2025-01-14T02:16:06.771Z"
   },
   {
    "duration": 92,
    "start_time": "2025-01-14T02:16:06.777Z"
   },
   {
    "duration": 670,
    "start_time": "2025-01-14T02:16:06.871Z"
   },
   {
    "duration": 11,
    "start_time": "2025-01-14T02:16:07.543Z"
   },
   {
    "duration": 4,
    "start_time": "2025-01-14T02:16:07.556Z"
   },
   {
    "duration": 15,
    "start_time": "2025-01-14T02:16:07.562Z"
   },
   {
    "duration": 14,
    "start_time": "2025-01-14T02:16:07.578Z"
   },
   {
    "duration": 36,
    "start_time": "2025-01-14T02:16:07.593Z"
   },
   {
    "duration": 33,
    "start_time": "2025-01-14T02:16:07.631Z"
   },
   {
    "duration": 7,
    "start_time": "2025-01-14T02:16:07.666Z"
   },
   {
    "duration": 31,
    "start_time": "2025-01-14T02:16:07.675Z"
   },
   {
    "duration": 11,
    "start_time": "2025-01-14T02:16:07.727Z"
   },
   {
    "duration": 22,
    "start_time": "2025-01-14T02:16:07.739Z"
   },
   {
    "duration": 23,
    "start_time": "2025-01-14T02:16:07.763Z"
   },
   {
    "duration": 36,
    "start_time": "2025-01-14T02:16:07.788Z"
   },
   {
    "duration": 15,
    "start_time": "2025-01-14T02:16:07.826Z"
   },
   {
    "duration": 26,
    "start_time": "2025-01-14T02:16:11.290Z"
   },
   {
    "duration": 17,
    "start_time": "2025-01-14T02:16:21.556Z"
   },
   {
    "duration": 23,
    "start_time": "2025-01-14T02:16:35.665Z"
   },
   {
    "duration": 13,
    "start_time": "2025-01-14T02:16:38.244Z"
   },
   {
    "duration": 15,
    "start_time": "2025-01-14T02:16:44.975Z"
   },
   {
    "duration": 13,
    "start_time": "2025-01-14T02:17:09.423Z"
   },
   {
    "duration": 25,
    "start_time": "2025-01-14T02:17:17.012Z"
   },
   {
    "duration": 69,
    "start_time": "2025-01-14T02:17:31.611Z"
   },
   {
    "duration": 24,
    "start_time": "2025-01-14T02:18:22.760Z"
   },
   {
    "duration": 27,
    "start_time": "2025-01-14T02:18:33.597Z"
   },
   {
    "duration": 9,
    "start_time": "2025-01-14T02:18:41.888Z"
   },
   {
    "duration": 366,
    "start_time": "2025-01-14T02:18:47.610Z"
   },
   {
    "duration": 4,
    "start_time": "2025-01-14T02:18:54.372Z"
   },
   {
    "duration": 98,
    "start_time": "2025-01-14T02:18:57.803Z"
   },
   {
    "duration": 192,
    "start_time": "2025-01-14T02:19:02.594Z"
   },
   {
    "duration": 110,
    "start_time": "2025-01-14T02:19:07.436Z"
   },
   {
    "duration": 12,
    "start_time": "2025-01-14T02:19:13.184Z"
   },
   {
    "duration": 657,
    "start_time": "2025-01-14T02:19:18.592Z"
   },
   {
    "duration": 54,
    "start_time": "2025-01-14T02:19:22.342Z"
   },
   {
    "duration": 50,
    "start_time": "2025-01-14T02:19:46.738Z"
   },
   {
    "duration": 48,
    "start_time": "2025-01-14T02:20:00.541Z"
   },
   {
    "duration": 41,
    "start_time": "2025-01-14T02:20:22.912Z"
   },
   {
    "duration": 41,
    "start_time": "2025-01-14T02:20:25.091Z"
   },
   {
    "duration": 41,
    "start_time": "2025-01-14T02:20:39.211Z"
   },
   {
    "duration": 3,
    "start_time": "2025-01-14T02:21:18.564Z"
   },
   {
    "duration": 170,
    "start_time": "2025-01-14T02:21:18.571Z"
   },
   {
    "duration": 8,
    "start_time": "2025-01-14T02:21:18.743Z"
   },
   {
    "duration": 6,
    "start_time": "2025-01-14T02:21:18.753Z"
   },
   {
    "duration": 10,
    "start_time": "2025-01-14T02:21:18.760Z"
   },
   {
    "duration": 9,
    "start_time": "2025-01-14T02:21:18.772Z"
   },
   {
    "duration": 6,
    "start_time": "2025-01-14T02:21:18.783Z"
   },
   {
    "duration": 39,
    "start_time": "2025-01-14T02:21:18.791Z"
   },
   {
    "duration": 7,
    "start_time": "2025-01-14T02:21:18.832Z"
   },
   {
    "duration": 15,
    "start_time": "2025-01-14T02:21:18.841Z"
   },
   {
    "duration": 4,
    "start_time": "2025-01-14T02:21:18.860Z"
   },
   {
    "duration": 82,
    "start_time": "2025-01-14T02:21:18.865Z"
   },
   {
    "duration": 685,
    "start_time": "2025-01-14T02:21:18.949Z"
   },
   {
    "duration": 11,
    "start_time": "2025-01-14T02:21:19.637Z"
   },
   {
    "duration": 3,
    "start_time": "2025-01-14T02:21:19.651Z"
   },
   {
    "duration": 18,
    "start_time": "2025-01-14T02:21:19.656Z"
   },
   {
    "duration": 14,
    "start_time": "2025-01-14T02:21:19.675Z"
   },
   {
    "duration": 35,
    "start_time": "2025-01-14T02:21:19.690Z"
   },
   {
    "duration": 32,
    "start_time": "2025-01-14T02:21:19.726Z"
   },
   {
    "duration": 7,
    "start_time": "2025-01-14T02:21:19.762Z"
   },
   {
    "duration": 27,
    "start_time": "2025-01-14T02:21:19.770Z"
   },
   {
    "duration": 28,
    "start_time": "2025-01-14T02:21:19.799Z"
   },
   {
    "duration": 22,
    "start_time": "2025-01-14T02:21:19.828Z"
   },
   {
    "duration": 23,
    "start_time": "2025-01-14T02:21:19.852Z"
   },
   {
    "duration": 14,
    "start_time": "2025-01-14T02:21:19.877Z"
   },
   {
    "duration": 37,
    "start_time": "2025-01-14T02:21:19.893Z"
   },
   {
    "duration": 23,
    "start_time": "2025-01-14T02:21:19.932Z"
   },
   {
    "duration": 0,
    "start_time": "2025-01-14T02:21:19.958Z"
   },
   {
    "duration": 0,
    "start_time": "2025-01-14T02:21:19.959Z"
   },
   {
    "duration": 0,
    "start_time": "2025-01-14T02:21:19.961Z"
   },
   {
    "duration": 0,
    "start_time": "2025-01-14T02:21:19.962Z"
   },
   {
    "duration": 0,
    "start_time": "2025-01-14T02:21:19.963Z"
   },
   {
    "duration": 0,
    "start_time": "2025-01-14T02:21:19.965Z"
   },
   {
    "duration": 0,
    "start_time": "2025-01-14T02:21:19.966Z"
   },
   {
    "duration": 0,
    "start_time": "2025-01-14T02:21:19.967Z"
   },
   {
    "duration": 0,
    "start_time": "2025-01-14T02:21:19.968Z"
   },
   {
    "duration": 60,
    "start_time": "2025-01-14T02:21:33.092Z"
   },
   {
    "duration": 26,
    "start_time": "2025-01-14T02:21:42.384Z"
   },
   {
    "duration": 16,
    "start_time": "2025-01-14T02:21:47.260Z"
   },
   {
    "duration": 13,
    "start_time": "2025-01-14T02:21:51.541Z"
   },
   {
    "duration": 25,
    "start_time": "2025-01-14T02:22:06.960Z"
   },
   {
    "duration": 145,
    "start_time": "2025-01-14T02:22:15.435Z"
   },
   {
    "duration": 25,
    "start_time": "2025-01-14T02:23:54.813Z"
   },
   {
    "duration": 39,
    "start_time": "2025-01-14T02:24:22.683Z"
   },
   {
    "duration": 35,
    "start_time": "2025-01-14T02:24:33.672Z"
   },
   {
    "duration": 61,
    "start_time": "2025-01-14T02:24:50.539Z"
   },
   {
    "duration": 25,
    "start_time": "2025-01-14T02:25:25.376Z"
   },
   {
    "duration": 5,
    "start_time": "2025-01-14T02:26:45.719Z"
   },
   {
    "duration": 371,
    "start_time": "2025-01-14T02:26:52.190Z"
   },
   {
    "duration": 26,
    "start_time": "2025-01-14T02:27:50.782Z"
   },
   {
    "duration": 66,
    "start_time": "2025-01-14T02:27:53.764Z"
   },
   {
    "duration": 26,
    "start_time": "2025-01-14T02:28:23.885Z"
   },
   {
    "duration": 19,
    "start_time": "2025-01-14T02:28:26.874Z"
   },
   {
    "duration": 25,
    "start_time": "2025-01-14T02:28:39.911Z"
   },
   {
    "duration": 82,
    "start_time": "2025-01-14T02:28:42.119Z"
   },
   {
    "duration": 24,
    "start_time": "2025-01-14T02:29:04.721Z"
   },
   {
    "duration": 19,
    "start_time": "2025-01-14T02:29:07.131Z"
   },
   {
    "duration": 8,
    "start_time": "2025-01-14T02:29:15.175Z"
   },
   {
    "duration": 364,
    "start_time": "2025-01-14T02:29:19.128Z"
   },
   {
    "duration": 4,
    "start_time": "2025-01-14T02:29:24.637Z"
   },
   {
    "duration": 94,
    "start_time": "2025-01-14T02:29:28.422Z"
   },
   {
    "duration": 97,
    "start_time": "2025-01-14T02:29:33.656Z"
   },
   {
    "duration": 98,
    "start_time": "2025-01-14T02:29:38.766Z"
   },
   {
    "duration": 12,
    "start_time": "2025-01-14T02:29:46.242Z"
   },
   {
    "duration": 691,
    "start_time": "2025-01-14T02:29:51.996Z"
   },
   {
    "duration": 45,
    "start_time": "2025-01-14T02:29:56.694Z"
   },
   {
    "duration": 40,
    "start_time": "2025-01-14T02:30:02.939Z"
   },
   {
    "duration": 45,
    "start_time": "2025-01-14T02:30:23.613Z"
   },
   {
    "duration": 43,
    "start_time": "2025-01-14T02:30:25.777Z"
   },
   {
    "duration": 4,
    "start_time": "2025-01-14T02:30:36.494Z"
   },
   {
    "duration": 191,
    "start_time": "2025-01-14T02:30:36.501Z"
   },
   {
    "duration": 16,
    "start_time": "2025-01-14T02:30:36.694Z"
   },
   {
    "duration": 18,
    "start_time": "2025-01-14T02:30:36.712Z"
   },
   {
    "duration": 12,
    "start_time": "2025-01-14T02:30:36.733Z"
   },
   {
    "duration": 13,
    "start_time": "2025-01-14T02:30:36.747Z"
   },
   {
    "duration": 7,
    "start_time": "2025-01-14T02:30:36.762Z"
   },
   {
    "duration": 9,
    "start_time": "2025-01-14T02:30:36.771Z"
   },
   {
    "duration": 8,
    "start_time": "2025-01-14T02:30:36.782Z"
   },
   {
    "duration": 19,
    "start_time": "2025-01-14T02:30:36.825Z"
   },
   {
    "duration": 6,
    "start_time": "2025-01-14T02:30:36.848Z"
   },
   {
    "duration": 100,
    "start_time": "2025-01-14T02:30:36.856Z"
   },
   {
    "duration": 938,
    "start_time": "2025-01-14T02:30:36.958Z"
   },
   {
    "duration": 13,
    "start_time": "2025-01-14T02:30:37.898Z"
   },
   {
    "duration": 5,
    "start_time": "2025-01-14T02:30:37.924Z"
   },
   {
    "duration": 22,
    "start_time": "2025-01-14T02:30:37.931Z"
   },
   {
    "duration": 14,
    "start_time": "2025-01-14T02:30:37.955Z"
   },
   {
    "duration": 4,
    "start_time": "2025-01-14T02:30:37.971Z"
   },
   {
    "duration": 62,
    "start_time": "2025-01-14T02:30:37.977Z"
   },
   {
    "duration": 8,
    "start_time": "2025-01-14T02:30:38.041Z"
   },
   {
    "duration": 30,
    "start_time": "2025-01-14T02:30:38.051Z"
   },
   {
    "duration": 10,
    "start_time": "2025-01-14T02:30:38.083Z"
   },
   {
    "duration": 46,
    "start_time": "2025-01-14T02:30:38.094Z"
   },
   {
    "duration": 24,
    "start_time": "2025-01-14T02:30:38.142Z"
   },
   {
    "duration": 15,
    "start_time": "2025-01-14T02:30:38.168Z"
   },
   {
    "duration": 41,
    "start_time": "2025-01-14T02:30:38.185Z"
   },
   {
    "duration": 27,
    "start_time": "2025-01-14T02:30:38.227Z"
   },
   {
    "duration": 0,
    "start_time": "2025-01-14T02:30:38.256Z"
   },
   {
    "duration": 0,
    "start_time": "2025-01-14T02:30:38.257Z"
   },
   {
    "duration": 0,
    "start_time": "2025-01-14T02:30:38.258Z"
   },
   {
    "duration": 0,
    "start_time": "2025-01-14T02:30:38.259Z"
   },
   {
    "duration": 0,
    "start_time": "2025-01-14T02:30:38.260Z"
   },
   {
    "duration": 0,
    "start_time": "2025-01-14T02:30:38.261Z"
   },
   {
    "duration": 0,
    "start_time": "2025-01-14T02:30:38.262Z"
   },
   {
    "duration": 0,
    "start_time": "2025-01-14T02:30:38.264Z"
   },
   {
    "duration": 0,
    "start_time": "2025-01-14T02:30:38.264Z"
   },
   {
    "duration": 58,
    "start_time": "2025-01-14T02:30:51.525Z"
   },
   {
    "duration": 24,
    "start_time": "2025-01-14T02:31:13.296Z"
   },
   {
    "duration": 14,
    "start_time": "2025-01-14T02:31:26.558Z"
   },
   {
    "duration": 24,
    "start_time": "2025-01-14T02:31:41.708Z"
   },
   {
    "duration": 63,
    "start_time": "2025-01-14T02:31:44.644Z"
   },
   {
    "duration": 26,
    "start_time": "2025-01-14T02:31:49.295Z"
   },
   {
    "duration": 19,
    "start_time": "2025-01-14T02:31:51.332Z"
   },
   {
    "duration": 8,
    "start_time": "2025-01-14T02:32:08.480Z"
   },
   {
    "duration": 366,
    "start_time": "2025-01-14T02:32:12.384Z"
   },
   {
    "duration": 4,
    "start_time": "2025-01-14T02:32:17.689Z"
   },
   {
    "duration": 104,
    "start_time": "2025-01-14T02:32:20.591Z"
   },
   {
    "duration": 102,
    "start_time": "2025-01-14T02:32:25.766Z"
   },
   {
    "duration": 121,
    "start_time": "2025-01-14T02:32:31.340Z"
   },
   {
    "duration": 13,
    "start_time": "2025-01-14T02:32:38.209Z"
   },
   {
    "duration": 675,
    "start_time": "2025-01-14T02:32:43.089Z"
   },
   {
    "duration": 41,
    "start_time": "2025-01-14T02:32:53.472Z"
   },
   {
    "duration": 3,
    "start_time": "2025-01-14T02:33:35.339Z"
   },
   {
    "duration": 161,
    "start_time": "2025-01-14T02:33:35.348Z"
   },
   {
    "duration": 17,
    "start_time": "2025-01-14T02:33:35.511Z"
   },
   {
    "duration": 5,
    "start_time": "2025-01-14T02:33:35.530Z"
   },
   {
    "duration": 9,
    "start_time": "2025-01-14T02:33:35.538Z"
   },
   {
    "duration": 9,
    "start_time": "2025-01-14T02:33:35.549Z"
   },
   {
    "duration": 5,
    "start_time": "2025-01-14T02:33:35.560Z"
   },
   {
    "duration": 8,
    "start_time": "2025-01-14T02:33:35.566Z"
   },
   {
    "duration": 7,
    "start_time": "2025-01-14T02:33:35.575Z"
   },
   {
    "duration": 15,
    "start_time": "2025-01-14T02:33:35.624Z"
   },
   {
    "duration": 4,
    "start_time": "2025-01-14T02:33:35.642Z"
   },
   {
    "duration": 58,
    "start_time": "2025-01-14T02:33:35.648Z"
   },
   {
    "duration": 792,
    "start_time": "2025-01-14T02:33:35.724Z"
   },
   {
    "duration": 14,
    "start_time": "2025-01-14T02:33:36.524Z"
   },
   {
    "duration": 4,
    "start_time": "2025-01-14T02:33:36.541Z"
   },
   {
    "duration": 16,
    "start_time": "2025-01-14T02:33:36.547Z"
   },
   {
    "duration": 14,
    "start_time": "2025-01-14T02:33:36.564Z"
   },
   {
    "duration": 5,
    "start_time": "2025-01-14T02:33:36.579Z"
   },
   {
    "duration": 61,
    "start_time": "2025-01-14T02:33:36.585Z"
   },
   {
    "duration": 7,
    "start_time": "2025-01-14T02:33:36.647Z"
   },
   {
    "duration": 28,
    "start_time": "2025-01-14T02:33:36.656Z"
   },
   {
    "duration": 10,
    "start_time": "2025-01-14T02:33:36.685Z"
   },
   {
    "duration": 43,
    "start_time": "2025-01-14T02:33:36.696Z"
   },
   {
    "duration": 22,
    "start_time": "2025-01-14T02:33:36.741Z"
   },
   {
    "duration": 16,
    "start_time": "2025-01-14T02:33:36.765Z"
   },
   {
    "duration": 12,
    "start_time": "2025-01-14T02:33:36.782Z"
   },
   {
    "duration": 48,
    "start_time": "2025-01-14T02:33:36.796Z"
   },
   {
    "duration": 0,
    "start_time": "2025-01-14T02:33:36.846Z"
   },
   {
    "duration": 0,
    "start_time": "2025-01-14T02:33:36.848Z"
   },
   {
    "duration": 0,
    "start_time": "2025-01-14T02:33:36.849Z"
   },
   {
    "duration": 0,
    "start_time": "2025-01-14T02:33:36.850Z"
   },
   {
    "duration": 0,
    "start_time": "2025-01-14T02:33:36.852Z"
   },
   {
    "duration": 0,
    "start_time": "2025-01-14T02:33:36.853Z"
   },
   {
    "duration": 0,
    "start_time": "2025-01-14T02:33:36.854Z"
   },
   {
    "duration": 0,
    "start_time": "2025-01-14T02:33:36.855Z"
   },
   {
    "duration": 0,
    "start_time": "2025-01-14T02:33:36.855Z"
   },
   {
    "duration": 3,
    "start_time": "2025-01-14T02:33:50.294Z"
   },
   {
    "duration": 148,
    "start_time": "2025-01-14T02:33:52.642Z"
   },
   {
    "duration": 154,
    "start_time": "2025-01-14T02:34:18.700Z"
   },
   {
    "duration": 8,
    "start_time": "2025-01-14T02:34:29.015Z"
   },
   {
    "duration": 5,
    "start_time": "2025-01-14T02:34:33.271Z"
   },
   {
    "duration": 10,
    "start_time": "2025-01-14T02:34:41.284Z"
   },
   {
    "duration": 11,
    "start_time": "2025-01-14T02:34:49.795Z"
   },
   {
    "duration": 5,
    "start_time": "2025-01-14T02:34:59.278Z"
   },
   {
    "duration": 8,
    "start_time": "2025-01-14T02:35:10.424Z"
   },
   {
    "duration": 8,
    "start_time": "2025-01-14T02:35:18.024Z"
   },
   {
    "duration": 16,
    "start_time": "2025-01-14T02:35:19.759Z"
   },
   {
    "duration": 4,
    "start_time": "2025-01-14T02:35:23.672Z"
   },
   {
    "duration": 61,
    "start_time": "2025-01-14T02:35:27.804Z"
   },
   {
    "duration": 690,
    "start_time": "2025-01-14T02:35:33.775Z"
   },
   {
    "duration": 13,
    "start_time": "2025-01-14T02:35:39.151Z"
   },
   {
    "duration": 4,
    "start_time": "2025-01-14T02:35:42.499Z"
   },
   {
    "duration": 18,
    "start_time": "2025-01-14T02:35:46.751Z"
   },
   {
    "duration": 16,
    "start_time": "2025-01-14T02:35:51.661Z"
   },
   {
    "duration": 5,
    "start_time": "2025-01-14T02:35:55.623Z"
   },
   {
    "duration": 42,
    "start_time": "2025-01-14T02:35:59.672Z"
   },
   {
    "duration": 7,
    "start_time": "2025-01-14T02:36:05.335Z"
   },
   {
    "duration": 27,
    "start_time": "2025-01-14T02:36:10.288Z"
   },
   {
    "duration": 10,
    "start_time": "2025-01-14T02:36:15.307Z"
   },
   {
    "duration": 21,
    "start_time": "2025-01-14T02:36:22.220Z"
   },
   {
    "duration": 32,
    "start_time": "2025-01-14T02:36:26.808Z"
   },
   {
    "duration": 14,
    "start_time": "2025-01-14T02:36:31.256Z"
   },
   {
    "duration": 13,
    "start_time": "2025-01-14T02:36:35.240Z"
   },
   {
    "duration": 26,
    "start_time": "2025-01-14T02:36:40.377Z"
   },
   {
    "duration": 57,
    "start_time": "2025-01-14T02:36:43.178Z"
   },
   {
    "duration": 24,
    "start_time": "2025-01-14T02:37:03.522Z"
   },
   {
    "duration": 18,
    "start_time": "2025-01-14T02:37:05.698Z"
   },
   {
    "duration": 8,
    "start_time": "2025-01-14T02:37:13.528Z"
   },
   {
    "duration": 360,
    "start_time": "2025-01-14T02:37:17.204Z"
   },
   {
    "duration": 6,
    "start_time": "2025-01-14T02:37:21.930Z"
   },
   {
    "duration": 94,
    "start_time": "2025-01-14T02:37:24.755Z"
   },
   {
    "duration": 25,
    "start_time": "2025-01-14T02:38:49.011Z"
   },
   {
    "duration": 60,
    "start_time": "2025-01-14T02:41:29.944Z"
   },
   {
    "duration": 23,
    "start_time": "2025-01-14T02:41:35.661Z"
   },
   {
    "duration": 18,
    "start_time": "2025-01-14T02:41:38.729Z"
   },
   {
    "duration": 8,
    "start_time": "2025-01-14T02:41:49.940Z"
   },
   {
    "duration": 351,
    "start_time": "2025-01-14T02:41:52.792Z"
   },
   {
    "duration": 5,
    "start_time": "2025-01-14T02:41:56.764Z"
   },
   {
    "duration": 25,
    "start_time": "2025-01-14T02:44:11.693Z"
   },
   {
    "duration": 56,
    "start_time": "2025-01-14T02:44:13.779Z"
   },
   {
    "duration": 24,
    "start_time": "2025-01-14T02:44:18.760Z"
   },
   {
    "duration": 18,
    "start_time": "2025-01-14T02:44:20.897Z"
   },
   {
    "duration": 25,
    "start_time": "2025-01-14T02:46:00.121Z"
   },
   {
    "duration": 56,
    "start_time": "2025-01-14T02:46:02.595Z"
   },
   {
    "duration": 25,
    "start_time": "2025-01-14T02:46:05.950Z"
   },
   {
    "duration": 19,
    "start_time": "2025-01-14T02:46:08.065Z"
   },
   {
    "duration": 349,
    "start_time": "2025-01-14T02:46:26.664Z"
   },
   {
    "duration": 5,
    "start_time": "2025-01-14T02:46:30.806Z"
   },
   {
    "duration": 101,
    "start_time": "2025-01-14T02:46:34.136Z"
   },
   {
    "duration": 103,
    "start_time": "2025-01-14T02:46:38.195Z"
   },
   {
    "duration": 13,
    "start_time": "2025-01-14T02:47:24.301Z"
   },
   {
    "duration": 707,
    "start_time": "2025-01-14T02:47:28.301Z"
   },
   {
    "duration": 44,
    "start_time": "2025-01-14T02:47:33.083Z"
   },
   {
    "duration": 45,
    "start_time": "2025-01-14T02:47:35.234Z"
   },
   {
    "duration": 110,
    "start_time": "2025-01-14T02:48:26.183Z"
   },
   {
    "duration": 5,
    "start_time": "2025-01-14T02:48:41.231Z"
   },
   {
    "duration": 99,
    "start_time": "2025-01-14T02:48:48.204Z"
   },
   {
    "duration": 11,
    "start_time": "2025-01-14T02:50:13.934Z"
   },
   {
    "duration": 812,
    "start_time": "2025-01-14T02:50:24.401Z"
   },
   {
    "duration": 43,
    "start_time": "2025-01-14T02:50:46.334Z"
   },
   {
    "duration": 843,
    "start_time": "2025-01-14T04:41:52.803Z"
   },
   {
    "duration": 248,
    "start_time": "2025-01-14T04:41:53.649Z"
   },
   {
    "duration": 11,
    "start_time": "2025-01-14T04:41:53.899Z"
   },
   {
    "duration": 6,
    "start_time": "2025-01-14T04:41:53.913Z"
   },
   {
    "duration": 11,
    "start_time": "2025-01-14T04:41:53.921Z"
   },
   {
    "duration": 14,
    "start_time": "2025-01-14T04:41:53.934Z"
   },
   {
    "duration": 5,
    "start_time": "2025-01-14T04:41:53.950Z"
   },
   {
    "duration": 9,
    "start_time": "2025-01-14T04:41:53.957Z"
   },
   {
    "duration": 9,
    "start_time": "2025-01-14T04:41:53.968Z"
   },
   {
    "duration": 20,
    "start_time": "2025-01-14T04:41:54.011Z"
   },
   {
    "duration": 5,
    "start_time": "2025-01-14T04:41:54.033Z"
   },
   {
    "duration": 91,
    "start_time": "2025-01-14T04:41:54.040Z"
   },
   {
    "duration": 672,
    "start_time": "2025-01-14T04:41:54.134Z"
   },
   {
    "duration": 12,
    "start_time": "2025-01-14T04:41:54.810Z"
   },
   {
    "duration": 4,
    "start_time": "2025-01-14T04:41:54.825Z"
   },
   {
    "duration": 28,
    "start_time": "2025-01-14T04:41:54.830Z"
   },
   {
    "duration": 18,
    "start_time": "2025-01-14T04:41:54.860Z"
   },
   {
    "duration": 31,
    "start_time": "2025-01-14T04:41:54.879Z"
   },
   {
    "duration": 41,
    "start_time": "2025-01-14T04:41:54.913Z"
   },
   {
    "duration": 8,
    "start_time": "2025-01-14T04:41:54.955Z"
   },
   {
    "duration": 51,
    "start_time": "2025-01-14T04:41:54.965Z"
   },
   {
    "duration": 15,
    "start_time": "2025-01-14T04:41:55.018Z"
   },
   {
    "duration": 22,
    "start_time": "2025-01-14T04:41:55.035Z"
   },
   {
    "duration": 57,
    "start_time": "2025-01-14T04:41:55.059Z"
   },
   {
    "duration": 17,
    "start_time": "2025-01-14T04:41:55.118Z"
   },
   {
    "duration": 16,
    "start_time": "2025-01-14T04:41:55.137Z"
   },
   {
    "duration": 172,
    "start_time": "2025-01-14T04:41:55.155Z"
   },
   {
    "duration": 0,
    "start_time": "2025-01-14T04:41:55.330Z"
   },
   {
    "duration": 0,
    "start_time": "2025-01-14T04:41:55.331Z"
   },
   {
    "duration": 0,
    "start_time": "2025-01-14T04:41:55.332Z"
   },
   {
    "duration": 0,
    "start_time": "2025-01-14T04:41:55.334Z"
   },
   {
    "duration": 0,
    "start_time": "2025-01-14T04:41:55.335Z"
   },
   {
    "duration": 0,
    "start_time": "2025-01-14T04:41:55.336Z"
   },
   {
    "duration": 0,
    "start_time": "2025-01-14T04:41:55.336Z"
   },
   {
    "duration": 0,
    "start_time": "2025-01-14T04:41:55.337Z"
   },
   {
    "duration": 0,
    "start_time": "2025-01-14T04:41:55.338Z"
   },
   {
    "duration": 0,
    "start_time": "2025-01-14T04:41:55.339Z"
   },
   {
    "duration": 22,
    "start_time": "2025-01-14T04:46:07.826Z"
   },
   {
    "duration": 842,
    "start_time": "2025-01-14T04:46:52.100Z"
   },
   {
    "duration": 182,
    "start_time": "2025-01-14T04:46:52.945Z"
   },
   {
    "duration": 11,
    "start_time": "2025-01-14T04:46:53.129Z"
   },
   {
    "duration": 7,
    "start_time": "2025-01-14T04:46:53.142Z"
   },
   {
    "duration": 12,
    "start_time": "2025-01-14T04:46:53.151Z"
   },
   {
    "duration": 19,
    "start_time": "2025-01-14T04:46:53.165Z"
   },
   {
    "duration": 28,
    "start_time": "2025-01-14T04:46:53.186Z"
   },
   {
    "duration": 9,
    "start_time": "2025-01-14T04:46:53.216Z"
   },
   {
    "duration": 9,
    "start_time": "2025-01-14T04:46:53.227Z"
   },
   {
    "duration": 15,
    "start_time": "2025-01-14T04:46:53.241Z"
   },
   {
    "duration": 5,
    "start_time": "2025-01-14T04:46:53.258Z"
   },
   {
    "duration": 111,
    "start_time": "2025-01-14T04:46:53.265Z"
   },
   {
    "duration": 665,
    "start_time": "2025-01-14T04:46:53.377Z"
   },
   {
    "duration": 13,
    "start_time": "2025-01-14T04:46:54.044Z"
   },
   {
    "duration": 6,
    "start_time": "2025-01-14T04:46:54.059Z"
   },
   {
    "duration": 18,
    "start_time": "2025-01-14T04:46:54.067Z"
   },
   {
    "duration": 38,
    "start_time": "2025-01-14T04:46:54.086Z"
   },
   {
    "duration": 5,
    "start_time": "2025-01-14T04:46:54.126Z"
   },
   {
    "duration": 47,
    "start_time": "2025-01-14T04:46:54.133Z"
   },
   {
    "duration": 27,
    "start_time": "2025-01-14T04:46:54.182Z"
   },
   {
    "duration": 38,
    "start_time": "2025-01-14T04:46:54.211Z"
   },
   {
    "duration": 17,
    "start_time": "2025-01-14T04:46:54.251Z"
   },
   {
    "duration": 45,
    "start_time": "2025-01-14T04:46:54.271Z"
   },
   {
    "duration": 31,
    "start_time": "2025-01-14T04:46:54.319Z"
   },
   {
    "duration": 17,
    "start_time": "2025-01-14T04:46:54.352Z"
   },
   {
    "duration": 38,
    "start_time": "2025-01-14T04:46:54.371Z"
   },
   {
    "duration": 16,
    "start_time": "2025-01-14T04:46:54.411Z"
   },
   {
    "duration": 7,
    "start_time": "2025-01-14T04:46:54.431Z"
   },
   {
    "duration": 426,
    "start_time": "2025-01-14T04:46:54.440Z"
   },
   {
    "duration": 5,
    "start_time": "2025-01-14T04:46:54.868Z"
   },
   {
    "duration": 114,
    "start_time": "2025-01-14T04:46:54.875Z"
   },
   {
    "duration": 186,
    "start_time": "2025-01-14T04:46:54.991Z"
   },
   {
    "duration": 5,
    "start_time": "2025-01-14T04:46:55.181Z"
   },
   {
    "duration": 130,
    "start_time": "2025-01-14T04:46:55.188Z"
   },
   {
    "duration": 14,
    "start_time": "2025-01-14T04:46:55.320Z"
   },
   {
    "duration": 731,
    "start_time": "2025-01-14T04:46:55.336Z"
   },
   {
    "duration": 792,
    "start_time": "2025-01-14T04:46:56.069Z"
   },
   {
    "duration": 20,
    "start_time": "2025-01-14T04:54:37.557Z"
   },
   {
    "duration": 17,
    "start_time": "2025-01-14T04:56:59.326Z"
   },
   {
    "duration": 157,
    "start_time": "2025-01-14T05:02:40.024Z"
   },
   {
    "duration": 14,
    "start_time": "2025-01-14T05:02:46.639Z"
   },
   {
    "duration": 15,
    "start_time": "2025-01-14T05:03:10.075Z"
   },
   {
    "duration": 14,
    "start_time": "2025-01-14T05:03:15.498Z"
   },
   {
    "duration": 14,
    "start_time": "2025-01-14T05:03:20.504Z"
   },
   {
    "duration": 14,
    "start_time": "2025-01-14T05:03:25.047Z"
   },
   {
    "duration": 2556,
    "start_time": "2025-01-14T05:03:29.282Z"
   },
   {
    "duration": 250,
    "start_time": "2025-01-14T05:03:31.840Z"
   },
   {
    "duration": 11,
    "start_time": "2025-01-14T05:03:32.092Z"
   },
   {
    "duration": 8,
    "start_time": "2025-01-14T05:03:32.104Z"
   },
   {
    "duration": 12,
    "start_time": "2025-01-14T05:03:32.115Z"
   },
   {
    "duration": 11,
    "start_time": "2025-01-14T05:03:32.129Z"
   },
   {
    "duration": 5,
    "start_time": "2025-01-14T05:03:32.142Z"
   },
   {
    "duration": 9,
    "start_time": "2025-01-14T05:03:32.149Z"
   },
   {
    "duration": 8,
    "start_time": "2025-01-14T05:03:32.159Z"
   },
   {
    "duration": 54,
    "start_time": "2025-01-14T05:03:32.169Z"
   },
   {
    "duration": 4,
    "start_time": "2025-01-14T05:03:32.225Z"
   },
   {
    "duration": 84,
    "start_time": "2025-01-14T05:03:32.231Z"
   },
   {
    "duration": 697,
    "start_time": "2025-01-14T05:03:32.317Z"
   },
   {
    "duration": 12,
    "start_time": "2025-01-14T05:03:33.018Z"
   },
   {
    "duration": 4,
    "start_time": "2025-01-14T05:03:33.032Z"
   },
   {
    "duration": 18,
    "start_time": "2025-01-14T05:03:33.037Z"
   },
   {
    "duration": 13,
    "start_time": "2025-01-14T05:03:33.057Z"
   },
   {
    "duration": 5,
    "start_time": "2025-01-14T05:03:33.073Z"
   },
   {
    "duration": 74,
    "start_time": "2025-01-14T05:03:33.080Z"
   },
   {
    "duration": 9,
    "start_time": "2025-01-14T05:03:33.155Z"
   },
   {
    "duration": 47,
    "start_time": "2025-01-14T05:03:33.166Z"
   },
   {
    "duration": 16,
    "start_time": "2025-01-14T05:03:33.215Z"
   },
   {
    "duration": 28,
    "start_time": "2025-01-14T05:03:33.236Z"
   },
   {
    "duration": 49,
    "start_time": "2025-01-14T05:03:33.266Z"
   },
   {
    "duration": 17,
    "start_time": "2025-01-14T05:03:33.319Z"
   },
   {
    "duration": 16,
    "start_time": "2025-01-14T05:03:33.337Z"
   },
   {
    "duration": 14,
    "start_time": "2025-01-14T05:03:33.355Z"
   },
   {
    "duration": 8,
    "start_time": "2025-01-14T05:03:33.370Z"
   },
   {
    "duration": 396,
    "start_time": "2025-01-14T05:03:33.404Z"
   },
   {
    "duration": 5,
    "start_time": "2025-01-14T05:03:33.801Z"
   },
   {
    "duration": 115,
    "start_time": "2025-01-14T05:03:33.808Z"
   },
   {
    "duration": 131,
    "start_time": "2025-01-14T05:03:33.925Z"
   },
   {
    "duration": 5,
    "start_time": "2025-01-14T05:03:34.059Z"
   },
   {
    "duration": 127,
    "start_time": "2025-01-14T05:03:34.066Z"
   },
   {
    "duration": 17,
    "start_time": "2025-01-14T05:03:34.195Z"
   },
   {
    "duration": 802,
    "start_time": "2025-01-14T05:03:34.214Z"
   },
   {
    "duration": 525,
    "start_time": "2025-01-14T05:03:35.018Z"
   },
   {
    "duration": 28,
    "start_time": "2025-01-14T05:05:37.756Z"
   },
   {
    "duration": 4,
    "start_time": "2025-01-14T05:05:41.895Z"
   },
   {
    "duration": 164,
    "start_time": "2025-01-14T05:05:41.902Z"
   },
   {
    "duration": 9,
    "start_time": "2025-01-14T05:05:42.068Z"
   },
   {
    "duration": 5,
    "start_time": "2025-01-14T05:05:42.078Z"
   },
   {
    "duration": 20,
    "start_time": "2025-01-14T05:05:42.086Z"
   },
   {
    "duration": 12,
    "start_time": "2025-01-14T05:05:42.108Z"
   },
   {
    "duration": 6,
    "start_time": "2025-01-14T05:05:42.122Z"
   },
   {
    "duration": 8,
    "start_time": "2025-01-14T05:05:42.130Z"
   },
   {
    "duration": 7,
    "start_time": "2025-01-14T05:05:42.140Z"
   },
   {
    "duration": 16,
    "start_time": "2025-01-14T05:05:42.149Z"
   },
   {
    "duration": 42,
    "start_time": "2025-01-14T05:05:42.168Z"
   },
   {
    "duration": 58,
    "start_time": "2025-01-14T05:05:42.212Z"
   },
   {
    "duration": 725,
    "start_time": "2025-01-14T05:05:42.272Z"
   },
   {
    "duration": 21,
    "start_time": "2025-01-14T05:05:42.998Z"
   },
   {
    "duration": 4,
    "start_time": "2025-01-14T05:05:43.022Z"
   },
   {
    "duration": 19,
    "start_time": "2025-01-14T05:05:43.028Z"
   },
   {
    "duration": 16,
    "start_time": "2025-01-14T05:05:43.050Z"
   },
   {
    "duration": 5,
    "start_time": "2025-01-14T05:05:43.068Z"
   },
   {
    "duration": 66,
    "start_time": "2025-01-14T05:05:43.075Z"
   },
   {
    "duration": 7,
    "start_time": "2025-01-14T05:05:43.142Z"
   },
   {
    "duration": 27,
    "start_time": "2025-01-14T05:05:43.151Z"
   },
   {
    "duration": 32,
    "start_time": "2025-01-14T05:05:43.179Z"
   },
   {
    "duration": 23,
    "start_time": "2025-01-14T05:05:43.213Z"
   },
   {
    "duration": 23,
    "start_time": "2025-01-14T05:05:43.238Z"
   },
   {
    "duration": 15,
    "start_time": "2025-01-14T05:05:43.263Z"
   },
   {
    "duration": 40,
    "start_time": "2025-01-14T05:05:43.280Z"
   },
   {
    "duration": 2,
    "start_time": "2025-01-14T05:06:05.379Z"
   },
   {
    "duration": 196,
    "start_time": "2025-01-14T05:06:05.386Z"
   },
   {
    "duration": 8,
    "start_time": "2025-01-14T05:06:05.584Z"
   },
   {
    "duration": 12,
    "start_time": "2025-01-14T05:06:05.593Z"
   },
   {
    "duration": 9,
    "start_time": "2025-01-14T05:06:05.607Z"
   },
   {
    "duration": 11,
    "start_time": "2025-01-14T05:06:05.618Z"
   },
   {
    "duration": 5,
    "start_time": "2025-01-14T05:06:05.631Z"
   },
   {
    "duration": 7,
    "start_time": "2025-01-14T05:06:05.638Z"
   },
   {
    "duration": 8,
    "start_time": "2025-01-14T05:06:05.646Z"
   },
   {
    "duration": 16,
    "start_time": "2025-01-14T05:06:05.655Z"
   },
   {
    "duration": 5,
    "start_time": "2025-01-14T05:06:05.707Z"
   },
   {
    "duration": 60,
    "start_time": "2025-01-14T05:06:05.714Z"
   },
   {
    "duration": 750,
    "start_time": "2025-01-14T05:06:05.776Z"
   },
   {
    "duration": 16,
    "start_time": "2025-01-14T05:06:06.528Z"
   },
   {
    "duration": 5,
    "start_time": "2025-01-14T05:06:06.546Z"
   },
   {
    "duration": 19,
    "start_time": "2025-01-14T05:06:06.552Z"
   },
   {
    "duration": 34,
    "start_time": "2025-01-14T05:06:06.573Z"
   },
   {
    "duration": 6,
    "start_time": "2025-01-14T05:06:06.609Z"
   },
   {
    "duration": 33,
    "start_time": "2025-01-14T05:06:06.617Z"
   },
   {
    "duration": 8,
    "start_time": "2025-01-14T05:06:06.652Z"
   },
   {
    "duration": 49,
    "start_time": "2025-01-14T05:06:06.662Z"
   },
   {
    "duration": 11,
    "start_time": "2025-01-14T05:06:06.714Z"
   },
   {
    "duration": 22,
    "start_time": "2025-01-14T05:06:06.726Z"
   },
   {
    "duration": 31,
    "start_time": "2025-01-14T05:06:06.750Z"
   },
   {
    "duration": 39,
    "start_time": "2025-01-14T05:06:06.783Z"
   },
   {
    "duration": 16,
    "start_time": "2025-01-14T05:06:09.912Z"
   },
   {
    "duration": 19,
    "start_time": "2025-01-14T05:06:14.755Z"
   },
   {
    "duration": 17,
    "start_time": "2025-01-14T05:06:18.908Z"
   },
   {
    "duration": 20,
    "start_time": "2025-01-14T05:06:27.044Z"
   },
   {
    "duration": 25,
    "start_time": "2025-01-14T05:07:50.711Z"
   },
   {
    "duration": 25,
    "start_time": "2025-01-14T05:08:10.335Z"
   },
   {
    "duration": 26,
    "start_time": "2025-01-14T05:08:15.016Z"
   },
   {
    "duration": 14,
    "start_time": "2025-01-14T05:08:18.207Z"
   },
   {
    "duration": 18,
    "start_time": "2025-01-14T05:08:30.482Z"
   },
   {
    "duration": 10,
    "start_time": "2025-01-14T05:08:38.342Z"
   },
   {
    "duration": 388,
    "start_time": "2025-01-14T05:08:42.124Z"
   },
   {
    "duration": 42,
    "start_time": "2025-01-14T05:16:37.039Z"
   },
   {
    "duration": 3,
    "start_time": "2025-01-14T05:16:43.927Z"
   },
   {
    "duration": 170,
    "start_time": "2025-01-14T05:16:43.934Z"
   },
   {
    "duration": 9,
    "start_time": "2025-01-14T05:16:44.106Z"
   },
   {
    "duration": 6,
    "start_time": "2025-01-14T05:16:44.117Z"
   },
   {
    "duration": 11,
    "start_time": "2025-01-14T05:16:44.126Z"
   },
   {
    "duration": 12,
    "start_time": "2025-01-14T05:16:44.138Z"
   },
   {
    "duration": 7,
    "start_time": "2025-01-14T05:16:44.151Z"
   },
   {
    "duration": 8,
    "start_time": "2025-01-14T05:16:44.160Z"
   },
   {
    "duration": 40,
    "start_time": "2025-01-14T05:16:44.169Z"
   },
   {
    "duration": 17,
    "start_time": "2025-01-14T05:16:44.211Z"
   },
   {
    "duration": 5,
    "start_time": "2025-01-14T05:16:44.231Z"
   },
   {
    "duration": 89,
    "start_time": "2025-01-14T05:16:44.238Z"
   },
   {
    "duration": 695,
    "start_time": "2025-01-14T05:16:44.328Z"
   },
   {
    "duration": 12,
    "start_time": "2025-01-14T05:16:45.024Z"
   },
   {
    "duration": 5,
    "start_time": "2025-01-14T05:16:45.038Z"
   },
   {
    "duration": 17,
    "start_time": "2025-01-14T05:16:45.044Z"
   },
   {
    "duration": 42,
    "start_time": "2025-01-14T05:16:45.063Z"
   },
   {
    "duration": 6,
    "start_time": "2025-01-14T05:16:45.107Z"
   },
   {
    "duration": 38,
    "start_time": "2025-01-14T05:16:45.115Z"
   },
   {
    "duration": 8,
    "start_time": "2025-01-14T05:16:45.154Z"
   },
   {
    "duration": 53,
    "start_time": "2025-01-14T05:16:45.163Z"
   },
   {
    "duration": 10,
    "start_time": "2025-01-14T05:16:45.218Z"
   },
   {
    "duration": 22,
    "start_time": "2025-01-14T05:16:45.229Z"
   },
   {
    "duration": 23,
    "start_time": "2025-01-14T05:16:45.253Z"
   },
   {
    "duration": 42,
    "start_time": "2025-01-14T05:16:45.278Z"
   },
   {
    "duration": 24,
    "start_time": "2025-01-14T05:16:45.323Z"
   },
   {
    "duration": 0,
    "start_time": "2025-01-14T05:16:45.350Z"
   },
   {
    "duration": 0,
    "start_time": "2025-01-14T05:16:45.351Z"
   },
   {
    "duration": 0,
    "start_time": "2025-01-14T05:16:45.352Z"
   },
   {
    "duration": 44,
    "start_time": "2025-01-14T05:16:49.303Z"
   },
   {
    "duration": 52,
    "start_time": "2025-01-14T05:18:20.211Z"
   },
   {
    "duration": 5,
    "start_time": "2025-01-14T05:19:16.071Z"
   },
   {
    "duration": 100,
    "start_time": "2025-01-14T05:19:44.463Z"
   },
   {
    "duration": 4,
    "start_time": "2025-01-14T05:21:33.555Z"
   },
   {
    "duration": 3,
    "start_time": "2025-01-14T05:21:37.217Z"
   },
   {
    "duration": 97,
    "start_time": "2025-01-14T05:21:40.455Z"
   },
   {
    "duration": 179,
    "start_time": "2025-01-14T05:29:37.019Z"
   },
   {
    "duration": 44,
    "start_time": "2025-01-14T05:29:42.891Z"
   },
   {
    "duration": 3,
    "start_time": "2025-01-14T05:29:48.323Z"
   },
   {
    "duration": 162,
    "start_time": "2025-01-14T05:29:48.330Z"
   },
   {
    "duration": 11,
    "start_time": "2025-01-14T05:29:48.494Z"
   },
   {
    "duration": 5,
    "start_time": "2025-01-14T05:29:48.507Z"
   },
   {
    "duration": 11,
    "start_time": "2025-01-14T05:29:48.515Z"
   },
   {
    "duration": 10,
    "start_time": "2025-01-14T05:29:48.528Z"
   },
   {
    "duration": 6,
    "start_time": "2025-01-14T05:29:48.539Z"
   },
   {
    "duration": 8,
    "start_time": "2025-01-14T05:29:48.546Z"
   },
   {
    "duration": 7,
    "start_time": "2025-01-14T05:29:48.555Z"
   },
   {
    "duration": 15,
    "start_time": "2025-01-14T05:29:48.604Z"
   },
   {
    "duration": 4,
    "start_time": "2025-01-14T05:29:48.622Z"
   },
   {
    "duration": 58,
    "start_time": "2025-01-14T05:29:48.628Z"
   },
   {
    "duration": 755,
    "start_time": "2025-01-14T05:29:48.687Z"
   },
   {
    "duration": 11,
    "start_time": "2025-01-14T05:29:49.444Z"
   },
   {
    "duration": 4,
    "start_time": "2025-01-14T05:29:49.457Z"
   },
   {
    "duration": 17,
    "start_time": "2025-01-14T05:29:49.463Z"
   },
   {
    "duration": 36,
    "start_time": "2025-01-14T05:29:49.482Z"
   },
   {
    "duration": 6,
    "start_time": "2025-01-14T05:29:49.519Z"
   },
   {
    "duration": 33,
    "start_time": "2025-01-14T05:29:49.526Z"
   },
   {
    "duration": 8,
    "start_time": "2025-01-14T05:29:49.560Z"
   },
   {
    "duration": 54,
    "start_time": "2025-01-14T05:29:49.569Z"
   },
   {
    "duration": 10,
    "start_time": "2025-01-14T05:29:49.625Z"
   },
   {
    "duration": 21,
    "start_time": "2025-01-14T05:29:49.637Z"
   },
   {
    "duration": 24,
    "start_time": "2025-01-14T05:29:49.659Z"
   },
   {
    "duration": 17,
    "start_time": "2025-01-14T05:29:49.706Z"
   },
   {
    "duration": 22,
    "start_time": "2025-01-14T05:29:49.725Z"
   },
   {
    "duration": 0,
    "start_time": "2025-01-14T05:29:49.749Z"
   },
   {
    "duration": 0,
    "start_time": "2025-01-14T05:29:49.750Z"
   },
   {
    "duration": 0,
    "start_time": "2025-01-14T05:29:49.751Z"
   },
   {
    "duration": 0,
    "start_time": "2025-01-14T05:29:49.752Z"
   },
   {
    "duration": 0,
    "start_time": "2025-01-14T05:29:49.753Z"
   },
   {
    "duration": 0,
    "start_time": "2025-01-14T05:29:49.754Z"
   },
   {
    "duration": 0,
    "start_time": "2025-01-14T05:29:49.755Z"
   },
   {
    "duration": 0,
    "start_time": "2025-01-14T05:29:49.756Z"
   },
   {
    "duration": 0,
    "start_time": "2025-01-14T05:29:49.757Z"
   },
   {
    "duration": 0,
    "start_time": "2025-01-14T05:29:49.758Z"
   },
   {
    "duration": 0,
    "start_time": "2025-01-14T05:29:49.759Z"
   },
   {
    "duration": 0,
    "start_time": "2025-01-14T05:29:49.761Z"
   },
   {
    "duration": 3,
    "start_time": "2025-01-14T05:30:14.838Z"
   },
   {
    "duration": 164,
    "start_time": "2025-01-14T05:30:18.145Z"
   },
   {
    "duration": 8,
    "start_time": "2025-01-14T05:30:28.919Z"
   },
   {
    "duration": 8,
    "start_time": "2025-01-14T05:30:33.092Z"
   },
   {
    "duration": 5,
    "start_time": "2025-01-14T05:30:36.773Z"
   },
   {
    "duration": 15,
    "start_time": "2025-01-14T05:30:42.431Z"
   },
   {
    "duration": 14,
    "start_time": "2025-01-14T05:30:47.827Z"
   },
   {
    "duration": 5,
    "start_time": "2025-01-14T05:30:53.031Z"
   },
   {
    "duration": 9,
    "start_time": "2025-01-14T05:30:57.983Z"
   },
   {
    "duration": 9,
    "start_time": "2025-01-14T05:31:03.466Z"
   },
   {
    "duration": 16,
    "start_time": "2025-01-14T05:31:08.454Z"
   },
   {
    "duration": 4,
    "start_time": "2025-01-14T05:31:12.826Z"
   },
   {
    "duration": 59,
    "start_time": "2025-01-14T05:31:17.755Z"
   },
   {
    "duration": 704,
    "start_time": "2025-01-14T05:31:22.844Z"
   },
   {
    "duration": 13,
    "start_time": "2025-01-14T05:31:29.117Z"
   },
   {
    "duration": 5,
    "start_time": "2025-01-14T05:31:33.275Z"
   },
   {
    "duration": 18,
    "start_time": "2025-01-14T05:31:37.480Z"
   },
   {
    "duration": 13,
    "start_time": "2025-01-14T05:31:41.670Z"
   },
   {
    "duration": 5,
    "start_time": "2025-01-14T05:31:45.803Z"
   },
   {
    "duration": 33,
    "start_time": "2025-01-14T05:31:50.363Z"
   },
   {
    "duration": 7,
    "start_time": "2025-01-14T05:31:55.364Z"
   },
   {
    "duration": 30,
    "start_time": "2025-01-14T05:31:59.743Z"
   },
   {
    "duration": 11,
    "start_time": "2025-01-14T05:32:04.867Z"
   },
   {
    "duration": 22,
    "start_time": "2025-01-14T05:32:09.441Z"
   },
   {
    "duration": 24,
    "start_time": "2025-01-14T05:32:13.579Z"
   },
   {
    "duration": 17,
    "start_time": "2025-01-14T05:32:17.921Z"
   },
   {
    "duration": 27,
    "start_time": "2025-01-14T05:32:25.097Z"
   },
   {
    "duration": 18,
    "start_time": "2025-01-14T05:32:29.800Z"
   },
   {
    "duration": 13,
    "start_time": "2025-01-14T05:32:48.273Z"
   },
   {
    "duration": 8,
    "start_time": "2025-01-14T05:32:58.894Z"
   },
   {
    "duration": 357,
    "start_time": "2025-01-14T05:33:02.883Z"
   },
   {
    "duration": 3,
    "start_time": "2025-01-14T05:33:50.926Z"
   },
   {
    "duration": 3,
    "start_time": "2025-01-14T05:33:54.343Z"
   },
   {
    "duration": 94,
    "start_time": "2025-01-14T05:33:57.312Z"
   },
   {
    "duration": 96,
    "start_time": "2025-01-14T05:34:10.516Z"
   },
   {
    "duration": 192,
    "start_time": "2025-01-14T05:36:38.887Z"
   },
   {
    "duration": 179,
    "start_time": "2025-01-14T05:36:56.436Z"
   },
   {
    "duration": 102,
    "start_time": "2025-01-14T05:37:23.105Z"
   },
   {
    "duration": 11,
    "start_time": "2025-01-14T05:37:40.316Z"
   },
   {
    "duration": 686,
    "start_time": "2025-01-14T05:37:48.641Z"
   },
   {
    "duration": 11,
    "start_time": "2025-01-14T05:38:46.687Z"
   },
   {
    "duration": 755,
    "start_time": "2025-01-14T05:39:04.165Z"
   },
   {
    "duration": 124,
    "start_time": "2025-01-14T05:39:50.769Z"
   },
   {
    "duration": 195,
    "start_time": "2025-01-14T05:40:06.933Z"
   },
   {
    "duration": 96,
    "start_time": "2025-01-14T05:42:04.583Z"
   },
   {
    "duration": 222,
    "start_time": "2025-01-14T05:47:54.944Z"
   },
   {
    "duration": 243,
    "start_time": "2025-01-14T05:50:47.548Z"
   },
   {
    "duration": 231,
    "start_time": "2025-01-14T05:50:59.051Z"
   },
   {
    "duration": 285,
    "start_time": "2025-01-14T05:51:10.520Z"
   },
   {
    "duration": 320,
    "start_time": "2025-01-14T05:51:20.735Z"
   },
   {
    "duration": 224,
    "start_time": "2025-01-14T05:51:32.303Z"
   },
   {
    "duration": 204,
    "start_time": "2025-01-14T05:51:43.239Z"
   },
   {
    "duration": 206,
    "start_time": "2025-01-14T05:51:59.280Z"
   },
   {
    "duration": 211,
    "start_time": "2025-01-14T05:52:13.059Z"
   },
   {
    "duration": 256,
    "start_time": "2025-01-14T05:52:24.251Z"
   },
   {
    "duration": 663,
    "start_time": "2025-01-14T05:54:04.725Z"
   },
   {
    "duration": 6,
    "start_time": "2025-01-14T05:59:01.232Z"
   },
   {
    "duration": 9,
    "start_time": "2025-01-14T06:01:25.007Z"
   },
   {
    "duration": 5,
    "start_time": "2025-01-14T06:03:35.065Z"
   },
   {
    "duration": 4,
    "start_time": "2025-01-14T06:03:48.730Z"
   },
   {
    "duration": 4,
    "start_time": "2025-01-14T06:03:55.683Z"
   },
   {
    "duration": 4,
    "start_time": "2025-01-14T06:04:03.839Z"
   },
   {
    "duration": 5,
    "start_time": "2025-01-14T06:04:35.119Z"
   },
   {
    "duration": 4,
    "start_time": "2025-01-14T06:05:14.367Z"
   },
   {
    "duration": 4,
    "start_time": "2025-01-14T06:05:40.996Z"
   },
   {
    "duration": 5,
    "start_time": "2025-01-14T06:06:06.896Z"
   },
   {
    "duration": 3,
    "start_time": "2025-01-14T06:06:29.192Z"
   },
   {
    "duration": 6,
    "start_time": "2025-01-14T06:09:07.952Z"
   },
   {
    "duration": 6,
    "start_time": "2025-01-14T06:09:56.971Z"
   },
   {
    "duration": 2483,
    "start_time": "2025-01-14T06:20:52.284Z"
   },
   {
    "duration": 235,
    "start_time": "2025-01-14T06:20:54.770Z"
   },
   {
    "duration": 11,
    "start_time": "2025-01-14T06:20:55.006Z"
   },
   {
    "duration": 7,
    "start_time": "2025-01-14T06:20:55.019Z"
   },
   {
    "duration": 11,
    "start_time": "2025-01-14T06:20:55.027Z"
   },
   {
    "duration": 10,
    "start_time": "2025-01-14T06:20:55.040Z"
   },
   {
    "duration": 6,
    "start_time": "2025-01-14T06:20:55.051Z"
   },
   {
    "duration": 28,
    "start_time": "2025-01-14T06:20:55.059Z"
   },
   {
    "duration": 7,
    "start_time": "2025-01-14T06:20:55.089Z"
   },
   {
    "duration": 16,
    "start_time": "2025-01-14T06:20:55.100Z"
   },
   {
    "duration": 6,
    "start_time": "2025-01-14T06:20:55.120Z"
   },
   {
    "duration": 89,
    "start_time": "2025-01-14T06:20:55.128Z"
   },
   {
    "duration": 599,
    "start_time": "2025-01-14T06:20:55.219Z"
   },
   {
    "duration": 11,
    "start_time": "2025-01-14T06:20:55.820Z"
   },
   {
    "duration": 4,
    "start_time": "2025-01-14T06:20:55.833Z"
   },
   {
    "duration": 16,
    "start_time": "2025-01-14T06:20:55.839Z"
   },
   {
    "duration": 36,
    "start_time": "2025-01-14T06:20:55.857Z"
   },
   {
    "duration": 5,
    "start_time": "2025-01-14T06:20:55.894Z"
   },
   {
    "duration": 32,
    "start_time": "2025-01-14T06:20:55.900Z"
   },
   {
    "duration": 7,
    "start_time": "2025-01-14T06:20:55.934Z"
   },
   {
    "duration": 54,
    "start_time": "2025-01-14T06:20:55.943Z"
   },
   {
    "duration": 12,
    "start_time": "2025-01-14T06:20:55.999Z"
   },
   {
    "duration": 21,
    "start_time": "2025-01-14T06:20:56.013Z"
   },
   {
    "duration": 32,
    "start_time": "2025-01-14T06:20:56.035Z"
   },
   {
    "duration": 32,
    "start_time": "2025-01-14T06:20:56.069Z"
   },
   {
    "duration": 144,
    "start_time": "2025-01-14T06:20:56.103Z"
   },
   {
    "duration": 0,
    "start_time": "2025-01-14T06:20:56.249Z"
   },
   {
    "duration": 0,
    "start_time": "2025-01-14T06:20:56.250Z"
   },
   {
    "duration": 0,
    "start_time": "2025-01-14T06:20:56.251Z"
   },
   {
    "duration": 0,
    "start_time": "2025-01-14T06:20:56.252Z"
   },
   {
    "duration": 0,
    "start_time": "2025-01-14T06:20:56.253Z"
   },
   {
    "duration": 0,
    "start_time": "2025-01-14T06:20:56.255Z"
   },
   {
    "duration": 0,
    "start_time": "2025-01-14T06:20:56.256Z"
   },
   {
    "duration": 0,
    "start_time": "2025-01-14T06:20:56.257Z"
   },
   {
    "duration": 0,
    "start_time": "2025-01-14T06:20:56.258Z"
   },
   {
    "duration": 0,
    "start_time": "2025-01-14T06:20:56.259Z"
   },
   {
    "duration": 0,
    "start_time": "2025-01-14T06:20:56.261Z"
   },
   {
    "duration": 0,
    "start_time": "2025-01-14T06:20:56.262Z"
   },
   {
    "duration": 734,
    "start_time": "2025-01-14T06:26:50.833Z"
   },
   {
    "duration": 165,
    "start_time": "2025-01-14T06:26:51.569Z"
   },
   {
    "duration": 9,
    "start_time": "2025-01-14T06:26:51.736Z"
   },
   {
    "duration": 6,
    "start_time": "2025-01-14T06:26:51.748Z"
   },
   {
    "duration": 10,
    "start_time": "2025-01-14T06:26:51.756Z"
   },
   {
    "duration": 23,
    "start_time": "2025-01-14T06:26:51.768Z"
   },
   {
    "duration": 5,
    "start_time": "2025-01-14T06:26:51.793Z"
   },
   {
    "duration": 8,
    "start_time": "2025-01-14T06:26:51.799Z"
   },
   {
    "duration": 7,
    "start_time": "2025-01-14T06:26:51.809Z"
   },
   {
    "duration": 15,
    "start_time": "2025-01-14T06:26:51.820Z"
   },
   {
    "duration": 4,
    "start_time": "2025-01-14T06:26:51.836Z"
   },
   {
    "duration": 97,
    "start_time": "2025-01-14T06:26:51.842Z"
   },
   {
    "duration": 602,
    "start_time": "2025-01-14T06:26:51.940Z"
   },
   {
    "duration": 13,
    "start_time": "2025-01-14T06:26:52.544Z"
   },
   {
    "duration": 4,
    "start_time": "2025-01-14T06:26:52.558Z"
   },
   {
    "duration": 35,
    "start_time": "2025-01-14T06:26:52.564Z"
   },
   {
    "duration": 14,
    "start_time": "2025-01-14T06:26:52.600Z"
   },
   {
    "duration": 5,
    "start_time": "2025-01-14T06:26:52.616Z"
   },
   {
    "duration": 32,
    "start_time": "2025-01-14T06:26:52.622Z"
   },
   {
    "duration": 8,
    "start_time": "2025-01-14T06:26:52.655Z"
   },
   {
    "duration": 29,
    "start_time": "2025-01-14T06:26:52.687Z"
   },
   {
    "duration": 12,
    "start_time": "2025-01-14T06:26:52.718Z"
   },
   {
    "duration": 21,
    "start_time": "2025-01-14T06:26:52.733Z"
   },
   {
    "duration": 49,
    "start_time": "2025-01-14T06:26:52.755Z"
   },
   {
    "duration": 18,
    "start_time": "2025-01-14T06:26:52.806Z"
   },
   {
    "duration": 151,
    "start_time": "2025-01-14T06:26:52.825Z"
   },
   {
    "duration": 0,
    "start_time": "2025-01-14T06:26:52.979Z"
   },
   {
    "duration": 0,
    "start_time": "2025-01-14T06:26:52.979Z"
   },
   {
    "duration": 0,
    "start_time": "2025-01-14T06:26:52.986Z"
   },
   {
    "duration": 0,
    "start_time": "2025-01-14T06:26:52.988Z"
   },
   {
    "duration": 0,
    "start_time": "2025-01-14T06:26:52.989Z"
   },
   {
    "duration": 0,
    "start_time": "2025-01-14T06:26:52.991Z"
   },
   {
    "duration": 1,
    "start_time": "2025-01-14T06:26:52.991Z"
   },
   {
    "duration": 0,
    "start_time": "2025-01-14T06:26:52.992Z"
   },
   {
    "duration": 0,
    "start_time": "2025-01-14T06:26:52.994Z"
   },
   {
    "duration": 0,
    "start_time": "2025-01-14T06:26:52.995Z"
   },
   {
    "duration": 0,
    "start_time": "2025-01-14T06:26:52.996Z"
   },
   {
    "duration": 0,
    "start_time": "2025-01-14T06:26:52.997Z"
   },
   {
    "duration": 15,
    "start_time": "2025-01-14T06:28:24.928Z"
   },
   {
    "duration": 16,
    "start_time": "2025-01-14T06:28:49.053Z"
   },
   {
    "duration": 730,
    "start_time": "2025-01-14T06:31:00.342Z"
   },
   {
    "duration": 155,
    "start_time": "2025-01-14T06:31:01.074Z"
   },
   {
    "duration": 10,
    "start_time": "2025-01-14T06:31:01.231Z"
   },
   {
    "duration": 6,
    "start_time": "2025-01-14T06:31:01.243Z"
   },
   {
    "duration": 10,
    "start_time": "2025-01-14T06:31:01.252Z"
   },
   {
    "duration": 28,
    "start_time": "2025-01-14T06:31:01.263Z"
   },
   {
    "duration": 6,
    "start_time": "2025-01-14T06:31:01.293Z"
   },
   {
    "duration": 8,
    "start_time": "2025-01-14T06:31:01.300Z"
   },
   {
    "duration": 7,
    "start_time": "2025-01-14T06:31:01.310Z"
   },
   {
    "duration": 15,
    "start_time": "2025-01-14T06:31:01.318Z"
   },
   {
    "duration": 5,
    "start_time": "2025-01-14T06:31:01.334Z"
   },
   {
    "duration": 99,
    "start_time": "2025-01-14T06:31:01.341Z"
   },
   {
    "duration": 619,
    "start_time": "2025-01-14T06:31:01.443Z"
   },
   {
    "duration": 11,
    "start_time": "2025-01-14T06:31:02.065Z"
   },
   {
    "duration": 11,
    "start_time": "2025-01-14T06:31:02.077Z"
   },
   {
    "duration": 16,
    "start_time": "2025-01-14T06:31:02.090Z"
   },
   {
    "duration": 13,
    "start_time": "2025-01-14T06:31:02.108Z"
   },
   {
    "duration": 4,
    "start_time": "2025-01-14T06:31:02.123Z"
   },
   {
    "duration": 59,
    "start_time": "2025-01-14T06:31:02.128Z"
   },
   {
    "duration": 8,
    "start_time": "2025-01-14T06:31:02.189Z"
   },
   {
    "duration": 31,
    "start_time": "2025-01-14T06:31:02.198Z"
   },
   {
    "duration": 12,
    "start_time": "2025-01-14T06:31:02.231Z"
   },
   {
    "duration": 41,
    "start_time": "2025-01-14T06:31:02.245Z"
   },
   {
    "duration": 24,
    "start_time": "2025-01-14T06:31:02.288Z"
   },
   {
    "duration": 18,
    "start_time": "2025-01-14T06:31:02.314Z"
   },
   {
    "duration": 10,
    "start_time": "2025-01-14T06:31:02.333Z"
   },
   {
    "duration": 42,
    "start_time": "2025-01-14T06:31:02.345Z"
   },
   {
    "duration": 7,
    "start_time": "2025-01-14T06:31:02.389Z"
   },
   {
    "duration": 390,
    "start_time": "2025-01-14T06:31:02.398Z"
   },
   {
    "duration": 3,
    "start_time": "2025-01-14T06:31:02.790Z"
   },
   {
    "duration": 5,
    "start_time": "2025-01-14T06:31:02.795Z"
   },
   {
    "duration": 107,
    "start_time": "2025-01-14T06:31:02.801Z"
   },
   {
    "duration": 156,
    "start_time": "2025-01-14T06:31:02.910Z"
   },
   {
    "duration": 215,
    "start_time": "2025-01-14T06:31:03.067Z"
   },
   {
    "duration": 225,
    "start_time": "2025-01-14T06:31:03.283Z"
   },
   {
    "duration": 0,
    "start_time": "2025-01-14T06:31:03.510Z"
   },
   {
    "duration": 0,
    "start_time": "2025-01-14T06:31:03.512Z"
   },
   {
    "duration": 0,
    "start_time": "2025-01-14T06:31:03.513Z"
   },
   {
    "duration": 246,
    "start_time": "2025-01-14T06:33:01.885Z"
   },
   {
    "duration": 6,
    "start_time": "2025-01-14T06:33:23.137Z"
   },
   {
    "duration": 10,
    "start_time": "2025-01-14T06:35:00.180Z"
   },
   {
    "duration": 159,
    "start_time": "2025-01-14T06:41:41.536Z"
   },
   {
    "duration": 651,
    "start_time": "2025-01-14T06:44:30.741Z"
   },
   {
    "duration": 2162,
    "start_time": "2025-01-14T06:44:36.416Z"
   },
   {
    "duration": 223,
    "start_time": "2025-01-14T06:44:38.581Z"
   },
   {
    "duration": 10,
    "start_time": "2025-01-14T06:44:38.806Z"
   },
   {
    "duration": 6,
    "start_time": "2025-01-14T06:44:38.819Z"
   },
   {
    "duration": 10,
    "start_time": "2025-01-14T06:44:38.827Z"
   },
   {
    "duration": 10,
    "start_time": "2025-01-14T06:44:38.839Z"
   },
   {
    "duration": 4,
    "start_time": "2025-01-14T06:44:38.851Z"
   },
   {
    "duration": 7,
    "start_time": "2025-01-14T06:44:38.857Z"
   },
   {
    "duration": 43,
    "start_time": "2025-01-14T06:44:38.866Z"
   },
   {
    "duration": 14,
    "start_time": "2025-01-14T06:44:38.912Z"
   },
   {
    "duration": 5,
    "start_time": "2025-01-14T06:44:38.928Z"
   },
   {
    "duration": 81,
    "start_time": "2025-01-14T06:44:38.934Z"
   },
   {
    "duration": 651,
    "start_time": "2025-01-14T06:44:39.017Z"
   },
   {
    "duration": 12,
    "start_time": "2025-01-14T06:44:39.670Z"
   },
   {
    "duration": 5,
    "start_time": "2025-01-14T06:44:39.683Z"
   },
   {
    "duration": 34,
    "start_time": "2025-01-14T06:44:39.690Z"
   },
   {
    "duration": 13,
    "start_time": "2025-01-14T06:44:39.726Z"
   },
   {
    "duration": 3,
    "start_time": "2025-01-14T06:44:39.742Z"
   },
   {
    "duration": 41,
    "start_time": "2025-01-14T06:44:39.747Z"
   },
   {
    "duration": 7,
    "start_time": "2025-01-14T06:44:39.809Z"
   },
   {
    "duration": 29,
    "start_time": "2025-01-14T06:44:39.818Z"
   },
   {
    "duration": 12,
    "start_time": "2025-01-14T06:44:39.848Z"
   },
   {
    "duration": 21,
    "start_time": "2025-01-14T06:44:39.861Z"
   },
   {
    "duration": 24,
    "start_time": "2025-01-14T06:44:39.908Z"
   },
   {
    "duration": 17,
    "start_time": "2025-01-14T06:44:39.934Z"
   },
   {
    "duration": 10,
    "start_time": "2025-01-14T06:44:39.953Z"
   },
   {
    "duration": 13,
    "start_time": "2025-01-14T06:44:39.966Z"
   },
   {
    "duration": 6,
    "start_time": "2025-01-14T06:44:40.009Z"
   },
   {
    "duration": 387,
    "start_time": "2025-01-14T06:44:40.017Z"
   },
   {
    "duration": 3,
    "start_time": "2025-01-14T06:44:40.408Z"
   },
   {
    "duration": 4,
    "start_time": "2025-01-14T06:44:40.413Z"
   },
   {
    "duration": 107,
    "start_time": "2025-01-14T06:44:40.418Z"
   },
   {
    "duration": 109,
    "start_time": "2025-01-14T06:44:40.527Z"
   },
   {
    "duration": 197,
    "start_time": "2025-01-14T06:44:40.638Z"
   },
   {
    "duration": 42,
    "start_time": "2025-01-14T06:44:40.837Z"
   },
   {
    "duration": 0,
    "start_time": "2025-01-14T06:44:40.881Z"
   },
   {
    "duration": 0,
    "start_time": "2025-01-14T06:44:40.882Z"
   },
   {
    "duration": 8,
    "start_time": "2025-01-14T06:44:42.791Z"
   },
   {
    "duration": 17,
    "start_time": "2025-01-14T06:44:56.596Z"
   },
   {
    "duration": 18,
    "start_time": "2025-01-14T06:45:01.857Z"
   },
   {
    "duration": 3,
    "start_time": "2025-01-14T06:45:09.344Z"
   },
   {
    "duration": 169,
    "start_time": "2025-01-14T06:45:09.349Z"
   },
   {
    "duration": 9,
    "start_time": "2025-01-14T06:45:09.520Z"
   },
   {
    "duration": 6,
    "start_time": "2025-01-14T06:45:09.530Z"
   },
   {
    "duration": 10,
    "start_time": "2025-01-14T06:45:09.538Z"
   },
   {
    "duration": 11,
    "start_time": "2025-01-14T06:45:09.549Z"
   },
   {
    "duration": 5,
    "start_time": "2025-01-14T06:45:09.562Z"
   },
   {
    "duration": 7,
    "start_time": "2025-01-14T06:45:09.568Z"
   },
   {
    "duration": 7,
    "start_time": "2025-01-14T06:45:09.608Z"
   },
   {
    "duration": 15,
    "start_time": "2025-01-14T06:45:09.617Z"
   },
   {
    "duration": 5,
    "start_time": "2025-01-14T06:45:09.635Z"
   },
   {
    "duration": 83,
    "start_time": "2025-01-14T06:45:09.641Z"
   },
   {
    "duration": 658,
    "start_time": "2025-01-14T06:45:09.726Z"
   },
   {
    "duration": 12,
    "start_time": "2025-01-14T06:45:10.385Z"
   },
   {
    "duration": 4,
    "start_time": "2025-01-14T06:45:10.409Z"
   },
   {
    "duration": 15,
    "start_time": "2025-01-14T06:45:10.415Z"
   },
   {
    "duration": 13,
    "start_time": "2025-01-14T06:45:10.432Z"
   },
   {
    "duration": 4,
    "start_time": "2025-01-14T06:45:10.447Z"
   },
   {
    "duration": 59,
    "start_time": "2025-01-14T06:45:10.453Z"
   },
   {
    "duration": 11,
    "start_time": "2025-01-14T06:45:10.514Z"
   },
   {
    "duration": 28,
    "start_time": "2025-01-14T06:45:10.527Z"
   },
   {
    "duration": 10,
    "start_time": "2025-01-14T06:45:10.556Z"
   },
   {
    "duration": 45,
    "start_time": "2025-01-14T06:45:10.569Z"
   },
   {
    "duration": 23,
    "start_time": "2025-01-14T06:45:10.616Z"
   },
   {
    "duration": 19,
    "start_time": "2025-01-14T06:45:10.640Z"
   },
   {
    "duration": 11,
    "start_time": "2025-01-14T06:45:10.661Z"
   },
   {
    "duration": 36,
    "start_time": "2025-01-14T06:45:10.675Z"
   },
   {
    "duration": 6,
    "start_time": "2025-01-14T06:45:10.713Z"
   },
   {
    "duration": 379,
    "start_time": "2025-01-14T06:45:10.724Z"
   },
   {
    "duration": 4,
    "start_time": "2025-01-14T06:45:11.105Z"
   },
   {
    "duration": 5,
    "start_time": "2025-01-14T06:45:11.111Z"
   },
   {
    "duration": 166,
    "start_time": "2025-01-14T06:45:11.117Z"
   },
   {
    "duration": 106,
    "start_time": "2025-01-14T06:45:11.284Z"
   },
   {
    "duration": 194,
    "start_time": "2025-01-14T06:45:11.392Z"
   },
   {
    "duration": 25,
    "start_time": "2025-01-14T06:45:11.588Z"
   },
   {
    "duration": 100,
    "start_time": "2025-01-14T06:49:31.405Z"
   },
   {
    "duration": 2564,
    "start_time": "2025-01-14T07:02:06.724Z"
   },
   {
    "duration": 220,
    "start_time": "2025-01-14T07:02:09.291Z"
   },
   {
    "duration": 10,
    "start_time": "2025-01-14T07:02:09.513Z"
   },
   {
    "duration": 6,
    "start_time": "2025-01-14T07:02:09.524Z"
   },
   {
    "duration": 10,
    "start_time": "2025-01-14T07:02:09.533Z"
   },
   {
    "duration": 10,
    "start_time": "2025-01-14T07:02:09.545Z"
   },
   {
    "duration": 5,
    "start_time": "2025-01-14T07:02:09.557Z"
   },
   {
    "duration": 8,
    "start_time": "2025-01-14T07:02:09.564Z"
   },
   {
    "duration": 8,
    "start_time": "2025-01-14T07:02:09.608Z"
   },
   {
    "duration": 15,
    "start_time": "2025-01-14T07:02:09.617Z"
   },
   {
    "duration": 4,
    "start_time": "2025-01-14T07:02:09.633Z"
   },
   {
    "duration": 89,
    "start_time": "2025-01-14T07:02:09.639Z"
   },
   {
    "duration": 634,
    "start_time": "2025-01-14T07:02:09.729Z"
   },
   {
    "duration": 12,
    "start_time": "2025-01-14T07:02:10.367Z"
   },
   {
    "duration": 4,
    "start_time": "2025-01-14T07:02:10.380Z"
   },
   {
    "duration": 36,
    "start_time": "2025-01-14T07:02:10.386Z"
   },
   {
    "duration": 14,
    "start_time": "2025-01-14T07:02:10.424Z"
   },
   {
    "duration": 5,
    "start_time": "2025-01-14T07:02:10.439Z"
   },
   {
    "duration": 36,
    "start_time": "2025-01-14T07:02:10.446Z"
   },
   {
    "duration": 28,
    "start_time": "2025-01-14T07:02:10.483Z"
   },
   {
    "duration": 30,
    "start_time": "2025-01-14T07:02:10.513Z"
   },
   {
    "duration": 12,
    "start_time": "2025-01-14T07:02:10.545Z"
   },
   {
    "duration": 21,
    "start_time": "2025-01-14T07:02:10.558Z"
   },
   {
    "duration": 44,
    "start_time": "2025-01-14T07:02:10.581Z"
   },
   {
    "duration": 18,
    "start_time": "2025-01-14T07:02:10.626Z"
   },
   {
    "duration": 10,
    "start_time": "2025-01-14T07:02:10.645Z"
   },
   {
    "duration": 13,
    "start_time": "2025-01-14T07:02:10.656Z"
   },
   {
    "duration": 41,
    "start_time": "2025-01-14T07:02:10.670Z"
   },
   {
    "duration": 372,
    "start_time": "2025-01-14T07:02:10.712Z"
   },
   {
    "duration": 3,
    "start_time": "2025-01-14T07:02:11.087Z"
   },
   {
    "duration": 18,
    "start_time": "2025-01-14T07:02:11.092Z"
   },
   {
    "duration": 102,
    "start_time": "2025-01-14T07:02:11.111Z"
   },
   {
    "duration": 114,
    "start_time": "2025-01-14T07:02:11.215Z"
   },
   {
    "duration": 192,
    "start_time": "2025-01-14T07:02:11.330Z"
   },
   {
    "duration": 107,
    "start_time": "2025-01-14T07:02:11.524Z"
   },
   {
    "duration": 260,
    "start_time": "2025-01-14T07:02:11.633Z"
   },
   {
    "duration": 13,
    "start_time": "2025-01-14T07:02:11.896Z"
   },
   {
    "duration": 8,
    "start_time": "2025-01-14T07:02:11.911Z"
   }
  ],
  "kernelspec": {
   "display_name": "Python 3 (ipykernel)",
   "language": "python",
   "name": "python3"
  },
  "language_info": {
   "codemirror_mode": {
    "name": "ipython",
    "version": 3
   },
   "file_extension": ".py",
   "mimetype": "text/x-python",
   "name": "python",
   "nbconvert_exporter": "python",
   "pygments_lexer": "ipython3",
   "version": "3.9.19"
  },
  "toc": {
   "base_numbering": 1,
   "nav_menu": {},
   "number_sections": true,
   "sideBar": true,
   "skip_h1_title": false,
   "title_cell": "Table of Contents",
   "title_sidebar": "Contents",
   "toc_cell": false,
   "toc_position": {},
   "toc_section_display": true,
   "toc_window_display": true
  }
 },
 "nbformat": 4,
 "nbformat_minor": 2
}
